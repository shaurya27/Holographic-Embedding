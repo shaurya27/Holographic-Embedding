{
 "cells": [
  {
   "cell_type": "code",
   "execution_count": 299,
   "metadata": {
    "collapsed": true
   },
   "outputs": [],
   "source": [
    "# Last update: 26 November 2018\n",
    "# \n",
    "# This code create True MBSE dataset\n",
    "# \n",
    "# Inputs: \n",
    "# \t\t\tNone\n",
    "# Outputs:\n",
    "#\t\t\ttrue.csv : List of true pair of nodes, \n",
    "#\t\t\t\t\t   link type and target in format: [entity_a, entity_b, relation, target]\n",
    "####################################################################################################\n",
    "\n",
    "# Load libraries\n",
    "import numpy as np\n",
    "import pandas as pd\n",
    "\n",
    "# Set parameters\n",
    "Dimension = 100\n",
    "\n",
    "# Targe values\n",
    "true = 1\n",
    "\n",
    "# Big nodes\n",
    "RequerimentType = 0\n",
    "TestCaseType = 100\n",
    "SMT = 200\n",
    "ProjectType = 300\n",
    "\n",
    "#Relation type\n",
    "instanceOf = 0\n",
    "verifiedBy = 1\n",
    "using = 2\n",
    "belongsTo = 3\n",
    "\n",
    "def Generate_True_Graph():\n",
    "\t''' Function to create all true links '''\n",
    "\n",
    "\tgraph = []\n",
    "\tfor requeriment in range(RequerimentType + 1, Dimension):\n",
    "\t    #[requirement[1-Dimension], RequirementType0, Relation = 0]\n",
    "\t    graph.append([requeriment, RequerimentType, instanceOf])\n",
    "\t    \n",
    "\t    #[requirement[1-Dimension], TestCase[1-Dimension], Relation = 1]\n",
    "\t    graph.append([requeriment, requeriment + TestCaseType, verifiedBy])\n",
    "\t    \n",
    "\t    #[requirement[1-Dimension], Proyect[1-Dimesion], Relation = 3]\n",
    "\t    graph.append([requeriment, requeriment + ProjectType, belongsTo])\n",
    "\t    \n",
    "\tfor testcase in range(TestCaseType + 1, TestCaseType + Dimension):\n",
    "\t    #[testcase[1-Dimension], TestCaseType0, Relation = 0]\n",
    "\t    graph.append([testcase, TestCaseType, instanceOf])\n",
    "\t    \n",
    "\t    #[testcase[1-Dimension], SM[1-Dimension], Relation = 2]\n",
    "\t    graph.append([testcase, testcase + (SMT - Dimension), using])\n",
    "\t    \n",
    "\t    #[testcase[1-Dimension], TestCaseType0, Relation = 3]\n",
    "\t    graph.append([testcase, testcase + (ProjectType - Dimension), belongsTo])\n",
    "\t    \n",
    "\tfor sm in range(SMT + 1, SMT + Dimension):\n",
    "\t    #[sm[1-Dimension], SMT, Relation = 0]\n",
    "\t    graph.append([sm, SMT, instanceOf])\n",
    "\t    \n",
    "\t    #[sm[1-Dimension], Proyect[1-Dimension], Relation = 3]\n",
    "\t    graph.append([sm, sm + Dimension, belongsTo])\n",
    "\n",
    "\tfor project in range(ProjectType + 1, ProjectType + Dimension):\n",
    "\t    #[project[1-Dimension], ProjectType, Relation = 0]\n",
    "\t    graph.append([project, ProjectType, instanceOf])\n",
    "\n",
    "\treturn graph\n",
    "\n",
    "\n",
    "def main():\n",
    "\t''' Principal function '''\n",
    "\n",
    "\t# Call for Postive and Negative graph\n",
    "\tpositive_graph = Generate_True_Graph()\n",
    "\n",
    "\t# Transform into a pandas dataframe\n",
    "\ttrue = pd.DataFrame(positive_graph, columns=['entity_a', 'entity_b', 'relation'])\n",
    "\t\n",
    "\t# Save data\n",
    "\ttrue.to_csv('./Data/true.csv',index = False)\n",
    "\n",
    "\treturn 0\n",
    "\n",
    "if __name__ == '__main__':\n",
    "    main()"
   ]
  },
  {
   "cell_type": "code",
   "execution_count": 307,
   "metadata": {},
   "outputs": [
    {
     "name": "stdout",
     "output_type": "stream",
     "text": [
      "Total unique entity_a : 396\n",
      "Total unique entity_b : 301\n",
      "Total unique entities : 400\n",
      "Total unique relations : 4\n",
      "Total unique entity_a in train dataset : 212\n",
      "Total unique entity_b in train dataset : 120\n",
      "Total unique entities in train dataset : 278\n"
     ]
    }
   ],
   "source": [
    "# Last update: 26 November\n",
    "# \n",
    "# Author: Shaurya Shubham\n",
    "# This code load the true graph and transform\n",
    "# into train, valid and to_use datasets.\n",
    "#\n",
    "# inputs:\n",
    "# true.csv\n",
    "\n",
    "#\n",
    "# outpus:\n",
    "# train.csv\n",
    "# valid.csv\n",
    "# to_use.csv\n",
    "# edges.csv\n",
    "####################################################################################\n",
    "\n",
    "# Load libraries\n",
    "import pandas as pd # To handle dataframes\n",
    "from sklearn.model_selection import train_test_split # to split the datasets\n",
    "\n",
    "\n",
    "def Edges_Generation(true_graph):\n",
    "    ''' Function to generate edges from the true graph '''\n",
    "\n",
    "    edges = []\n",
    "    for element in true_graph.iterrows():\n",
    "        edges.append([element[1]['entity_a'],element[1]['entity_b'],element[1]['relation']])\n",
    "\n",
    "    # Saving data\n",
    "    df = pd.DataFrame(edges,columns=['entity_a', 'entity_b','relation'])\n",
    "    df.to_csv('./Data/edges.csv',index= False)\n",
    "\n",
    "def Generate_Train_Valid_Use(true_graph):\n",
    "    ''' Function to generate train, valid and to_use datasets '''\n",
    "    \n",
    "    # Randomization of true\n",
    "    true_graph = true_graph.sample(frac=1).reset_index(drop = True)\n",
    "    \n",
    "    # print some stats\n",
    "    print 'Total unique entity_a : {}'.format(len(true_graph['entity_a'].unique().tolist()))\n",
    "    print 'Total unique entity_b : {}'.format(len(true_graph['entity_b'].unique().tolist()))\n",
    "    print 'Total unique entities : {}'.format(len(list(set(true_graph['entity_a'].unique().tolist() + true_graph['entity_b'].unique().tolist()))))\n",
    "    print 'Total unique relations : {}'.format(len(true_graph['relation'].unique().tolist()))\n",
    "\n",
    "\t# Splitting true_graph into 3 pieces: true_train, true_valid, true_to_use\n",
    "    train, valid_test = train_test_split(true_graph,test_size =0.7, random_state =1) # split the data into train and (test_vaidation)\n",
    "    \n",
    "    # print train dataset stats to see whether we are missing any entities or not\n",
    "    print 'Total unique entity_a in train dataset : {}'.format(len(train['entity_a'].unique().tolist()))\n",
    "    print 'Total unique entity_b in train dataset : {}'.format(len(train['entity_b'].unique().tolist()))\n",
    "    print 'Total unique entities in train dataset : {}'.format(len(list(set(train['entity_a'].unique().tolist() + train['entity_b'].unique().tolist()))))\n",
    "    \n",
    "    unique_train_entities =list(set(train['entity_a'].unique().tolist() + train['entity_b'].unique().tolist()))\n",
    "    unique_true_graph_entities = d =list(set(true_graph['entity_a'].unique().tolist() + true_graph['entity_b'].unique().tolist()))\n",
    "    missing_entities_in_train =  set(unique_true_graph_entities) -set(unique_train_entities)\n",
    "    \n",
    "    train_extra = valid_test[valid_test.entity_b.isin(missing_entities_in_train)] # get the missing entities from entity_b to get embedding for all entities\n",
    "    train = pd.concat([train,train_extra]) # making the complete train datset with all entities\n",
    "    train = train.reset_index(drop = True)\n",
    "    train.to_csv('./Data/train.csv',index=False)\n",
    "    \n",
    "    valid_test = valid_test[~valid_test.entity_b.isin(missing_entities_in_train)] # remove the train data which we added to train dataset by using train_extra\n",
    "    \n",
    "    valid,test = train_test_split(valid_test,test_size =0.75, random_state =1) # split the data into valid and test(to_use)\n",
    "    valid.to_csv('./Data/valid.csv',index=False)\n",
    "    test.to_csv('./Data/to_use.csv',index=False)\n",
    "\n",
    "\n",
    "def main():\n",
    "    ''' Principal function '''\n",
    "    true_graph = pd.read_csv('./Data/true.csv')\n",
    "    Generate_Train_Valid_Use(true_graph)\n",
    "    Edges_Generation(true_graph)\n",
    "    return 0\n",
    "\n",
    "if __name__ == '__main__':\n",
    "    main()"
   ]
  },
  {
   "cell_type": "code",
   "execution_count": 219,
   "metadata": {},
   "outputs": [
    {
     "data": {
      "text/plain": [
       "(384, 3)"
      ]
     },
     "execution_count": 219,
     "metadata": {},
     "output_type": "execute_result"
    }
   ],
   "source": [
    "train_data = pd.read_csv('./Data/train.csv')\n",
    "valid_data = pd.read_csv('./Data/valid.csv')\n",
    "train_data.shape"
   ]
  },
  {
   "cell_type": "code",
   "execution_count": 3,
   "metadata": {
    "collapsed": true
   },
   "outputs": [],
   "source": [
    "# Last update: 26 November 2018\n",
    "# \n",
    "# Author: Shaurya Shubham\n",
    "# This code train the link prediction model by using HoLE and evaluate it\n",
    "# \n",
    "# Inputs:\n",
    "#     edges.csv : Dataset to create negative sample\n",
    "#     train.csv : Dataset to train the model\n",
    "# Outputs:\n",
    "#     Statistics:\n",
    "#        * About trainig\n",
    "#        * About validation\n",
    "#        * About the use of the model\n",
    "#        * About Axel format\n",
    "####################################################################################################\n",
    "\n",
    "# Loading Libraries\n",
    "import torch\n",
    "import torch.nn as nn\n",
    "from torch.utils.data import DataLoader\n",
    "from torch.autograd import Variable\n",
    "import torch.nn.functional as F\n",
    "from numpy.fft import fft, ifft\n",
    "import random\n",
    "import itertools\n",
    "import pandas as pd\n",
    "import tqdm\n",
    "from random import uniform\n",
    "\n",
    "true_data = pd.read_csv('./Data/edges.csv')\n",
    "Total_Entities = 400\n",
    "Total_Relations = 4\n",
    "Batch_Size = 2\n",
    "Num_Neg_Sample = 150\n",
    "\n",
    "# Function to create positive and negative samples\n",
    "def positive(fact):\n",
    "\n",
    "    #print fact\n",
    "    entity_a, relation, entity_b = fact['entity_a'], fact['relation'], fact['entity_b']\n",
    "    entity_a_id = entity_a#.view(1, -1)\n",
    "    entity_b_id = entity_b#.view(1, -1)\n",
    "    relation_id = relation#.view(1, -1)\n",
    "    return np.array([entity_a_id,entity_b_id,relation_id])\n",
    "    \n",
    "def negative(triplet,num_neg_triplets=1):\n",
    "    #training triplets with either the head or tail replaced by a random entity (but not both at the same time)\n",
    "    # Sample until we find an invalid fact\n",
    "    corrupted_triplets = []\n",
    "    num_neg_count = 0\n",
    "    while num_neg_count < num_neg_triplets:\n",
    "        i = uniform(-1, 1)\n",
    "        if i < 0:\n",
    "            while True:\n",
    "                entity_a = random.randint(0, Total_Entities - 1)\n",
    "                #relation = random.randint(0, Total_Relations - 1)\n",
    "                #entity_b = random.randint(0, Total_Entities - 1)\n",
    "                rule = {'entity_a':[entity_a],'entity_b':[triplet[1]],'relation':[triplet[2]]}\n",
    "                if len(list(true_data.index[true_data.isin(rule).all(1)].values)) == 0:\n",
    "                    if [[entity_a,triplet[1],triplet[2]]] not in corrupted_triplets:\n",
    "                        target = Variable(torch.LongTensor([0])).view(1, -1)\n",
    "                        corrupted_triplets.append([entity_a,triplet[1],triplet[2]])\n",
    "                        num_neg_count+=1\n",
    "                        break\n",
    "        if i > 0:\n",
    "            while True:\n",
    "                entity_b = random.randint(0, Total_Entities - 1)\n",
    "                #relation = random.randint(0, Total_Relations - 1)\n",
    "                #entity_b = random.randint(0, Total_Entities - 1)\n",
    "                rule = {'entity_a':[triplet[0]],'entity_b':[entity_b],'relation':[triplet[2]]}\n",
    "                if len(list(true_data.index[true_data.isin(rule).all(1)].values)) == 0:\n",
    "                    if [[triplet[0],entity_b,triplet[2]]] not in corrupted_triplets:\n",
    "                        target = Variable(torch.LongTensor([0])).view(1, -1)\n",
    "                        corrupted_triplets.append([triplet[0],entity_b,triplet[2]])\n",
    "                        num_neg_count+=1\n",
    "                        break\n",
    "\n",
    "    return np.array([corrupted_triplets])"
   ]
  },
  {
   "cell_type": "code",
   "execution_count": 220,
   "metadata": {
    "collapsed": true
   },
   "outputs": [],
   "source": [
    "# Custom Dataloader\n",
    "class CustomDataset():\n",
    "    \n",
    "    def __init__(self,filepath):\n",
    "        self.data = pd.read_csv(filepath, delimiter=',')\n",
    "        self.data.dropna(inplace=True)\n",
    "        \n",
    "    def __getitem__(self,index):\n",
    "        sample = {}\n",
    "        sample['pos'] = positive(self.data.iloc[index])\n",
    "        #sample['neg'] = negative()\n",
    "        sample['neg'] = negative(sample['pos'],Num_Neg_Sample)\n",
    "        return sample['pos'], sample['neg']\n",
    "        \n",
    "    def __len__(self):\n",
    "        return (self.data.shape[0])\n",
    "\n",
    "hole_data = CustomDataset('./Data/train.csv')\n",
    "valid_hole_data = CustomDataset('./Data/valid.csv')\n",
    "dataloader = DataLoader(hole_data, batch_size=Batch_Size,shuffle=False)\n",
    "valid_dataloader = DataLoader(valid_hole_data, batch_size=Batch_Size,shuffle=False)"
   ]
  },
  {
   "cell_type": "code",
   "execution_count": 221,
   "metadata": {
    "collapsed": true
   },
   "outputs": [],
   "source": [
    "data_loaders = {\"train\": dataloader, \"val\": valid_dataloader}\n",
    "data_lengths = {\"train\": train_data.shape[0], \"val\": valid_data.shape[0]}"
   ]
  },
  {
   "cell_type": "code",
   "execution_count": 222,
   "metadata": {},
   "outputs": [
    {
     "name": "stdout",
     "output_type": "stream",
     "text": [
      "2\n"
     ]
    }
   ],
   "source": [
    "for d in dataloader:\n",
    "    print len(d)\n",
    "    #print \"--\"\n",
    "    break"
   ]
  },
  {
   "cell_type": "code",
   "execution_count": 261,
   "metadata": {
    "collapsed": true
   },
   "outputs": [],
   "source": [
    "## Holographic Embedding Implemetations\n",
    "\n",
    "class TransE(nn.Module):\n",
    "    \n",
    "    def __init__(self,num_entity,num_rel,emb_dim):\n",
    "        super(TransE,self).__init__()\n",
    "        self.ent_embeddings=nn.Embedding(num_entity,emb_dim)\n",
    "        self.rel_embeddings=nn.Embedding(num_rel,emb_dim)\n",
    "        self.init_weights()\n",
    "    \n",
    "    def init_weights(self):\n",
    "        nn.init.xavier_uniform_(self.ent_embeddings.weight.data)\n",
    "        nn.init.xavier_uniform_(self.rel_embeddings.weight.data)\n",
    "    \n",
    "    def _calc(self,h,t,r):\n",
    "        return torch.abs(h + r - t)\n",
    "    \n",
    "    \n",
    "    # margin-based loss\n",
    "    def loss_func(self,p_score,n_score):\n",
    "        criterion = nn.MarginRankingLoss(1.)\n",
    "        y = Variable(torch.Tensor([-1]))\n",
    "        loss = criterion(p_score,n_score,y)\n",
    "        return loss\n",
    "    \n",
    "    def forward(self,pos_inputs,neg_inputs):\n",
    "        # [batch_size]\n",
    "        pos_h = pos_inputs[:,0]\n",
    "        pos_t = pos_inputs[:,1]\n",
    "        pos_r = pos_inputs[:,2]\n",
    "        # [batch_size,num_neg_sample]\n",
    "        neg_h = neg_inputs[:,:,0]\n",
    "        neg_t = neg_inputs[:,:,1]\n",
    "        neg_r = neg_inputs[:,:,2]\n",
    "\n",
    "        # [batch_size,embedding_size]\n",
    "        pos_h_embed = self.ent_embeddings(pos_h)\n",
    "        pos_t_embed = self.ent_embeddings(pos_t)\n",
    "        pos_r_embed = self.rel_embeddings(pos_r)\n",
    "        # [batch_size,num_neg_sample,embedding_size]\n",
    "        neg_h_embed = self.ent_embeddings(neg_h)#.view(Batch_Size,-1,emb_dim)\n",
    "        #print neg_h_embed.size()\n",
    "        #print neg_h.size()\n",
    "        neg_t_embed = self.ent_embeddings(neg_t)#.view(Batch_Size,-1,emb_dim)\n",
    "        neg_r_embed = self.rel_embeddings(neg_r)#.view(Batch_Size,-1,emb_dim)\n",
    "        pos_score = self._calc(pos_h_embed,pos_t_embed,pos_r_embed)\n",
    "        neg_score = self._calc(neg_h_embed,neg_t_embed,neg_r_embed)\n",
    "        #print pos_score\n",
    "        #print neg_score\n",
    "        #print torch.mean(pos_score,1).size()\n",
    "        #print pos_score.size()\n",
    "        #print neg_score.size()\n",
    "        #print torch.mean(neg_score, 2).size()\n",
    "        #print pos_score.size()\n",
    "        pos_score = torch.sum(pos_score,1)\n",
    "        #print pos_score.size()\n",
    "        #print neg_score.size()\n",
    "        #print torch.mean(neg_score, 1)\n",
    "        neg_score = torch.sum(torch.mean(neg_score, 1),1)\n",
    "        #print neg_score.size()\n",
    "        #t\n",
    "        #print pos_score\n",
    "        #print neg_score\n",
    "        #print neg_score.size()\n",
    "        #print pos_score.size()\n",
    "        #pos_score_mean = torch.mean(pos_score,1)\n",
    "        #neg_score_mean = torch.mean(neg_score,1)\n",
    "        loss = self.loss_func(pos_score,neg_score)\n",
    "        return loss,pos_score.detach().numpy(),neg_score.detach().numpy()\n",
    "    \n",
    "    def predict(self, predict_h, predict_t, predict_r):\n",
    "        pred_h = self.ent_embeddings(Variable(torch.from_numpy(predict_h)))\n",
    "        pred_t = self.ent_embeddings(Variable(torch.from_numpy(predict_t)))\n",
    "        pred_r = self.rel_embeddings(Variable(torch.from_numpy(predict_r)))\n",
    "        p_score  = self._calc(pred_h.view(-1,emb_dim),pred_t.view(-1,emb_dim),pred_r.view(-1,emb_dim))\n",
    "        p_score = torch.sum(p_score,1)\n",
    "        return p_score"
   ]
  },
  {
   "cell_type": "code",
   "execution_count": 262,
   "metadata": {},
   "outputs": [
    {
     "name": "stdout",
     "output_type": "stream",
     "text": [
      "Total number of trainable parameters : 6060\n"
     ]
    }
   ],
   "source": [
    "## Loading the model\n",
    "num_entity = Total_Entities\n",
    "num_relation = Total_Relations\n",
    "emb_dim = 15\n",
    "\n",
    "hole = TransE(num_entity,num_relation,emb_dim)\n",
    "\n",
    "\n",
    "# Total number of trainable parameters\n",
    "total_params = sum(p.numel() for p in hole.parameters() if p.requires_grad)\n",
    "print(\"Total number of trainable parameters : {}\" .format(total_params))\n",
    "\n",
    "# Criterion and optimizer\n",
    "#criterion = nn.BCELoss()\n",
    "optimizer = torch.optim.Adam(hole.parameters(), lr=0.001)\n",
    "#optimizer = torch.optim.LBFGS(hole.parameters(), lr=0.001)\n",
    "\n",
    "# train and validation losses\n",
    "train_losses = []\n",
    "valid_losses = []\n",
    "pos_scores_epoch=[]\n",
    "neg_scores_epoch=[]\n",
    "\n",
    "# Training of model\n",
    "num_epoch = 11"
   ]
  },
  {
   "cell_type": "code",
   "execution_count": 263,
   "metadata": {
    "scrolled": true
   },
   "outputs": [
    {
     "name": "stdout",
     "output_type": "stream",
     "text": [
      "Epoch 1/10\n",
      "----------\n",
      "Epoch [1/11]train Loss: 0.9348\n",
      "Epoch [1/11]val Loss: 0.7407\n",
      "Epoch 2/10\n",
      "----------\n",
      "Epoch [2/11]train Loss: 0.6068\n",
      "Epoch [2/11]val Loss: 0.3862\n",
      "Epoch 3/10\n",
      "----------\n",
      "Epoch [3/11]train Loss: 0.4040\n",
      "Epoch [3/11]val Loss: 0.2433\n",
      "Epoch 4/10\n",
      "----------\n",
      "Epoch [4/11]train Loss: 0.2599\n",
      "Epoch [4/11]val Loss: 0.1436\n",
      "Epoch 5/10\n",
      "----------\n",
      "Epoch [5/11]train Loss: 0.1391\n",
      "Epoch [5/11]val Loss: 0.0745\n",
      "Epoch 6/10\n",
      "----------\n",
      "Epoch [6/11]train Loss: 0.0667\n",
      "Epoch [6/11]val Loss: 0.0325\n",
      "Epoch 7/10\n",
      "----------\n",
      "Epoch [7/11]train Loss: 0.0311\n",
      "Epoch [7/11]val Loss: 0.0107\n",
      "Epoch 8/10\n",
      "----------\n",
      "Epoch [8/11]train Loss: 0.0104\n",
      "Epoch [8/11]val Loss: 0.0057\n",
      "Epoch 9/10\n",
      "----------\n",
      "Epoch [9/11]train Loss: 0.0035\n",
      "Epoch [9/11]val Loss: 0.0020\n",
      "Epoch 10/10\n",
      "----------\n",
      "Epoch [10/11]train Loss: 0.0019\n",
      "Epoch [10/11]val Loss: 0.0003\n",
      "Epoch 11/10\n",
      "----------\n",
      "Epoch [11/11]train Loss: 0.0007\n",
      "Epoch [11/11]val Loss: 0.0012\n"
     ]
    }
   ],
   "source": [
    "#num_epoch = 1\n",
    "for epoch in range( num_epoch):\n",
    "    pos_scores=[]\n",
    "    neg_scores=[]\n",
    "    print('Epoch {}/{}'.format(epoch+1, num_epoch- 1))\n",
    "    print('-' * 10)\n",
    "    for phase in ['train', 'val']:\n",
    "        if phase == 'train':\n",
    "            hole.train() # Set model to training mode\n",
    "        else:\n",
    "            hole.eval()\n",
    "    \n",
    "    # Each epoch has a training \n",
    "    #hole.train() # Set model to training mode\n",
    "    \n",
    "        running_loss = 0.0\n",
    "        # Iterate over data.\n",
    "        for idx,x in enumerate(data_loaders[phase]):\n",
    "            pos =  x[0]\n",
    "            neg = x[1]\n",
    "            neg = x[1].view(Batch_Size,-1,3)\n",
    "            pos = Variable(torch.LongTensor(pos))\n",
    "            neg = Variable(torch.LongTensor(neg))\n",
    "            #print x.size()\n",
    "            loss,p_s,n_s = hole(pos,neg) # Forward pass: compute the output\n",
    "            if phase=='train':\n",
    "                pos_scores.append(p_s)\n",
    "                neg_scores.append(n_s)\n",
    "            optimizer.zero_grad() # clear gradients for next train\n",
    "            loss.backward() # backpropagation, compute gradients\n",
    "            optimizer.step() # apply gradients  and update the weights of hidden nodes\n",
    "\n",
    "            running_loss += loss.data * Batch_Size\n",
    "\n",
    "            #if phase == 'train':\n",
    "            #    if (i+1) % 100 == 0 :\n",
    "            #        print('Epoch [%d/%d], Step [%d/%d], Loss: %.4f' %(epoch+1, num_epoch, i+1, data_lengths[phase]//64, loss.data))\n",
    "\n",
    "        \n",
    "        if phase == 'train':\n",
    "            epoch_loss = running_loss/float(data_lengths[phase])\n",
    "            print('Epoch [{}/{}]{} Loss: {:.4f}'.format(epoch+1, num_epoch,phase, epoch_loss))\n",
    "            train_losses.append(epoch_loss)\n",
    "            pos_scores_epoch.append(pos_scores)\n",
    "            neg_scores_epoch.append(neg_scores)\n",
    "        else:\n",
    "            epoch_loss = running_loss/float(data_lengths[phase])\n",
    "            print('Epoch [{}/{}]{} Loss: {:.4f}'.format(epoch+1, num_epoch,phase, epoch_loss))\n",
    "            valid_losses.append(epoch_loss)\n",
    "        #print('Epoch [{}/{}]{} Loss: {:.4f}'.format(epoch+1, num_epoch,'train', epoch_loss))\n"
   ]
  },
  {
   "cell_type": "code",
   "execution_count": 264,
   "metadata": {},
   "outputs": [
    {
     "data": {
      "image/png": "[encoded data removed]",
      "text/plain": [
       "<matplotlib.figure.Figure at 0x7f9f04fc5210>"
      ]
     },
     "metadata": {},
     "output_type": "display_data"
    }
   ],
   "source": [
    "import matplotlib.pyplot as plt\n",
    "%matplotlib inline\n",
    "\n",
    "plt.figure(figsize=(8, 6),)\n",
    "plt.plot(train_losses)\n",
    "plt.plot(valid_losses)\n",
    "plt.xlabel('epochs')\n",
    "plt.ylabel('loss');"
   ]
  },
  {
   "cell_type": "code",
   "execution_count": 265,
   "metadata": {
    "collapsed": true
   },
   "outputs": [],
   "source": [
    "def save(filename,model,optimizer_):\n",
    "    state = {'epoch': epoch + 1, 'state_dict': model.state_dict(),\n",
    "             'optimizer': optimizer_.state_dict()}\n",
    "    torch.save(state, filename)"
   ]
  },
  {
   "cell_type": "code",
   "execution_count": 266,
   "metadata": {
    "collapsed": true
   },
   "outputs": [],
   "source": [
    "save('./Data/transe_model.pth.tar',hole,optimizer)"
   ]
  },
  {
   "cell_type": "code",
   "execution_count": 271,
   "metadata": {},
   "outputs": [
    {
     "data": {
      "text/plain": [
       "1.5985132"
      ]
     },
     "execution_count": 271,
     "metadata": {},
     "output_type": "execute_result"
    }
   ],
   "source": [
    "np.mean(pos_scores_epoch[-1])"
   ]
  },
  {
   "cell_type": "code",
   "execution_count": 276,
   "metadata": {},
   "outputs": [
    {
     "data": {
      "text/plain": [
       "0.6409341841936111"
      ]
     },
     "execution_count": 276,
     "metadata": {},
     "output_type": "execute_result"
    }
   ],
   "source": [
    "np.std(pos_scores_epoch[-1])*3"
   ]
  },
  {
   "cell_type": "code",
   "execution_count": 273,
   "metadata": {},
   "outputs": [
    {
     "data": {
      "text/plain": [
       "2.8846457"
      ]
     },
     "execution_count": 273,
     "metadata": {},
     "output_type": "execute_result"
    }
   ],
   "source": [
    "np.mean(neg_scores_epoch[-1])"
   ]
  },
  {
   "cell_type": "code",
   "execution_count": 275,
   "metadata": {},
   "outputs": [
    {
     "data": {
      "text/plain": [
       "0.6596547961235046"
      ]
     },
     "execution_count": 275,
     "metadata": {},
     "output_type": "execute_result"
    }
   ],
   "source": [
    "np.std(neg_scores_epoch[-1])*3"
   ]
  },
  {
   "cell_type": "code",
   "execution_count": 270,
   "metadata": {},
   "outputs": [
    {
     "data": {
      "text/plain": [
       "[array([5.2438183, 4.448523 ], dtype=float32),\n",
       " array([4.3042064, 3.966368 ], dtype=float32),\n",
       " array([4.6314645, 4.401272 ], dtype=float32),\n",
       " array([3.7909803, 4.731023 ], dtype=float32),\n",
       " array([5.160731 , 4.2698936], dtype=float32),\n",
       " array([5.2364006, 3.7158608], dtype=float32),\n",
       " array([4.7995024, 4.4185843], dtype=float32),\n",
       " array([4.396758, 4.081829], dtype=float32),\n",
       " array([4.4934525, 4.181781 ], dtype=float32),\n",
       " array([4.6893682, 4.2989216], dtype=float32),\n",
       " array([5.1371565, 4.4803376], dtype=float32),\n",
       " array([4.4160733, 4.3272953], dtype=float32),\n",
       " array([4.5039444, 4.165792 ], dtype=float32),\n",
       " array([5.3029847, 4.327119 ], dtype=float32),\n",
       " array([4.5255594, 3.861956 ], dtype=float32),\n",
       " array([3.623028, 4.00101 ], dtype=float32),\n",
       " array([4.1495104, 3.7844813], dtype=float32),\n",
       " array([3.5283227, 4.3333983], dtype=float32),\n",
       " array([4.1254473, 3.5319104], dtype=float32),\n",
       " array([3.9120681, 4.166987 ], dtype=float32),\n",
       " array([3.8775826, 4.1607804], dtype=float32),\n",
       " array([4.468605, 4.409703], dtype=float32),\n",
       " array([4.0259466, 3.7371442], dtype=float32),\n",
       " array([3.7748191, 5.43576  ], dtype=float32),\n",
       " array([3.7598639, 5.412085 ], dtype=float32),\n",
       " array([3.406211, 4.443629], dtype=float32),\n",
       " array([3.977369 , 4.4367237], dtype=float32),\n",
       " array([4.627591, 4.85641 ], dtype=float32),\n",
       " array([5.063337, 5.469588], dtype=float32),\n",
       " array([4.5741715, 3.8492754], dtype=float32),\n",
       " array([3.7792585, 3.9649484], dtype=float32),\n",
       " array([3.744279 , 5.3777986], dtype=float32),\n",
       " array([4.083622, 4.14644 ], dtype=float32),\n",
       " array([3.805264, 3.638871], dtype=float32),\n",
       " array([4.982954, 3.49312 ], dtype=float32),\n",
       " array([3.648434 , 3.8719952], dtype=float32),\n",
       " array([5.419316 , 3.3149292], dtype=float32),\n",
       " array([4.0561323, 3.938818 ], dtype=float32),\n",
       " array([5.206063 , 3.7149196], dtype=float32),\n",
       " array([5.2484064, 4.2781677], dtype=float32),\n",
       " array([3.9517558, 3.9544306], dtype=float32),\n",
       " array([4.2299404, 3.8054898], dtype=float32),\n",
       " array([3.7705917, 4.736676 ], dtype=float32),\n",
       " array([4.759826 , 4.0257673], dtype=float32),\n",
       " array([3.4492085, 3.3945794], dtype=float32),\n",
       " array([3.7544603, 3.9009304], dtype=float32),\n",
       " array([3.9380205, 4.6386127], dtype=float32),\n",
       " array([3.493716, 5.327595], dtype=float32),\n",
       " array([3.7050037, 5.755446 ], dtype=float32),\n",
       " array([3.2594016, 3.0570848], dtype=float32),\n",
       " array([3.7478135, 3.2093785], dtype=float32),\n",
       " array([4.345572 , 3.9109921], dtype=float32),\n",
       " array([3.2696075, 3.9879584], dtype=float32),\n",
       " array([4.302426 , 3.7775207], dtype=float32),\n",
       " array([4.0781317, 5.0411425], dtype=float32),\n",
       " array([3.6269948, 5.460534 ], dtype=float32),\n",
       " array([3.7791915, 4.6178007], dtype=float32),\n",
       " array([3.357436 , 5.3777957], dtype=float32),\n",
       " array([3.6534064, 2.9208431], dtype=float32),\n",
       " array([3.9365325, 3.577435 ], dtype=float32),\n",
       " array([3.9782102, 3.9736488], dtype=float32),\n",
       " array([3.5256581, 4.258632 ], dtype=float32),\n",
       " array([3.636397 , 3.0166657], dtype=float32),\n",
       " array([3.7529092, 3.3299267], dtype=float32),\n",
       " array([3.1062002, 4.44904  ], dtype=float32),\n",
       " array([4.57079  , 4.3679233], dtype=float32),\n",
       " array([3.248492, 4.112795], dtype=float32),\n",
       " array([4.4799485, 4.5301557], dtype=float32),\n",
       " array([2.871509, 4.310414], dtype=float32),\n",
       " array([3.7337947, 3.2820382], dtype=float32),\n",
       " array([3.2923691, 3.3364792], dtype=float32),\n",
       " array([4.205129, 5.412817], dtype=float32),\n",
       " array([5.432025 , 4.5745063], dtype=float32),\n",
       " array([3.952927 , 2.7046459], dtype=float32),\n",
       " array([3.7745783, 5.2717156], dtype=float32),\n",
       " array([3.1452756, 2.9686906], dtype=float32),\n",
       " array([4.7798147, 2.9136891], dtype=float32),\n",
       " array([4.5506964, 5.1880374], dtype=float32),\n",
       " array([5.0534563, 4.645817 ], dtype=float32),\n",
       " array([3.42572 , 4.019268], dtype=float32),\n",
       " array([5.6832857, 2.7717597], dtype=float32),\n",
       " array([4.4169526, 3.9388378], dtype=float32),\n",
       " array([3.7891207, 3.289443 ], dtype=float32),\n",
       " array([4.3799596, 5.050339 ], dtype=float32),\n",
       " array([4.535782 , 4.7200875], dtype=float32),\n",
       " array([4.102884 , 3.6441505], dtype=float32),\n",
       " array([2.9034216, 3.1752188], dtype=float32),\n",
       " array([4.8104253, 4.7844696], dtype=float32),\n",
       " array([4.126558, 4.22237 ], dtype=float32),\n",
       " array([2.6043918, 4.977581 ], dtype=float32),\n",
       " array([4.9814653, 3.76245  ], dtype=float32),\n",
       " array([5.3321934, 4.9076715], dtype=float32),\n",
       " array([4.081228 , 2.8831306], dtype=float32),\n",
       " array([3.7787228, 3.1497517], dtype=float32),\n",
       " array([3.7108161, 4.267159 ], dtype=float32),\n",
       " array([5.1567273, 3.8706775], dtype=float32),\n",
       " array([4.7028537, 3.1643085], dtype=float32),\n",
       " array([4.4209113, 3.0150313], dtype=float32),\n",
       " array([5.3347793, 3.9478543], dtype=float32),\n",
       " array([3.7844021, 2.9676769], dtype=float32),\n",
       " array([4.579874, 4.757502], dtype=float32),\n",
       " array([4.6298456, 2.9466662], dtype=float32),\n",
       " array([4.6966667, 2.8139088], dtype=float32),\n",
       " array([3.4663913, 3.8193586], dtype=float32),\n",
       " array([3.4147615, 2.3400126], dtype=float32),\n",
       " array([3.0408962, 4.128681 ], dtype=float32),\n",
       " array([2.7461522, 4.5901074], dtype=float32),\n",
       " array([5.068125 , 2.9199162], dtype=float32),\n",
       " array([3.1392121, 3.7586148], dtype=float32),\n",
       " array([3.6894922, 3.159438 ], dtype=float32),\n",
       " array([3.3240845, 2.9348836], dtype=float32),\n",
       " array([3.3680038, 2.2919369], dtype=float32),\n",
       " array([3.9772778, 2.7091103], dtype=float32),\n",
       " array([3.7587392, 4.1231275], dtype=float32),\n",
       " array([3.5440807, 2.651352 ], dtype=float32),\n",
       " array([2.8408496, 3.0379589], dtype=float32),\n",
       " array([3.8979046, 3.2225783], dtype=float32),\n",
       " array([3.2461028, 2.7191334], dtype=float32),\n",
       " array([4.467427 , 4.7583385], dtype=float32),\n",
       " array([4.7348247, 4.3202605], dtype=float32),\n",
       " array([2.5440307, 3.9535856], dtype=float32),\n",
       " array([2.638524 , 3.2005582], dtype=float32),\n",
       " array([4.669396 , 3.1972067], dtype=float32),\n",
       " array([3.0737462, 4.8073063], dtype=float32),\n",
       " array([2.7144892, 3.6535485], dtype=float32),\n",
       " array([2.8063903, 2.486046 ], dtype=float32),\n",
       " array([4.7468653, 3.4971564], dtype=float32),\n",
       " array([2.8572676, 5.0663805], dtype=float32),\n",
       " array([4.7007623, 4.4315715], dtype=float32),\n",
       " array([3.567165 , 2.9656155], dtype=float32),\n",
       " array([3.9015734, 3.2919793], dtype=float32),\n",
       " array([2.8923547, 4.924122 ], dtype=float32),\n",
       " array([5.444851 , 4.3953524], dtype=float32),\n",
       " array([4.5757327, 3.7244956], dtype=float32),\n",
       " array([3.8028235, 4.788925 ], dtype=float32),\n",
       " array([3.8261166, 4.7073298], dtype=float32),\n",
       " array([4.9748673, 3.834849 ], dtype=float32),\n",
       " array([4.941445, 4.681129], dtype=float32),\n",
       " array([5.14384 , 4.421171], dtype=float32),\n",
       " array([4.0945897, 4.289013 ], dtype=float32),\n",
       " array([3.832646 , 4.2859483], dtype=float32),\n",
       " array([3.3024065, 3.657688 ], dtype=float32),\n",
       " array([3.2433736, 4.7420053], dtype=float32),\n",
       " array([3.5669117, 4.6417556], dtype=float32),\n",
       " array([4.1873775, 3.5578425], dtype=float32),\n",
       " array([4.1445327, 4.6696362], dtype=float32),\n",
       " array([4.6022353, 3.8349516], dtype=float32),\n",
       " array([4.941622 , 4.7309494], dtype=float32),\n",
       " array([3.3003566, 4.1714497], dtype=float32),\n",
       " array([3.9735327, 3.5581253], dtype=float32),\n",
       " array([4.39127  , 3.4983976], dtype=float32),\n",
       " array([4.681061, 4.947735], dtype=float32),\n",
       " array([3.8518937, 3.4096832], dtype=float32),\n",
       " array([4.7125115, 4.6705832], dtype=float32),\n",
       " array([3.419588, 3.953161], dtype=float32),\n",
       " array([3.159754 , 3.4232512], dtype=float32),\n",
       " array([3.2072434, 3.7263901], dtype=float32),\n",
       " array([4.3889194, 3.5805404], dtype=float32),\n",
       " array([4.037382, 3.90086 ], dtype=float32),\n",
       " array([3.375392, 5.152259], dtype=float32),\n",
       " array([4.0995817, 3.9389713], dtype=float32),\n",
       " array([4.692013 , 4.0935736], dtype=float32),\n",
       " array([6.002849 , 4.6583734], dtype=float32),\n",
       " array([4.8820715, 4.6350703], dtype=float32),\n",
       " array([4.0169086, 2.988983 ], dtype=float32),\n",
       " array([4.618919 , 4.7347984], dtype=float32),\n",
       " array([3.886892, 4.633475], dtype=float32),\n",
       " array([4.0616617, 3.6796114], dtype=float32),\n",
       " array([4.712851 , 3.5671072], dtype=float32),\n",
       " array([3.5336916, 4.7696023], dtype=float32),\n",
       " array([4.4273477, 5.1246333], dtype=float32),\n",
       " array([4.401353 , 4.9894676], dtype=float32),\n",
       " array([4.4969997, 4.0579114], dtype=float32),\n",
       " array([4.1145334, 3.7016716], dtype=float32),\n",
       " array([3.8102775, 3.0843198], dtype=float32),\n",
       " array([4.339759, 3.828962], dtype=float32),\n",
       " array([4.808565, 4.136422], dtype=float32),\n",
       " array([3.3502908, 4.09084  ], dtype=float32),\n",
       " array([4.7519603, 2.9534347], dtype=float32),\n",
       " array([4.7781143, 4.069451 ], dtype=float32),\n",
       " array([4.6845703, 5.1079755], dtype=float32),\n",
       " array([4.363152 , 3.9683068], dtype=float32),\n",
       " array([3.6860585, 3.3459425], dtype=float32),\n",
       " array([2.9978287, 4.049408 ], dtype=float32),\n",
       " array([4.886053 , 3.8077943], dtype=float32),\n",
       " array([2.8969223, 4.2426734], dtype=float32),\n",
       " array([5.5022   , 4.4007726], dtype=float32),\n",
       " array([3.3886554, 3.6384249], dtype=float32),\n",
       " array([3.3931193, 3.919683 ], dtype=float32),\n",
       " array([3.1868567, 3.9012961], dtype=float32),\n",
       " array([2.9219563, 4.124975 ], dtype=float32),\n",
       " array([4.1242585, 4.9047847], dtype=float32)]"
      ]
     },
     "execution_count": 270,
     "metadata": {},
     "output_type": "execute_result"
    }
   ],
   "source": [
    "pos_scores_epoch[0]"
   ]
  },
  {
   "cell_type": "code",
   "execution_count": 267,
   "metadata": {
    "collapsed": true
   },
   "outputs": [],
   "source": [
    "def give_p_score(scores):\n",
    "    p =[i.sum() for i in scores]\n",
    "    return sum(p)/train_data.shape[0]"
   ]
  },
  {
   "cell_type": "code",
   "execution_count": 268,
   "metadata": {},
   "outputs": [
    {
     "name": "stdout",
     "output_type": "stream",
     "text": [
      "Epoch : 1 pos_score : 4.05059929565\n",
      "Epoch : 2 pos_score : 2.64739750202\n",
      "Epoch : 3 pos_score : 2.15754200704\n",
      "Epoch : 4 pos_score : 1.94864999317\n",
      "Epoch : 5 pos_score : 1.80251486475\n",
      "Epoch : 6 pos_score : 1.69924351946\n",
      "Epoch : 7 pos_score : 1.63240329176\n",
      "Epoch : 8 pos_score : 1.59589192333\n",
      "Epoch : 9 pos_score : 1.59499440528\n",
      "Epoch : 10 pos_score : 1.59913675611\n",
      "Epoch : 11 pos_score : 1.59851323503\n"
     ]
    }
   ],
   "source": [
    "for i in range(num_epoch):\n",
    "    s = give_p_score(pos_scores_epoch[i])\n",
    "    print(\"Epoch : {} pos_score : {}\".format(i+1,s))"
   ]
  },
  {
   "cell_type": "code",
   "execution_count": 269,
   "metadata": {},
   "outputs": [
    {
     "name": "stdout",
     "output_type": "stream",
     "text": [
      "Epoch : 1 neg_score : 4.11575163777\n",
      "Epoch : 2 neg_score : 3.04372922952\n",
      "Epoch : 3 neg_score : 2.79857008532\n",
      "Epoch : 4 neg_score : 2.77838104715\n",
      "Epoch : 5 neg_score : 2.78590976695\n",
      "Epoch : 6 neg_score : 2.79189156617\n",
      "Epoch : 7 neg_score : 2.79978019868\n",
      "Epoch : 8 neg_score : 2.8207967629\n",
      "Epoch : 9 neg_score : 2.85391572863\n",
      "Epoch : 10 neg_score : 2.87179476395\n",
      "Epoch : 11 neg_score : 2.88464563712\n"
     ]
    }
   ],
   "source": [
    "for i in range(num_epoch):\n",
    "    s = give_p_score(neg_scores_epoch[i])\n",
    "    print(\"Epoch : {} neg_score : {}\".format(i+1,s))"
   ]
  },
  {
   "cell_type": "code",
   "execution_count": 248,
   "metadata": {},
   "outputs": [
    {
     "data": {
      "text/plain": [
       "4.009649965912104"
      ]
     },
     "execution_count": 248,
     "metadata": {},
     "output_type": "execute_result"
    }
   ],
   "source": [
    "sum(p)/train_data.shape[0]"
   ]
  },
  {
   "cell_type": "code",
   "execution_count": null,
   "metadata": {
    "collapsed": true
   },
   "outputs": [],
   "source": []
  },
  {
   "cell_type": "code",
   "execution_count": 229,
   "metadata": {},
   "outputs": [
    {
     "data": {
      "application/vnd.jupyter.widget-view+json": {
       "model_id": "26ac934fce544d909a0220a8aa8d3428",
       "version_major": 2,
       "version_minor": 0
      },
      "text/plain": [
       "A Jupyter Widget"
      ]
     },
     "metadata": {},
     "output_type": "display_data"
    },
    {
     "name": "stdout",
     "output_type": "stream",
     "text": [
      "\n",
      "- - - - - - - - - - - - - STATISTICS ON TRAINING DATASET - - - - - - - - - - - - - - \n",
      "\n",
      "Total number of Green links in training dataset : 384 \n",
      " Number of Green predicted correctly: 380\n",
      " Accuracy of Green predicted correctly: 0.989583333333\n"
     ]
    },
    {
     "data": {
      "application/vnd.jupyter.widget-view+json": {
       "model_id": "ca430422a573441b9745c95572018386",
       "version_major": 2,
       "version_minor": 0
      },
      "text/plain": [
       "A Jupyter Widget"
      ]
     },
     "metadata": {},
     "output_type": "display_data"
    },
    {
     "name": "stdout",
     "output_type": "stream",
     "text": [
      "\n",
      "- - - - - - - - - - - - - STATISTICS ON VALIDATION DATASET - - - - - - - - - - - - - - \n",
      "\n",
      "Total number of Green links in training dataset : 126 \n",
      " Number of Green predicted correctly: 125\n",
      " Accuracy of Green predicted correctly: 0.992063492063\n"
     ]
    },
    {
     "data": {
      "application/vnd.jupyter.widget-view+json": {
       "model_id": "9365531897204a1386a2f741359cc431",
       "version_major": 2,
       "version_minor": 0
      },
      "text/plain": [
       "A Jupyter Widget"
      ]
     },
     "metadata": {},
     "output_type": "display_data"
    },
    {
     "name": "stdout",
     "output_type": "stream",
     "text": [
      "\n",
      "- - - - - - - - - - - - - STATISTICS ON TO_USE DATASET - - - - - - - - - - - - - - \n",
      "\n",
      "Total number of Green links in training dataset : 381 \n",
      " Number of Green predicted correctly: 258\n",
      " Accuracy of Green predicted correctly: 0.677165354331\n"
     ]
    }
   ],
   "source": [
    "# prediction function\n",
    "def hole_prediction(model,fact):\n",
    "    model.eval()\n",
    "    i = fact['entity_a']\n",
    "    j = fact['entity_b']\n",
    "    score = 100000\n",
    "    for k in range(4):\n",
    "        #xt = [i,j,k]\n",
    "        i = np.array([[i]])\n",
    "        j = np.array([[j]])\n",
    "        k = np.array([[k]])\n",
    "        pred_score = model.predict(i,j,k)\n",
    "        #print pred_score\n",
    "        if score > pred_score.data:\n",
    "            prediction = k\n",
    "            score = pred_score.data\n",
    "    return score, prediction\n",
    "\n",
    "## Training Data Stats\n",
    "\n",
    "train_data =  pd.read_csv('./Data/train.csv', delimiter=',')\n",
    "train_data.dropna(inplace=True)\n",
    "train_data['hole_prediction'] = ''\n",
    "# Calculating train data stats\n",
    "for idx,dat in  tqdm.tqdm_notebook(enumerate(train_data.iterrows())):\n",
    "    _,train_data['hole_prediction'].iloc[idx] = hole_prediction(hole,dat[1])\n",
    "\n",
    "acc_count = (train_data['hole_prediction'] == train_data['relation']).sum()\n",
    "acc = float(acc_count)/train_data.shape[0]\n",
    "\n",
    "# Printing results\n",
    "print(\"\\n- - - - - - - - - - - - - STATISTICS ON TRAINING DATASET - - - - - - - - - - - - - - \\n\")\n",
    "print(\"Total number of Green links in training dataset : {} \".format(train_data.shape[0]))\n",
    "print(\" Number of Green predicted correctly: {}\".format(acc_count))\n",
    "print(\" Accuracy of Green predicted correctly: {}\".format(acc))\n",
    "\n",
    "## Validation Data Stats\n",
    "\n",
    "valid_data =  pd.read_csv('./Data/valid.csv', delimiter=',')\n",
    "valid_data.dropna(inplace=True)\n",
    "valid_data['hole_prediction'] = ''\n",
    "# Calculating train data stats\n",
    "for idx,dat in  tqdm.tqdm_notebook(enumerate(valid_data.iterrows())):\n",
    "    _,valid_data['hole_prediction'].iloc[idx] = hole_prediction(hole,dat[1])\n",
    "\n",
    "acc_count = (valid_data['hole_prediction'] == valid_data['relation']).sum()\n",
    "acc = float(acc_count)/valid_data.shape[0]\n",
    "\n",
    "# Printing results\n",
    "print(\"\\n- - - - - - - - - - - - - STATISTICS ON VALIDATION DATASET - - - - - - - - - - - - - - \\n\")\n",
    "print(\"Total number of Green links in training dataset : {} \".format(valid_data.shape[0]))\n",
    "print(\" Number of Green predicted correctly: {}\".format(acc_count))\n",
    "print(\" Accuracy of Green predicted correctly: {}\".format(acc))\n",
    "\n",
    "## To_use Data Stats\n",
    "\n",
    "test_data =  pd.read_csv('./Data/to_use.csv', delimiter=',')\n",
    "test_data.dropna(inplace=True)\n",
    "test_data['hole_prediction'] = ''\n",
    "# Calculating train data stats\n",
    "for idx,dat in  tqdm.tqdm_notebook(enumerate(test_data.iterrows())):\n",
    "    _,test_data['hole_prediction'].iloc[idx] = hole_prediction(hole,dat[1])\n",
    "\n",
    "acc_count = (test_data['hole_prediction'] == test_data['relation']).sum()\n",
    "acc = float(acc_count)/test_data.shape[0]\n",
    "\n",
    "# Printing results\n",
    "print(\"\\n- - - - - - - - - - - - - STATISTICS ON TO_USE DATASET - - - - - - - - - - - - - - \\n\")\n",
    "print(\"Total number of Green links in training dataset : {} \".format(test_data.shape[0]))\n",
    "print(\" Number of Green predicted correctly: {}\".format(acc_count))\n",
    "print(\" Accuracy of Green predicted correctly: {}\".format(acc))"
   ]
  },
  {
   "cell_type": "code",
   "execution_count": 214,
   "metadata": {
    "collapsed": true
   },
   "outputs": [],
   "source": [
    "# prediction function\n",
    "def transe_prediction2(model,fact,thres,accuracy_count = 0,green_link_accuracy_count=0,incorrect_count=0):\n",
    "    model.eval()\n",
    "    i = fact['entity_a']\n",
    "    j = fact['entity_b']\n",
    "    r = fact['relation']\n",
    "    #score = 100000\n",
    "    scores=[]\n",
    "    for k in range(4):\n",
    "        #xt = [i,j,k]\n",
    "        i = np.array([[i]])\n",
    "        j = np.array([[j]])\n",
    "        k = np.array([[k]])\n",
    "        pred_score = model.predict(i,j,k)\n",
    "        #print pred_score\n",
    "        scores.append(pred_score)\n",
    "        if thres > pred_score.data:\n",
    "            if k==r:\n",
    "                accuracy_count +=1\n",
    "                green_link_accuracy_count +=1\n",
    "        else:\n",
    "            if k!=r:\n",
    "                accuracy_count +=1\n",
    "            else:\n",
    "                incorrect_count+=1\n",
    "            score = pred_score.data\n",
    "    return accuracy_count,green_link_accuracy_count,incorrect_count,scores"
   ]
  },
  {
   "cell_type": "code",
   "execution_count": 13,
   "metadata": {
    "collapsed": true
   },
   "outputs": [],
   "source": [
    "from sklearn.metrics import precision_score"
   ]
  },
  {
   "cell_type": "code",
   "execution_count": 216,
   "metadata": {
    "scrolled": true
   },
   "outputs": [
    {
     "name": "stdout",
     "output_type": "stream",
     "text": [
      "-------\n",
      "\n",
      "Thresold value : 0.0\n"
     ]
    },
    {
     "data": {
      "application/vnd.jupyter.widget-view+json": {
       "model_id": "a4294d96902348408f2621e5d7d67a25",
       "version_major": 2,
       "version_minor": 0
      },
      "text/plain": [
       "A Jupyter Widget"
      ]
     },
     "metadata": {},
     "output_type": "display_data"
    },
    {
     "name": "stdout",
     "output_type": "stream",
     "text": [
      "\n",
      "- - - - - - - - - - - - - STATISTICS ON TRAINING DATASET - - - - - - - - - - - - - - \n",
      "\n",
      "Total number of Green links in training dataset : 384 \n",
      "Total number of links in training dataset : 1536 \n",
      " Number of links predicted correctly: 1152\n",
      " Accuracy of links predicted correctly: 0.75\n",
      " Number of Green predicted correctly: 0\n",
      " Accuracy of Green predicted correctly: 0.0\n",
      "Precision: 0.0\n",
      "false positive:384\n"
     ]
    },
    {
     "data": {
      "application/vnd.jupyter.widget-view+json": {
       "model_id": "da926483be5341d382bc8f9dc8b13a0f",
       "version_major": 2,
       "version_minor": 0
      },
      "text/plain": [
       "A Jupyter Widget"
      ]
     },
     "metadata": {},
     "output_type": "display_data"
    },
    {
     "name": "stdout",
     "output_type": "stream",
     "text": [
      "\n",
      "- - - - - - - - - - - - - STATISTICS ON VALIDATION DATASET - - - - - - - - - - - - - - \n",
      "\n",
      "Total number of Green links in training dataset : 126 \n",
      "Total number of links in training dataset : 504 \n",
      " Number of links predicted correctly: 378\n",
      " Accuracy of links predicted correctly: 0.75\n",
      " Number of Green predicted correctly: 0\n",
      " Accuracy of Green predicted correctly: 0.0\n",
      "Precision: 0.0\n",
      "false positive:126\n"
     ]
    },
    {
     "data": {
      "application/vnd.jupyter.widget-view+json": {
       "model_id": "2e0687b21a8c44f392217ded2aa7cac2",
       "version_major": 2,
       "version_minor": 0
      },
      "text/plain": [
       "A Jupyter Widget"
      ]
     },
     "metadata": {},
     "output_type": "display_data"
    },
    {
     "name": "stdout",
     "output_type": "stream",
     "text": [
      "\n",
      "- - - - - - - - - - - - - STATISTICS ON TO_USE DATASET - - - - - - - - - - - - - - \n",
      "\n",
      "Total number of Green links in training dataset : 381 \n",
      "Total number of links in training dataset : 1524 \n",
      " Number of links predicted correctly: 1143\n",
      " Accuracy of links predicted correctly: 0.75\n",
      " Number of Green predicted correctly: 0\n",
      " Accuracy of Green predicted correctly: 0.0\n",
      "Precision: 0.0\n",
      "false positive:381\n",
      "-------\n",
      "\n",
      "Thresold value : 0.0786516853933\n"
     ]
    },
    {
     "data": {
      "application/vnd.jupyter.widget-view+json": {
       "model_id": "5c5a5cc8af874eb58e93a814f8a47688",
       "version_major": 2,
       "version_minor": 0
      },
      "text/plain": [
       "A Jupyter Widget"
      ]
     },
     "metadata": {},
     "output_type": "display_data"
    },
    {
     "name": "stdout",
     "output_type": "stream",
     "text": [
      "\n",
      "- - - - - - - - - - - - - STATISTICS ON TRAINING DATASET - - - - - - - - - - - - - - \n",
      "\n",
      "Total number of Green links in training dataset : 384 \n",
      "Total number of links in training dataset : 1536 \n",
      " Number of links predicted correctly: 1152\n",
      " Accuracy of links predicted correctly: 0.75\n",
      " Number of Green predicted correctly: 0\n",
      " Accuracy of Green predicted correctly: 0.0\n",
      "Precision: 0.0\n",
      "false positive:384\n"
     ]
    },
    {
     "data": {
      "application/vnd.jupyter.widget-view+json": {
       "model_id": "c4a42a4b79e1446e93c8cc54eaecaffc",
       "version_major": 2,
       "version_minor": 0
      },
      "text/plain": [
       "A Jupyter Widget"
      ]
     },
     "metadata": {},
     "output_type": "display_data"
    },
    {
     "name": "stdout",
     "output_type": "stream",
     "text": [
      "\n",
      "- - - - - - - - - - - - - STATISTICS ON VALIDATION DATASET - - - - - - - - - - - - - - \n",
      "\n",
      "Total number of Green links in training dataset : 126 \n",
      "Total number of links in training dataset : 504 \n",
      " Number of links predicted correctly: 378\n",
      " Accuracy of links predicted correctly: 0.75\n",
      " Number of Green predicted correctly: 0\n",
      " Accuracy of Green predicted correctly: 0.0\n",
      "Precision: 0.0\n",
      "false positive:126\n"
     ]
    },
    {
     "data": {
      "application/vnd.jupyter.widget-view+json": {
       "model_id": "5f11761b56e548d5ac62ead2b719cf04",
       "version_major": 2,
       "version_minor": 0
      },
      "text/plain": [
       "A Jupyter Widget"
      ]
     },
     "metadata": {},
     "output_type": "display_data"
    },
    {
     "name": "stdout",
     "output_type": "stream",
     "text": [
      "\n",
      "- - - - - - - - - - - - - STATISTICS ON TO_USE DATASET - - - - - - - - - - - - - - \n",
      "\n",
      "Total number of Green links in training dataset : 381 \n",
      "Total number of links in training dataset : 1524 \n",
      " Number of links predicted correctly: 1143\n",
      " Accuracy of links predicted correctly: 0.75\n",
      " Number of Green predicted correctly: 0\n",
      " Accuracy of Green predicted correctly: 0.0\n",
      "Precision: 0.0\n",
      "false positive:381\n",
      "-------\n",
      "\n",
      "Thresold value : 0.157303370787\n"
     ]
    },
    {
     "data": {
      "application/vnd.jupyter.widget-view+json": {
       "model_id": "4b8ddf4956854349b5e58bec01675a48",
       "version_major": 2,
       "version_minor": 0
      },
      "text/plain": [
       "A Jupyter Widget"
      ]
     },
     "metadata": {},
     "output_type": "display_data"
    },
    {
     "name": "stdout",
     "output_type": "stream",
     "text": [
      "\n",
      "- - - - - - - - - - - - - STATISTICS ON TRAINING DATASET - - - - - - - - - - - - - - \n",
      "\n",
      "Total number of Green links in training dataset : 384 \n",
      "Total number of links in training dataset : 1536 \n",
      " Number of links predicted correctly: 1152\n",
      " Accuracy of links predicted correctly: 0.75\n",
      " Number of Green predicted correctly: 0\n",
      " Accuracy of Green predicted correctly: 0.0\n",
      "Precision: 0.0\n",
      "false positive:384\n"
     ]
    },
    {
     "data": {
      "application/vnd.jupyter.widget-view+json": {
       "model_id": "8a49e44a3d7a46d9a0af68ab36fc52b5",
       "version_major": 2,
       "version_minor": 0
      },
      "text/plain": [
       "A Jupyter Widget"
      ]
     },
     "metadata": {},
     "output_type": "display_data"
    },
    {
     "name": "stdout",
     "output_type": "stream",
     "text": [
      "\n",
      "- - - - - - - - - - - - - STATISTICS ON VALIDATION DATASET - - - - - - - - - - - - - - \n",
      "\n",
      "Total number of Green links in training dataset : 126 \n",
      "Total number of links in training dataset : 504 \n",
      " Number of links predicted correctly: 378\n",
      " Accuracy of links predicted correctly: 0.75\n",
      " Number of Green predicted correctly: 0\n",
      " Accuracy of Green predicted correctly: 0.0\n",
      "Precision: 0.0\n",
      "false positive:126\n"
     ]
    },
    {
     "data": {
      "application/vnd.jupyter.widget-view+json": {
       "model_id": "36e68db8c997448a8faf9feb93c092e0",
       "version_major": 2,
       "version_minor": 0
      },
      "text/plain": [
       "A Jupyter Widget"
      ]
     },
     "metadata": {},
     "output_type": "display_data"
    },
    {
     "name": "stdout",
     "output_type": "stream",
     "text": [
      "\n",
      "- - - - - - - - - - - - - STATISTICS ON TO_USE DATASET - - - - - - - - - - - - - - \n",
      "\n",
      "Total number of Green links in training dataset : 381 \n",
      "Total number of links in training dataset : 1524 \n",
      " Number of links predicted correctly: 1143\n",
      " Accuracy of links predicted correctly: 0.75\n",
      " Number of Green predicted correctly: 0\n",
      " Accuracy of Green predicted correctly: 0.0\n",
      "Precision: 0.0\n",
      "false positive:381\n",
      "-------\n",
      "\n",
      "Thresold value : 0.23595505618\n"
     ]
    },
    {
     "data": {
      "application/vnd.jupyter.widget-view+json": {
       "model_id": "0666447004b1497ea146560e0caba691",
       "version_major": 2,
       "version_minor": 0
      },
      "text/plain": [
       "A Jupyter Widget"
      ]
     },
     "metadata": {},
     "output_type": "display_data"
    },
    {
     "name": "stdout",
     "output_type": "stream",
     "text": [
      "\n",
      "- - - - - - - - - - - - - STATISTICS ON TRAINING DATASET - - - - - - - - - - - - - - \n",
      "\n",
      "Total number of Green links in training dataset : 384 \n",
      "Total number of links in training dataset : 1536 \n",
      " Number of links predicted correctly: 1152\n",
      " Accuracy of links predicted correctly: 0.75\n",
      " Number of Green predicted correctly: 0\n",
      " Accuracy of Green predicted correctly: 0.0\n",
      "Precision: 0.0\n",
      "false positive:384\n"
     ]
    },
    {
     "data": {
      "application/vnd.jupyter.widget-view+json": {
       "model_id": "a7abbaf863c84932a578089d70cb7e94",
       "version_major": 2,
       "version_minor": 0
      },
      "text/plain": [
       "A Jupyter Widget"
      ]
     },
     "metadata": {},
     "output_type": "display_data"
    },
    {
     "name": "stdout",
     "output_type": "stream",
     "text": [
      "\n",
      "- - - - - - - - - - - - - STATISTICS ON VALIDATION DATASET - - - - - - - - - - - - - - \n",
      "\n",
      "Total number of Green links in training dataset : 126 \n",
      "Total number of links in training dataset : 504 \n",
      " Number of links predicted correctly: 378\n",
      " Accuracy of links predicted correctly: 0.75\n",
      " Number of Green predicted correctly: 0\n",
      " Accuracy of Green predicted correctly: 0.0\n",
      "Precision: 0.0\n",
      "false positive:126\n"
     ]
    },
    {
     "data": {
      "application/vnd.jupyter.widget-view+json": {
       "model_id": "268f0698d7aa48bab3c81b0c09a9a3ac",
       "version_major": 2,
       "version_minor": 0
      },
      "text/plain": [
       "A Jupyter Widget"
      ]
     },
     "metadata": {},
     "output_type": "display_data"
    },
    {
     "name": "stdout",
     "output_type": "stream",
     "text": [
      "\n",
      "- - - - - - - - - - - - - STATISTICS ON TO_USE DATASET - - - - - - - - - - - - - - \n",
      "\n",
      "Total number of Green links in training dataset : 381 \n",
      "Total number of links in training dataset : 1524 \n",
      " Number of links predicted correctly: 1143\n",
      " Accuracy of links predicted correctly: 0.75\n",
      " Number of Green predicted correctly: 0\n",
      " Accuracy of Green predicted correctly: 0.0\n",
      "Precision: 0.0\n",
      "false positive:381\n",
      "-------\n",
      "\n",
      "Thresold value : 0.314606741573\n"
     ]
    },
    {
     "data": {
      "application/vnd.jupyter.widget-view+json": {
       "model_id": "2b72440498f8461eacf2525ceb4e7437",
       "version_major": 2,
       "version_minor": 0
      },
      "text/plain": [
       "A Jupyter Widget"
      ]
     },
     "metadata": {},
     "output_type": "display_data"
    },
    {
     "name": "stdout",
     "output_type": "stream",
     "text": [
      "\n",
      "- - - - - - - - - - - - - STATISTICS ON TRAINING DATASET - - - - - - - - - - - - - - \n",
      "\n",
      "Total number of Green links in training dataset : 384 \n",
      "Total number of links in training dataset : 1536 \n",
      " Number of links predicted correctly: 1152\n",
      " Accuracy of links predicted correctly: 0.75\n",
      " Number of Green predicted correctly: 0\n",
      " Accuracy of Green predicted correctly: 0.0\n",
      "Precision: 0.0\n",
      "false positive:384\n"
     ]
    },
    {
     "data": {
      "application/vnd.jupyter.widget-view+json": {
       "model_id": "3ec4c896806b4bb28008a1483d54ca69",
       "version_major": 2,
       "version_minor": 0
      },
      "text/plain": [
       "A Jupyter Widget"
      ]
     },
     "metadata": {},
     "output_type": "display_data"
    },
    {
     "name": "stdout",
     "output_type": "stream",
     "text": [
      "\n",
      "- - - - - - - - - - - - - STATISTICS ON VALIDATION DATASET - - - - - - - - - - - - - - \n",
      "\n",
      "Total number of Green links in training dataset : 126 \n",
      "Total number of links in training dataset : 504 \n",
      " Number of links predicted correctly: 378\n",
      " Accuracy of links predicted correctly: 0.75\n",
      " Number of Green predicted correctly: 0\n",
      " Accuracy of Green predicted correctly: 0.0\n",
      "Precision: 0.0\n",
      "false positive:126\n"
     ]
    },
    {
     "data": {
      "application/vnd.jupyter.widget-view+json": {
       "model_id": "edf629b8eba0434d9c2e4a5ad520b54a",
       "version_major": 2,
       "version_minor": 0
      },
      "text/plain": [
       "A Jupyter Widget"
      ]
     },
     "metadata": {},
     "output_type": "display_data"
    },
    {
     "name": "stdout",
     "output_type": "stream",
     "text": [
      "\n",
      "- - - - - - - - - - - - - STATISTICS ON TO_USE DATASET - - - - - - - - - - - - - - \n",
      "\n",
      "Total number of Green links in training dataset : 381 \n",
      "Total number of links in training dataset : 1524 \n",
      " Number of links predicted correctly: 1143\n",
      " Accuracy of links predicted correctly: 0.75\n",
      " Number of Green predicted correctly: 0\n",
      " Accuracy of Green predicted correctly: 0.0\n",
      "Precision: 0.0\n",
      "false positive:381\n",
      "-------\n",
      "\n",
      "Thresold value : 0.393258426966\n"
     ]
    },
    {
     "data": {
      "application/vnd.jupyter.widget-view+json": {
       "model_id": "0af3923093d04b93832649cb3ef54079",
       "version_major": 2,
       "version_minor": 0
      },
      "text/plain": [
       "A Jupyter Widget"
      ]
     },
     "metadata": {},
     "output_type": "display_data"
    },
    {
     "name": "stdout",
     "output_type": "stream",
     "text": [
      "\n",
      "- - - - - - - - - - - - - STATISTICS ON TRAINING DATASET - - - - - - - - - - - - - - \n",
      "\n",
      "Total number of Green links in training dataset : 384 \n",
      "Total number of links in training dataset : 1536 \n",
      " Number of links predicted correctly: 1152\n",
      " Accuracy of links predicted correctly: 0.75\n",
      " Number of Green predicted correctly: 0\n",
      " Accuracy of Green predicted correctly: 0.0\n",
      "Precision: 0.0\n",
      "false positive:384\n"
     ]
    },
    {
     "data": {
      "application/vnd.jupyter.widget-view+json": {
       "model_id": "1d58f0b9da0d4d25a94f84a9eeacaa8f",
       "version_major": 2,
       "version_minor": 0
      },
      "text/plain": [
       "A Jupyter Widget"
      ]
     },
     "metadata": {},
     "output_type": "display_data"
    },
    {
     "name": "stdout",
     "output_type": "stream",
     "text": [
      "\n",
      "- - - - - - - - - - - - - STATISTICS ON VALIDATION DATASET - - - - - - - - - - - - - - \n",
      "\n",
      "Total number of Green links in training dataset : 126 \n",
      "Total number of links in training dataset : 504 \n",
      " Number of links predicted correctly: 378\n",
      " Accuracy of links predicted correctly: 0.75\n",
      " Number of Green predicted correctly: 0\n",
      " Accuracy of Green predicted correctly: 0.0\n",
      "Precision: 0.0\n",
      "false positive:126\n"
     ]
    },
    {
     "data": {
      "application/vnd.jupyter.widget-view+json": {
       "model_id": "57303f0c1d764824921d5d31dc3a8608",
       "version_major": 2,
       "version_minor": 0
      },
      "text/plain": [
       "A Jupyter Widget"
      ]
     },
     "metadata": {},
     "output_type": "display_data"
    },
    {
     "name": "stdout",
     "output_type": "stream",
     "text": [
      "\n",
      "- - - - - - - - - - - - - STATISTICS ON TO_USE DATASET - - - - - - - - - - - - - - \n",
      "\n",
      "Total number of Green links in training dataset : 381 \n",
      "Total number of links in training dataset : 1524 \n",
      " Number of links predicted correctly: 1143\n",
      " Accuracy of links predicted correctly: 0.75\n",
      " Number of Green predicted correctly: 0\n",
      " Accuracy of Green predicted correctly: 0.0\n",
      "Precision: 0.0\n",
      "false positive:381\n",
      "-------\n",
      "\n",
      "Thresold value : 0.47191011236\n"
     ]
    },
    {
     "data": {
      "application/vnd.jupyter.widget-view+json": {
       "model_id": "66b2a4ae13f846f6810db073e0958225",
       "version_major": 2,
       "version_minor": 0
      },
      "text/plain": [
       "A Jupyter Widget"
      ]
     },
     "metadata": {},
     "output_type": "display_data"
    },
    {
     "name": "stdout",
     "output_type": "stream",
     "text": [
      "\n",
      "- - - - - - - - - - - - - STATISTICS ON TRAINING DATASET - - - - - - - - - - - - - - \n",
      "\n",
      "Total number of Green links in training dataset : 384 \n",
      "Total number of links in training dataset : 1536 \n",
      " Number of links predicted correctly: 1152\n",
      " Accuracy of links predicted correctly: 0.75\n",
      " Number of Green predicted correctly: 0\n",
      " Accuracy of Green predicted correctly: 0.0\n",
      "Precision: 0.0\n",
      "false positive:384\n"
     ]
    },
    {
     "data": {
      "application/vnd.jupyter.widget-view+json": {
       "model_id": "d7e56f4aeb674e2cbcfad7c6f0d280f5",
       "version_major": 2,
       "version_minor": 0
      },
      "text/plain": [
       "A Jupyter Widget"
      ]
     },
     "metadata": {},
     "output_type": "display_data"
    },
    {
     "name": "stdout",
     "output_type": "stream",
     "text": [
      "\n",
      "- - - - - - - - - - - - - STATISTICS ON VALIDATION DATASET - - - - - - - - - - - - - - \n",
      "\n",
      "Total number of Green links in training dataset : 126 \n",
      "Total number of links in training dataset : 504 \n",
      " Number of links predicted correctly: 378\n",
      " Accuracy of links predicted correctly: 0.75\n",
      " Number of Green predicted correctly: 0\n",
      " Accuracy of Green predicted correctly: 0.0\n",
      "Precision: 0.0\n",
      "false positive:126\n"
     ]
    },
    {
     "data": {
      "application/vnd.jupyter.widget-view+json": {
       "model_id": "886a47c919b34f40aeaf234bb34ad79d",
       "version_major": 2,
       "version_minor": 0
      },
      "text/plain": [
       "A Jupyter Widget"
      ]
     },
     "metadata": {},
     "output_type": "display_data"
    },
    {
     "name": "stdout",
     "output_type": "stream",
     "text": [
      "\n",
      "- - - - - - - - - - - - - STATISTICS ON TO_USE DATASET - - - - - - - - - - - - - - \n",
      "\n",
      "Total number of Green links in training dataset : 381 \n",
      "Total number of links in training dataset : 1524 \n",
      " Number of links predicted correctly: 1143\n",
      " Accuracy of links predicted correctly: 0.75\n",
      " Number of Green predicted correctly: 0\n",
      " Accuracy of Green predicted correctly: 0.0\n",
      "Precision: 0.0\n",
      "false positive:381\n",
      "-------\n",
      "\n",
      "Thresold value : 0.550561797753\n"
     ]
    },
    {
     "data": {
      "application/vnd.jupyter.widget-view+json": {
       "model_id": "942dae0ef974434fae4a252ae28b3ad7",
       "version_major": 2,
       "version_minor": 0
      },
      "text/plain": [
       "A Jupyter Widget"
      ]
     },
     "metadata": {},
     "output_type": "display_data"
    },
    {
     "name": "stdout",
     "output_type": "stream",
     "text": [
      "\n",
      "- - - - - - - - - - - - - STATISTICS ON TRAINING DATASET - - - - - - - - - - - - - - \n",
      "\n",
      "Total number of Green links in training dataset : 384 \n",
      "Total number of links in training dataset : 1536 \n",
      " Number of links predicted correctly: 1152\n",
      " Accuracy of links predicted correctly: 0.75\n",
      " Number of Green predicted correctly: 0\n",
      " Accuracy of Green predicted correctly: 0.0\n",
      "Precision: 0.0\n",
      "false positive:384\n"
     ]
    },
    {
     "data": {
      "application/vnd.jupyter.widget-view+json": {
       "model_id": "643085f98972400abe8580da6df6cd7d",
       "version_major": 2,
       "version_minor": 0
      },
      "text/plain": [
       "A Jupyter Widget"
      ]
     },
     "metadata": {},
     "output_type": "display_data"
    },
    {
     "name": "stdout",
     "output_type": "stream",
     "text": [
      "\n",
      "- - - - - - - - - - - - - STATISTICS ON VALIDATION DATASET - - - - - - - - - - - - - - \n",
      "\n",
      "Total number of Green links in training dataset : 126 \n",
      "Total number of links in training dataset : 504 \n",
      " Number of links predicted correctly: 378\n",
      " Accuracy of links predicted correctly: 0.75\n",
      " Number of Green predicted correctly: 0\n",
      " Accuracy of Green predicted correctly: 0.0\n",
      "Precision: 0.0\n",
      "false positive:126\n"
     ]
    },
    {
     "data": {
      "application/vnd.jupyter.widget-view+json": {
       "model_id": "f39a442b9a974f749edb82e43acfa9b6",
       "version_major": 2,
       "version_minor": 0
      },
      "text/plain": [
       "A Jupyter Widget"
      ]
     },
     "metadata": {},
     "output_type": "display_data"
    },
    {
     "name": "stdout",
     "output_type": "stream",
     "text": [
      "\n",
      "- - - - - - - - - - - - - STATISTICS ON TO_USE DATASET - - - - - - - - - - - - - - \n",
      "\n",
      "Total number of Green links in training dataset : 381 \n",
      "Total number of links in training dataset : 1524 \n",
      " Number of links predicted correctly: 1143\n",
      " Accuracy of links predicted correctly: 0.75\n",
      " Number of Green predicted correctly: 0\n",
      " Accuracy of Green predicted correctly: 0.0\n",
      "Precision: 0.0\n",
      "false positive:381\n",
      "-------\n",
      "\n",
      "Thresold value : 0.629213483146\n"
     ]
    },
    {
     "data": {
      "application/vnd.jupyter.widget-view+json": {
       "model_id": "11357d412e344d5da9358f729490385c",
       "version_major": 2,
       "version_minor": 0
      },
      "text/plain": [
       "A Jupyter Widget"
      ]
     },
     "metadata": {},
     "output_type": "display_data"
    },
    {
     "name": "stdout",
     "output_type": "stream",
     "text": [
      "\n",
      "- - - - - - - - - - - - - STATISTICS ON TRAINING DATASET - - - - - - - - - - - - - - \n",
      "\n",
      "Total number of Green links in training dataset : 384 \n",
      "Total number of links in training dataset : 1536 \n",
      " Number of links predicted correctly: 1152\n",
      " Accuracy of links predicted correctly: 0.75\n",
      " Number of Green predicted correctly: 0\n",
      " Accuracy of Green predicted correctly: 0.0\n",
      "Precision: 0.0\n",
      "false positive:384\n"
     ]
    },
    {
     "data": {
      "application/vnd.jupyter.widget-view+json": {
       "model_id": "d2ce1a720c734a5eb0c3fd1763571a66",
       "version_major": 2,
       "version_minor": 0
      },
      "text/plain": [
       "A Jupyter Widget"
      ]
     },
     "metadata": {},
     "output_type": "display_data"
    },
    {
     "name": "stdout",
     "output_type": "stream",
     "text": [
      "\n",
      "- - - - - - - - - - - - - STATISTICS ON VALIDATION DATASET - - - - - - - - - - - - - - \n",
      "\n",
      "Total number of Green links in training dataset : 126 \n",
      "Total number of links in training dataset : 504 \n",
      " Number of links predicted correctly: 378\n",
      " Accuracy of links predicted correctly: 0.75\n",
      " Number of Green predicted correctly: 0\n",
      " Accuracy of Green predicted correctly: 0.0\n",
      "Precision: 0.0\n",
      "false positive:126\n"
     ]
    },
    {
     "data": {
      "application/vnd.jupyter.widget-view+json": {
       "model_id": "0f40d6a0f2a14aa6912a34d784516cda",
       "version_major": 2,
       "version_minor": 0
      },
      "text/plain": [
       "A Jupyter Widget"
      ]
     },
     "metadata": {},
     "output_type": "display_data"
    },
    {
     "name": "stdout",
     "output_type": "stream",
     "text": [
      "\n",
      "- - - - - - - - - - - - - STATISTICS ON TO_USE DATASET - - - - - - - - - - - - - - \n",
      "\n",
      "Total number of Green links in training dataset : 381 \n",
      "Total number of links in training dataset : 1524 \n",
      " Number of links predicted correctly: 1143\n",
      " Accuracy of links predicted correctly: 0.75\n",
      " Number of Green predicted correctly: 0\n",
      " Accuracy of Green predicted correctly: 0.0\n",
      "Precision: 0.0\n",
      "false positive:381\n",
      "-------\n",
      "\n",
      "Thresold value : 0.707865168539\n"
     ]
    },
    {
     "data": {
      "application/vnd.jupyter.widget-view+json": {
       "model_id": "c9793cce577842c69b5b795974de89c5",
       "version_major": 2,
       "version_minor": 0
      },
      "text/plain": [
       "A Jupyter Widget"
      ]
     },
     "metadata": {},
     "output_type": "display_data"
    },
    {
     "name": "stdout",
     "output_type": "stream",
     "text": [
      "\n",
      "- - - - - - - - - - - - - STATISTICS ON TRAINING DATASET - - - - - - - - - - - - - - \n",
      "\n",
      "Total number of Green links in training dataset : 384 \n",
      "Total number of links in training dataset : 1536 \n",
      " Number of links predicted correctly: 1152\n",
      " Accuracy of links predicted correctly: 0.75\n",
      " Number of Green predicted correctly: 0\n",
      " Accuracy of Green predicted correctly: 0.0\n",
      "Precision: 0.0\n",
      "false positive:384\n"
     ]
    },
    {
     "data": {
      "application/vnd.jupyter.widget-view+json": {
       "model_id": "1b9cee840dfe41aea741dcc80f915dc1",
       "version_major": 2,
       "version_minor": 0
      },
      "text/plain": [
       "A Jupyter Widget"
      ]
     },
     "metadata": {},
     "output_type": "display_data"
    },
    {
     "name": "stdout",
     "output_type": "stream",
     "text": [
      "\n",
      "- - - - - - - - - - - - - STATISTICS ON VALIDATION DATASET - - - - - - - - - - - - - - \n",
      "\n",
      "Total number of Green links in training dataset : 126 \n",
      "Total number of links in training dataset : 504 \n",
      " Number of links predicted correctly: 378\n",
      " Accuracy of links predicted correctly: 0.75\n",
      " Number of Green predicted correctly: 0\n",
      " Accuracy of Green predicted correctly: 0.0\n",
      "Precision: 0.0\n",
      "false positive:126\n"
     ]
    },
    {
     "data": {
      "application/vnd.jupyter.widget-view+json": {
       "model_id": "432652b2fc01415bbc12e5ec67b71578",
       "version_major": 2,
       "version_minor": 0
      },
      "text/plain": [
       "A Jupyter Widget"
      ]
     },
     "metadata": {},
     "output_type": "display_data"
    },
    {
     "name": "stdout",
     "output_type": "stream",
     "text": [
      "\n",
      "- - - - - - - - - - - - - STATISTICS ON TO_USE DATASET - - - - - - - - - - - - - - \n",
      "\n",
      "Total number of Green links in training dataset : 381 \n",
      "Total number of links in training dataset : 1524 \n",
      " Number of links predicted correctly: 1143\n",
      " Accuracy of links predicted correctly: 0.75\n",
      " Number of Green predicted correctly: 0\n",
      " Accuracy of Green predicted correctly: 0.0\n",
      "Precision: 0.0\n",
      "false positive:381\n",
      "-------\n",
      "\n",
      "Thresold value : 0.786516853933\n"
     ]
    },
    {
     "data": {
      "application/vnd.jupyter.widget-view+json": {
       "model_id": "643cb24e4afc49c9bee15a21a658e025",
       "version_major": 2,
       "version_minor": 0
      },
      "text/plain": [
       "A Jupyter Widget"
      ]
     },
     "metadata": {},
     "output_type": "display_data"
    },
    {
     "name": "stdout",
     "output_type": "stream",
     "text": [
      "\n",
      "- - - - - - - - - - - - - STATISTICS ON TRAINING DATASET - - - - - - - - - - - - - - \n",
      "\n",
      "Total number of Green links in training dataset : 384 \n",
      "Total number of links in training dataset : 1536 \n",
      " Number of links predicted correctly: 1152\n",
      " Accuracy of links predicted correctly: 0.75\n",
      " Number of Green predicted correctly: 0\n",
      " Accuracy of Green predicted correctly: 0.0\n",
      "Precision: 0.0\n",
      "false positive:384\n"
     ]
    },
    {
     "data": {
      "application/vnd.jupyter.widget-view+json": {
       "model_id": "509b1485798641e1ae249736cfe322e8",
       "version_major": 2,
       "version_minor": 0
      },
      "text/plain": [
       "A Jupyter Widget"
      ]
     },
     "metadata": {},
     "output_type": "display_data"
    },
    {
     "name": "stdout",
     "output_type": "stream",
     "text": [
      "\n",
      "- - - - - - - - - - - - - STATISTICS ON VALIDATION DATASET - - - - - - - - - - - - - - \n",
      "\n",
      "Total number of Green links in training dataset : 126 \n",
      "Total number of links in training dataset : 504 \n",
      " Number of links predicted correctly: 378\n",
      " Accuracy of links predicted correctly: 0.75\n",
      " Number of Green predicted correctly: 0\n",
      " Accuracy of Green predicted correctly: 0.0\n",
      "Precision: 0.0\n",
      "false positive:126\n"
     ]
    },
    {
     "data": {
      "application/vnd.jupyter.widget-view+json": {
       "model_id": "a20e19006d424febb6463bf1825748bb",
       "version_major": 2,
       "version_minor": 0
      },
      "text/plain": [
       "A Jupyter Widget"
      ]
     },
     "metadata": {},
     "output_type": "display_data"
    },
    {
     "name": "stdout",
     "output_type": "stream",
     "text": [
      "\n",
      "- - - - - - - - - - - - - STATISTICS ON TO_USE DATASET - - - - - - - - - - - - - - \n",
      "\n",
      "Total number of Green links in training dataset : 381 \n",
      "Total number of links in training dataset : 1524 \n",
      " Number of links predicted correctly: 1143\n",
      " Accuracy of links predicted correctly: 0.75\n",
      " Number of Green predicted correctly: 0\n",
      " Accuracy of Green predicted correctly: 0.0\n",
      "Precision: 0.0\n",
      "false positive:381\n",
      "-------\n",
      "\n",
      "Thresold value : 0.865168539326\n"
     ]
    },
    {
     "data": {
      "application/vnd.jupyter.widget-view+json": {
       "model_id": "78d65fdf4d84449fb079bc7cb88af8ce",
       "version_major": 2,
       "version_minor": 0
      },
      "text/plain": [
       "A Jupyter Widget"
      ]
     },
     "metadata": {},
     "output_type": "display_data"
    },
    {
     "name": "stdout",
     "output_type": "stream",
     "text": [
      "\n",
      "- - - - - - - - - - - - - STATISTICS ON TRAINING DATASET - - - - - - - - - - - - - - \n",
      "\n",
      "Total number of Green links in training dataset : 384 \n",
      "Total number of links in training dataset : 1536 \n",
      " Number of links predicted correctly: 1152\n",
      " Accuracy of links predicted correctly: 0.75\n",
      " Number of Green predicted correctly: 0\n",
      " Accuracy of Green predicted correctly: 0.0\n",
      "Precision: 0.0\n",
      "false positive:384\n"
     ]
    },
    {
     "data": {
      "application/vnd.jupyter.widget-view+json": {
       "model_id": "be689aa71b104f5291eb6b44c9a739de",
       "version_major": 2,
       "version_minor": 0
      },
      "text/plain": [
       "A Jupyter Widget"
      ]
     },
     "metadata": {},
     "output_type": "display_data"
    },
    {
     "name": "stdout",
     "output_type": "stream",
     "text": [
      "\n",
      "- - - - - - - - - - - - - STATISTICS ON VALIDATION DATASET - - - - - - - - - - - - - - \n",
      "\n",
      "Total number of Green links in training dataset : 126 \n",
      "Total number of links in training dataset : 504 \n",
      " Number of links predicted correctly: 378\n",
      " Accuracy of links predicted correctly: 0.75\n",
      " Number of Green predicted correctly: 0\n",
      " Accuracy of Green predicted correctly: 0.0\n",
      "Precision: 0.0\n",
      "false positive:126\n"
     ]
    },
    {
     "data": {
      "application/vnd.jupyter.widget-view+json": {
       "model_id": "31b29e1c12474231857cf2b53a89fa34",
       "version_major": 2,
       "version_minor": 0
      },
      "text/plain": [
       "A Jupyter Widget"
      ]
     },
     "metadata": {},
     "output_type": "display_data"
    },
    {
     "name": "stdout",
     "output_type": "stream",
     "text": [
      "\n",
      "- - - - - - - - - - - - - STATISTICS ON TO_USE DATASET - - - - - - - - - - - - - - \n",
      "\n",
      "Total number of Green links in training dataset : 381 \n",
      "Total number of links in training dataset : 1524 \n",
      " Number of links predicted correctly: 1143\n",
      " Accuracy of links predicted correctly: 0.75\n",
      " Number of Green predicted correctly: 0\n",
      " Accuracy of Green predicted correctly: 0.0\n",
      "Precision: 0.0\n",
      "false positive:381\n",
      "-------\n",
      "\n",
      "Thresold value : 0.943820224719\n"
     ]
    },
    {
     "data": {
      "application/vnd.jupyter.widget-view+json": {
       "model_id": "a67c240eb301426e99d82d6a58ca7877",
       "version_major": 2,
       "version_minor": 0
      },
      "text/plain": [
       "A Jupyter Widget"
      ]
     },
     "metadata": {},
     "output_type": "display_data"
    },
    {
     "name": "stdout",
     "output_type": "stream",
     "text": [
      "\n",
      "- - - - - - - - - - - - - STATISTICS ON TRAINING DATASET - - - - - - - - - - - - - - \n",
      "\n",
      "Total number of Green links in training dataset : 384 \n",
      "Total number of links in training dataset : 1536 \n",
      " Number of links predicted correctly: 1155\n",
      " Accuracy of links predicted correctly: 0.751953125\n",
      " Number of Green predicted correctly: 3\n",
      " Accuracy of Green predicted correctly: 0.0078125\n",
      "Precision: 0.0078125\n",
      "false positive:381\n"
     ]
    },
    {
     "data": {
      "application/vnd.jupyter.widget-view+json": {
       "model_id": "87d24b47fc5b484ebf671dcb5023b438",
       "version_major": 2,
       "version_minor": 0
      },
      "text/plain": [
       "A Jupyter Widget"
      ]
     },
     "metadata": {},
     "output_type": "display_data"
    },
    {
     "name": "stdout",
     "output_type": "stream",
     "text": [
      "\n",
      "- - - - - - - - - - - - - STATISTICS ON VALIDATION DATASET - - - - - - - - - - - - - - \n",
      "\n",
      "Total number of Green links in training dataset : 126 \n",
      "Total number of links in training dataset : 504 \n",
      " Number of links predicted correctly: 378\n",
      " Accuracy of links predicted correctly: 0.75\n",
      " Number of Green predicted correctly: 0\n",
      " Accuracy of Green predicted correctly: 0.0\n",
      "Precision: 0.0\n",
      "false positive:126\n"
     ]
    },
    {
     "data": {
      "application/vnd.jupyter.widget-view+json": {
       "model_id": "7e9d7646a4994b7bb67afa651587944c",
       "version_major": 2,
       "version_minor": 0
      },
      "text/plain": [
       "A Jupyter Widget"
      ]
     },
     "metadata": {},
     "output_type": "display_data"
    },
    {
     "name": "stdout",
     "output_type": "stream",
     "text": [
      "\n",
      "- - - - - - - - - - - - - STATISTICS ON TO_USE DATASET - - - - - - - - - - - - - - \n",
      "\n",
      "Total number of Green links in training dataset : 381 \n",
      "Total number of links in training dataset : 1524 \n",
      " Number of links predicted correctly: 1143\n",
      " Accuracy of links predicted correctly: 0.75\n",
      " Number of Green predicted correctly: 0\n",
      " Accuracy of Green predicted correctly: 0.0\n",
      "Precision: 0.0\n",
      "false positive:381\n",
      "-------\n",
      "\n",
      "Thresold value : 1.02247191011\n"
     ]
    },
    {
     "data": {
      "application/vnd.jupyter.widget-view+json": {
       "model_id": "06ba47b815eb49caa05c72e049623cb5",
       "version_major": 2,
       "version_minor": 0
      },
      "text/plain": [
       "A Jupyter Widget"
      ]
     },
     "metadata": {},
     "output_type": "display_data"
    },
    {
     "name": "stdout",
     "output_type": "stream",
     "text": [
      "\n",
      "- - - - - - - - - - - - - STATISTICS ON TRAINING DATASET - - - - - - - - - - - - - - \n",
      "\n",
      "Total number of Green links in training dataset : 384 \n",
      "Total number of links in training dataset : 1536 \n",
      " Number of links predicted correctly: 1158\n",
      " Accuracy of links predicted correctly: 0.75390625\n",
      " Number of Green predicted correctly: 6\n",
      " Accuracy of Green predicted correctly: 0.015625\n",
      "Precision: 0.015625\n",
      "false positive:378\n"
     ]
    },
    {
     "data": {
      "application/vnd.jupyter.widget-view+json": {
       "model_id": "762c41e4f38f4e63a4140452b6d059a0",
       "version_major": 2,
       "version_minor": 0
      },
      "text/plain": [
       "A Jupyter Widget"
      ]
     },
     "metadata": {},
     "output_type": "display_data"
    },
    {
     "name": "stdout",
     "output_type": "stream",
     "text": [
      "\n",
      "- - - - - - - - - - - - - STATISTICS ON VALIDATION DATASET - - - - - - - - - - - - - - \n",
      "\n",
      "Total number of Green links in training dataset : 126 \n",
      "Total number of links in training dataset : 504 \n",
      " Number of links predicted correctly: 378\n",
      " Accuracy of links predicted correctly: 0.75\n",
      " Number of Green predicted correctly: 0\n",
      " Accuracy of Green predicted correctly: 0.0\n",
      "Precision: 0.0\n",
      "false positive:126\n"
     ]
    },
    {
     "data": {
      "application/vnd.jupyter.widget-view+json": {
       "model_id": "48b424f5de2a488284c837d283f0152b",
       "version_major": 2,
       "version_minor": 0
      },
      "text/plain": [
       "A Jupyter Widget"
      ]
     },
     "metadata": {},
     "output_type": "display_data"
    },
    {
     "name": "stdout",
     "output_type": "stream",
     "text": [
      "\n",
      "- - - - - - - - - - - - - STATISTICS ON TO_USE DATASET - - - - - - - - - - - - - - \n",
      "\n",
      "Total number of Green links in training dataset : 381 \n",
      "Total number of links in training dataset : 1524 \n",
      " Number of links predicted correctly: 1143\n",
      " Accuracy of links predicted correctly: 0.75\n",
      " Number of Green predicted correctly: 0\n",
      " Accuracy of Green predicted correctly: 0.0\n",
      "Precision: 0.0\n",
      "false positive:381\n",
      "-------\n",
      "\n",
      "Thresold value : 1.10112359551\n"
     ]
    },
    {
     "data": {
      "application/vnd.jupyter.widget-view+json": {
       "model_id": "802a18626e8e4acf84d92714694280f2",
       "version_major": 2,
       "version_minor": 0
      },
      "text/plain": [
       "A Jupyter Widget"
      ]
     },
     "metadata": {},
     "output_type": "display_data"
    },
    {
     "name": "stdout",
     "output_type": "stream",
     "text": [
      "\n",
      "- - - - - - - - - - - - - STATISTICS ON TRAINING DATASET - - - - - - - - - - - - - - \n",
      "\n",
      "Total number of Green links in training dataset : 384 \n",
      "Total number of links in training dataset : 1536 \n",
      " Number of links predicted correctly: 1166\n",
      " Accuracy of links predicted correctly: 0.759114583333\n",
      " Number of Green predicted correctly: 14\n",
      " Accuracy of Green predicted correctly: 0.0364583333333\n",
      "Precision: 0.0364583333333\n",
      "false positive:370\n"
     ]
    },
    {
     "data": {
      "application/vnd.jupyter.widget-view+json": {
       "model_id": "1093fe42f9334bb096255cdbda8b2525",
       "version_major": 2,
       "version_minor": 0
      },
      "text/plain": [
       "A Jupyter Widget"
      ]
     },
     "metadata": {},
     "output_type": "display_data"
    },
    {
     "name": "stdout",
     "output_type": "stream",
     "text": [
      "\n",
      "- - - - - - - - - - - - - STATISTICS ON VALIDATION DATASET - - - - - - - - - - - - - - \n",
      "\n",
      "Total number of Green links in training dataset : 126 \n",
      "Total number of links in training dataset : 504 \n",
      " Number of links predicted correctly: 378\n",
      " Accuracy of links predicted correctly: 0.75\n",
      " Number of Green predicted correctly: 0\n",
      " Accuracy of Green predicted correctly: 0.0\n",
      "Precision: 0.0\n",
      "false positive:126\n"
     ]
    },
    {
     "data": {
      "application/vnd.jupyter.widget-view+json": {
       "model_id": "a32cf3ccb26945bfa62d8e49cc0a1361",
       "version_major": 2,
       "version_minor": 0
      },
      "text/plain": [
       "A Jupyter Widget"
      ]
     },
     "metadata": {},
     "output_type": "display_data"
    },
    {
     "name": "stdout",
     "output_type": "stream",
     "text": [
      "\n",
      "- - - - - - - - - - - - - STATISTICS ON TO_USE DATASET - - - - - - - - - - - - - - \n",
      "\n",
      "Total number of Green links in training dataset : 381 \n",
      "Total number of links in training dataset : 1524 \n",
      " Number of links predicted correctly: 1143\n",
      " Accuracy of links predicted correctly: 0.75\n",
      " Number of Green predicted correctly: 0\n",
      " Accuracy of Green predicted correctly: 0.0\n",
      "Precision: 0.0\n",
      "false positive:381\n",
      "-------\n",
      "\n",
      "Thresold value : 1.1797752809\n"
     ]
    },
    {
     "data": {
      "application/vnd.jupyter.widget-view+json": {
       "model_id": "b890f2c79131411599960f6e7ce91b79",
       "version_major": 2,
       "version_minor": 0
      },
      "text/plain": [
       "A Jupyter Widget"
      ]
     },
     "metadata": {},
     "output_type": "display_data"
    },
    {
     "name": "stdout",
     "output_type": "stream",
     "text": [
      "\n",
      "- - - - - - - - - - - - - STATISTICS ON TRAINING DATASET - - - - - - - - - - - - - - \n",
      "\n",
      "Total number of Green links in training dataset : 384 \n",
      "Total number of links in training dataset : 1536 \n",
      " Number of links predicted correctly: 1190\n",
      " Accuracy of links predicted correctly: 0.774739583333\n",
      " Number of Green predicted correctly: 38\n",
      " Accuracy of Green predicted correctly: 0.0989583333333\n",
      "Precision: 0.0989583333333\n",
      "false positive:346\n"
     ]
    },
    {
     "data": {
      "application/vnd.jupyter.widget-view+json": {
       "model_id": "7f88d6d613f845dbb8b54611ec8c3bb9",
       "version_major": 2,
       "version_minor": 0
      },
      "text/plain": [
       "A Jupyter Widget"
      ]
     },
     "metadata": {},
     "output_type": "display_data"
    },
    {
     "name": "stdout",
     "output_type": "stream",
     "text": [
      "\n",
      "- - - - - - - - - - - - - STATISTICS ON VALIDATION DATASET - - - - - - - - - - - - - - \n",
      "\n",
      "Total number of Green links in training dataset : 126 \n",
      "Total number of links in training dataset : 504 \n",
      " Number of links predicted correctly: 378\n",
      " Accuracy of links predicted correctly: 0.75\n",
      " Number of Green predicted correctly: 0\n",
      " Accuracy of Green predicted correctly: 0.0\n",
      "Precision: 0.0\n",
      "false positive:126\n"
     ]
    },
    {
     "data": {
      "application/vnd.jupyter.widget-view+json": {
       "model_id": "5e3a09633b73422b9e15466021475079",
       "version_major": 2,
       "version_minor": 0
      },
      "text/plain": [
       "A Jupyter Widget"
      ]
     },
     "metadata": {},
     "output_type": "display_data"
    },
    {
     "name": "stdout",
     "output_type": "stream",
     "text": [
      "\n",
      "- - - - - - - - - - - - - STATISTICS ON TO_USE DATASET - - - - - - - - - - - - - - \n",
      "\n",
      "Total number of Green links in training dataset : 381 \n",
      "Total number of links in training dataset : 1524 \n",
      " Number of links predicted correctly: 1144\n",
      " Accuracy of links predicted correctly: 0.750656167979\n",
      " Number of Green predicted correctly: 1\n",
      " Accuracy of Green predicted correctly: 0.00262467191601\n",
      "Precision: 0.00262467191601\n",
      "false positive:380\n",
      "-------\n",
      "\n",
      "Thresold value : 1.25842696629\n"
     ]
    },
    {
     "data": {
      "application/vnd.jupyter.widget-view+json": {
       "model_id": "432d7fde148140718785d7d02bd01ae7",
       "version_major": 2,
       "version_minor": 0
      },
      "text/plain": [
       "A Jupyter Widget"
      ]
     },
     "metadata": {},
     "output_type": "display_data"
    },
    {
     "name": "stdout",
     "output_type": "stream",
     "text": [
      "\n",
      "- - - - - - - - - - - - - STATISTICS ON TRAINING DATASET - - - - - - - - - - - - - - \n",
      "\n",
      "Total number of Green links in training dataset : 384 \n",
      "Total number of links in training dataset : 1536 \n",
      " Number of links predicted correctly: 1224\n",
      " Accuracy of links predicted correctly: 0.796875\n",
      " Number of Green predicted correctly: 72\n",
      " Accuracy of Green predicted correctly: 0.1875\n",
      "Precision: 0.1875\n",
      "false positive:312\n"
     ]
    },
    {
     "data": {
      "application/vnd.jupyter.widget-view+json": {
       "model_id": "62b366670c3749e4b46d3abc4d54d0c3",
       "version_major": 2,
       "version_minor": 0
      },
      "text/plain": [
       "A Jupyter Widget"
      ]
     },
     "metadata": {},
     "output_type": "display_data"
    },
    {
     "name": "stdout",
     "output_type": "stream",
     "text": [
      "\n",
      "- - - - - - - - - - - - - STATISTICS ON VALIDATION DATASET - - - - - - - - - - - - - - \n",
      "\n",
      "Total number of Green links in training dataset : 126 \n",
      "Total number of links in training dataset : 504 \n",
      " Number of links predicted correctly: 378\n",
      " Accuracy of links predicted correctly: 0.75\n",
      " Number of Green predicted correctly: 0\n",
      " Accuracy of Green predicted correctly: 0.0\n",
      "Precision: 0.0\n",
      "false positive:126\n"
     ]
    },
    {
     "data": {
      "application/vnd.jupyter.widget-view+json": {
       "model_id": "ef19a1124c2f4abb9f8c0b255e49c9f9",
       "version_major": 2,
       "version_minor": 0
      },
      "text/plain": [
       "A Jupyter Widget"
      ]
     },
     "metadata": {},
     "output_type": "display_data"
    },
    {
     "name": "stdout",
     "output_type": "stream",
     "text": [
      "\n",
      "- - - - - - - - - - - - - STATISTICS ON TO_USE DATASET - - - - - - - - - - - - - - \n",
      "\n",
      "Total number of Green links in training dataset : 381 \n",
      "Total number of links in training dataset : 1524 \n",
      " Number of links predicted correctly: 1146\n",
      " Accuracy of links predicted correctly: 0.751968503937\n",
      " Number of Green predicted correctly: 3\n",
      " Accuracy of Green predicted correctly: 0.00787401574803\n",
      "Precision: 0.00787401574803\n",
      "false positive:378\n",
      "-------\n",
      "\n",
      "Thresold value : 1.33707865169\n"
     ]
    },
    {
     "data": {
      "application/vnd.jupyter.widget-view+json": {
       "model_id": "b6241be0778a494cb0c6e1d7b91f8a2f",
       "version_major": 2,
       "version_minor": 0
      },
      "text/plain": [
       "A Jupyter Widget"
      ]
     },
     "metadata": {},
     "output_type": "display_data"
    },
    {
     "name": "stdout",
     "output_type": "stream",
     "text": [
      "\n",
      "- - - - - - - - - - - - - STATISTICS ON TRAINING DATASET - - - - - - - - - - - - - - \n",
      "\n",
      "Total number of Green links in training dataset : 384 \n",
      "Total number of links in training dataset : 1536 \n",
      " Number of links predicted correctly: 1260\n",
      " Accuracy of links predicted correctly: 0.8203125\n",
      " Number of Green predicted correctly: 108\n",
      " Accuracy of Green predicted correctly: 0.28125\n",
      "Precision: 0.28125\n",
      "false positive:276\n"
     ]
    },
    {
     "data": {
      "application/vnd.jupyter.widget-view+json": {
       "model_id": "1953c3358e154fcfac1ead0751a328fb",
       "version_major": 2,
       "version_minor": 0
      },
      "text/plain": [
       "A Jupyter Widget"
      ]
     },
     "metadata": {},
     "output_type": "display_data"
    },
    {
     "name": "stdout",
     "output_type": "stream",
     "text": [
      "\n",
      "- - - - - - - - - - - - - STATISTICS ON VALIDATION DATASET - - - - - - - - - - - - - - \n",
      "\n",
      "Total number of Green links in training dataset : 126 \n",
      "Total number of links in training dataset : 504 \n",
      " Number of links predicted correctly: 378\n",
      " Accuracy of links predicted correctly: 0.75\n",
      " Number of Green predicted correctly: 0\n",
      " Accuracy of Green predicted correctly: 0.0\n",
      "Precision: 0.0\n",
      "false positive:126\n"
     ]
    },
    {
     "data": {
      "application/vnd.jupyter.widget-view+json": {
       "model_id": "283f4b7063174991a1e773a4e0034453",
       "version_major": 2,
       "version_minor": 0
      },
      "text/plain": [
       "A Jupyter Widget"
      ]
     },
     "metadata": {},
     "output_type": "display_data"
    },
    {
     "name": "stdout",
     "output_type": "stream",
     "text": [
      "\n",
      "- - - - - - - - - - - - - STATISTICS ON TO_USE DATASET - - - - - - - - - - - - - - \n",
      "\n",
      "Total number of Green links in training dataset : 381 \n",
      "Total number of links in training dataset : 1524 \n",
      " Number of links predicted correctly: 1148\n",
      " Accuracy of links predicted correctly: 0.753280839895\n",
      " Number of Green predicted correctly: 5\n",
      " Accuracy of Green predicted correctly: 0.0131233595801\n",
      "Precision: 0.0131233595801\n",
      "false positive:376\n",
      "-------\n",
      "\n",
      "Thresold value : 1.41573033708\n"
     ]
    },
    {
     "data": {
      "application/vnd.jupyter.widget-view+json": {
       "model_id": "f4dcbe24f75642f197e0265977afe348",
       "version_major": 2,
       "version_minor": 0
      },
      "text/plain": [
       "A Jupyter Widget"
      ]
     },
     "metadata": {},
     "output_type": "display_data"
    },
    {
     "name": "stdout",
     "output_type": "stream",
     "text": [
      "\n",
      "- - - - - - - - - - - - - STATISTICS ON TRAINING DATASET - - - - - - - - - - - - - - \n",
      "\n",
      "Total number of Green links in training dataset : 384 \n",
      "Total number of links in training dataset : 1536 \n",
      " Number of links predicted correctly: 1301\n",
      " Accuracy of links predicted correctly: 0.847005208333\n",
      " Number of Green predicted correctly: 149\n",
      " Accuracy of Green predicted correctly: 0.388020833333\n",
      "Precision: 0.388020833333\n",
      "false positive:235\n"
     ]
    },
    {
     "data": {
      "application/vnd.jupyter.widget-view+json": {
       "model_id": "7fbe0d90cec945ba97f05ead922c0b8c",
       "version_major": 2,
       "version_minor": 0
      },
      "text/plain": [
       "A Jupyter Widget"
      ]
     },
     "metadata": {},
     "output_type": "display_data"
    },
    {
     "name": "stdout",
     "output_type": "stream",
     "text": [
      "\n",
      "- - - - - - - - - - - - - STATISTICS ON VALIDATION DATASET - - - - - - - - - - - - - - \n",
      "\n",
      "Total number of Green links in training dataset : 126 \n",
      "Total number of links in training dataset : 504 \n",
      " Number of links predicted correctly: 380\n",
      " Accuracy of links predicted correctly: 0.753968253968\n",
      " Number of Green predicted correctly: 2\n",
      " Accuracy of Green predicted correctly: 0.015873015873\n",
      "Precision: 0.015873015873\n",
      "false positive:124\n"
     ]
    },
    {
     "data": {
      "application/vnd.jupyter.widget-view+json": {
       "model_id": "06a56e58566640e8b88b697c9c04af5b",
       "version_major": 2,
       "version_minor": 0
      },
      "text/plain": [
       "A Jupyter Widget"
      ]
     },
     "metadata": {},
     "output_type": "display_data"
    },
    {
     "name": "stdout",
     "output_type": "stream",
     "text": [
      "\n",
      "- - - - - - - - - - - - - STATISTICS ON TO_USE DATASET - - - - - - - - - - - - - - \n",
      "\n",
      "Total number of Green links in training dataset : 381 \n",
      "Total number of links in training dataset : 1524 \n",
      " Number of links predicted correctly: 1155\n",
      " Accuracy of links predicted correctly: 0.757874015748\n",
      " Number of Green predicted correctly: 12\n",
      " Accuracy of Green predicted correctly: 0.0314960629921\n",
      "Precision: 0.0314960629921\n",
      "false positive:369\n",
      "-------\n",
      "\n",
      "Thresold value : 1.49438202247\n"
     ]
    },
    {
     "data": {
      "application/vnd.jupyter.widget-view+json": {
       "model_id": "5f059434541841f2a9467b8039e3eefb",
       "version_major": 2,
       "version_minor": 0
      },
      "text/plain": [
       "A Jupyter Widget"
      ]
     },
     "metadata": {},
     "output_type": "display_data"
    },
    {
     "name": "stdout",
     "output_type": "stream",
     "text": [
      "\n",
      "- - - - - - - - - - - - - STATISTICS ON TRAINING DATASET - - - - - - - - - - - - - - \n",
      "\n",
      "Total number of Green links in training dataset : 384 \n",
      "Total number of links in training dataset : 1536 \n",
      " Number of links predicted correctly: 1342\n",
      " Accuracy of links predicted correctly: 0.873697916667\n",
      " Number of Green predicted correctly: 190\n",
      " Accuracy of Green predicted correctly: 0.494791666667\n",
      "Precision: 0.494791666667\n",
      "false positive:194\n"
     ]
    },
    {
     "data": {
      "application/vnd.jupyter.widget-view+json": {
       "model_id": "512ebbb99b5549b6b7d1a7ca7d5bb96d",
       "version_major": 2,
       "version_minor": 0
      },
      "text/plain": [
       "A Jupyter Widget"
      ]
     },
     "metadata": {},
     "output_type": "display_data"
    },
    {
     "name": "stdout",
     "output_type": "stream",
     "text": [
      "\n",
      "- - - - - - - - - - - - - STATISTICS ON VALIDATION DATASET - - - - - - - - - - - - - - \n",
      "\n",
      "Total number of Green links in training dataset : 126 \n",
      "Total number of links in training dataset : 504 \n",
      " Number of links predicted correctly: 381\n",
      " Accuracy of links predicted correctly: 0.755952380952\n",
      " Number of Green predicted correctly: 3\n",
      " Accuracy of Green predicted correctly: 0.0238095238095\n",
      "Precision: 0.0238095238095\n",
      "false positive:123\n"
     ]
    },
    {
     "data": {
      "application/vnd.jupyter.widget-view+json": {
       "model_id": "7228c324995b4ec3a48fa8c334d1880a",
       "version_major": 2,
       "version_minor": 0
      },
      "text/plain": [
       "A Jupyter Widget"
      ]
     },
     "metadata": {},
     "output_type": "display_data"
    },
    {
     "name": "stdout",
     "output_type": "stream",
     "text": [
      "\n",
      "- - - - - - - - - - - - - STATISTICS ON TO_USE DATASET - - - - - - - - - - - - - - \n",
      "\n",
      "Total number of Green links in training dataset : 381 \n",
      "Total number of links in training dataset : 1524 \n",
      " Number of links predicted correctly: 1156\n",
      " Accuracy of links predicted correctly: 0.758530183727\n",
      " Number of Green predicted correctly: 14\n",
      " Accuracy of Green predicted correctly: 0.0367454068241\n",
      "Precision: 0.0367454068241\n",
      "false positive:367\n",
      "-------\n",
      "\n",
      "Thresold value : 1.57303370787\n"
     ]
    },
    {
     "data": {
      "application/vnd.jupyter.widget-view+json": {
       "model_id": "a5d11d0874a841109da9db9ed6cf8512",
       "version_major": 2,
       "version_minor": 0
      },
      "text/plain": [
       "A Jupyter Widget"
      ]
     },
     "metadata": {},
     "output_type": "display_data"
    },
    {
     "name": "stdout",
     "output_type": "stream",
     "text": [
      "\n",
      "- - - - - - - - - - - - - STATISTICS ON TRAINING DATASET - - - - - - - - - - - - - - \n",
      "\n",
      "Total number of Green links in training dataset : 384 \n",
      "Total number of links in training dataset : 1536 \n",
      " Number of links predicted correctly: 1388\n",
      " Accuracy of links predicted correctly: 0.903645833333\n",
      " Number of Green predicted correctly: 236\n",
      " Accuracy of Green predicted correctly: 0.614583333333\n",
      "Precision: 0.614583333333\n",
      "false positive:148\n"
     ]
    },
    {
     "data": {
      "application/vnd.jupyter.widget-view+json": {
       "model_id": "245a45fb46a04c03a1a2222a59c8b4b8",
       "version_major": 2,
       "version_minor": 0
      },
      "text/plain": [
       "A Jupyter Widget"
      ]
     },
     "metadata": {},
     "output_type": "display_data"
    },
    {
     "name": "stdout",
     "output_type": "stream",
     "text": [
      "\n",
      "- - - - - - - - - - - - - STATISTICS ON VALIDATION DATASET - - - - - - - - - - - - - - \n",
      "\n",
      "Total number of Green links in training dataset : 126 \n",
      "Total number of links in training dataset : 504 \n",
      " Number of links predicted correctly: 381\n",
      " Accuracy of links predicted correctly: 0.755952380952\n",
      " Number of Green predicted correctly: 3\n",
      " Accuracy of Green predicted correctly: 0.0238095238095\n",
      "Precision: 0.0238095238095\n",
      "false positive:123\n"
     ]
    },
    {
     "data": {
      "application/vnd.jupyter.widget-view+json": {
       "model_id": "727c2e3ffe684a8d9d2b8bad80bd245f",
       "version_major": 2,
       "version_minor": 0
      },
      "text/plain": [
       "A Jupyter Widget"
      ]
     },
     "metadata": {},
     "output_type": "display_data"
    },
    {
     "name": "stdout",
     "output_type": "stream",
     "text": [
      "\n",
      "- - - - - - - - - - - - - STATISTICS ON TO_USE DATASET - - - - - - - - - - - - - - \n",
      "\n",
      "Total number of Green links in training dataset : 381 \n",
      "Total number of links in training dataset : 1524 \n",
      " Number of links predicted correctly: 1165\n",
      " Accuracy of links predicted correctly: 0.764435695538\n",
      " Number of Green predicted correctly: 23\n",
      " Accuracy of Green predicted correctly: 0.0603674540682\n",
      "Precision: 0.0603674540682\n",
      "false positive:358\n",
      "-------\n",
      "\n",
      "Thresold value : 1.65168539326\n"
     ]
    },
    {
     "data": {
      "application/vnd.jupyter.widget-view+json": {
       "model_id": "97f903e99cdd4eb4a072e64fdcd29743",
       "version_major": 2,
       "version_minor": 0
      },
      "text/plain": [
       "A Jupyter Widget"
      ]
     },
     "metadata": {},
     "output_type": "display_data"
    },
    {
     "name": "stdout",
     "output_type": "stream",
     "text": [
      "\n",
      "- - - - - - - - - - - - - STATISTICS ON TRAINING DATASET - - - - - - - - - - - - - - \n",
      "\n",
      "Total number of Green links in training dataset : 384 \n",
      "Total number of links in training dataset : 1536 \n",
      " Number of links predicted correctly: 1434\n",
      " Accuracy of links predicted correctly: 0.93359375\n",
      " Number of Green predicted correctly: 282\n",
      " Accuracy of Green predicted correctly: 0.734375\n",
      "Precision: 0.734375\n",
      "false positive:102\n"
     ]
    },
    {
     "data": {
      "application/vnd.jupyter.widget-view+json": {
       "model_id": "da32408d7c77487ab8f2af41ab25c3c2",
       "version_major": 2,
       "version_minor": 0
      },
      "text/plain": [
       "A Jupyter Widget"
      ]
     },
     "metadata": {},
     "output_type": "display_data"
    },
    {
     "name": "stdout",
     "output_type": "stream",
     "text": [
      "\n",
      "- - - - - - - - - - - - - STATISTICS ON VALIDATION DATASET - - - - - - - - - - - - - - \n",
      "\n",
      "Total number of Green links in training dataset : 126 \n",
      "Total number of links in training dataset : 504 \n",
      " Number of links predicted correctly: 388\n",
      " Accuracy of links predicted correctly: 0.769841269841\n",
      " Number of Green predicted correctly: 10\n",
      " Accuracy of Green predicted correctly: 0.0793650793651\n",
      "Precision: 0.0793650793651\n",
      "false positive:116\n"
     ]
    },
    {
     "data": {
      "application/vnd.jupyter.widget-view+json": {
       "model_id": "f46238cfe2b641019151cda479f10884",
       "version_major": 2,
       "version_minor": 0
      },
      "text/plain": [
       "A Jupyter Widget"
      ]
     },
     "metadata": {},
     "output_type": "display_data"
    },
    {
     "name": "stdout",
     "output_type": "stream",
     "text": [
      "\n",
      "- - - - - - - - - - - - - STATISTICS ON TO_USE DATASET - - - - - - - - - - - - - - \n",
      "\n",
      "Total number of Green links in training dataset : 381 \n",
      "Total number of links in training dataset : 1524 \n",
      " Number of links predicted correctly: 1175\n",
      " Accuracy of links predicted correctly: 0.770997375328\n",
      " Number of Green predicted correctly: 33\n",
      " Accuracy of Green predicted correctly: 0.0866141732283\n",
      "Precision: 0.0866141732283\n",
      "false positive:348\n",
      "-------\n",
      "\n",
      "Thresold value : 1.73033707865\n"
     ]
    },
    {
     "data": {
      "application/vnd.jupyter.widget-view+json": {
       "model_id": "2c1ce8e8e8824d24af194aad4f9e1e70",
       "version_major": 2,
       "version_minor": 0
      },
      "text/plain": [
       "A Jupyter Widget"
      ]
     },
     "metadata": {},
     "output_type": "display_data"
    },
    {
     "name": "stdout",
     "output_type": "stream",
     "text": [
      "\n",
      "- - - - - - - - - - - - - STATISTICS ON TRAINING DATASET - - - - - - - - - - - - - - \n",
      "\n",
      "Total number of Green links in training dataset : 384 \n",
      "Total number of links in training dataset : 1536 \n",
      " Number of links predicted correctly: 1468\n",
      " Accuracy of links predicted correctly: 0.955729166667\n",
      " Number of Green predicted correctly: 316\n",
      " Accuracy of Green predicted correctly: 0.822916666667\n",
      "Precision: 0.822916666667\n",
      "false positive:68\n"
     ]
    },
    {
     "data": {
      "application/vnd.jupyter.widget-view+json": {
       "model_id": "eda77042d7a44ecb8700d2f73991e849",
       "version_major": 2,
       "version_minor": 0
      },
      "text/plain": [
       "A Jupyter Widget"
      ]
     },
     "metadata": {},
     "output_type": "display_data"
    },
    {
     "name": "stdout",
     "output_type": "stream",
     "text": [
      "\n",
      "- - - - - - - - - - - - - STATISTICS ON VALIDATION DATASET - - - - - - - - - - - - - - \n",
      "\n",
      "Total number of Green links in training dataset : 126 \n",
      "Total number of links in training dataset : 504 \n",
      " Number of links predicted correctly: 397\n",
      " Accuracy of links predicted correctly: 0.787698412698\n",
      " Number of Green predicted correctly: 19\n",
      " Accuracy of Green predicted correctly: 0.150793650794\n",
      "Precision: 0.150793650794\n",
      "false positive:107\n"
     ]
    },
    {
     "data": {
      "application/vnd.jupyter.widget-view+json": {
       "model_id": "fcdc8d963a0f44f686855b0d758d5058",
       "version_major": 2,
       "version_minor": 0
      },
      "text/plain": [
       "A Jupyter Widget"
      ]
     },
     "metadata": {},
     "output_type": "display_data"
    },
    {
     "name": "stdout",
     "output_type": "stream",
     "text": [
      "\n",
      "- - - - - - - - - - - - - STATISTICS ON TO_USE DATASET - - - - - - - - - - - - - - \n",
      "\n",
      "Total number of Green links in training dataset : 381 \n",
      "Total number of links in training dataset : 1524 \n",
      " Number of links predicted correctly: 1196\n",
      " Accuracy of links predicted correctly: 0.784776902887\n",
      " Number of Green predicted correctly: 55\n",
      " Accuracy of Green predicted correctly: 0.144356955381\n",
      "Precision: 0.144356955381\n",
      "false positive:326\n",
      "-------\n",
      "\n",
      "Thresold value : 1.80898876404\n"
     ]
    },
    {
     "data": {
      "application/vnd.jupyter.widget-view+json": {
       "model_id": "3047570924df41e2b95274262813ed80",
       "version_major": 2,
       "version_minor": 0
      },
      "text/plain": [
       "A Jupyter Widget"
      ]
     },
     "metadata": {},
     "output_type": "display_data"
    },
    {
     "name": "stdout",
     "output_type": "stream",
     "text": [
      "\n",
      "- - - - - - - - - - - - - STATISTICS ON TRAINING DATASET - - - - - - - - - - - - - - \n",
      "\n",
      "Total number of Green links in training dataset : 384 \n",
      "Total number of links in training dataset : 1536 \n",
      " Number of links predicted correctly: 1501\n",
      " Accuracy of links predicted correctly: 0.977213541667\n",
      " Number of Green predicted correctly: 349\n",
      " Accuracy of Green predicted correctly: 0.908854166667\n",
      "Precision: 0.908854166667\n",
      "false positive:35\n"
     ]
    },
    {
     "data": {
      "application/vnd.jupyter.widget-view+json": {
       "model_id": "9f28e7f3d1ba4c479bcc526bc2288f62",
       "version_major": 2,
       "version_minor": 0
      },
      "text/plain": [
       "A Jupyter Widget"
      ]
     },
     "metadata": {},
     "output_type": "display_data"
    },
    {
     "name": "stdout",
     "output_type": "stream",
     "text": [
      "\n",
      "- - - - - - - - - - - - - STATISTICS ON VALIDATION DATASET - - - - - - - - - - - - - - \n",
      "\n",
      "Total number of Green links in training dataset : 126 \n",
      "Total number of links in training dataset : 504 \n",
      " Number of links predicted correctly: 407\n",
      " Accuracy of links predicted correctly: 0.80753968254\n",
      " Number of Green predicted correctly: 29\n",
      " Accuracy of Green predicted correctly: 0.230158730159\n",
      "Precision: 0.230158730159\n",
      "false positive:97\n"
     ]
    },
    {
     "data": {
      "application/vnd.jupyter.widget-view+json": {
       "model_id": "3c29b433009b4f6e9c6a69f3d72f2cb8",
       "version_major": 2,
       "version_minor": 0
      },
      "text/plain": [
       "A Jupyter Widget"
      ]
     },
     "metadata": {},
     "output_type": "display_data"
    },
    {
     "name": "stdout",
     "output_type": "stream",
     "text": [
      "\n",
      "- - - - - - - - - - - - - STATISTICS ON TO_USE DATASET - - - - - - - - - - - - - - \n",
      "\n",
      "Total number of Green links in training dataset : 381 \n",
      "Total number of links in training dataset : 1524 \n",
      " Number of links predicted correctly: 1214\n",
      " Accuracy of links predicted correctly: 0.796587926509\n",
      " Number of Green predicted correctly: 76\n",
      " Accuracy of Green predicted correctly: 0.199475065617\n",
      "Precision: 0.199475065617\n",
      "false positive:305\n",
      "-------\n",
      "\n",
      "Thresold value : 1.88764044944\n"
     ]
    },
    {
     "data": {
      "application/vnd.jupyter.widget-view+json": {
       "model_id": "40b77b16c7ec40adb14d0bed44317729",
       "version_major": 2,
       "version_minor": 0
      },
      "text/plain": [
       "A Jupyter Widget"
      ]
     },
     "metadata": {},
     "output_type": "display_data"
    },
    {
     "name": "stdout",
     "output_type": "stream",
     "text": [
      "\n",
      "- - - - - - - - - - - - - STATISTICS ON TRAINING DATASET - - - - - - - - - - - - - - \n",
      "\n",
      "Total number of Green links in training dataset : 384 \n",
      "Total number of links in training dataset : 1536 \n",
      " Number of links predicted correctly: 1523\n",
      " Accuracy of links predicted correctly: 0.991536458333\n",
      " Number of Green predicted correctly: 371\n",
      " Accuracy of Green predicted correctly: 0.966145833333\n",
      "Precision: 0.966145833333\n",
      "false positive:13\n"
     ]
    },
    {
     "data": {
      "application/vnd.jupyter.widget-view+json": {
       "model_id": "5afa00f142774101b8d3546744680e2c",
       "version_major": 2,
       "version_minor": 0
      },
      "text/plain": [
       "A Jupyter Widget"
      ]
     },
     "metadata": {},
     "output_type": "display_data"
    },
    {
     "name": "stdout",
     "output_type": "stream",
     "text": [
      "\n",
      "- - - - - - - - - - - - - STATISTICS ON VALIDATION DATASET - - - - - - - - - - - - - - \n",
      "\n",
      "Total number of Green links in training dataset : 126 \n",
      "Total number of links in training dataset : 504 \n",
      " Number of links predicted correctly: 413\n",
      " Accuracy of links predicted correctly: 0.819444444444\n",
      " Number of Green predicted correctly: 35\n",
      " Accuracy of Green predicted correctly: 0.277777777778\n",
      "Precision: 0.277777777778\n",
      "false positive:91\n"
     ]
    },
    {
     "data": {
      "application/vnd.jupyter.widget-view+json": {
       "model_id": "6f9bbccbddc64e5896ab97528f5f55ea",
       "version_major": 2,
       "version_minor": 0
      },
      "text/plain": [
       "A Jupyter Widget"
      ]
     },
     "metadata": {},
     "output_type": "display_data"
    },
    {
     "name": "stdout",
     "output_type": "stream",
     "text": [
      "\n",
      "- - - - - - - - - - - - - STATISTICS ON TO_USE DATASET - - - - - - - - - - - - - - \n",
      "\n",
      "Total number of Green links in training dataset : 381 \n",
      "Total number of links in training dataset : 1524 \n",
      " Number of links predicted correctly: 1236\n",
      " Accuracy of links predicted correctly: 0.811023622047\n",
      " Number of Green predicted correctly: 100\n",
      " Accuracy of Green predicted correctly: 0.262467191601\n",
      "Precision: 0.262467191601\n",
      "false positive:281\n",
      "-------\n",
      "\n",
      "Thresold value : 1.96629213483\n"
     ]
    },
    {
     "data": {
      "application/vnd.jupyter.widget-view+json": {
       "model_id": "c599498cbabd4f7b861ce0d97ad98caa",
       "version_major": 2,
       "version_minor": 0
      },
      "text/plain": [
       "A Jupyter Widget"
      ]
     },
     "metadata": {},
     "output_type": "display_data"
    },
    {
     "name": "stdout",
     "output_type": "stream",
     "text": [
      "\n",
      "- - - - - - - - - - - - - STATISTICS ON TRAINING DATASET - - - - - - - - - - - - - - \n",
      "\n",
      "Total number of Green links in training dataset : 384 \n",
      "Total number of links in training dataset : 1536 \n",
      " Number of links predicted correctly: 1528\n",
      " Accuracy of links predicted correctly: 0.994791666667\n",
      " Number of Green predicted correctly: 377\n",
      " Accuracy of Green predicted correctly: 0.981770833333\n",
      "Precision: 0.981770833333\n",
      "false positive:7\n"
     ]
    },
    {
     "data": {
      "application/vnd.jupyter.widget-view+json": {
       "model_id": "b4fa0fd9a7f6442f9654c43481ed7804",
       "version_major": 2,
       "version_minor": 0
      },
      "text/plain": [
       "A Jupyter Widget"
      ]
     },
     "metadata": {},
     "output_type": "display_data"
    },
    {
     "name": "stdout",
     "output_type": "stream",
     "text": [
      "\n",
      "- - - - - - - - - - - - - STATISTICS ON VALIDATION DATASET - - - - - - - - - - - - - - \n",
      "\n",
      "Total number of Green links in training dataset : 126 \n",
      "Total number of links in training dataset : 504 \n",
      " Number of links predicted correctly: 418\n",
      " Accuracy of links predicted correctly: 0.829365079365\n",
      " Number of Green predicted correctly: 41\n",
      " Accuracy of Green predicted correctly: 0.325396825397\n",
      "Precision: 0.325396825397\n",
      "false positive:85\n"
     ]
    },
    {
     "data": {
      "application/vnd.jupyter.widget-view+json": {
       "model_id": "7a581f16a9da4a4fba6e99863dee6a38",
       "version_major": 2,
       "version_minor": 0
      },
      "text/plain": [
       "A Jupyter Widget"
      ]
     },
     "metadata": {},
     "output_type": "display_data"
    },
    {
     "name": "stdout",
     "output_type": "stream",
     "text": [
      "\n",
      "- - - - - - - - - - - - - STATISTICS ON TO_USE DATASET - - - - - - - - - - - - - - \n",
      "\n",
      "Total number of Green links in training dataset : 381 \n",
      "Total number of links in training dataset : 1524 \n",
      " Number of links predicted correctly: 1254\n",
      " Accuracy of links predicted correctly: 0.822834645669\n",
      " Number of Green predicted correctly: 127\n",
      " Accuracy of Green predicted correctly: 0.333333333333\n",
      "Precision: 0.333333333333\n",
      "false positive:254\n",
      "-------\n",
      "\n",
      "Thresold value : 2.04494382022\n"
     ]
    },
    {
     "data": {
      "application/vnd.jupyter.widget-view+json": {
       "model_id": "96b5fd54ba0c436faa38f5c5a6a68d53",
       "version_major": 2,
       "version_minor": 0
      },
      "text/plain": [
       "A Jupyter Widget"
      ]
     },
     "metadata": {},
     "output_type": "display_data"
    },
    {
     "name": "stdout",
     "output_type": "stream",
     "text": [
      "\n",
      "- - - - - - - - - - - - - STATISTICS ON TRAINING DATASET - - - - - - - - - - - - - - \n",
      "\n",
      "Total number of Green links in training dataset : 384 \n",
      "Total number of links in training dataset : 1536 \n",
      " Number of links predicted correctly: 1533\n",
      " Accuracy of links predicted correctly: 0.998046875\n",
      " Number of Green predicted correctly: 382\n",
      " Accuracy of Green predicted correctly: 0.994791666667\n",
      "Precision: 0.994791666667\n",
      "false positive:2\n"
     ]
    },
    {
     "data": {
      "application/vnd.jupyter.widget-view+json": {
       "model_id": "425f0c48150241b59c8e034b4ae12114",
       "version_major": 2,
       "version_minor": 0
      },
      "text/plain": [
       "A Jupyter Widget"
      ]
     },
     "metadata": {},
     "output_type": "display_data"
    },
    {
     "name": "stdout",
     "output_type": "stream",
     "text": [
      "\n",
      "- - - - - - - - - - - - - STATISTICS ON VALIDATION DATASET - - - - - - - - - - - - - - \n",
      "\n",
      "Total number of Green links in training dataset : 126 \n",
      "Total number of links in training dataset : 504 \n",
      " Number of links predicted correctly: 426\n",
      " Accuracy of links predicted correctly: 0.845238095238\n",
      " Number of Green predicted correctly: 50\n",
      " Accuracy of Green predicted correctly: 0.396825396825\n",
      "Precision: 0.396825396825\n",
      "false positive:76\n"
     ]
    },
    {
     "data": {
      "application/vnd.jupyter.widget-view+json": {
       "model_id": "705eefb837e14bbaa04722ce4f069f1d",
       "version_major": 2,
       "version_minor": 0
      },
      "text/plain": [
       "A Jupyter Widget"
      ]
     },
     "metadata": {},
     "output_type": "display_data"
    },
    {
     "name": "stdout",
     "output_type": "stream",
     "text": [
      "\n",
      "- - - - - - - - - - - - - STATISTICS ON TO_USE DATASET - - - - - - - - - - - - - - \n",
      "\n",
      "Total number of Green links in training dataset : 381 \n",
      "Total number of links in training dataset : 1524 \n",
      " Number of links predicted correctly: 1272\n",
      " Accuracy of links predicted correctly: 0.834645669291\n",
      " Number of Green predicted correctly: 150\n",
      " Accuracy of Green predicted correctly: 0.393700787402\n",
      "Precision: 0.393700787402\n",
      "false positive:231\n",
      "-------\n",
      "\n",
      "Thresold value : 2.12359550562\n"
     ]
    },
    {
     "data": {
      "application/vnd.jupyter.widget-view+json": {
       "model_id": "6fe10a886bce4611b76b1cf489202563",
       "version_major": 2,
       "version_minor": 0
      },
      "text/plain": [
       "A Jupyter Widget"
      ]
     },
     "metadata": {},
     "output_type": "display_data"
    },
    {
     "name": "stdout",
     "output_type": "stream",
     "text": [
      "\n",
      "- - - - - - - - - - - - - STATISTICS ON TRAINING DATASET - - - - - - - - - - - - - - \n",
      "\n",
      "Total number of Green links in training dataset : 384 \n",
      "Total number of links in training dataset : 1536 \n",
      " Number of links predicted correctly: 1533\n",
      " Accuracy of links predicted correctly: 0.998046875\n",
      " Number of Green predicted correctly: 384\n",
      " Accuracy of Green predicted correctly: 1.0\n",
      "Precision: 1.0\n",
      "false positive:0\n"
     ]
    },
    {
     "data": {
      "application/vnd.jupyter.widget-view+json": {
       "model_id": "67c16e3941a7441b9178317f3423e884",
       "version_major": 2,
       "version_minor": 0
      },
      "text/plain": [
       "A Jupyter Widget"
      ]
     },
     "metadata": {},
     "output_type": "display_data"
    },
    {
     "name": "stdout",
     "output_type": "stream",
     "text": [
      "\n",
      "- - - - - - - - - - - - - STATISTICS ON VALIDATION DATASET - - - - - - - - - - - - - - \n",
      "\n",
      "Total number of Green links in training dataset : 126 \n",
      "Total number of links in training dataset : 504 \n",
      " Number of links predicted correctly: 435\n",
      " Accuracy of links predicted correctly: 0.863095238095\n",
      " Number of Green predicted correctly: 60\n",
      " Accuracy of Green predicted correctly: 0.47619047619\n",
      "Precision: 0.47619047619\n",
      "false positive:66\n"
     ]
    },
    {
     "data": {
      "application/vnd.jupyter.widget-view+json": {
       "model_id": "eace9428f3ee4ca28c12a0bc107d9268",
       "version_major": 2,
       "version_minor": 0
      },
      "text/plain": [
       "A Jupyter Widget"
      ]
     },
     "metadata": {},
     "output_type": "display_data"
    },
    {
     "name": "stdout",
     "output_type": "stream",
     "text": [
      "\n",
      "- - - - - - - - - - - - - STATISTICS ON TO_USE DATASET - - - - - - - - - - - - - - \n",
      "\n",
      "Total number of Green links in training dataset : 381 \n",
      "Total number of links in training dataset : 1524 \n",
      " Number of links predicted correctly: 1291\n",
      " Accuracy of links predicted correctly: 0.847112860892\n",
      " Number of Green predicted correctly: 172\n",
      " Accuracy of Green predicted correctly: 0.451443569554\n",
      "Precision: 0.451443569554\n",
      "false positive:209\n",
      "-------\n",
      "\n",
      "Thresold value : 2.20224719101\n"
     ]
    },
    {
     "data": {
      "application/vnd.jupyter.widget-view+json": {
       "model_id": "a99b0e9e02794bf9929964fac0edea44",
       "version_major": 2,
       "version_minor": 0
      },
      "text/plain": [
       "A Jupyter Widget"
      ]
     },
     "metadata": {},
     "output_type": "display_data"
    },
    {
     "name": "stdout",
     "output_type": "stream",
     "text": [
      "\n",
      "- - - - - - - - - - - - - STATISTICS ON TRAINING DATASET - - - - - - - - - - - - - - \n",
      "\n",
      "Total number of Green links in training dataset : 384 \n",
      "Total number of links in training dataset : 1536 \n",
      " Number of links predicted correctly: 1528\n",
      " Accuracy of links predicted correctly: 0.994791666667\n",
      " Number of Green predicted correctly: 384\n",
      " Accuracy of Green predicted correctly: 1.0\n",
      "Precision: 1.0\n",
      "false positive:0\n"
     ]
    },
    {
     "data": {
      "application/vnd.jupyter.widget-view+json": {
       "model_id": "4a85fd86bf914ff4b1602078857e7ccd",
       "version_major": 2,
       "version_minor": 0
      },
      "text/plain": [
       "A Jupyter Widget"
      ]
     },
     "metadata": {},
     "output_type": "display_data"
    },
    {
     "name": "stdout",
     "output_type": "stream",
     "text": [
      "\n",
      "- - - - - - - - - - - - - STATISTICS ON VALIDATION DATASET - - - - - - - - - - - - - - \n",
      "\n",
      "Total number of Green links in training dataset : 126 \n",
      "Total number of links in training dataset : 504 \n",
      " Number of links predicted correctly: 438\n",
      " Accuracy of links predicted correctly: 0.869047619048\n",
      " Number of Green predicted correctly: 67\n",
      " Accuracy of Green predicted correctly: 0.531746031746\n",
      "Precision: 0.531746031746\n",
      "false positive:59\n"
     ]
    },
    {
     "data": {
      "application/vnd.jupyter.widget-view+json": {
       "model_id": "101d2d3bb2b14c86b8d8278b26749802",
       "version_major": 2,
       "version_minor": 0
      },
      "text/plain": [
       "A Jupyter Widget"
      ]
     },
     "metadata": {},
     "output_type": "display_data"
    },
    {
     "name": "stdout",
     "output_type": "stream",
     "text": [
      "\n",
      "- - - - - - - - - - - - - STATISTICS ON TO_USE DATASET - - - - - - - - - - - - - - \n",
      "\n",
      "Total number of Green links in training dataset : 381 \n",
      "Total number of links in training dataset : 1524 \n",
      " Number of links predicted correctly: 1292\n",
      " Accuracy of links predicted correctly: 0.847769028871\n",
      " Number of Green predicted correctly: 181\n",
      " Accuracy of Green predicted correctly: 0.475065616798\n",
      "Precision: 0.475065616798\n",
      "false positive:200\n",
      "-------\n",
      "\n",
      "Thresold value : 2.2808988764\n"
     ]
    },
    {
     "data": {
      "application/vnd.jupyter.widget-view+json": {
       "model_id": "a0b58b33ebe94a898b598a0283759275",
       "version_major": 2,
       "version_minor": 0
      },
      "text/plain": [
       "A Jupyter Widget"
      ]
     },
     "metadata": {},
     "output_type": "display_data"
    },
    {
     "name": "stdout",
     "output_type": "stream",
     "text": [
      "\n",
      "- - - - - - - - - - - - - STATISTICS ON TRAINING DATASET - - - - - - - - - - - - - - \n",
      "\n",
      "Total number of Green links in training dataset : 384 \n",
      "Total number of links in training dataset : 1536 \n",
      " Number of links predicted correctly: 1522\n",
      " Accuracy of links predicted correctly: 0.990885416667\n",
      " Number of Green predicted correctly: 384\n",
      " Accuracy of Green predicted correctly: 1.0\n",
      "Precision: 1.0\n",
      "false positive:0\n"
     ]
    },
    {
     "data": {
      "application/vnd.jupyter.widget-view+json": {
       "model_id": "de34d197bfb44a0896b9fb0a00eb5dba",
       "version_major": 2,
       "version_minor": 0
      },
      "text/plain": [
       "A Jupyter Widget"
      ]
     },
     "metadata": {},
     "output_type": "display_data"
    },
    {
     "name": "stdout",
     "output_type": "stream",
     "text": [
      "\n",
      "- - - - - - - - - - - - - STATISTICS ON VALIDATION DATASET - - - - - - - - - - - - - - \n",
      "\n",
      "Total number of Green links in training dataset : 126 \n",
      "Total number of links in training dataset : 504 \n",
      " Number of links predicted correctly: 440\n",
      " Accuracy of links predicted correctly: 0.873015873016\n",
      " Number of Green predicted correctly: 71\n",
      " Accuracy of Green predicted correctly: 0.563492063492\n",
      "Precision: 0.563492063492\n",
      "false positive:55\n"
     ]
    },
    {
     "data": {
      "application/vnd.jupyter.widget-view+json": {
       "model_id": "556702c2daba44d288527c6a308d6f18",
       "version_major": 2,
       "version_minor": 0
      },
      "text/plain": [
       "A Jupyter Widget"
      ]
     },
     "metadata": {},
     "output_type": "display_data"
    },
    {
     "name": "stdout",
     "output_type": "stream",
     "text": [
      "\n",
      "- - - - - - - - - - - - - STATISTICS ON TO_USE DATASET - - - - - - - - - - - - - - \n",
      "\n",
      "Total number of Green links in training dataset : 381 \n",
      "Total number of links in training dataset : 1524 \n",
      " Number of links predicted correctly: 1293\n",
      " Accuracy of links predicted correctly: 0.84842519685\n",
      " Number of Green predicted correctly: 191\n",
      " Accuracy of Green predicted correctly: 0.501312335958\n",
      "Precision: 0.501312335958\n",
      "false positive:190\n",
      "-------\n",
      "\n",
      "Thresold value : 2.3595505618\n"
     ]
    },
    {
     "data": {
      "application/vnd.jupyter.widget-view+json": {
       "model_id": "dea955227552422c830200e2d9b724e3",
       "version_major": 2,
       "version_minor": 0
      },
      "text/plain": [
       "A Jupyter Widget"
      ]
     },
     "metadata": {},
     "output_type": "display_data"
    },
    {
     "name": "stdout",
     "output_type": "stream",
     "text": [
      "\n",
      "- - - - - - - - - - - - - STATISTICS ON TRAINING DATASET - - - - - - - - - - - - - - \n",
      "\n",
      "Total number of Green links in training dataset : 384 \n",
      "Total number of links in training dataset : 1536 \n",
      " Number of links predicted correctly: 1516\n",
      " Accuracy of links predicted correctly: 0.986979166667\n",
      " Number of Green predicted correctly: 384\n",
      " Accuracy of Green predicted correctly: 1.0\n",
      "Precision: 1.0\n",
      "false positive:0\n"
     ]
    },
    {
     "data": {
      "application/vnd.jupyter.widget-view+json": {
       "model_id": "9c15da82406f4d7eb076eb7bf94879e0",
       "version_major": 2,
       "version_minor": 0
      },
      "text/plain": [
       "A Jupyter Widget"
      ]
     },
     "metadata": {},
     "output_type": "display_data"
    },
    {
     "name": "stdout",
     "output_type": "stream",
     "text": [
      "\n",
      "- - - - - - - - - - - - - STATISTICS ON VALIDATION DATASET - - - - - - - - - - - - - - \n",
      "\n",
      "Total number of Green links in training dataset : 126 \n",
      "Total number of links in training dataset : 504 \n",
      " Number of links predicted correctly: 440\n",
      " Accuracy of links predicted correctly: 0.873015873016\n",
      " Number of Green predicted correctly: 75\n",
      " Accuracy of Green predicted correctly: 0.595238095238\n",
      "Precision: 0.595238095238\n",
      "false positive:51\n"
     ]
    },
    {
     "data": {
      "application/vnd.jupyter.widget-view+json": {
       "model_id": "f8045f26a67e41d786651516ba4666ad",
       "version_major": 2,
       "version_minor": 0
      },
      "text/plain": [
       "A Jupyter Widget"
      ]
     },
     "metadata": {},
     "output_type": "display_data"
    },
    {
     "name": "stdout",
     "output_type": "stream",
     "text": [
      "\n",
      "- - - - - - - - - - - - - STATISTICS ON TO_USE DATASET - - - - - - - - - - - - - - \n",
      "\n",
      "Total number of Green links in training dataset : 381 \n",
      "Total number of links in training dataset : 1524 \n",
      " Number of links predicted correctly: 1296\n",
      " Accuracy of links predicted correctly: 0.850393700787\n",
      " Number of Green predicted correctly: 209\n",
      " Accuracy of Green predicted correctly: 0.548556430446\n",
      "Precision: 0.548556430446\n",
      "false positive:172\n",
      "-------\n",
      "\n",
      "Thresold value : 2.43820224719\n"
     ]
    },
    {
     "data": {
      "application/vnd.jupyter.widget-view+json": {
       "model_id": "bf5e40f424a4470db202d31453181206",
       "version_major": 2,
       "version_minor": 0
      },
      "text/plain": [
       "A Jupyter Widget"
      ]
     },
     "metadata": {},
     "output_type": "display_data"
    },
    {
     "name": "stdout",
     "output_type": "stream",
     "text": [
      "\n",
      "- - - - - - - - - - - - - STATISTICS ON TRAINING DATASET - - - - - - - - - - - - - - \n",
      "\n",
      "Total number of Green links in training dataset : 384 \n",
      "Total number of links in training dataset : 1536 \n",
      " Number of links predicted correctly: 1494\n",
      " Accuracy of links predicted correctly: 0.97265625\n",
      " Number of Green predicted correctly: 384\n",
      " Accuracy of Green predicted correctly: 1.0\n",
      "Precision: 1.0\n",
      "false positive:0\n"
     ]
    },
    {
     "data": {
      "application/vnd.jupyter.widget-view+json": {
       "model_id": "2ec919aa40c54b4fb69e503f4380b71a",
       "version_major": 2,
       "version_minor": 0
      },
      "text/plain": [
       "A Jupyter Widget"
      ]
     },
     "metadata": {},
     "output_type": "display_data"
    },
    {
     "name": "stdout",
     "output_type": "stream",
     "text": [
      "\n",
      "- - - - - - - - - - - - - STATISTICS ON VALIDATION DATASET - - - - - - - - - - - - - - \n",
      "\n",
      "Total number of Green links in training dataset : 126 \n",
      "Total number of links in training dataset : 504 \n",
      " Number of links predicted correctly: 438\n",
      " Accuracy of links predicted correctly: 0.869047619048\n",
      " Number of Green predicted correctly: 78\n",
      " Accuracy of Green predicted correctly: 0.619047619048\n",
      "Precision: 0.619047619048\n",
      "false positive:48\n"
     ]
    },
    {
     "data": {
      "application/vnd.jupyter.widget-view+json": {
       "model_id": "1508904bd5ab4024a3fa5e04d8498571",
       "version_major": 2,
       "version_minor": 0
      },
      "text/plain": [
       "A Jupyter Widget"
      ]
     },
     "metadata": {},
     "output_type": "display_data"
    },
    {
     "name": "stdout",
     "output_type": "stream",
     "text": [
      "\n",
      "- - - - - - - - - - - - - STATISTICS ON TO_USE DATASET - - - - - - - - - - - - - - \n",
      "\n",
      "Total number of Green links in training dataset : 381 \n",
      "Total number of links in training dataset : 1524 \n",
      " Number of links predicted correctly: 1292\n",
      " Accuracy of links predicted correctly: 0.847769028871\n",
      " Number of Green predicted correctly: 219\n",
      " Accuracy of Green predicted correctly: 0.574803149606\n",
      "Precision: 0.574803149606\n",
      "false positive:162\n",
      "-------\n",
      "\n",
      "Thresold value : 2.51685393258\n"
     ]
    },
    {
     "data": {
      "application/vnd.jupyter.widget-view+json": {
       "model_id": "0bf360e2b5834e5ab52f1352ed93d5f0",
       "version_major": 2,
       "version_minor": 0
      },
      "text/plain": [
       "A Jupyter Widget"
      ]
     },
     "metadata": {},
     "output_type": "display_data"
    },
    {
     "name": "stdout",
     "output_type": "stream",
     "text": [
      "\n",
      "- - - - - - - - - - - - - STATISTICS ON TRAINING DATASET - - - - - - - - - - - - - - \n",
      "\n",
      "Total number of Green links in training dataset : 384 \n",
      "Total number of links in training dataset : 1536 \n",
      " Number of links predicted correctly: 1475\n",
      " Accuracy of links predicted correctly: 0.960286458333\n",
      " Number of Green predicted correctly: 384\n",
      " Accuracy of Green predicted correctly: 1.0\n",
      "Precision: 1.0\n",
      "false positive:0\n"
     ]
    },
    {
     "data": {
      "application/vnd.jupyter.widget-view+json": {
       "model_id": "5a11f34e6adc46279e6029f486f86b3c",
       "version_major": 2,
       "version_minor": 0
      },
      "text/plain": [
       "A Jupyter Widget"
      ]
     },
     "metadata": {},
     "output_type": "display_data"
    },
    {
     "name": "stdout",
     "output_type": "stream",
     "text": [
      "\n",
      "- - - - - - - - - - - - - STATISTICS ON VALIDATION DATASET - - - - - - - - - - - - - - \n",
      "\n",
      "Total number of Green links in training dataset : 126 \n",
      "Total number of links in training dataset : 504 \n",
      " Number of links predicted correctly: 426\n",
      " Accuracy of links predicted correctly: 0.845238095238\n",
      " Number of Green predicted correctly: 80\n",
      " Accuracy of Green predicted correctly: 0.634920634921\n",
      "Precision: 0.634920634921\n",
      "false positive:46\n"
     ]
    },
    {
     "data": {
      "application/vnd.jupyter.widget-view+json": {
       "model_id": "bc42fe4121f54e2297a31dae5b0acf31",
       "version_major": 2,
       "version_minor": 0
      },
      "text/plain": [
       "A Jupyter Widget"
      ]
     },
     "metadata": {},
     "output_type": "display_data"
    },
    {
     "name": "stdout",
     "output_type": "stream",
     "text": [
      "\n",
      "- - - - - - - - - - - - - STATISTICS ON TO_USE DATASET - - - - - - - - - - - - - - \n",
      "\n",
      "Total number of Green links in training dataset : 381 \n",
      "Total number of links in training dataset : 1524 \n",
      " Number of links predicted correctly: 1275\n",
      " Accuracy of links predicted correctly: 0.836614173228\n",
      " Number of Green predicted correctly: 227\n",
      " Accuracy of Green predicted correctly: 0.595800524934\n",
      "Precision: 0.595800524934\n",
      "false positive:154\n",
      "-------\n",
      "\n",
      "Thresold value : 2.59550561798\n"
     ]
    },
    {
     "data": {
      "application/vnd.jupyter.widget-view+json": {
       "model_id": "2e3054a26caf4feabb0f013519dbf691",
       "version_major": 2,
       "version_minor": 0
      },
      "text/plain": [
       "A Jupyter Widget"
      ]
     },
     "metadata": {},
     "output_type": "display_data"
    },
    {
     "name": "stdout",
     "output_type": "stream",
     "text": [
      "\n",
      "- - - - - - - - - - - - - STATISTICS ON TRAINING DATASET - - - - - - - - - - - - - - \n",
      "\n",
      "Total number of Green links in training dataset : 384 \n",
      "Total number of links in training dataset : 1536 \n",
      " Number of links predicted correctly: 1435\n",
      " Accuracy of links predicted correctly: 0.934244791667\n",
      " Number of Green predicted correctly: 384\n",
      " Accuracy of Green predicted correctly: 1.0\n",
      "Precision: 1.0\n",
      "false positive:0\n"
     ]
    },
    {
     "data": {
      "application/vnd.jupyter.widget-view+json": {
       "model_id": "651d2ad48ebe45ed9bcb7adb7a4826dc",
       "version_major": 2,
       "version_minor": 0
      },
      "text/plain": [
       "A Jupyter Widget"
      ]
     },
     "metadata": {},
     "output_type": "display_data"
    },
    {
     "name": "stdout",
     "output_type": "stream",
     "text": [
      "\n",
      "- - - - - - - - - - - - - STATISTICS ON VALIDATION DATASET - - - - - - - - - - - - - - \n",
      "\n",
      "Total number of Green links in training dataset : 126 \n",
      "Total number of links in training dataset : 504 \n",
      " Number of links predicted correctly: 421\n",
      " Accuracy of links predicted correctly: 0.835317460317\n",
      " Number of Green predicted correctly: 82\n",
      " Accuracy of Green predicted correctly: 0.650793650794\n",
      "Precision: 0.650793650794\n",
      "false positive:44\n"
     ]
    },
    {
     "data": {
      "application/vnd.jupyter.widget-view+json": {
       "model_id": "b860e3c2606b47e0a3bd98a4fe61864b",
       "version_major": 2,
       "version_minor": 0
      },
      "text/plain": [
       "A Jupyter Widget"
      ]
     },
     "metadata": {},
     "output_type": "display_data"
    },
    {
     "name": "stdout",
     "output_type": "stream",
     "text": [
      "\n",
      "- - - - - - - - - - - - - STATISTICS ON TO_USE DATASET - - - - - - - - - - - - - - \n",
      "\n",
      "Total number of Green links in training dataset : 381 \n",
      "Total number of links in training dataset : 1524 \n",
      " Number of links predicted correctly: 1250\n",
      " Accuracy of links predicted correctly: 0.820209973753\n",
      " Number of Green predicted correctly: 236\n",
      " Accuracy of Green predicted correctly: 0.619422572178\n",
      "Precision: 0.619422572178\n",
      "false positive:145\n",
      "-------\n",
      "\n",
      "Thresold value : 2.67415730337\n"
     ]
    },
    {
     "data": {
      "application/vnd.jupyter.widget-view+json": {
       "model_id": "a98ae72cf9b846bfa238b6cb7c2c47ec",
       "version_major": 2,
       "version_minor": 0
      },
      "text/plain": [
       "A Jupyter Widget"
      ]
     },
     "metadata": {},
     "output_type": "display_data"
    },
    {
     "name": "stdout",
     "output_type": "stream",
     "text": [
      "\n",
      "- - - - - - - - - - - - - STATISTICS ON TRAINING DATASET - - - - - - - - - - - - - - \n",
      "\n",
      "Total number of Green links in training dataset : 384 \n",
      "Total number of links in training dataset : 1536 \n",
      " Number of links predicted correctly: 1390\n",
      " Accuracy of links predicted correctly: 0.904947916667\n",
      " Number of Green predicted correctly: 384\n",
      " Accuracy of Green predicted correctly: 1.0\n",
      "Precision: 1.0\n",
      "false positive:0\n"
     ]
    },
    {
     "data": {
      "application/vnd.jupyter.widget-view+json": {
       "model_id": "3dfe649ab4154804824aec2ce5c85f03",
       "version_major": 2,
       "version_minor": 0
      },
      "text/plain": [
       "A Jupyter Widget"
      ]
     },
     "metadata": {},
     "output_type": "display_data"
    },
    {
     "name": "stdout",
     "output_type": "stream",
     "text": [
      "\n",
      "- - - - - - - - - - - - - STATISTICS ON VALIDATION DATASET - - - - - - - - - - - - - - \n",
      "\n",
      "Total number of Green links in training dataset : 126 \n",
      "Total number of links in training dataset : 504 \n",
      " Number of links predicted correctly: 416\n",
      " Accuracy of links predicted correctly: 0.825396825397\n",
      " Number of Green predicted correctly: 87\n",
      " Accuracy of Green predicted correctly: 0.690476190476\n",
      "Precision: 0.690476190476\n",
      "false positive:39\n"
     ]
    },
    {
     "data": {
      "application/vnd.jupyter.widget-view+json": {
       "model_id": "f3c204ab1b614a5fbee7534cc60c5340",
       "version_major": 2,
       "version_minor": 0
      },
      "text/plain": [
       "A Jupyter Widget"
      ]
     },
     "metadata": {},
     "output_type": "display_data"
    },
    {
     "name": "stdout",
     "output_type": "stream",
     "text": [
      "\n",
      "- - - - - - - - - - - - - STATISTICS ON TO_USE DATASET - - - - - - - - - - - - - - \n",
      "\n",
      "Total number of Green links in training dataset : 381 \n",
      "Total number of links in training dataset : 1524 \n",
      " Number of links predicted correctly: 1224\n",
      " Accuracy of links predicted correctly: 0.803149606299\n",
      " Number of Green predicted correctly: 247\n",
      " Accuracy of Green predicted correctly: 0.648293963255\n",
      "Precision: 0.648293963255\n",
      "false positive:134\n",
      "-------\n",
      "\n",
      "Thresold value : 2.75280898876\n"
     ]
    },
    {
     "data": {
      "application/vnd.jupyter.widget-view+json": {
       "model_id": "da0eb3839212491ebae110e33ec16b24",
       "version_major": 2,
       "version_minor": 0
      },
      "text/plain": [
       "A Jupyter Widget"
      ]
     },
     "metadata": {},
     "output_type": "display_data"
    },
    {
     "name": "stdout",
     "output_type": "stream",
     "text": [
      "\n",
      "- - - - - - - - - - - - - STATISTICS ON TRAINING DATASET - - - - - - - - - - - - - - \n",
      "\n",
      "Total number of Green links in training dataset : 384 \n",
      "Total number of links in training dataset : 1536 \n",
      " Number of links predicted correctly: 1327\n",
      " Accuracy of links predicted correctly: 0.863932291667\n",
      " Number of Green predicted correctly: 384\n",
      " Accuracy of Green predicted correctly: 1.0\n",
      "Precision: 1.0\n",
      "false positive:0\n"
     ]
    },
    {
     "data": {
      "application/vnd.jupyter.widget-view+json": {
       "model_id": "5850ab54a29b473b9bf118b05f183bdb",
       "version_major": 2,
       "version_minor": 0
      },
      "text/plain": [
       "A Jupyter Widget"
      ]
     },
     "metadata": {},
     "output_type": "display_data"
    },
    {
     "name": "stdout",
     "output_type": "stream",
     "text": [
      "\n",
      "- - - - - - - - - - - - - STATISTICS ON VALIDATION DATASET - - - - - - - - - - - - - - \n",
      "\n",
      "Total number of Green links in training dataset : 126 \n",
      "Total number of links in training dataset : 504 \n",
      " Number of links predicted correctly: 403\n",
      " Accuracy of links predicted correctly: 0.799603174603\n",
      " Number of Green predicted correctly: 89\n",
      " Accuracy of Green predicted correctly: 0.706349206349\n",
      "Precision: 0.706349206349\n",
      "false positive:37\n"
     ]
    },
    {
     "data": {
      "application/vnd.jupyter.widget-view+json": {
       "model_id": "857df9d4c314402b8011886425d6bb6a",
       "version_major": 2,
       "version_minor": 0
      },
      "text/plain": [
       "A Jupyter Widget"
      ]
     },
     "metadata": {},
     "output_type": "display_data"
    },
    {
     "name": "stdout",
     "output_type": "stream",
     "text": [
      "\n",
      "- - - - - - - - - - - - - STATISTICS ON TO_USE DATASET - - - - - - - - - - - - - - \n",
      "\n",
      "Total number of Green links in training dataset : 381 \n",
      "Total number of links in training dataset : 1524 \n",
      " Number of links predicted correctly: 1191\n",
      " Accuracy of links predicted correctly: 0.781496062992\n",
      " Number of Green predicted correctly: 259\n",
      " Accuracy of Green predicted correctly: 0.679790026247\n",
      "Precision: 0.679790026247\n",
      "false positive:122\n",
      "-------\n",
      "\n",
      "Thresold value : 2.83146067416\n"
     ]
    },
    {
     "data": {
      "application/vnd.jupyter.widget-view+json": {
       "model_id": "b2390cfe39764511a2e2f9624b29729c",
       "version_major": 2,
       "version_minor": 0
      },
      "text/plain": [
       "A Jupyter Widget"
      ]
     },
     "metadata": {},
     "output_type": "display_data"
    },
    {
     "name": "stdout",
     "output_type": "stream",
     "text": [
      "\n",
      "- - - - - - - - - - - - - STATISTICS ON TRAINING DATASET - - - - - - - - - - - - - - \n",
      "\n",
      "Total number of Green links in training dataset : 384 \n",
      "Total number of links in training dataset : 1536 \n",
      " Number of links predicted correctly: 1273\n",
      " Accuracy of links predicted correctly: 0.828776041667\n",
      " Number of Green predicted correctly: 384\n",
      " Accuracy of Green predicted correctly: 1.0\n",
      "Precision: 1.0\n",
      "false positive:0\n"
     ]
    },
    {
     "data": {
      "application/vnd.jupyter.widget-view+json": {
       "model_id": "38124ded366b4aedae5b8b85160d6019",
       "version_major": 2,
       "version_minor": 0
      },
      "text/plain": [
       "A Jupyter Widget"
      ]
     },
     "metadata": {},
     "output_type": "display_data"
    },
    {
     "name": "stdout",
     "output_type": "stream",
     "text": [
      "\n",
      "- - - - - - - - - - - - - STATISTICS ON VALIDATION DATASET - - - - - - - - - - - - - - \n",
      "\n",
      "Total number of Green links in training dataset : 126 \n",
      "Total number of links in training dataset : 504 \n",
      " Number of links predicted correctly: 395\n",
      " Accuracy of links predicted correctly: 0.78373015873\n",
      " Number of Green predicted correctly: 91\n",
      " Accuracy of Green predicted correctly: 0.722222222222\n",
      "Precision: 0.722222222222\n",
      "false positive:35\n"
     ]
    },
    {
     "data": {
      "application/vnd.jupyter.widget-view+json": {
       "model_id": "e696aa9ef1b949e1b132f097266c3d0f",
       "version_major": 2,
       "version_minor": 0
      },
      "text/plain": [
       "A Jupyter Widget"
      ]
     },
     "metadata": {},
     "output_type": "display_data"
    },
    {
     "name": "stdout",
     "output_type": "stream",
     "text": [
      "\n",
      "- - - - - - - - - - - - - STATISTICS ON TO_USE DATASET - - - - - - - - - - - - - - \n",
      "\n",
      "Total number of Green links in training dataset : 381 \n",
      "Total number of links in training dataset : 1524 \n",
      " Number of links predicted correctly: 1165\n",
      " Accuracy of links predicted correctly: 0.764435695538\n",
      " Number of Green predicted correctly: 268\n",
      " Accuracy of Green predicted correctly: 0.703412073491\n",
      "Precision: 0.703412073491\n",
      "false positive:113\n",
      "-------\n",
      "\n",
      "Thresold value : 2.91011235955\n"
     ]
    },
    {
     "data": {
      "application/vnd.jupyter.widget-view+json": {
       "model_id": "28524b0ba11549cdb5fb9051fb57ea0e",
       "version_major": 2,
       "version_minor": 0
      },
      "text/plain": [
       "A Jupyter Widget"
      ]
     },
     "metadata": {},
     "output_type": "display_data"
    },
    {
     "name": "stdout",
     "output_type": "stream",
     "text": [
      "\n",
      "- - - - - - - - - - - - - STATISTICS ON TRAINING DATASET - - - - - - - - - - - - - - \n",
      "\n",
      "Total number of Green links in training dataset : 384 \n",
      "Total number of links in training dataset : 1536 \n",
      " Number of links predicted correctly: 1211\n",
      " Accuracy of links predicted correctly: 0.788411458333\n",
      " Number of Green predicted correctly: 384\n",
      " Accuracy of Green predicted correctly: 1.0\n",
      "Precision: 1.0\n",
      "false positive:0\n"
     ]
    },
    {
     "data": {
      "application/vnd.jupyter.widget-view+json": {
       "model_id": "2a7d9fe0e3a44d85ba8e5086638757ce",
       "version_major": 2,
       "version_minor": 0
      },
      "text/plain": [
       "A Jupyter Widget"
      ]
     },
     "metadata": {},
     "output_type": "display_data"
    },
    {
     "name": "stdout",
     "output_type": "stream",
     "text": [
      "\n",
      "- - - - - - - - - - - - - STATISTICS ON VALIDATION DATASET - - - - - - - - - - - - - - \n",
      "\n",
      "Total number of Green links in training dataset : 126 \n",
      "Total number of links in training dataset : 504 \n",
      " Number of links predicted correctly: 377\n",
      " Accuracy of links predicted correctly: 0.748015873016\n",
      " Number of Green predicted correctly: 92\n",
      " Accuracy of Green predicted correctly: 0.730158730159\n",
      "Precision: 0.730158730159\n",
      "false positive:34\n"
     ]
    },
    {
     "data": {
      "application/vnd.jupyter.widget-view+json": {
       "model_id": "4c0b1c5813f14eefb88681f0b6efd66f",
       "version_major": 2,
       "version_minor": 0
      },
      "text/plain": [
       "A Jupyter Widget"
      ]
     },
     "metadata": {},
     "output_type": "display_data"
    },
    {
     "name": "stdout",
     "output_type": "stream",
     "text": [
      "\n",
      "- - - - - - - - - - - - - STATISTICS ON TO_USE DATASET - - - - - - - - - - - - - - \n",
      "\n",
      "Total number of Green links in training dataset : 381 \n",
      "Total number of links in training dataset : 1524 \n",
      " Number of links predicted correctly: 1126\n",
      " Accuracy of links predicted correctly: 0.738845144357\n",
      " Number of Green predicted correctly: 274\n",
      " Accuracy of Green predicted correctly: 0.719160104987\n",
      "Precision: 0.719160104987\n",
      "false positive:107\n",
      "-------\n",
      "\n",
      "Thresold value : 2.98876404494\n"
     ]
    },
    {
     "data": {
      "application/vnd.jupyter.widget-view+json": {
       "model_id": "1bff6315c2ee473086c13f48e1e147af",
       "version_major": 2,
       "version_minor": 0
      },
      "text/plain": [
       "A Jupyter Widget"
      ]
     },
     "metadata": {},
     "output_type": "display_data"
    },
    {
     "name": "stdout",
     "output_type": "stream",
     "text": [
      "\n",
      "- - - - - - - - - - - - - STATISTICS ON TRAINING DATASET - - - - - - - - - - - - - - \n",
      "\n",
      "Total number of Green links in training dataset : 384 \n",
      "Total number of links in training dataset : 1536 \n",
      " Number of links predicted correctly: 1134\n",
      " Accuracy of links predicted correctly: 0.73828125\n",
      " Number of Green predicted correctly: 384\n",
      " Accuracy of Green predicted correctly: 1.0\n",
      "Precision: 1.0\n",
      "false positive:0\n"
     ]
    },
    {
     "data": {
      "application/vnd.jupyter.widget-view+json": {
       "model_id": "050c21cd11bb4ce49298e0b094821f78",
       "version_major": 2,
       "version_minor": 0
      },
      "text/plain": [
       "A Jupyter Widget"
      ]
     },
     "metadata": {},
     "output_type": "display_data"
    },
    {
     "name": "stdout",
     "output_type": "stream",
     "text": [
      "\n",
      "- - - - - - - - - - - - - STATISTICS ON VALIDATION DATASET - - - - - - - - - - - - - - \n",
      "\n",
      "Total number of Green links in training dataset : 126 \n",
      "Total number of links in training dataset : 504 \n",
      " Number of links predicted correctly: 360\n",
      " Accuracy of links predicted correctly: 0.714285714286\n",
      " Number of Green predicted correctly: 93\n",
      " Accuracy of Green predicted correctly: 0.738095238095\n",
      "Precision: 0.738095238095\n",
      "false positive:33\n"
     ]
    },
    {
     "data": {
      "application/vnd.jupyter.widget-view+json": {
       "model_id": "767f4126c244482bb1e5c605506c0781",
       "version_major": 2,
       "version_minor": 0
      },
      "text/plain": [
       "A Jupyter Widget"
      ]
     },
     "metadata": {},
     "output_type": "display_data"
    },
    {
     "name": "stdout",
     "output_type": "stream",
     "text": [
      "\n",
      "- - - - - - - - - - - - - STATISTICS ON TO_USE DATASET - - - - - - - - - - - - - - \n",
      "\n",
      "Total number of Green links in training dataset : 381 \n",
      "Total number of links in training dataset : 1524 \n",
      " Number of links predicted correctly: 1079\n",
      " Accuracy of links predicted correctly: 0.708005249344\n",
      " Number of Green predicted correctly: 280\n",
      " Accuracy of Green predicted correctly: 0.734908136483\n",
      "Precision: 0.734908136483\n",
      "false positive:101\n",
      "-------\n",
      "\n",
      "Thresold value : 3.06741573034\n"
     ]
    },
    {
     "data": {
      "application/vnd.jupyter.widget-view+json": {
       "model_id": "87d03ff4489c41e2ba2a398b7f9916d8",
       "version_major": 2,
       "version_minor": 0
      },
      "text/plain": [
       "A Jupyter Widget"
      ]
     },
     "metadata": {},
     "output_type": "display_data"
    },
    {
     "name": "stdout",
     "output_type": "stream",
     "text": [
      "\n",
      "- - - - - - - - - - - - - STATISTICS ON TRAINING DATASET - - - - - - - - - - - - - - \n",
      "\n",
      "Total number of Green links in training dataset : 384 \n",
      "Total number of links in training dataset : 1536 \n",
      " Number of links predicted correctly: 1067\n",
      " Accuracy of links predicted correctly: 0.694661458333\n",
      " Number of Green predicted correctly: 384\n",
      " Accuracy of Green predicted correctly: 1.0\n",
      "Precision: 1.0\n",
      "false positive:0\n"
     ]
    },
    {
     "data": {
      "application/vnd.jupyter.widget-view+json": {
       "model_id": "fcfd3a68382e4aa8aab96b9cdb5dd83a",
       "version_major": 2,
       "version_minor": 0
      },
      "text/plain": [
       "A Jupyter Widget"
      ]
     },
     "metadata": {},
     "output_type": "display_data"
    },
    {
     "name": "stdout",
     "output_type": "stream",
     "text": [
      "\n",
      "- - - - - - - - - - - - - STATISTICS ON VALIDATION DATASET - - - - - - - - - - - - - - \n",
      "\n",
      "Total number of Green links in training dataset : 126 \n",
      "Total number of links in training dataset : 504 \n",
      " Number of links predicted correctly: 339\n",
      " Accuracy of links predicted correctly: 0.672619047619\n",
      " Number of Green predicted correctly: 94\n",
      " Accuracy of Green predicted correctly: 0.746031746032\n",
      "Precision: 0.746031746032\n",
      "false positive:32\n"
     ]
    },
    {
     "data": {
      "application/vnd.jupyter.widget-view+json": {
       "model_id": "0892532f369541bbb3790ebdf53409c2",
       "version_major": 2,
       "version_minor": 0
      },
      "text/plain": [
       "A Jupyter Widget"
      ]
     },
     "metadata": {},
     "output_type": "display_data"
    },
    {
     "name": "stdout",
     "output_type": "stream",
     "text": [
      "\n",
      "- - - - - - - - - - - - - STATISTICS ON TO_USE DATASET - - - - - - - - - - - - - - \n",
      "\n",
      "Total number of Green links in training dataset : 381 \n",
      "Total number of links in training dataset : 1524 \n",
      " Number of links predicted correctly: 1018\n",
      " Accuracy of links predicted correctly: 0.667979002625\n",
      " Number of Green predicted correctly: 291\n",
      " Accuracy of Green predicted correctly: 0.763779527559\n",
      "Precision: 0.763779527559\n",
      "false positive:90\n",
      "-------\n",
      "\n",
      "Thresold value : 3.14606741573\n"
     ]
    },
    {
     "data": {
      "application/vnd.jupyter.widget-view+json": {
       "model_id": "3cdfc1e880744b74a3c93053f47daa10",
       "version_major": 2,
       "version_minor": 0
      },
      "text/plain": [
       "A Jupyter Widget"
      ]
     },
     "metadata": {},
     "output_type": "display_data"
    },
    {
     "name": "stdout",
     "output_type": "stream",
     "text": [
      "\n",
      "- - - - - - - - - - - - - STATISTICS ON TRAINING DATASET - - - - - - - - - - - - - - \n",
      "\n",
      "Total number of Green links in training dataset : 384 \n",
      "Total number of links in training dataset : 1536 \n",
      " Number of links predicted correctly: 989\n",
      " Accuracy of links predicted correctly: 0.643880208333\n",
      " Number of Green predicted correctly: 384\n",
      " Accuracy of Green predicted correctly: 1.0\n",
      "Precision: 1.0\n",
      "false positive:0\n"
     ]
    },
    {
     "data": {
      "application/vnd.jupyter.widget-view+json": {
       "model_id": "546fe184eebf4b0686f2617d9028b43a",
       "version_major": 2,
       "version_minor": 0
      },
      "text/plain": [
       "A Jupyter Widget"
      ]
     },
     "metadata": {},
     "output_type": "display_data"
    },
    {
     "name": "stdout",
     "output_type": "stream",
     "text": [
      "\n",
      "- - - - - - - - - - - - - STATISTICS ON VALIDATION DATASET - - - - - - - - - - - - - - \n",
      "\n",
      "Total number of Green links in training dataset : 126 \n",
      "Total number of links in training dataset : 504 \n",
      " Number of links predicted correctly: 321\n",
      " Accuracy of links predicted correctly: 0.636904761905\n",
      " Number of Green predicted correctly: 95\n",
      " Accuracy of Green predicted correctly: 0.753968253968\n",
      "Precision: 0.753968253968\n",
      "false positive:31\n"
     ]
    },
    {
     "data": {
      "application/vnd.jupyter.widget-view+json": {
       "model_id": "6874a71535e546b5865835c3a8f2ce13",
       "version_major": 2,
       "version_minor": 0
      },
      "text/plain": [
       "A Jupyter Widget"
      ]
     },
     "metadata": {},
     "output_type": "display_data"
    },
    {
     "name": "stdout",
     "output_type": "stream",
     "text": [
      "\n",
      "- - - - - - - - - - - - - STATISTICS ON TO_USE DATASET - - - - - - - - - - - - - - \n",
      "\n",
      "Total number of Green links in training dataset : 381 \n",
      "Total number of links in training dataset : 1524 \n",
      " Number of links predicted correctly: 962\n",
      " Accuracy of links predicted correctly: 0.631233595801\n",
      " Number of Green predicted correctly: 295\n",
      " Accuracy of Green predicted correctly: 0.774278215223\n",
      "Precision: 0.774278215223\n",
      "false positive:86\n",
      "-------\n",
      "\n",
      "Thresold value : 3.22471910112\n"
     ]
    },
    {
     "data": {
      "application/vnd.jupyter.widget-view+json": {
       "model_id": "835e520475a442aaac35e7718d909471",
       "version_major": 2,
       "version_minor": 0
      },
      "text/plain": [
       "A Jupyter Widget"
      ]
     },
     "metadata": {},
     "output_type": "display_data"
    },
    {
     "name": "stdout",
     "output_type": "stream",
     "text": [
      "\n",
      "- - - - - - - - - - - - - STATISTICS ON TRAINING DATASET - - - - - - - - - - - - - - \n",
      "\n",
      "Total number of Green links in training dataset : 384 \n",
      "Total number of links in training dataset : 1536 \n",
      " Number of links predicted correctly: 920\n",
      " Accuracy of links predicted correctly: 0.598958333333\n",
      " Number of Green predicted correctly: 384\n",
      " Accuracy of Green predicted correctly: 1.0\n",
      "Precision: 1.0\n",
      "false positive:0\n"
     ]
    },
    {
     "data": {
      "application/vnd.jupyter.widget-view+json": {
       "model_id": "d2c8b6e811ff4cb0aec4755b96aea8a6",
       "version_major": 2,
       "version_minor": 0
      },
      "text/plain": [
       "A Jupyter Widget"
      ]
     },
     "metadata": {},
     "output_type": "display_data"
    },
    {
     "name": "stdout",
     "output_type": "stream",
     "text": [
      "\n",
      "- - - - - - - - - - - - - STATISTICS ON VALIDATION DATASET - - - - - - - - - - - - - - \n",
      "\n",
      "Total number of Green links in training dataset : 126 \n",
      "Total number of links in training dataset : 504 \n",
      " Number of links predicted correctly: 303\n",
      " Accuracy of links predicted correctly: 0.60119047619\n",
      " Number of Green predicted correctly: 95\n",
      " Accuracy of Green predicted correctly: 0.753968253968\n",
      "Precision: 0.753968253968\n",
      "false positive:31\n"
     ]
    },
    {
     "data": {
      "application/vnd.jupyter.widget-view+json": {
       "model_id": "58f1a2d4453e497cb0196084c4e83470",
       "version_major": 2,
       "version_minor": 0
      },
      "text/plain": [
       "A Jupyter Widget"
      ]
     },
     "metadata": {},
     "output_type": "display_data"
    },
    {
     "name": "stdout",
     "output_type": "stream",
     "text": [
      "\n",
      "- - - - - - - - - - - - - STATISTICS ON TO_USE DATASET - - - - - - - - - - - - - - \n",
      "\n",
      "Total number of Green links in training dataset : 381 \n",
      "Total number of links in training dataset : 1524 \n",
      " Number of links predicted correctly: 911\n",
      " Accuracy of links predicted correctly: 0.597769028871\n",
      " Number of Green predicted correctly: 299\n",
      " Accuracy of Green predicted correctly: 0.784776902887\n",
      "Precision: 0.784776902887\n",
      "false positive:82\n",
      "-------\n",
      "\n",
      "Thresold value : 3.30337078652\n"
     ]
    },
    {
     "data": {
      "application/vnd.jupyter.widget-view+json": {
       "model_id": "32ede1a8720d4c28b459a6d5d4916c77",
       "version_major": 2,
       "version_minor": 0
      },
      "text/plain": [
       "A Jupyter Widget"
      ]
     },
     "metadata": {},
     "output_type": "display_data"
    },
    {
     "name": "stdout",
     "output_type": "stream",
     "text": [
      "\n",
      "- - - - - - - - - - - - - STATISTICS ON TRAINING DATASET - - - - - - - - - - - - - - \n",
      "\n",
      "Total number of Green links in training dataset : 384 \n",
      "Total number of links in training dataset : 1536 \n",
      " Number of links predicted correctly: 869\n",
      " Accuracy of links predicted correctly: 0.565755208333\n",
      " Number of Green predicted correctly: 384\n",
      " Accuracy of Green predicted correctly: 1.0\n",
      "Precision: 1.0\n",
      "false positive:0\n"
     ]
    },
    {
     "data": {
      "application/vnd.jupyter.widget-view+json": {
       "model_id": "5e26f25bcce54c91b4f2d5c10480977a",
       "version_major": 2,
       "version_minor": 0
      },
      "text/plain": [
       "A Jupyter Widget"
      ]
     },
     "metadata": {},
     "output_type": "display_data"
    },
    {
     "name": "stdout",
     "output_type": "stream",
     "text": [
      "\n",
      "- - - - - - - - - - - - - STATISTICS ON VALIDATION DATASET - - - - - - - - - - - - - - \n",
      "\n",
      "Total number of Green links in training dataset : 126 \n",
      "Total number of links in training dataset : 504 \n",
      " Number of links predicted correctly: 281\n",
      " Accuracy of links predicted correctly: 0.55753968254\n",
      " Number of Green predicted correctly: 96\n",
      " Accuracy of Green predicted correctly: 0.761904761905\n",
      "Precision: 0.761904761905\n",
      "false positive:30\n"
     ]
    },
    {
     "data": {
      "application/vnd.jupyter.widget-view+json": {
       "model_id": "eb05f06507964217b368a414b8251d4a",
       "version_major": 2,
       "version_minor": 0
      },
      "text/plain": [
       "A Jupyter Widget"
      ]
     },
     "metadata": {},
     "output_type": "display_data"
    },
    {
     "name": "stdout",
     "output_type": "stream",
     "text": [
      "\n",
      "- - - - - - - - - - - - - STATISTICS ON TO_USE DATASET - - - - - - - - - - - - - - \n",
      "\n",
      "Total number of Green links in training dataset : 381 \n",
      "Total number of links in training dataset : 1524 \n",
      " Number of links predicted correctly: 857\n",
      " Accuracy of links predicted correctly: 0.562335958005\n",
      " Number of Green predicted correctly: 306\n",
      " Accuracy of Green predicted correctly: 0.803149606299\n",
      "Precision: 0.803149606299\n",
      "false positive:75\n",
      "-------\n",
      "\n",
      "Thresold value : 3.38202247191\n"
     ]
    },
    {
     "data": {
      "application/vnd.jupyter.widget-view+json": {
       "model_id": "80d2fad66ed84b6397902114ab8fda59",
       "version_major": 2,
       "version_minor": 0
      },
      "text/plain": [
       "A Jupyter Widget"
      ]
     },
     "metadata": {},
     "output_type": "display_data"
    },
    {
     "name": "stdout",
     "output_type": "stream",
     "text": [
      "\n",
      "- - - - - - - - - - - - - STATISTICS ON TRAINING DATASET - - - - - - - - - - - - - - \n",
      "\n",
      "Total number of Green links in training dataset : 384 \n",
      "Total number of links in training dataset : 1536 \n",
      " Number of links predicted correctly: 795\n",
      " Accuracy of links predicted correctly: 0.517578125\n",
      " Number of Green predicted correctly: 384\n",
      " Accuracy of Green predicted correctly: 1.0\n",
      "Precision: 1.0\n",
      "false positive:0\n"
     ]
    },
    {
     "data": {
      "application/vnd.jupyter.widget-view+json": {
       "model_id": "988c437e659e4d14a7d8f6e4c889f1eb",
       "version_major": 2,
       "version_minor": 0
      },
      "text/plain": [
       "A Jupyter Widget"
      ]
     },
     "metadata": {},
     "output_type": "display_data"
    },
    {
     "name": "stdout",
     "output_type": "stream",
     "text": [
      "\n",
      "- - - - - - - - - - - - - STATISTICS ON VALIDATION DATASET - - - - - - - - - - - - - - \n",
      "\n",
      "Total number of Green links in training dataset : 126 \n",
      "Total number of links in training dataset : 504 \n",
      " Number of links predicted correctly: 259\n",
      " Accuracy of links predicted correctly: 0.513888888889\n",
      " Number of Green predicted correctly: 98\n",
      " Accuracy of Green predicted correctly: 0.777777777778\n",
      "Precision: 0.777777777778\n",
      "false positive:28\n"
     ]
    },
    {
     "data": {
      "application/vnd.jupyter.widget-view+json": {
       "model_id": "0435cd18785345de8e5a8efe298536a0",
       "version_major": 2,
       "version_minor": 0
      },
      "text/plain": [
       "A Jupyter Widget"
      ]
     },
     "metadata": {},
     "output_type": "display_data"
    },
    {
     "name": "stdout",
     "output_type": "stream",
     "text": [
      "\n",
      "- - - - - - - - - - - - - STATISTICS ON TO_USE DATASET - - - - - - - - - - - - - - \n",
      "\n",
      "Total number of Green links in training dataset : 381 \n",
      "Total number of links in training dataset : 1524 \n",
      " Number of links predicted correctly: 806\n",
      " Accuracy of links predicted correctly: 0.528871391076\n",
      " Number of Green predicted correctly: 307\n",
      " Accuracy of Green predicted correctly: 0.805774278215\n",
      "Precision: 0.805774278215\n",
      "false positive:74\n",
      "-------\n",
      "\n",
      "Thresold value : 3.4606741573\n"
     ]
    },
    {
     "data": {
      "application/vnd.jupyter.widget-view+json": {
       "model_id": "0ec0e4da0f2c4298ab6b38c99df9f446",
       "version_major": 2,
       "version_minor": 0
      },
      "text/plain": [
       "A Jupyter Widget"
      ]
     },
     "metadata": {},
     "output_type": "display_data"
    },
    {
     "name": "stdout",
     "output_type": "stream",
     "text": [
      "\n",
      "- - - - - - - - - - - - - STATISTICS ON TRAINING DATASET - - - - - - - - - - - - - - \n",
      "\n",
      "Total number of Green links in training dataset : 384 \n",
      "Total number of links in training dataset : 1536 \n",
      " Number of links predicted correctly: 740\n",
      " Accuracy of links predicted correctly: 0.481770833333\n",
      " Number of Green predicted correctly: 384\n",
      " Accuracy of Green predicted correctly: 1.0\n",
      "Precision: 1.0\n",
      "false positive:0\n"
     ]
    },
    {
     "data": {
      "application/vnd.jupyter.widget-view+json": {
       "model_id": "ef43588c006d455d9f706d779741c29c",
       "version_major": 2,
       "version_minor": 0
      },
      "text/plain": [
       "A Jupyter Widget"
      ]
     },
     "metadata": {},
     "output_type": "display_data"
    },
    {
     "name": "stdout",
     "output_type": "stream",
     "text": [
      "\n",
      "- - - - - - - - - - - - - STATISTICS ON VALIDATION DATASET - - - - - - - - - - - - - - \n",
      "\n",
      "Total number of Green links in training dataset : 126 \n",
      "Total number of links in training dataset : 504 \n",
      " Number of links predicted correctly: 250\n",
      " Accuracy of links predicted correctly: 0.496031746032\n",
      " Number of Green predicted correctly: 99\n",
      " Accuracy of Green predicted correctly: 0.785714285714\n",
      "Precision: 0.785714285714\n",
      "false positive:27\n"
     ]
    },
    {
     "data": {
      "application/vnd.jupyter.widget-view+json": {
       "model_id": "2734991c3a0e4308843fbc53cfbec72f",
       "version_major": 2,
       "version_minor": 0
      },
      "text/plain": [
       "A Jupyter Widget"
      ]
     },
     "metadata": {},
     "output_type": "display_data"
    },
    {
     "name": "stdout",
     "output_type": "stream",
     "text": [
      "\n",
      "- - - - - - - - - - - - - STATISTICS ON TO_USE DATASET - - - - - - - - - - - - - - \n",
      "\n",
      "Total number of Green links in training dataset : 381 \n",
      "Total number of links in training dataset : 1524 \n",
      " Number of links predicted correctly: 762\n",
      " Accuracy of links predicted correctly: 0.5\n",
      " Number of Green predicted correctly: 310\n",
      " Accuracy of Green predicted correctly: 0.813648293963\n",
      "Precision: 0.813648293963\n",
      "false positive:71\n",
      "-------\n",
      "\n",
      "Thresold value : 3.5393258427\n"
     ]
    },
    {
     "data": {
      "application/vnd.jupyter.widget-view+json": {
       "model_id": "1debd25d6fb147f38b804c8ff12c0e9c",
       "version_major": 2,
       "version_minor": 0
      },
      "text/plain": [
       "A Jupyter Widget"
      ]
     },
     "metadata": {},
     "output_type": "display_data"
    },
    {
     "name": "stdout",
     "output_type": "stream",
     "text": [
      "\n",
      "- - - - - - - - - - - - - STATISTICS ON TRAINING DATASET - - - - - - - - - - - - - - \n",
      "\n",
      "Total number of Green links in training dataset : 384 \n",
      "Total number of links in training dataset : 1536 \n",
      " Number of links predicted correctly: 666\n",
      " Accuracy of links predicted correctly: 0.43359375\n",
      " Number of Green predicted correctly: 384\n",
      " Accuracy of Green predicted correctly: 1.0\n",
      "Precision: 1.0\n",
      "false positive:0\n"
     ]
    },
    {
     "data": {
      "application/vnd.jupyter.widget-view+json": {
       "model_id": "020fb6eb27484d9087979e98f3583757",
       "version_major": 2,
       "version_minor": 0
      },
      "text/plain": [
       "A Jupyter Widget"
      ]
     },
     "metadata": {},
     "output_type": "display_data"
    },
    {
     "name": "stdout",
     "output_type": "stream",
     "text": [
      "\n",
      "- - - - - - - - - - - - - STATISTICS ON VALIDATION DATASET - - - - - - - - - - - - - - \n",
      "\n",
      "Total number of Green links in training dataset : 126 \n",
      "Total number of links in training dataset : 504 \n",
      " Number of links predicted correctly: 244\n",
      " Accuracy of links predicted correctly: 0.484126984127\n",
      " Number of Green predicted correctly: 100\n",
      " Accuracy of Green predicted correctly: 0.793650793651\n",
      "Precision: 0.793650793651\n",
      "false positive:26\n"
     ]
    },
    {
     "data": {
      "application/vnd.jupyter.widget-view+json": {
       "model_id": "4d5431663c3742fc9a11497578d4a50c",
       "version_major": 2,
       "version_minor": 0
      },
      "text/plain": [
       "A Jupyter Widget"
      ]
     },
     "metadata": {},
     "output_type": "display_data"
    },
    {
     "name": "stdout",
     "output_type": "stream",
     "text": [
      "\n",
      "- - - - - - - - - - - - - STATISTICS ON TO_USE DATASET - - - - - - - - - - - - - - \n",
      "\n",
      "Total number of Green links in training dataset : 381 \n",
      "Total number of links in training dataset : 1524 \n",
      " Number of links predicted correctly: 726\n",
      " Accuracy of links predicted correctly: 0.476377952756\n",
      " Number of Green predicted correctly: 314\n",
      " Accuracy of Green predicted correctly: 0.824146981627\n",
      "Precision: 0.824146981627\n",
      "false positive:67\n",
      "-------\n",
      "\n",
      "Thresold value : 3.61797752809\n"
     ]
    },
    {
     "data": {
      "application/vnd.jupyter.widget-view+json": {
       "model_id": "b123384ebe48476f952177635a3b84ac",
       "version_major": 2,
       "version_minor": 0
      },
      "text/plain": [
       "A Jupyter Widget"
      ]
     },
     "metadata": {},
     "output_type": "display_data"
    },
    {
     "name": "stdout",
     "output_type": "stream",
     "text": [
      "\n",
      "- - - - - - - - - - - - - STATISTICS ON TRAINING DATASET - - - - - - - - - - - - - - \n",
      "\n",
      "Total number of Green links in training dataset : 384 \n",
      "Total number of links in training dataset : 1536 \n",
      " Number of links predicted correctly: 617\n",
      " Accuracy of links predicted correctly: 0.401692708333\n",
      " Number of Green predicted correctly: 384\n",
      " Accuracy of Green predicted correctly: 1.0\n",
      "Precision: 1.0\n",
      "false positive:0\n"
     ]
    },
    {
     "data": {
      "application/vnd.jupyter.widget-view+json": {
       "model_id": "f1ac91b71ae949f88ce8d1a366decf8c",
       "version_major": 2,
       "version_minor": 0
      },
      "text/plain": [
       "A Jupyter Widget"
      ]
     },
     "metadata": {},
     "output_type": "display_data"
    },
    {
     "name": "stdout",
     "output_type": "stream",
     "text": [
      "\n",
      "- - - - - - - - - - - - - STATISTICS ON VALIDATION DATASET - - - - - - - - - - - - - - \n",
      "\n",
      "Total number of Green links in training dataset : 126 \n",
      "Total number of links in training dataset : 504 \n",
      " Number of links predicted correctly: 233\n",
      " Accuracy of links predicted correctly: 0.462301587302\n",
      " Number of Green predicted correctly: 101\n",
      " Accuracy of Green predicted correctly: 0.801587301587\n",
      "Precision: 0.801587301587\n",
      "false positive:25\n"
     ]
    },
    {
     "data": {
      "application/vnd.jupyter.widget-view+json": {
       "model_id": "c8960e9e05f14016af0314dc0552a495",
       "version_major": 2,
       "version_minor": 0
      },
      "text/plain": [
       "A Jupyter Widget"
      ]
     },
     "metadata": {},
     "output_type": "display_data"
    },
    {
     "name": "stdout",
     "output_type": "stream",
     "text": [
      "\n",
      "- - - - - - - - - - - - - STATISTICS ON TO_USE DATASET - - - - - - - - - - - - - - \n",
      "\n",
      "Total number of Green links in training dataset : 381 \n",
      "Total number of links in training dataset : 1524 \n",
      " Number of links predicted correctly: 689\n",
      " Accuracy of links predicted correctly: 0.452099737533\n",
      " Number of Green predicted correctly: 318\n",
      " Accuracy of Green predicted correctly: 0.834645669291\n",
      "Precision: 0.834645669291\n",
      "false positive:63\n",
      "-------\n",
      "\n",
      "Thresold value : 3.69662921348\n"
     ]
    },
    {
     "data": {
      "application/vnd.jupyter.widget-view+json": {
       "model_id": "4934340e1b3947d1896e3b7694581805",
       "version_major": 2,
       "version_minor": 0
      },
      "text/plain": [
       "A Jupyter Widget"
      ]
     },
     "metadata": {},
     "output_type": "display_data"
    },
    {
     "name": "stdout",
     "output_type": "stream",
     "text": [
      "\n",
      "- - - - - - - - - - - - - STATISTICS ON TRAINING DATASET - - - - - - - - - - - - - - \n",
      "\n",
      "Total number of Green links in training dataset : 384 \n",
      "Total number of links in training dataset : 1536 \n",
      " Number of links predicted correctly: 576\n",
      " Accuracy of links predicted correctly: 0.375\n",
      " Number of Green predicted correctly: 384\n",
      " Accuracy of Green predicted correctly: 1.0\n",
      "Precision: 1.0\n",
      "false positive:0\n"
     ]
    },
    {
     "data": {
      "application/vnd.jupyter.widget-view+json": {
       "model_id": "e3f1b425ed464caba38c9c93599c758a",
       "version_major": 2,
       "version_minor": 0
      },
      "text/plain": [
       "A Jupyter Widget"
      ]
     },
     "metadata": {},
     "output_type": "display_data"
    },
    {
     "name": "stdout",
     "output_type": "stream",
     "text": [
      "\n",
      "- - - - - - - - - - - - - STATISTICS ON VALIDATION DATASET - - - - - - - - - - - - - - \n",
      "\n",
      "Total number of Green links in training dataset : 126 \n",
      "Total number of links in training dataset : 504 \n",
      " Number of links predicted correctly: 225\n",
      " Accuracy of links predicted correctly: 0.446428571429\n",
      " Number of Green predicted correctly: 103\n",
      " Accuracy of Green predicted correctly: 0.81746031746\n",
      "Precision: 0.81746031746\n",
      "false positive:23\n"
     ]
    },
    {
     "data": {
      "application/vnd.jupyter.widget-view+json": {
       "model_id": "021a8effe1654f4397bf23f1b7b430a1",
       "version_major": 2,
       "version_minor": 0
      },
      "text/plain": [
       "A Jupyter Widget"
      ]
     },
     "metadata": {},
     "output_type": "display_data"
    },
    {
     "name": "stdout",
     "output_type": "stream",
     "text": [
      "\n",
      "- - - - - - - - - - - - - STATISTICS ON TO_USE DATASET - - - - - - - - - - - - - - \n",
      "\n",
      "Total number of Green links in training dataset : 381 \n",
      "Total number of links in training dataset : 1524 \n",
      " Number of links predicted correctly: 658\n",
      " Accuracy of links predicted correctly: 0.431758530184\n",
      " Number of Green predicted correctly: 321\n",
      " Accuracy of Green predicted correctly: 0.842519685039\n",
      "Precision: 0.842519685039\n",
      "false positive:60\n",
      "-------\n",
      "\n",
      "Thresold value : 3.77528089888\n"
     ]
    },
    {
     "data": {
      "application/vnd.jupyter.widget-view+json": {
       "model_id": "47324b514a18454b8b267b8b09a9f9b6",
       "version_major": 2,
       "version_minor": 0
      },
      "text/plain": [
       "A Jupyter Widget"
      ]
     },
     "metadata": {},
     "output_type": "display_data"
    },
    {
     "name": "stdout",
     "output_type": "stream",
     "text": [
      "\n",
      "- - - - - - - - - - - - - STATISTICS ON TRAINING DATASET - - - - - - - - - - - - - - \n",
      "\n",
      "Total number of Green links in training dataset : 384 \n",
      "Total number of links in training dataset : 1536 \n",
      " Number of links predicted correctly: 540\n",
      " Accuracy of links predicted correctly: 0.3515625\n",
      " Number of Green predicted correctly: 384\n",
      " Accuracy of Green predicted correctly: 1.0\n",
      "Precision: 1.0\n",
      "false positive:0\n"
     ]
    },
    {
     "data": {
      "application/vnd.jupyter.widget-view+json": {
       "model_id": "4c7746f717b249799c030c6fb0b9b637",
       "version_major": 2,
       "version_minor": 0
      },
      "text/plain": [
       "A Jupyter Widget"
      ]
     },
     "metadata": {},
     "output_type": "display_data"
    },
    {
     "name": "stdout",
     "output_type": "stream",
     "text": [
      "\n",
      "- - - - - - - - - - - - - STATISTICS ON VALIDATION DATASET - - - - - - - - - - - - - - \n",
      "\n",
      "Total number of Green links in training dataset : 126 \n",
      "Total number of links in training dataset : 504 \n",
      " Number of links predicted correctly: 216\n",
      " Accuracy of links predicted correctly: 0.428571428571\n",
      " Number of Green predicted correctly: 104\n",
      " Accuracy of Green predicted correctly: 0.825396825397\n",
      "Precision: 0.825396825397\n",
      "false positive:22\n"
     ]
    },
    {
     "data": {
      "application/vnd.jupyter.widget-view+json": {
       "model_id": "b6227ed566d547e49bd9739c608fe92c",
       "version_major": 2,
       "version_minor": 0
      },
      "text/plain": [
       "A Jupyter Widget"
      ]
     },
     "metadata": {},
     "output_type": "display_data"
    },
    {
     "name": "stdout",
     "output_type": "stream",
     "text": [
      "\n",
      "- - - - - - - - - - - - - STATISTICS ON TO_USE DATASET - - - - - - - - - - - - - - \n",
      "\n",
      "Total number of Green links in training dataset : 381 \n",
      "Total number of links in training dataset : 1524 \n",
      " Number of links predicted correctly: 633\n",
      " Accuracy of links predicted correctly: 0.415354330709\n",
      " Number of Green predicted correctly: 325\n",
      " Accuracy of Green predicted correctly: 0.853018372703\n",
      "Precision: 0.853018372703\n",
      "false positive:56\n",
      "-------\n",
      "\n",
      "Thresold value : 3.85393258427\n"
     ]
    },
    {
     "data": {
      "application/vnd.jupyter.widget-view+json": {
       "model_id": "fb514ca21f3e40a7a8629c7f6381ca8b",
       "version_major": 2,
       "version_minor": 0
      },
      "text/plain": [
       "A Jupyter Widget"
      ]
     },
     "metadata": {},
     "output_type": "display_data"
    },
    {
     "name": "stdout",
     "output_type": "stream",
     "text": [
      "\n",
      "- - - - - - - - - - - - - STATISTICS ON TRAINING DATASET - - - - - - - - - - - - - - \n",
      "\n",
      "Total number of Green links in training dataset : 384 \n",
      "Total number of links in training dataset : 1536 \n",
      " Number of links predicted correctly: 515\n",
      " Accuracy of links predicted correctly: 0.335286458333\n",
      " Number of Green predicted correctly: 384\n",
      " Accuracy of Green predicted correctly: 1.0\n",
      "Precision: 1.0\n",
      "false positive:0\n"
     ]
    },
    {
     "data": {
      "application/vnd.jupyter.widget-view+json": {
       "model_id": "38fe1a7d404d419fa6122a03f87cf0bb",
       "version_major": 2,
       "version_minor": 0
      },
      "text/plain": [
       "A Jupyter Widget"
      ]
     },
     "metadata": {},
     "output_type": "display_data"
    },
    {
     "name": "stdout",
     "output_type": "stream",
     "text": [
      "\n",
      "- - - - - - - - - - - - - STATISTICS ON VALIDATION DATASET - - - - - - - - - - - - - - \n",
      "\n",
      "Total number of Green links in training dataset : 126 \n",
      "Total number of links in training dataset : 504 \n",
      " Number of links predicted correctly: 204\n",
      " Accuracy of links predicted correctly: 0.404761904762\n",
      " Number of Green predicted correctly: 104\n",
      " Accuracy of Green predicted correctly: 0.825396825397\n",
      "Precision: 0.825396825397\n",
      "false positive:22\n"
     ]
    },
    {
     "data": {
      "application/vnd.jupyter.widget-view+json": {
       "model_id": "f13ad09ab6154e779168356c399336ba",
       "version_major": 2,
       "version_minor": 0
      },
      "text/plain": [
       "A Jupyter Widget"
      ]
     },
     "metadata": {},
     "output_type": "display_data"
    },
    {
     "name": "stdout",
     "output_type": "stream",
     "text": [
      "\n",
      "- - - - - - - - - - - - - STATISTICS ON TO_USE DATASET - - - - - - - - - - - - - - \n",
      "\n",
      "Total number of Green links in training dataset : 381 \n",
      "Total number of links in training dataset : 1524 \n",
      " Number of links predicted correctly: 613\n",
      " Accuracy of links predicted correctly: 0.402230971129\n",
      " Number of Green predicted correctly: 329\n",
      " Accuracy of Green predicted correctly: 0.863517060367\n",
      "Precision: 0.863517060367\n",
      "false positive:52\n",
      "-------\n",
      "\n",
      "Thresold value : 3.93258426966\n"
     ]
    },
    {
     "data": {
      "application/vnd.jupyter.widget-view+json": {
       "model_id": "599192b4be0642fa86051e1232e7615a",
       "version_major": 2,
       "version_minor": 0
      },
      "text/plain": [
       "A Jupyter Widget"
      ]
     },
     "metadata": {},
     "output_type": "display_data"
    },
    {
     "name": "stdout",
     "output_type": "stream",
     "text": [
      "\n",
      "- - - - - - - - - - - - - STATISTICS ON TRAINING DATASET - - - - - - - - - - - - - - \n",
      "\n",
      "Total number of Green links in training dataset : 384 \n",
      "Total number of links in training dataset : 1536 \n",
      " Number of links predicted correctly: 485\n",
      " Accuracy of links predicted correctly: 0.315755208333\n",
      " Number of Green predicted correctly: 384\n",
      " Accuracy of Green predicted correctly: 1.0\n",
      "Precision: 1.0\n",
      "false positive:0\n"
     ]
    },
    {
     "data": {
      "application/vnd.jupyter.widget-view+json": {
       "model_id": "3ea00014a08848b7864f63de0a018826",
       "version_major": 2,
       "version_minor": 0
      },
      "text/plain": [
       "A Jupyter Widget"
      ]
     },
     "metadata": {},
     "output_type": "display_data"
    },
    {
     "name": "stdout",
     "output_type": "stream",
     "text": [
      "\n",
      "- - - - - - - - - - - - - STATISTICS ON VALIDATION DATASET - - - - - - - - - - - - - - \n",
      "\n",
      "Total number of Green links in training dataset : 126 \n",
      "Total number of links in training dataset : 504 \n",
      " Number of links predicted correctly: 198\n",
      " Accuracy of links predicted correctly: 0.392857142857\n",
      " Number of Green predicted correctly: 104\n",
      " Accuracy of Green predicted correctly: 0.825396825397\n",
      "Precision: 0.825396825397\n",
      "false positive:22\n"
     ]
    },
    {
     "data": {
      "application/vnd.jupyter.widget-view+json": {
       "model_id": "23ab3b7bb63f4410b9ad410fc40ad014",
       "version_major": 2,
       "version_minor": 0
      },
      "text/plain": [
       "A Jupyter Widget"
      ]
     },
     "metadata": {},
     "output_type": "display_data"
    },
    {
     "name": "stdout",
     "output_type": "stream",
     "text": [
      "\n",
      "- - - - - - - - - - - - - STATISTICS ON TO_USE DATASET - - - - - - - - - - - - - - \n",
      "\n",
      "Total number of Green links in training dataset : 381 \n",
      "Total number of links in training dataset : 1524 \n",
      " Number of links predicted correctly: 591\n",
      " Accuracy of links predicted correctly: 0.387795275591\n",
      " Number of Green predicted correctly: 329\n",
      " Accuracy of Green predicted correctly: 0.863517060367\n",
      "Precision: 0.863517060367\n",
      "false positive:52\n",
      "-------\n",
      "\n",
      "Thresold value : 4.01123595506\n"
     ]
    },
    {
     "data": {
      "application/vnd.jupyter.widget-view+json": {
       "model_id": "b455b2e19bbe42dcbac428b27ea0553b",
       "version_major": 2,
       "version_minor": 0
      },
      "text/plain": [
       "A Jupyter Widget"
      ]
     },
     "metadata": {},
     "output_type": "display_data"
    },
    {
     "name": "stdout",
     "output_type": "stream",
     "text": [
      "\n",
      "- - - - - - - - - - - - - STATISTICS ON TRAINING DATASET - - - - - - - - - - - - - - \n",
      "\n",
      "Total number of Green links in training dataset : 384 \n",
      "Total number of links in training dataset : 1536 \n",
      " Number of links predicted correctly: 458\n",
      " Accuracy of links predicted correctly: 0.298177083333\n",
      " Number of Green predicted correctly: 384\n",
      " Accuracy of Green predicted correctly: 1.0\n",
      "Precision: 1.0\n",
      "false positive:0\n"
     ]
    },
    {
     "data": {
      "application/vnd.jupyter.widget-view+json": {
       "model_id": "600ba85885b6459e8f2feae7b9dbe43b",
       "version_major": 2,
       "version_minor": 0
      },
      "text/plain": [
       "A Jupyter Widget"
      ]
     },
     "metadata": {},
     "output_type": "display_data"
    },
    {
     "name": "stdout",
     "output_type": "stream",
     "text": [
      "\n",
      "- - - - - - - - - - - - - STATISTICS ON VALIDATION DATASET - - - - - - - - - - - - - - \n",
      "\n",
      "Total number of Green links in training dataset : 126 \n",
      "Total number of links in training dataset : 504 \n",
      " Number of links predicted correctly: 193\n",
      " Accuracy of links predicted correctly: 0.382936507937\n",
      " Number of Green predicted correctly: 105\n",
      " Accuracy of Green predicted correctly: 0.833333333333\n",
      "Precision: 0.833333333333\n",
      "false positive:21\n"
     ]
    },
    {
     "data": {
      "application/vnd.jupyter.widget-view+json": {
       "model_id": "77067ec673274dd5aad55c6868e00e03",
       "version_major": 2,
       "version_minor": 0
      },
      "text/plain": [
       "A Jupyter Widget"
      ]
     },
     "metadata": {},
     "output_type": "display_data"
    },
    {
     "name": "stdout",
     "output_type": "stream",
     "text": [
      "\n",
      "- - - - - - - - - - - - - STATISTICS ON TO_USE DATASET - - - - - - - - - - - - - - \n",
      "\n",
      "Total number of Green links in training dataset : 381 \n",
      "Total number of links in training dataset : 1524 \n",
      " Number of links predicted correctly: 565\n",
      " Accuracy of links predicted correctly: 0.370734908136\n",
      " Number of Green predicted correctly: 330\n",
      " Accuracy of Green predicted correctly: 0.866141732283\n",
      "Precision: 0.866141732283\n",
      "false positive:51\n",
      "-------\n",
      "\n",
      "Thresold value : 4.08988764045\n"
     ]
    },
    {
     "data": {
      "application/vnd.jupyter.widget-view+json": {
       "model_id": "c0b544da5b504959b06b9938c454ab12",
       "version_major": 2,
       "version_minor": 0
      },
      "text/plain": [
       "A Jupyter Widget"
      ]
     },
     "metadata": {},
     "output_type": "display_data"
    },
    {
     "name": "stdout",
     "output_type": "stream",
     "text": [
      "\n",
      "- - - - - - - - - - - - - STATISTICS ON TRAINING DATASET - - - - - - - - - - - - - - \n",
      "\n",
      "Total number of Green links in training dataset : 384 \n",
      "Total number of links in training dataset : 1536 \n",
      " Number of links predicted correctly: 429\n",
      " Accuracy of links predicted correctly: 0.279296875\n",
      " Number of Green predicted correctly: 384\n",
      " Accuracy of Green predicted correctly: 1.0\n",
      "Precision: 1.0\n",
      "false positive:0\n"
     ]
    },
    {
     "data": {
      "application/vnd.jupyter.widget-view+json": {
       "model_id": "8e65e78437684a3bb56704d46d90c5fe",
       "version_major": 2,
       "version_minor": 0
      },
      "text/plain": [
       "A Jupyter Widget"
      ]
     },
     "metadata": {},
     "output_type": "display_data"
    },
    {
     "name": "stdout",
     "output_type": "stream",
     "text": [
      "\n",
      "- - - - - - - - - - - - - STATISTICS ON VALIDATION DATASET - - - - - - - - - - - - - - \n",
      "\n",
      "Total number of Green links in training dataset : 126 \n",
      "Total number of links in training dataset : 504 \n",
      " Number of links predicted correctly: 193\n",
      " Accuracy of links predicted correctly: 0.382936507937\n",
      " Number of Green predicted correctly: 106\n",
      " Accuracy of Green predicted correctly: 0.84126984127\n",
      "Precision: 0.84126984127\n",
      "false positive:20\n"
     ]
    },
    {
     "data": {
      "application/vnd.jupyter.widget-view+json": {
       "model_id": "07c620ae1cbe4a0abece334d41cac61f",
       "version_major": 2,
       "version_minor": 0
      },
      "text/plain": [
       "A Jupyter Widget"
      ]
     },
     "metadata": {},
     "output_type": "display_data"
    },
    {
     "name": "stdout",
     "output_type": "stream",
     "text": [
      "\n",
      "- - - - - - - - - - - - - STATISTICS ON TO_USE DATASET - - - - - - - - - - - - - - \n",
      "\n",
      "Total number of Green links in training dataset : 381 \n",
      "Total number of links in training dataset : 1524 \n",
      " Number of links predicted correctly: 545\n",
      " Accuracy of links predicted correctly: 0.357611548556\n",
      " Number of Green predicted correctly: 330\n",
      " Accuracy of Green predicted correctly: 0.866141732283\n",
      "Precision: 0.866141732283\n",
      "false positive:51\n",
      "-------\n",
      "\n",
      "Thresold value : 4.16853932584\n"
     ]
    },
    {
     "data": {
      "application/vnd.jupyter.widget-view+json": {
       "model_id": "ab9b57dfd601407cbc90bf99241d8f13",
       "version_major": 2,
       "version_minor": 0
      },
      "text/plain": [
       "A Jupyter Widget"
      ]
     },
     "metadata": {},
     "output_type": "display_data"
    },
    {
     "name": "stdout",
     "output_type": "stream",
     "text": [
      "\n",
      "- - - - - - - - - - - - - STATISTICS ON TRAINING DATASET - - - - - - - - - - - - - - \n",
      "\n",
      "Total number of Green links in training dataset : 384 \n",
      "Total number of links in training dataset : 1536 \n",
      " Number of links predicted correctly: 412\n",
      " Accuracy of links predicted correctly: 0.268229166667\n",
      " Number of Green predicted correctly: 384\n",
      " Accuracy of Green predicted correctly: 1.0\n",
      "Precision: 1.0\n",
      "false positive:0\n"
     ]
    },
    {
     "data": {
      "application/vnd.jupyter.widget-view+json": {
       "model_id": "5f53bd9b8fee4018b84f9bc7ac1c5c4f",
       "version_major": 2,
       "version_minor": 0
      },
      "text/plain": [
       "A Jupyter Widget"
      ]
     },
     "metadata": {},
     "output_type": "display_data"
    },
    {
     "name": "stdout",
     "output_type": "stream",
     "text": [
      "\n",
      "- - - - - - - - - - - - - STATISTICS ON VALIDATION DATASET - - - - - - - - - - - - - - \n",
      "\n",
      "Total number of Green links in training dataset : 126 \n",
      "Total number of links in training dataset : 504 \n",
      " Number of links predicted correctly: 184\n",
      " Accuracy of links predicted correctly: 0.365079365079\n",
      " Number of Green predicted correctly: 107\n",
      " Accuracy of Green predicted correctly: 0.849206349206\n",
      "Precision: 0.849206349206\n",
      "false positive:19\n"
     ]
    },
    {
     "data": {
      "application/vnd.jupyter.widget-view+json": {
       "model_id": "808e764b5b964c0dbd062434fa2d049a",
       "version_major": 2,
       "version_minor": 0
      },
      "text/plain": [
       "A Jupyter Widget"
      ]
     },
     "metadata": {},
     "output_type": "display_data"
    },
    {
     "name": "stdout",
     "output_type": "stream",
     "text": [
      "\n",
      "- - - - - - - - - - - - - STATISTICS ON TO_USE DATASET - - - - - - - - - - - - - - \n",
      "\n",
      "Total number of Green links in training dataset : 381 \n",
      "Total number of links in training dataset : 1524 \n",
      " Number of links predicted correctly: 532\n",
      " Accuracy of links predicted correctly: 0.349081364829\n",
      " Number of Green predicted correctly: 334\n",
      " Accuracy of Green predicted correctly: 0.876640419948\n",
      "Precision: 0.876640419948\n",
      "false positive:47\n",
      "-------\n",
      "\n",
      "Thresold value : 4.24719101124\n"
     ]
    },
    {
     "data": {
      "application/vnd.jupyter.widget-view+json": {
       "model_id": "65147a6f20d044f7818639a1db9b41bf",
       "version_major": 2,
       "version_minor": 0
      },
      "text/plain": [
       "A Jupyter Widget"
      ]
     },
     "metadata": {},
     "output_type": "display_data"
    },
    {
     "name": "stdout",
     "output_type": "stream",
     "text": [
      "\n",
      "- - - - - - - - - - - - - STATISTICS ON TRAINING DATASET - - - - - - - - - - - - - - \n",
      "\n",
      "Total number of Green links in training dataset : 384 \n",
      "Total number of links in training dataset : 1536 \n",
      " Number of links predicted correctly: 401\n",
      " Accuracy of links predicted correctly: 0.261067708333\n",
      " Number of Green predicted correctly: 384\n",
      " Accuracy of Green predicted correctly: 1.0\n",
      "Precision: 1.0\n",
      "false positive:0\n"
     ]
    },
    {
     "data": {
      "application/vnd.jupyter.widget-view+json": {
       "model_id": "019e1ae10e7e407d9d2713267dc5e97e",
       "version_major": 2,
       "version_minor": 0
      },
      "text/plain": [
       "A Jupyter Widget"
      ]
     },
     "metadata": {},
     "output_type": "display_data"
    },
    {
     "name": "stdout",
     "output_type": "stream",
     "text": [
      "\n",
      "- - - - - - - - - - - - - STATISTICS ON VALIDATION DATASET - - - - - - - - - - - - - - \n",
      "\n",
      "Total number of Green links in training dataset : 126 \n",
      "Total number of links in training dataset : 504 \n",
      " Number of links predicted correctly: 180\n",
      " Accuracy of links predicted correctly: 0.357142857143\n",
      " Number of Green predicted correctly: 107\n",
      " Accuracy of Green predicted correctly: 0.849206349206\n",
      "Precision: 0.849206349206\n",
      "false positive:19\n"
     ]
    },
    {
     "data": {
      "application/vnd.jupyter.widget-view+json": {
       "model_id": "74048d0124704d51897d3477d94d91fc",
       "version_major": 2,
       "version_minor": 0
      },
      "text/plain": [
       "A Jupyter Widget"
      ]
     },
     "metadata": {},
     "output_type": "display_data"
    },
    {
     "name": "stdout",
     "output_type": "stream",
     "text": [
      "\n",
      "- - - - - - - - - - - - - STATISTICS ON TO_USE DATASET - - - - - - - - - - - - - - \n",
      "\n",
      "Total number of Green links in training dataset : 381 \n",
      "Total number of links in training dataset : 1524 \n",
      " Number of links predicted correctly: 525\n",
      " Accuracy of links predicted correctly: 0.344488188976\n",
      " Number of Green predicted correctly: 334\n",
      " Accuracy of Green predicted correctly: 0.876640419948\n",
      "Precision: 0.876640419948\n",
      "false positive:47\n",
      "-------\n",
      "\n",
      "Thresold value : 4.32584269663\n"
     ]
    },
    {
     "data": {
      "application/vnd.jupyter.widget-view+json": {
       "model_id": "f7510c8181d941d583066ea0bb91dc21",
       "version_major": 2,
       "version_minor": 0
      },
      "text/plain": [
       "A Jupyter Widget"
      ]
     },
     "metadata": {},
     "output_type": "display_data"
    },
    {
     "name": "stdout",
     "output_type": "stream",
     "text": [
      "\n",
      "- - - - - - - - - - - - - STATISTICS ON TRAINING DATASET - - - - - - - - - - - - - - \n",
      "\n",
      "Total number of Green links in training dataset : 384 \n",
      "Total number of links in training dataset : 1536 \n",
      " Number of links predicted correctly: 393\n",
      " Accuracy of links predicted correctly: 0.255859375\n",
      " Number of Green predicted correctly: 384\n",
      " Accuracy of Green predicted correctly: 1.0\n",
      "Precision: 1.0\n",
      "false positive:0\n"
     ]
    },
    {
     "data": {
      "application/vnd.jupyter.widget-view+json": {
       "model_id": "d133f3a6c47b4b3ba053875dd700b128",
       "version_major": 2,
       "version_minor": 0
      },
      "text/plain": [
       "A Jupyter Widget"
      ]
     },
     "metadata": {},
     "output_type": "display_data"
    },
    {
     "name": "stdout",
     "output_type": "stream",
     "text": [
      "\n",
      "- - - - - - - - - - - - - STATISTICS ON VALIDATION DATASET - - - - - - - - - - - - - - \n",
      "\n",
      "Total number of Green links in training dataset : 126 \n",
      "Total number of links in training dataset : 504 \n",
      " Number of links predicted correctly: 176\n",
      " Accuracy of links predicted correctly: 0.349206349206\n",
      " Number of Green predicted correctly: 109\n",
      " Accuracy of Green predicted correctly: 0.865079365079\n",
      "Precision: 0.865079365079\n",
      "false positive:17\n"
     ]
    },
    {
     "data": {
      "application/vnd.jupyter.widget-view+json": {
       "model_id": "d5bb43418c3649869ff149b7b50789a3",
       "version_major": 2,
       "version_minor": 0
      },
      "text/plain": [
       "A Jupyter Widget"
      ]
     },
     "metadata": {},
     "output_type": "display_data"
    },
    {
     "name": "stdout",
     "output_type": "stream",
     "text": [
      "\n",
      "- - - - - - - - - - - - - STATISTICS ON TO_USE DATASET - - - - - - - - - - - - - - \n",
      "\n",
      "Total number of Green links in training dataset : 381 \n",
      "Total number of links in training dataset : 1524 \n",
      " Number of links predicted correctly: 513\n",
      " Accuracy of links predicted correctly: 0.336614173228\n",
      " Number of Green predicted correctly: 334\n",
      " Accuracy of Green predicted correctly: 0.876640419948\n",
      "Precision: 0.876640419948\n",
      "false positive:47\n",
      "-------\n",
      "\n",
      "Thresold value : 4.40449438202\n"
     ]
    },
    {
     "data": {
      "application/vnd.jupyter.widget-view+json": {
       "model_id": "b269b743d9234993ab31448408756e6c",
       "version_major": 2,
       "version_minor": 0
      },
      "text/plain": [
       "A Jupyter Widget"
      ]
     },
     "metadata": {},
     "output_type": "display_data"
    },
    {
     "name": "stdout",
     "output_type": "stream",
     "text": [
      "\n",
      "- - - - - - - - - - - - - STATISTICS ON TRAINING DATASET - - - - - - - - - - - - - - \n",
      "\n",
      "Total number of Green links in training dataset : 384 \n",
      "Total number of links in training dataset : 1536 \n",
      " Number of links predicted correctly: 391\n",
      " Accuracy of links predicted correctly: 0.254557291667\n",
      " Number of Green predicted correctly: 384\n",
      " Accuracy of Green predicted correctly: 1.0\n",
      "Precision: 1.0\n",
      "false positive:0\n"
     ]
    },
    {
     "data": {
      "application/vnd.jupyter.widget-view+json": {
       "model_id": "c99470a9909a4197bbe9082bccaedd6c",
       "version_major": 2,
       "version_minor": 0
      },
      "text/plain": [
       "A Jupyter Widget"
      ]
     },
     "metadata": {},
     "output_type": "display_data"
    },
    {
     "name": "stdout",
     "output_type": "stream",
     "text": [
      "\n",
      "- - - - - - - - - - - - - STATISTICS ON VALIDATION DATASET - - - - - - - - - - - - - - \n",
      "\n",
      "Total number of Green links in training dataset : 126 \n",
      "Total number of links in training dataset : 504 \n",
      " Number of links predicted correctly: 176\n",
      " Accuracy of links predicted correctly: 0.349206349206\n",
      " Number of Green predicted correctly: 109\n",
      " Accuracy of Green predicted correctly: 0.865079365079\n",
      "Precision: 0.865079365079\n",
      "false positive:17\n"
     ]
    },
    {
     "data": {
      "application/vnd.jupyter.widget-view+json": {
       "model_id": "ef5abb7b1c3641d587aff28090bee1bc",
       "version_major": 2,
       "version_minor": 0
      },
      "text/plain": [
       "A Jupyter Widget"
      ]
     },
     "metadata": {},
     "output_type": "display_data"
    },
    {
     "name": "stdout",
     "output_type": "stream",
     "text": [
      "\n",
      "- - - - - - - - - - - - - STATISTICS ON TO_USE DATASET - - - - - - - - - - - - - - \n",
      "\n",
      "Total number of Green links in training dataset : 381 \n",
      "Total number of links in training dataset : 1524 \n",
      " Number of links predicted correctly: 507\n",
      " Accuracy of links predicted correctly: 0.332677165354\n",
      " Number of Green predicted correctly: 335\n",
      " Accuracy of Green predicted correctly: 0.879265091864\n",
      "Precision: 0.879265091864\n",
      "false positive:46\n",
      "-------\n",
      "\n",
      "Thresold value : 4.48314606742\n"
     ]
    },
    {
     "data": {
      "application/vnd.jupyter.widget-view+json": {
       "model_id": "3decf1e9652b4641a2fd334e571f1d0b",
       "version_major": 2,
       "version_minor": 0
      },
      "text/plain": [
       "A Jupyter Widget"
      ]
     },
     "metadata": {},
     "output_type": "display_data"
    },
    {
     "name": "stdout",
     "output_type": "stream",
     "text": [
      "\n",
      "- - - - - - - - - - - - - STATISTICS ON TRAINING DATASET - - - - - - - - - - - - - - \n",
      "\n",
      "Total number of Green links in training dataset : 384 \n",
      "Total number of links in training dataset : 1536 \n",
      " Number of links predicted correctly: 390\n",
      " Accuracy of links predicted correctly: 0.25390625\n",
      " Number of Green predicted correctly: 384\n",
      " Accuracy of Green predicted correctly: 1.0\n",
      "Precision: 1.0\n",
      "false positive:0\n"
     ]
    },
    {
     "data": {
      "application/vnd.jupyter.widget-view+json": {
       "model_id": "c176abb3920e4418890fd9608fda82ac",
       "version_major": 2,
       "version_minor": 0
      },
      "text/plain": [
       "A Jupyter Widget"
      ]
     },
     "metadata": {},
     "output_type": "display_data"
    },
    {
     "name": "stdout",
     "output_type": "stream",
     "text": [
      "\n",
      "- - - - - - - - - - - - - STATISTICS ON VALIDATION DATASET - - - - - - - - - - - - - - \n",
      "\n",
      "Total number of Green links in training dataset : 126 \n",
      "Total number of links in training dataset : 504 \n",
      " Number of links predicted correctly: 173\n",
      " Accuracy of links predicted correctly: 0.343253968254\n",
      " Number of Green predicted correctly: 109\n",
      " Accuracy of Green predicted correctly: 0.865079365079\n",
      "Precision: 0.865079365079\n",
      "false positive:17\n"
     ]
    },
    {
     "data": {
      "application/vnd.jupyter.widget-view+json": {
       "model_id": "1f8c5b12a5da4ec2a86c4d8a6c2a23e8",
       "version_major": 2,
       "version_minor": 0
      },
      "text/plain": [
       "A Jupyter Widget"
      ]
     },
     "metadata": {},
     "output_type": "display_data"
    },
    {
     "name": "stdout",
     "output_type": "stream",
     "text": [
      "\n",
      "- - - - - - - - - - - - - STATISTICS ON TO_USE DATASET - - - - - - - - - - - - - - \n",
      "\n",
      "Total number of Green links in training dataset : 381 \n",
      "Total number of links in training dataset : 1524 \n",
      " Number of links predicted correctly: 496\n",
      " Accuracy of links predicted correctly: 0.325459317585\n",
      " Number of Green predicted correctly: 335\n",
      " Accuracy of Green predicted correctly: 0.879265091864\n",
      "Precision: 0.879265091864\n",
      "false positive:46\n",
      "-------\n",
      "\n",
      "Thresold value : 4.56179775281\n"
     ]
    },
    {
     "data": {
      "application/vnd.jupyter.widget-view+json": {
       "model_id": "bfe0113afcb044e3be7dfdac79f6cc9f",
       "version_major": 2,
       "version_minor": 0
      },
      "text/plain": [
       "A Jupyter Widget"
      ]
     },
     "metadata": {},
     "output_type": "display_data"
    },
    {
     "name": "stdout",
     "output_type": "stream",
     "text": [
      "\n",
      "- - - - - - - - - - - - - STATISTICS ON TRAINING DATASET - - - - - - - - - - - - - - \n",
      "\n",
      "Total number of Green links in training dataset : 384 \n",
      "Total number of links in training dataset : 1536 \n",
      " Number of links predicted correctly: 387\n",
      " Accuracy of links predicted correctly: 0.251953125\n",
      " Number of Green predicted correctly: 384\n",
      " Accuracy of Green predicted correctly: 1.0\n",
      "Precision: 1.0\n",
      "false positive:0\n"
     ]
    },
    {
     "data": {
      "application/vnd.jupyter.widget-view+json": {
       "model_id": "ff2ebc4745f94cdbbf0caa00f0236c02",
       "version_major": 2,
       "version_minor": 0
      },
      "text/plain": [
       "A Jupyter Widget"
      ]
     },
     "metadata": {},
     "output_type": "display_data"
    },
    {
     "name": "stdout",
     "output_type": "stream",
     "text": [
      "\n",
      "- - - - - - - - - - - - - STATISTICS ON VALIDATION DATASET - - - - - - - - - - - - - - \n",
      "\n",
      "Total number of Green links in training dataset : 126 \n",
      "Total number of links in training dataset : 504 \n",
      " Number of links predicted correctly: 170\n",
      " Accuracy of links predicted correctly: 0.337301587302\n",
      " Number of Green predicted correctly: 109\n",
      " Accuracy of Green predicted correctly: 0.865079365079\n",
      "Precision: 0.865079365079\n",
      "false positive:17\n"
     ]
    },
    {
     "data": {
      "application/vnd.jupyter.widget-view+json": {
       "model_id": "ce0495b09a0347ffa26a22409a5e0b93",
       "version_major": 2,
       "version_minor": 0
      },
      "text/plain": [
       "A Jupyter Widget"
      ]
     },
     "metadata": {},
     "output_type": "display_data"
    },
    {
     "name": "stdout",
     "output_type": "stream",
     "text": [
      "\n",
      "- - - - - - - - - - - - - STATISTICS ON TO_USE DATASET - - - - - - - - - - - - - - \n",
      "\n",
      "Total number of Green links in training dataset : 381 \n",
      "Total number of links in training dataset : 1524 \n",
      " Number of links predicted correctly: 490\n",
      " Accuracy of links predicted correctly: 0.321522309711\n",
      " Number of Green predicted correctly: 335\n",
      " Accuracy of Green predicted correctly: 0.879265091864\n",
      "Precision: 0.879265091864\n",
      "false positive:46\n",
      "-------\n",
      "\n",
      "Thresold value : 4.6404494382\n"
     ]
    },
    {
     "data": {
      "application/vnd.jupyter.widget-view+json": {
       "model_id": "46ce9c42ea9d41a7b05b23a9ca6fc7b2",
       "version_major": 2,
       "version_minor": 0
      },
      "text/plain": [
       "A Jupyter Widget"
      ]
     },
     "metadata": {},
     "output_type": "display_data"
    },
    {
     "name": "stdout",
     "output_type": "stream",
     "text": [
      "\n",
      "- - - - - - - - - - - - - STATISTICS ON TRAINING DATASET - - - - - - - - - - - - - - \n",
      "\n",
      "Total number of Green links in training dataset : 384 \n",
      "Total number of links in training dataset : 1536 \n",
      " Number of links predicted correctly: 385\n",
      " Accuracy of links predicted correctly: 0.250651041667\n",
      " Number of Green predicted correctly: 384\n",
      " Accuracy of Green predicted correctly: 1.0\n",
      "Precision: 1.0\n",
      "false positive:0\n"
     ]
    },
    {
     "data": {
      "application/vnd.jupyter.widget-view+json": {
       "model_id": "b5993d88900047fe99b6a28b31c0d428",
       "version_major": 2,
       "version_minor": 0
      },
      "text/plain": [
       "A Jupyter Widget"
      ]
     },
     "metadata": {},
     "output_type": "display_data"
    },
    {
     "name": "stdout",
     "output_type": "stream",
     "text": [
      "\n",
      "- - - - - - - - - - - - - STATISTICS ON VALIDATION DATASET - - - - - - - - - - - - - - \n",
      "\n",
      "Total number of Green links in training dataset : 126 \n",
      "Total number of links in training dataset : 504 \n",
      " Number of links predicted correctly: 166\n",
      " Accuracy of links predicted correctly: 0.329365079365\n",
      " Number of Green predicted correctly: 109\n",
      " Accuracy of Green predicted correctly: 0.865079365079\n",
      "Precision: 0.865079365079\n",
      "false positive:17\n"
     ]
    },
    {
     "data": {
      "application/vnd.jupyter.widget-view+json": {
       "model_id": "4a912dae32d841369cab2cbeae7f1c5f",
       "version_major": 2,
       "version_minor": 0
      },
      "text/plain": [
       "A Jupyter Widget"
      ]
     },
     "metadata": {},
     "output_type": "display_data"
    },
    {
     "name": "stdout",
     "output_type": "stream",
     "text": [
      "\n",
      "- - - - - - - - - - - - - STATISTICS ON TO_USE DATASET - - - - - - - - - - - - - - \n",
      "\n",
      "Total number of Green links in training dataset : 381 \n",
      "Total number of links in training dataset : 1524 \n",
      " Number of links predicted correctly: 481\n",
      " Accuracy of links predicted correctly: 0.3156167979\n",
      " Number of Green predicted correctly: 335\n",
      " Accuracy of Green predicted correctly: 0.879265091864\n",
      "Precision: 0.879265091864\n",
      "false positive:46\n",
      "-------\n",
      "\n",
      "Thresold value : 4.7191011236\n"
     ]
    },
    {
     "data": {
      "application/vnd.jupyter.widget-view+json": {
       "model_id": "0b152cbae4f14756948ff283fd3db8eb",
       "version_major": 2,
       "version_minor": 0
      },
      "text/plain": [
       "A Jupyter Widget"
      ]
     },
     "metadata": {},
     "output_type": "display_data"
    },
    {
     "name": "stdout",
     "output_type": "stream",
     "text": [
      "\n",
      "- - - - - - - - - - - - - STATISTICS ON TRAINING DATASET - - - - - - - - - - - - - - \n",
      "\n",
      "Total number of Green links in training dataset : 384 \n",
      "Total number of links in training dataset : 1536 \n",
      " Number of links predicted correctly: 385\n",
      " Accuracy of links predicted correctly: 0.250651041667\n",
      " Number of Green predicted correctly: 384\n",
      " Accuracy of Green predicted correctly: 1.0\n",
      "Precision: 1.0\n",
      "false positive:0\n"
     ]
    },
    {
     "data": {
      "application/vnd.jupyter.widget-view+json": {
       "model_id": "1314fdedf9c24c22add01906f9760166",
       "version_major": 2,
       "version_minor": 0
      },
      "text/plain": [
       "A Jupyter Widget"
      ]
     },
     "metadata": {},
     "output_type": "display_data"
    },
    {
     "name": "stdout",
     "output_type": "stream",
     "text": [
      "\n",
      "- - - - - - - - - - - - - STATISTICS ON VALIDATION DATASET - - - - - - - - - - - - - - \n",
      "\n",
      "Total number of Green links in training dataset : 126 \n",
      "Total number of links in training dataset : 504 \n",
      " Number of links predicted correctly: 166\n",
      " Accuracy of links predicted correctly: 0.329365079365\n",
      " Number of Green predicted correctly: 110\n",
      " Accuracy of Green predicted correctly: 0.873015873016\n",
      "Precision: 0.873015873016\n",
      "false positive:16\n"
     ]
    },
    {
     "data": {
      "application/vnd.jupyter.widget-view+json": {
       "model_id": "55b69aeab10e4dc2a35aafc89cfc2fdf",
       "version_major": 2,
       "version_minor": 0
      },
      "text/plain": [
       "A Jupyter Widget"
      ]
     },
     "metadata": {},
     "output_type": "display_data"
    },
    {
     "name": "stdout",
     "output_type": "stream",
     "text": [
      "\n",
      "- - - - - - - - - - - - - STATISTICS ON TO_USE DATASET - - - - - - - - - - - - - - \n",
      "\n",
      "Total number of Green links in training dataset : 381 \n",
      "Total number of links in training dataset : 1524 \n",
      " Number of links predicted correctly: 477\n",
      " Accuracy of links predicted correctly: 0.312992125984\n",
      " Number of Green predicted correctly: 335\n",
      " Accuracy of Green predicted correctly: 0.879265091864\n",
      "Precision: 0.879265091864\n",
      "false positive:46\n",
      "-------\n",
      "\n",
      "Thresold value : 4.79775280899\n"
     ]
    },
    {
     "data": {
      "application/vnd.jupyter.widget-view+json": {
       "model_id": "322c16ceb10448e1be350a396422cb14",
       "version_major": 2,
       "version_minor": 0
      },
      "text/plain": [
       "A Jupyter Widget"
      ]
     },
     "metadata": {},
     "output_type": "display_data"
    },
    {
     "name": "stdout",
     "output_type": "stream",
     "text": [
      "\n",
      "- - - - - - - - - - - - - STATISTICS ON TRAINING DATASET - - - - - - - - - - - - - - \n",
      "\n",
      "Total number of Green links in training dataset : 384 \n",
      "Total number of links in training dataset : 1536 \n",
      " Number of links predicted correctly: 385\n",
      " Accuracy of links predicted correctly: 0.250651041667\n",
      " Number of Green predicted correctly: 384\n",
      " Accuracy of Green predicted correctly: 1.0\n",
      "Precision: 1.0\n",
      "false positive:0\n"
     ]
    },
    {
     "data": {
      "application/vnd.jupyter.widget-view+json": {
       "model_id": "f0134571c1264a308b234d03dad0db0d",
       "version_major": 2,
       "version_minor": 0
      },
      "text/plain": [
       "A Jupyter Widget"
      ]
     },
     "metadata": {},
     "output_type": "display_data"
    },
    {
     "name": "stdout",
     "output_type": "stream",
     "text": [
      "\n",
      "- - - - - - - - - - - - - STATISTICS ON VALIDATION DATASET - - - - - - - - - - - - - - \n",
      "\n",
      "Total number of Green links in training dataset : 126 \n",
      "Total number of links in training dataset : 504 \n",
      " Number of links predicted correctly: 166\n",
      " Accuracy of links predicted correctly: 0.329365079365\n",
      " Number of Green predicted correctly: 110\n",
      " Accuracy of Green predicted correctly: 0.873015873016\n",
      "Precision: 0.873015873016\n",
      "false positive:16\n"
     ]
    },
    {
     "data": {
      "application/vnd.jupyter.widget-view+json": {
       "model_id": "cfe0ef5c60a54f0fb857770ef6ec6f72",
       "version_major": 2,
       "version_minor": 0
      },
      "text/plain": [
       "A Jupyter Widget"
      ]
     },
     "metadata": {},
     "output_type": "display_data"
    },
    {
     "name": "stdout",
     "output_type": "stream",
     "text": [
      "\n",
      "- - - - - - - - - - - - - STATISTICS ON TO_USE DATASET - - - - - - - - - - - - - - \n",
      "\n",
      "Total number of Green links in training dataset : 381 \n",
      "Total number of links in training dataset : 1524 \n",
      " Number of links predicted correctly: 474\n",
      " Accuracy of links predicted correctly: 0.311023622047\n",
      " Number of Green predicted correctly: 335\n",
      " Accuracy of Green predicted correctly: 0.879265091864\n",
      "Precision: 0.879265091864\n",
      "false positive:46\n",
      "-------\n",
      "\n",
      "Thresold value : 4.87640449438\n"
     ]
    },
    {
     "data": {
      "application/vnd.jupyter.widget-view+json": {
       "model_id": "fadae70094894abc846accbdcf3b47e3",
       "version_major": 2,
       "version_minor": 0
      },
      "text/plain": [
       "A Jupyter Widget"
      ]
     },
     "metadata": {},
     "output_type": "display_data"
    },
    {
     "name": "stdout",
     "output_type": "stream",
     "text": [
      "\n",
      "- - - - - - - - - - - - - STATISTICS ON TRAINING DATASET - - - - - - - - - - - - - - \n",
      "\n",
      "Total number of Green links in training dataset : 384 \n",
      "Total number of links in training dataset : 1536 \n",
      " Number of links predicted correctly: 384\n",
      " Accuracy of links predicted correctly: 0.25\n",
      " Number of Green predicted correctly: 384\n",
      " Accuracy of Green predicted correctly: 1.0\n",
      "Precision: 1.0\n",
      "false positive:0\n"
     ]
    },
    {
     "data": {
      "application/vnd.jupyter.widget-view+json": {
       "model_id": "38c948acc7064e0bb95c4490f7685b7a",
       "version_major": 2,
       "version_minor": 0
      },
      "text/plain": [
       "A Jupyter Widget"
      ]
     },
     "metadata": {},
     "output_type": "display_data"
    },
    {
     "name": "stdout",
     "output_type": "stream",
     "text": [
      "\n",
      "- - - - - - - - - - - - - STATISTICS ON VALIDATION DATASET - - - - - - - - - - - - - - \n",
      "\n",
      "Total number of Green links in training dataset : 126 \n",
      "Total number of links in training dataset : 504 \n",
      " Number of links predicted correctly: 167\n",
      " Accuracy of links predicted correctly: 0.331349206349\n",
      " Number of Green predicted correctly: 111\n",
      " Accuracy of Green predicted correctly: 0.880952380952\n",
      "Precision: 0.880952380952\n",
      "false positive:15\n"
     ]
    },
    {
     "data": {
      "application/vnd.jupyter.widget-view+json": {
       "model_id": "30c19b000ce04fa0af1157bc56a1770d",
       "version_major": 2,
       "version_minor": 0
      },
      "text/plain": [
       "A Jupyter Widget"
      ]
     },
     "metadata": {},
     "output_type": "display_data"
    },
    {
     "name": "stdout",
     "output_type": "stream",
     "text": [
      "\n",
      "- - - - - - - - - - - - - STATISTICS ON TO_USE DATASET - - - - - - - - - - - - - - \n",
      "\n",
      "Total number of Green links in training dataset : 381 \n",
      "Total number of links in training dataset : 1524 \n",
      " Number of links predicted correctly: 473\n",
      " Accuracy of links predicted correctly: 0.310367454068\n",
      " Number of Green predicted correctly: 335\n",
      " Accuracy of Green predicted correctly: 0.879265091864\n",
      "Precision: 0.879265091864\n",
      "false positive:46\n",
      "-------\n",
      "\n",
      "Thresold value : 4.95505617978\n"
     ]
    },
    {
     "data": {
      "application/vnd.jupyter.widget-view+json": {
       "model_id": "ceeb8dc84a544aa9858e4f3cca9d10b7",
       "version_major": 2,
       "version_minor": 0
      },
      "text/plain": [
       "A Jupyter Widget"
      ]
     },
     "metadata": {},
     "output_type": "display_data"
    },
    {
     "name": "stdout",
     "output_type": "stream",
     "text": [
      "\n",
      "- - - - - - - - - - - - - STATISTICS ON TRAINING DATASET - - - - - - - - - - - - - - \n",
      "\n",
      "Total number of Green links in training dataset : 384 \n",
      "Total number of links in training dataset : 1536 \n",
      " Number of links predicted correctly: 384\n",
      " Accuracy of links predicted correctly: 0.25\n",
      " Number of Green predicted correctly: 384\n",
      " Accuracy of Green predicted correctly: 1.0\n",
      "Precision: 1.0\n",
      "false positive:0\n"
     ]
    },
    {
     "data": {
      "application/vnd.jupyter.widget-view+json": {
       "model_id": "afbcb80bc08646abaf3adeaf7bc328d7",
       "version_major": 2,
       "version_minor": 0
      },
      "text/plain": [
       "A Jupyter Widget"
      ]
     },
     "metadata": {},
     "output_type": "display_data"
    },
    {
     "name": "stdout",
     "output_type": "stream",
     "text": [
      "\n",
      "- - - - - - - - - - - - - STATISTICS ON VALIDATION DATASET - - - - - - - - - - - - - - \n",
      "\n",
      "Total number of Green links in training dataset : 126 \n",
      "Total number of links in training dataset : 504 \n",
      " Number of links predicted correctly: 165\n",
      " Accuracy of links predicted correctly: 0.327380952381\n",
      " Number of Green predicted correctly: 111\n",
      " Accuracy of Green predicted correctly: 0.880952380952\n",
      "Precision: 0.880952380952\n",
      "false positive:15\n"
     ]
    },
    {
     "data": {
      "application/vnd.jupyter.widget-view+json": {
       "model_id": "7ea71f5b5e3043c8bfba8493f6b5cac8",
       "version_major": 2,
       "version_minor": 0
      },
      "text/plain": [
       "A Jupyter Widget"
      ]
     },
     "metadata": {},
     "output_type": "display_data"
    },
    {
     "name": "stdout",
     "output_type": "stream",
     "text": [
      "\n",
      "- - - - - - - - - - - - - STATISTICS ON TO_USE DATASET - - - - - - - - - - - - - - \n",
      "\n",
      "Total number of Green links in training dataset : 381 \n",
      "Total number of links in training dataset : 1524 \n",
      " Number of links predicted correctly: 471\n",
      " Accuracy of links predicted correctly: 0.30905511811\n",
      " Number of Green predicted correctly: 336\n",
      " Accuracy of Green predicted correctly: 0.88188976378\n",
      "Precision: 0.88188976378\n",
      "false positive:45\n",
      "-------\n",
      "\n",
      "Thresold value : 5.03370786517\n"
     ]
    },
    {
     "data": {
      "application/vnd.jupyter.widget-view+json": {
       "model_id": "3ab47a3b205944958cd1667f27990c0c",
       "version_major": 2,
       "version_minor": 0
      },
      "text/plain": [
       "A Jupyter Widget"
      ]
     },
     "metadata": {},
     "output_type": "display_data"
    },
    {
     "name": "stdout",
     "output_type": "stream",
     "text": [
      "\n",
      "- - - - - - - - - - - - - STATISTICS ON TRAINING DATASET - - - - - - - - - - - - - - \n",
      "\n",
      "Total number of Green links in training dataset : 384 \n",
      "Total number of links in training dataset : 1536 \n",
      " Number of links predicted correctly: 384\n",
      " Accuracy of links predicted correctly: 0.25\n",
      " Number of Green predicted correctly: 384\n",
      " Accuracy of Green predicted correctly: 1.0\n",
      "Precision: 1.0\n",
      "false positive:0\n"
     ]
    },
    {
     "data": {
      "application/vnd.jupyter.widget-view+json": {
       "model_id": "2df6a2f7854d47c9a66f38f7fd07c2b5",
       "version_major": 2,
       "version_minor": 0
      },
      "text/plain": [
       "A Jupyter Widget"
      ]
     },
     "metadata": {},
     "output_type": "display_data"
    },
    {
     "name": "stdout",
     "output_type": "stream",
     "text": [
      "\n",
      "- - - - - - - - - - - - - STATISTICS ON VALIDATION DATASET - - - - - - - - - - - - - - \n",
      "\n",
      "Total number of Green links in training dataset : 126 \n",
      "Total number of links in training dataset : 504 \n",
      " Number of links predicted correctly: 161\n",
      " Accuracy of links predicted correctly: 0.319444444444\n",
      " Number of Green predicted correctly: 111\n",
      " Accuracy of Green predicted correctly: 0.880952380952\n",
      "Precision: 0.880952380952\n",
      "false positive:15\n"
     ]
    },
    {
     "data": {
      "application/vnd.jupyter.widget-view+json": {
       "model_id": "0ed8c654b88044eab4deaf22276dd65d",
       "version_major": 2,
       "version_minor": 0
      },
      "text/plain": [
       "A Jupyter Widget"
      ]
     },
     "metadata": {},
     "output_type": "display_data"
    },
    {
     "name": "stdout",
     "output_type": "stream",
     "text": [
      "\n",
      "- - - - - - - - - - - - - STATISTICS ON TO_USE DATASET - - - - - - - - - - - - - - \n",
      "\n",
      "Total number of Green links in training dataset : 381 \n",
      "Total number of links in training dataset : 1524 \n",
      " Number of links predicted correctly: 470\n",
      " Accuracy of links predicted correctly: 0.308398950131\n",
      " Number of Green predicted correctly: 336\n",
      " Accuracy of Green predicted correctly: 0.88188976378\n",
      "Precision: 0.88188976378\n",
      "false positive:45\n",
      "-------\n",
      "\n",
      "Thresold value : 5.11235955056\n"
     ]
    },
    {
     "data": {
      "application/vnd.jupyter.widget-view+json": {
       "model_id": "e67ab05092d74dfdbe6a1fbe0f64ce0b",
       "version_major": 2,
       "version_minor": 0
      },
      "text/plain": [
       "A Jupyter Widget"
      ]
     },
     "metadata": {},
     "output_type": "display_data"
    },
    {
     "name": "stdout",
     "output_type": "stream",
     "text": [
      "\n",
      "- - - - - - - - - - - - - STATISTICS ON TRAINING DATASET - - - - - - - - - - - - - - \n",
      "\n",
      "Total number of Green links in training dataset : 384 \n",
      "Total number of links in training dataset : 1536 \n",
      " Number of links predicted correctly: 384\n",
      " Accuracy of links predicted correctly: 0.25\n",
      " Number of Green predicted correctly: 384\n",
      " Accuracy of Green predicted correctly: 1.0\n",
      "Precision: 1.0\n",
      "false positive:0\n"
     ]
    },
    {
     "data": {
      "application/vnd.jupyter.widget-view+json": {
       "model_id": "57c881c520ea40148734fc55218c6123",
       "version_major": 2,
       "version_minor": 0
      },
      "text/plain": [
       "A Jupyter Widget"
      ]
     },
     "metadata": {},
     "output_type": "display_data"
    },
    {
     "name": "stdout",
     "output_type": "stream",
     "text": [
      "\n",
      "- - - - - - - - - - - - - STATISTICS ON VALIDATION DATASET - - - - - - - - - - - - - - \n",
      "\n",
      "Total number of Green links in training dataset : 126 \n",
      "Total number of links in training dataset : 504 \n",
      " Number of links predicted correctly: 161\n",
      " Accuracy of links predicted correctly: 0.319444444444\n",
      " Number of Green predicted correctly: 112\n",
      " Accuracy of Green predicted correctly: 0.888888888889\n",
      "Precision: 0.888888888889\n",
      "false positive:14\n"
     ]
    },
    {
     "data": {
      "application/vnd.jupyter.widget-view+json": {
       "model_id": "9d417d0a9cf24edd965b7d864c25d31e",
       "version_major": 2,
       "version_minor": 0
      },
      "text/plain": [
       "A Jupyter Widget"
      ]
     },
     "metadata": {},
     "output_type": "display_data"
    },
    {
     "name": "stdout",
     "output_type": "stream",
     "text": [
      "\n",
      "- - - - - - - - - - - - - STATISTICS ON TO_USE DATASET - - - - - - - - - - - - - - \n",
      "\n",
      "Total number of Green links in training dataset : 381 \n",
      "Total number of links in training dataset : 1524 \n",
      " Number of links predicted correctly: 468\n",
      " Accuracy of links predicted correctly: 0.307086614173\n",
      " Number of Green predicted correctly: 336\n",
      " Accuracy of Green predicted correctly: 0.88188976378\n",
      "Precision: 0.88188976378\n",
      "false positive:45\n",
      "-------\n",
      "\n",
      "Thresold value : 5.19101123596\n"
     ]
    },
    {
     "data": {
      "application/vnd.jupyter.widget-view+json": {
       "model_id": "4415286882204558ab854b8fc8c6724f",
       "version_major": 2,
       "version_minor": 0
      },
      "text/plain": [
       "A Jupyter Widget"
      ]
     },
     "metadata": {},
     "output_type": "display_data"
    },
    {
     "name": "stdout",
     "output_type": "stream",
     "text": [
      "\n",
      "- - - - - - - - - - - - - STATISTICS ON TRAINING DATASET - - - - - - - - - - - - - - \n",
      "\n",
      "Total number of Green links in training dataset : 384 \n",
      "Total number of links in training dataset : 1536 \n",
      " Number of links predicted correctly: 384\n",
      " Accuracy of links predicted correctly: 0.25\n",
      " Number of Green predicted correctly: 384\n",
      " Accuracy of Green predicted correctly: 1.0\n",
      "Precision: 1.0\n",
      "false positive:0\n"
     ]
    },
    {
     "data": {
      "application/vnd.jupyter.widget-view+json": {
       "model_id": "5c29af6488d54707b82c930fe4285cf8",
       "version_major": 2,
       "version_minor": 0
      },
      "text/plain": [
       "A Jupyter Widget"
      ]
     },
     "metadata": {},
     "output_type": "display_data"
    },
    {
     "name": "stdout",
     "output_type": "stream",
     "text": [
      "\n",
      "- - - - - - - - - - - - - STATISTICS ON VALIDATION DATASET - - - - - - - - - - - - - - \n",
      "\n",
      "Total number of Green links in training dataset : 126 \n",
      "Total number of links in training dataset : 504 \n",
      " Number of links predicted correctly: 161\n",
      " Accuracy of links predicted correctly: 0.319444444444\n",
      " Number of Green predicted correctly: 112\n",
      " Accuracy of Green predicted correctly: 0.888888888889\n",
      "Precision: 0.888888888889\n",
      "false positive:14\n"
     ]
    },
    {
     "data": {
      "application/vnd.jupyter.widget-view+json": {
       "model_id": "51f83c50d0fb4c09b6623a123c19cef7",
       "version_major": 2,
       "version_minor": 0
      },
      "text/plain": [
       "A Jupyter Widget"
      ]
     },
     "metadata": {},
     "output_type": "display_data"
    },
    {
     "name": "stdout",
     "output_type": "stream",
     "text": [
      "\n",
      "- - - - - - - - - - - - - STATISTICS ON TO_USE DATASET - - - - - - - - - - - - - - \n",
      "\n",
      "Total number of Green links in training dataset : 381 \n",
      "Total number of links in training dataset : 1524 \n",
      " Number of links predicted correctly: 469\n",
      " Accuracy of links predicted correctly: 0.307742782152\n",
      " Number of Green predicted correctly: 340\n",
      " Accuracy of Green predicted correctly: 0.892388451444\n",
      "Precision: 0.892388451444\n",
      "false positive:41\n",
      "-------\n",
      "\n",
      "Thresold value : 5.26966292135\n"
     ]
    },
    {
     "data": {
      "application/vnd.jupyter.widget-view+json": {
       "model_id": "89e0b842fa1548d1a891333e1a3db313",
       "version_major": 2,
       "version_minor": 0
      },
      "text/plain": [
       "A Jupyter Widget"
      ]
     },
     "metadata": {},
     "output_type": "display_data"
    },
    {
     "name": "stdout",
     "output_type": "stream",
     "text": [
      "\n",
      "- - - - - - - - - - - - - STATISTICS ON TRAINING DATASET - - - - - - - - - - - - - - \n",
      "\n",
      "Total number of Green links in training dataset : 384 \n",
      "Total number of links in training dataset : 1536 \n",
      " Number of links predicted correctly: 384\n",
      " Accuracy of links predicted correctly: 0.25\n",
      " Number of Green predicted correctly: 384\n",
      " Accuracy of Green predicted correctly: 1.0\n",
      "Precision: 1.0\n",
      "false positive:0\n"
     ]
    },
    {
     "data": {
      "application/vnd.jupyter.widget-view+json": {
       "model_id": "1a42927c1bf44fcda51fb85fd9795e95",
       "version_major": 2,
       "version_minor": 0
      },
      "text/plain": [
       "A Jupyter Widget"
      ]
     },
     "metadata": {},
     "output_type": "display_data"
    },
    {
     "name": "stdout",
     "output_type": "stream",
     "text": [
      "\n",
      "- - - - - - - - - - - - - STATISTICS ON VALIDATION DATASET - - - - - - - - - - - - - - \n",
      "\n",
      "Total number of Green links in training dataset : 126 \n",
      "Total number of links in training dataset : 504 \n",
      " Number of links predicted correctly: 161\n",
      " Accuracy of links predicted correctly: 0.319444444444\n",
      " Number of Green predicted correctly: 112\n",
      " Accuracy of Green predicted correctly: 0.888888888889\n",
      "Precision: 0.888888888889\n",
      "false positive:14\n"
     ]
    },
    {
     "data": {
      "application/vnd.jupyter.widget-view+json": {
       "model_id": "2843941636a246fca835a07ae169b8c1",
       "version_major": 2,
       "version_minor": 0
      },
      "text/plain": [
       "A Jupyter Widget"
      ]
     },
     "metadata": {},
     "output_type": "display_data"
    },
    {
     "name": "stdout",
     "output_type": "stream",
     "text": [
      "\n",
      "- - - - - - - - - - - - - STATISTICS ON TO_USE DATASET - - - - - - - - - - - - - - \n",
      "\n",
      "Total number of Green links in training dataset : 381 \n",
      "Total number of links in training dataset : 1524 \n",
      " Number of links predicted correctly: 469\n",
      " Accuracy of links predicted correctly: 0.307742782152\n",
      " Number of Green predicted correctly: 342\n",
      " Accuracy of Green predicted correctly: 0.897637795276\n",
      "Precision: 0.897637795276\n",
      "false positive:39\n",
      "-------\n",
      "\n",
      "Thresold value : 5.34831460674\n"
     ]
    },
    {
     "data": {
      "application/vnd.jupyter.widget-view+json": {
       "model_id": "63ae55114df74e398c9028174b1f2362",
       "version_major": 2,
       "version_minor": 0
      },
      "text/plain": [
       "A Jupyter Widget"
      ]
     },
     "metadata": {},
     "output_type": "display_data"
    },
    {
     "name": "stdout",
     "output_type": "stream",
     "text": [
      "\n",
      "- - - - - - - - - - - - - STATISTICS ON TRAINING DATASET - - - - - - - - - - - - - - \n",
      "\n",
      "Total number of Green links in training dataset : 384 \n",
      "Total number of links in training dataset : 1536 \n",
      " Number of links predicted correctly: 384\n",
      " Accuracy of links predicted correctly: 0.25\n",
      " Number of Green predicted correctly: 384\n",
      " Accuracy of Green predicted correctly: 1.0\n",
      "Precision: 1.0\n",
      "false positive:0\n"
     ]
    },
    {
     "data": {
      "application/vnd.jupyter.widget-view+json": {
       "model_id": "5f40ba1c2bbb47d09d5f90e42081d8b1",
       "version_major": 2,
       "version_minor": 0
      },
      "text/plain": [
       "A Jupyter Widget"
      ]
     },
     "metadata": {},
     "output_type": "display_data"
    },
    {
     "name": "stdout",
     "output_type": "stream",
     "text": [
      "\n",
      "- - - - - - - - - - - - - STATISTICS ON VALIDATION DATASET - - - - - - - - - - - - - - \n",
      "\n",
      "Total number of Green links in training dataset : 126 \n",
      "Total number of links in training dataset : 504 \n",
      " Number of links predicted correctly: 161\n",
      " Accuracy of links predicted correctly: 0.319444444444\n",
      " Number of Green predicted correctly: 112\n",
      " Accuracy of Green predicted correctly: 0.888888888889\n",
      "Precision: 0.888888888889\n",
      "false positive:14\n"
     ]
    },
    {
     "data": {
      "application/vnd.jupyter.widget-view+json": {
       "model_id": "5e122d33ae8541578d1f26b87307cecf",
       "version_major": 2,
       "version_minor": 0
      },
      "text/plain": [
       "A Jupyter Widget"
      ]
     },
     "metadata": {},
     "output_type": "display_data"
    },
    {
     "name": "stdout",
     "output_type": "stream",
     "text": [
      "\n",
      "- - - - - - - - - - - - - STATISTICS ON TO_USE DATASET - - - - - - - - - - - - - - \n",
      "\n",
      "Total number of Green links in training dataset : 381 \n",
      "Total number of links in training dataset : 1524 \n",
      " Number of links predicted correctly: 467\n",
      " Accuracy of links predicted correctly: 0.306430446194\n",
      " Number of Green predicted correctly: 343\n",
      " Accuracy of Green predicted correctly: 0.900262467192\n",
      "Precision: 0.900262467192\n",
      "false positive:38\n",
      "-------\n",
      "\n",
      "Thresold value : 5.42696629213\n"
     ]
    },
    {
     "data": {
      "application/vnd.jupyter.widget-view+json": {
       "model_id": "83aeb74b12d5422c85072de1051203e1",
       "version_major": 2,
       "version_minor": 0
      },
      "text/plain": [
       "A Jupyter Widget"
      ]
     },
     "metadata": {},
     "output_type": "display_data"
    },
    {
     "name": "stdout",
     "output_type": "stream",
     "text": [
      "\n",
      "- - - - - - - - - - - - - STATISTICS ON TRAINING DATASET - - - - - - - - - - - - - - \n",
      "\n",
      "Total number of Green links in training dataset : 384 \n",
      "Total number of links in training dataset : 1536 \n",
      " Number of links predicted correctly: 384\n",
      " Accuracy of links predicted correctly: 0.25\n",
      " Number of Green predicted correctly: 384\n",
      " Accuracy of Green predicted correctly: 1.0\n",
      "Precision: 1.0\n",
      "false positive:0\n"
     ]
    },
    {
     "data": {
      "application/vnd.jupyter.widget-view+json": {
       "model_id": "67ca5063a7df40399849738b2e3ecdaf",
       "version_major": 2,
       "version_minor": 0
      },
      "text/plain": [
       "A Jupyter Widget"
      ]
     },
     "metadata": {},
     "output_type": "display_data"
    },
    {
     "name": "stdout",
     "output_type": "stream",
     "text": [
      "\n",
      "- - - - - - - - - - - - - STATISTICS ON VALIDATION DATASET - - - - - - - - - - - - - - \n",
      "\n",
      "Total number of Green links in training dataset : 126 \n",
      "Total number of links in training dataset : 504 \n",
      " Number of links predicted correctly: 158\n",
      " Accuracy of links predicted correctly: 0.313492063492\n",
      " Number of Green predicted correctly: 112\n",
      " Accuracy of Green predicted correctly: 0.888888888889\n",
      "Precision: 0.888888888889\n",
      "false positive:14\n"
     ]
    },
    {
     "data": {
      "application/vnd.jupyter.widget-view+json": {
       "model_id": "e7558e53ddfd4e60b3fc4955c247ad4f",
       "version_major": 2,
       "version_minor": 0
      },
      "text/plain": [
       "A Jupyter Widget"
      ]
     },
     "metadata": {},
     "output_type": "display_data"
    },
    {
     "name": "stdout",
     "output_type": "stream",
     "text": [
      "\n",
      "- - - - - - - - - - - - - STATISTICS ON TO_USE DATASET - - - - - - - - - - - - - - \n",
      "\n",
      "Total number of Green links in training dataset : 381 \n",
      "Total number of links in training dataset : 1524 \n",
      " Number of links predicted correctly: 465\n",
      " Accuracy of links predicted correctly: 0.305118110236\n",
      " Number of Green predicted correctly: 345\n",
      " Accuracy of Green predicted correctly: 0.905511811024\n",
      "Precision: 0.905511811024\n",
      "false positive:36\n",
      "-------\n",
      "\n",
      "Thresold value : 5.50561797753\n"
     ]
    },
    {
     "data": {
      "application/vnd.jupyter.widget-view+json": {
       "model_id": "e7216f384fc04480913fc887165b9c0d",
       "version_major": 2,
       "version_minor": 0
      },
      "text/plain": [
       "A Jupyter Widget"
      ]
     },
     "metadata": {},
     "output_type": "display_data"
    },
    {
     "name": "stdout",
     "output_type": "stream",
     "text": [
      "\n",
      "- - - - - - - - - - - - - STATISTICS ON TRAINING DATASET - - - - - - - - - - - - - - \n",
      "\n",
      "Total number of Green links in training dataset : 384 \n",
      "Total number of links in training dataset : 1536 \n",
      " Number of links predicted correctly: 384\n",
      " Accuracy of links predicted correctly: 0.25\n",
      " Number of Green predicted correctly: 384\n",
      " Accuracy of Green predicted correctly: 1.0\n",
      "Precision: 1.0\n",
      "false positive:0\n"
     ]
    },
    {
     "data": {
      "application/vnd.jupyter.widget-view+json": {
       "model_id": "08f9df916ba84f16a3e4c86a67a87dcc",
       "version_major": 2,
       "version_minor": 0
      },
      "text/plain": [
       "A Jupyter Widget"
      ]
     },
     "metadata": {},
     "output_type": "display_data"
    },
    {
     "name": "stdout",
     "output_type": "stream",
     "text": [
      "\n",
      "- - - - - - - - - - - - - STATISTICS ON VALIDATION DATASET - - - - - - - - - - - - - - \n",
      "\n",
      "Total number of Green links in training dataset : 126 \n",
      "Total number of links in training dataset : 504 \n",
      " Number of links predicted correctly: 155\n",
      " Accuracy of links predicted correctly: 0.30753968254\n",
      " Number of Green predicted correctly: 112\n",
      " Accuracy of Green predicted correctly: 0.888888888889\n",
      "Precision: 0.888888888889\n",
      "false positive:14\n"
     ]
    },
    {
     "data": {
      "application/vnd.jupyter.widget-view+json": {
       "model_id": "97186f32bb7e42f88876dd3e67e0751f",
       "version_major": 2,
       "version_minor": 0
      },
      "text/plain": [
       "A Jupyter Widget"
      ]
     },
     "metadata": {},
     "output_type": "display_data"
    },
    {
     "name": "stdout",
     "output_type": "stream",
     "text": [
      "\n",
      "- - - - - - - - - - - - - STATISTICS ON TO_USE DATASET - - - - - - - - - - - - - - \n",
      "\n",
      "Total number of Green links in training dataset : 381 \n",
      "Total number of links in training dataset : 1524 \n",
      " Number of links predicted correctly: 463\n",
      " Accuracy of links predicted correctly: 0.303805774278\n",
      " Number of Green predicted correctly: 345\n",
      " Accuracy of Green predicted correctly: 0.905511811024\n",
      "Precision: 0.905511811024\n",
      "false positive:36\n",
      "-------\n",
      "\n",
      "Thresold value : 5.58426966292\n"
     ]
    },
    {
     "data": {
      "application/vnd.jupyter.widget-view+json": {
       "model_id": "74c288667739484cb0e31b1934de6b6d",
       "version_major": 2,
       "version_minor": 0
      },
      "text/plain": [
       "A Jupyter Widget"
      ]
     },
     "metadata": {},
     "output_type": "display_data"
    },
    {
     "name": "stdout",
     "output_type": "stream",
     "text": [
      "\n",
      "- - - - - - - - - - - - - STATISTICS ON TRAINING DATASET - - - - - - - - - - - - - - \n",
      "\n",
      "Total number of Green links in training dataset : 384 \n",
      "Total number of links in training dataset : 1536 \n",
      " Number of links predicted correctly: 384\n",
      " Accuracy of links predicted correctly: 0.25\n",
      " Number of Green predicted correctly: 384\n",
      " Accuracy of Green predicted correctly: 1.0\n",
      "Precision: 1.0\n",
      "false positive:0\n"
     ]
    },
    {
     "data": {
      "application/vnd.jupyter.widget-view+json": {
       "model_id": "a38a7674e8ab4b93a0e54501210357a6",
       "version_major": 2,
       "version_minor": 0
      },
      "text/plain": [
       "A Jupyter Widget"
      ]
     },
     "metadata": {},
     "output_type": "display_data"
    },
    {
     "name": "stdout",
     "output_type": "stream",
     "text": [
      "\n",
      "- - - - - - - - - - - - - STATISTICS ON VALIDATION DATASET - - - - - - - - - - - - - - \n",
      "\n",
      "Total number of Green links in training dataset : 126 \n",
      "Total number of links in training dataset : 504 \n",
      " Number of links predicted correctly: 153\n",
      " Accuracy of links predicted correctly: 0.303571428571\n",
      " Number of Green predicted correctly: 113\n",
      " Accuracy of Green predicted correctly: 0.896825396825\n",
      "Precision: 0.896825396825\n",
      "false positive:13\n"
     ]
    },
    {
     "data": {
      "application/vnd.jupyter.widget-view+json": {
       "model_id": "55d7f2f93fed46768d78128ee9f5ec3f",
       "version_major": 2,
       "version_minor": 0
      },
      "text/plain": [
       "A Jupyter Widget"
      ]
     },
     "metadata": {},
     "output_type": "display_data"
    },
    {
     "name": "stdout",
     "output_type": "stream",
     "text": [
      "\n",
      "- - - - - - - - - - - - - STATISTICS ON TO_USE DATASET - - - - - - - - - - - - - - \n",
      "\n",
      "Total number of Green links in training dataset : 381 \n",
      "Total number of links in training dataset : 1524 \n",
      " Number of links predicted correctly: 461\n",
      " Accuracy of links predicted correctly: 0.30249343832\n",
      " Number of Green predicted correctly: 346\n",
      " Accuracy of Green predicted correctly: 0.90813648294\n",
      "Precision: 0.90813648294\n",
      "false positive:35\n",
      "-------\n",
      "\n",
      "Thresold value : 5.66292134831\n"
     ]
    },
    {
     "data": {
      "application/vnd.jupyter.widget-view+json": {
       "model_id": "fd99dd5095d94dfca367d1d3281b1a67",
       "version_major": 2,
       "version_minor": 0
      },
      "text/plain": [
       "A Jupyter Widget"
      ]
     },
     "metadata": {},
     "output_type": "display_data"
    },
    {
     "name": "stdout",
     "output_type": "stream",
     "text": [
      "\n",
      "- - - - - - - - - - - - - STATISTICS ON TRAINING DATASET - - - - - - - - - - - - - - \n",
      "\n",
      "Total number of Green links in training dataset : 384 \n",
      "Total number of links in training dataset : 1536 \n",
      " Number of links predicted correctly: 384\n",
      " Accuracy of links predicted correctly: 0.25\n",
      " Number of Green predicted correctly: 384\n",
      " Accuracy of Green predicted correctly: 1.0\n",
      "Precision: 1.0\n",
      "false positive:0\n"
     ]
    },
    {
     "data": {
      "application/vnd.jupyter.widget-view+json": {
       "model_id": "9a0ad5acf3fe4bbba67bb55054a56601",
       "version_major": 2,
       "version_minor": 0
      },
      "text/plain": [
       "A Jupyter Widget"
      ]
     },
     "metadata": {},
     "output_type": "display_data"
    },
    {
     "name": "stdout",
     "output_type": "stream",
     "text": [
      "\n",
      "- - - - - - - - - - - - - STATISTICS ON VALIDATION DATASET - - - - - - - - - - - - - - \n",
      "\n",
      "Total number of Green links in training dataset : 126 \n",
      "Total number of links in training dataset : 504 \n",
      " Number of links predicted correctly: 152\n",
      " Accuracy of links predicted correctly: 0.301587301587\n",
      " Number of Green predicted correctly: 113\n",
      " Accuracy of Green predicted correctly: 0.896825396825\n",
      "Precision: 0.896825396825\n",
      "false positive:13\n"
     ]
    },
    {
     "data": {
      "application/vnd.jupyter.widget-view+json": {
       "model_id": "c27da32c7a2e4648b7d565002c434177",
       "version_major": 2,
       "version_minor": 0
      },
      "text/plain": [
       "A Jupyter Widget"
      ]
     },
     "metadata": {},
     "output_type": "display_data"
    },
    {
     "name": "stdout",
     "output_type": "stream",
     "text": [
      "\n",
      "- - - - - - - - - - - - - STATISTICS ON TO_USE DATASET - - - - - - - - - - - - - - \n",
      "\n",
      "Total number of Green links in training dataset : 381 \n",
      "Total number of links in training dataset : 1524 \n",
      " Number of links predicted correctly: 457\n",
      " Accuracy of links predicted correctly: 0.299868766404\n",
      " Number of Green predicted correctly: 347\n",
      " Accuracy of Green predicted correctly: 0.910761154856\n",
      "Precision: 0.910761154856\n",
      "false positive:34\n",
      "-------\n",
      "\n",
      "Thresold value : 5.74157303371\n"
     ]
    },
    {
     "data": {
      "application/vnd.jupyter.widget-view+json": {
       "model_id": "3b7ebbb537cc4a99a0f730f962f06361",
       "version_major": 2,
       "version_minor": 0
      },
      "text/plain": [
       "A Jupyter Widget"
      ]
     },
     "metadata": {},
     "output_type": "display_data"
    },
    {
     "name": "stdout",
     "output_type": "stream",
     "text": [
      "\n",
      "- - - - - - - - - - - - - STATISTICS ON TRAINING DATASET - - - - - - - - - - - - - - \n",
      "\n",
      "Total number of Green links in training dataset : 384 \n",
      "Total number of links in training dataset : 1536 \n",
      " Number of links predicted correctly: 384\n",
      " Accuracy of links predicted correctly: 0.25\n",
      " Number of Green predicted correctly: 384\n",
      " Accuracy of Green predicted correctly: 1.0\n",
      "Precision: 1.0\n",
      "false positive:0\n"
     ]
    },
    {
     "data": {
      "application/vnd.jupyter.widget-view+json": {
       "model_id": "d73be2d2d30548b5bf18ce5288aa0f9b",
       "version_major": 2,
       "version_minor": 0
      },
      "text/plain": [
       "A Jupyter Widget"
      ]
     },
     "metadata": {},
     "output_type": "display_data"
    },
    {
     "name": "stdout",
     "output_type": "stream",
     "text": [
      "\n",
      "- - - - - - - - - - - - - STATISTICS ON VALIDATION DATASET - - - - - - - - - - - - - - \n",
      "\n",
      "Total number of Green links in training dataset : 126 \n",
      "Total number of links in training dataset : 504 \n",
      " Number of links predicted correctly: 152\n",
      " Accuracy of links predicted correctly: 0.301587301587\n",
      " Number of Green predicted correctly: 113\n",
      " Accuracy of Green predicted correctly: 0.896825396825\n",
      "Precision: 0.896825396825\n",
      "false positive:13\n"
     ]
    },
    {
     "data": {
      "application/vnd.jupyter.widget-view+json": {
       "model_id": "eb29fdb811a54812abe2445b3f0362f8",
       "version_major": 2,
       "version_minor": 0
      },
      "text/plain": [
       "A Jupyter Widget"
      ]
     },
     "metadata": {},
     "output_type": "display_data"
    },
    {
     "name": "stdout",
     "output_type": "stream",
     "text": [
      "\n",
      "- - - - - - - - - - - - - STATISTICS ON TO_USE DATASET - - - - - - - - - - - - - - \n",
      "\n",
      "Total number of Green links in training dataset : 381 \n",
      "Total number of links in training dataset : 1524 \n",
      " Number of links predicted correctly: 458\n",
      " Accuracy of links predicted correctly: 0.300524934383\n",
      " Number of Green predicted correctly: 349\n",
      " Accuracy of Green predicted correctly: 0.916010498688\n",
      "Precision: 0.916010498688\n",
      "false positive:32\n",
      "-------\n",
      "\n",
      "Thresold value : 5.8202247191\n"
     ]
    },
    {
     "data": {
      "application/vnd.jupyter.widget-view+json": {
       "model_id": "99f11405ee1f4f33b93a7dcf5f64efce",
       "version_major": 2,
       "version_minor": 0
      },
      "text/plain": [
       "A Jupyter Widget"
      ]
     },
     "metadata": {},
     "output_type": "display_data"
    },
    {
     "name": "stdout",
     "output_type": "stream",
     "text": [
      "\n",
      "- - - - - - - - - - - - - STATISTICS ON TRAINING DATASET - - - - - - - - - - - - - - \n",
      "\n",
      "Total number of Green links in training dataset : 384 \n",
      "Total number of links in training dataset : 1536 \n",
      " Number of links predicted correctly: 384\n",
      " Accuracy of links predicted correctly: 0.25\n",
      " Number of Green predicted correctly: 384\n",
      " Accuracy of Green predicted correctly: 1.0\n",
      "Precision: 1.0\n",
      "false positive:0\n"
     ]
    },
    {
     "data": {
      "application/vnd.jupyter.widget-view+json": {
       "model_id": "ee599895fb2a4f5ea06053bf5a05eabf",
       "version_major": 2,
       "version_minor": 0
      },
      "text/plain": [
       "A Jupyter Widget"
      ]
     },
     "metadata": {},
     "output_type": "display_data"
    },
    {
     "name": "stdout",
     "output_type": "stream",
     "text": [
      "\n",
      "- - - - - - - - - - - - - STATISTICS ON VALIDATION DATASET - - - - - - - - - - - - - - \n",
      "\n",
      "Total number of Green links in training dataset : 126 \n",
      "Total number of links in training dataset : 504 \n",
      " Number of links predicted correctly: 151\n",
      " Accuracy of links predicted correctly: 0.299603174603\n",
      " Number of Green predicted correctly: 113\n",
      " Accuracy of Green predicted correctly: 0.896825396825\n",
      "Precision: 0.896825396825\n",
      "false positive:13\n"
     ]
    },
    {
     "data": {
      "application/vnd.jupyter.widget-view+json": {
       "model_id": "ee61a78a6fbc4c07aa92da0e8bceb825",
       "version_major": 2,
       "version_minor": 0
      },
      "text/plain": [
       "A Jupyter Widget"
      ]
     },
     "metadata": {},
     "output_type": "display_data"
    },
    {
     "name": "stdout",
     "output_type": "stream",
     "text": [
      "\n",
      "- - - - - - - - - - - - - STATISTICS ON TO_USE DATASET - - - - - - - - - - - - - - \n",
      "\n",
      "Total number of Green links in training dataset : 381 \n",
      "Total number of links in training dataset : 1524 \n",
      " Number of links predicted correctly: 455\n",
      " Accuracy of links predicted correctly: 0.298556430446\n",
      " Number of Green predicted correctly: 349\n",
      " Accuracy of Green predicted correctly: 0.916010498688\n",
      "Precision: 0.916010498688\n",
      "false positive:32\n",
      "-------\n",
      "\n",
      "Thresold value : 5.89887640449\n"
     ]
    },
    {
     "data": {
      "application/vnd.jupyter.widget-view+json": {
       "model_id": "e04ce5ec98c949dab83b2cf37d09b981",
       "version_major": 2,
       "version_minor": 0
      },
      "text/plain": [
       "A Jupyter Widget"
      ]
     },
     "metadata": {},
     "output_type": "display_data"
    },
    {
     "name": "stdout",
     "output_type": "stream",
     "text": [
      "\n",
      "- - - - - - - - - - - - - STATISTICS ON TRAINING DATASET - - - - - - - - - - - - - - \n",
      "\n",
      "Total number of Green links in training dataset : 384 \n",
      "Total number of links in training dataset : 1536 \n",
      " Number of links predicted correctly: 384\n",
      " Accuracy of links predicted correctly: 0.25\n",
      " Number of Green predicted correctly: 384\n",
      " Accuracy of Green predicted correctly: 1.0\n",
      "Precision: 1.0\n",
      "false positive:0\n"
     ]
    },
    {
     "data": {
      "application/vnd.jupyter.widget-view+json": {
       "model_id": "0d6bdca68b0b4f4e80c51646e5836634",
       "version_major": 2,
       "version_minor": 0
      },
      "text/plain": [
       "A Jupyter Widget"
      ]
     },
     "metadata": {},
     "output_type": "display_data"
    },
    {
     "name": "stdout",
     "output_type": "stream",
     "text": [
      "\n",
      "- - - - - - - - - - - - - STATISTICS ON VALIDATION DATASET - - - - - - - - - - - - - - \n",
      "\n",
      "Total number of Green links in training dataset : 126 \n",
      "Total number of links in training dataset : 504 \n",
      " Number of links predicted correctly: 149\n",
      " Accuracy of links predicted correctly: 0.295634920635\n",
      " Number of Green predicted correctly: 114\n",
      " Accuracy of Green predicted correctly: 0.904761904762\n",
      "Precision: 0.904761904762\n",
      "false positive:12\n"
     ]
    },
    {
     "data": {
      "application/vnd.jupyter.widget-view+json": {
       "model_id": "47a38da3590b42038fea4fa9116e0a51",
       "version_major": 2,
       "version_minor": 0
      },
      "text/plain": [
       "A Jupyter Widget"
      ]
     },
     "metadata": {},
     "output_type": "display_data"
    },
    {
     "name": "stdout",
     "output_type": "stream",
     "text": [
      "\n",
      "- - - - - - - - - - - - - STATISTICS ON TO_USE DATASET - - - - - - - - - - - - - - \n",
      "\n",
      "Total number of Green links in training dataset : 381 \n",
      "Total number of links in training dataset : 1524 \n",
      " Number of links predicted correctly: 452\n",
      " Accuracy of links predicted correctly: 0.296587926509\n",
      " Number of Green predicted correctly: 351\n",
      " Accuracy of Green predicted correctly: 0.92125984252\n",
      "Precision: 0.92125984252\n",
      "false positive:30\n",
      "-------\n",
      "\n",
      "Thresold value : 5.97752808989\n"
     ]
    },
    {
     "data": {
      "application/vnd.jupyter.widget-view+json": {
       "model_id": "0687f94f29de4ad5ad9202a134bb9886",
       "version_major": 2,
       "version_minor": 0
      },
      "text/plain": [
       "A Jupyter Widget"
      ]
     },
     "metadata": {},
     "output_type": "display_data"
    },
    {
     "name": "stdout",
     "output_type": "stream",
     "text": [
      "\n",
      "- - - - - - - - - - - - - STATISTICS ON TRAINING DATASET - - - - - - - - - - - - - - \n",
      "\n",
      "Total number of Green links in training dataset : 384 \n",
      "Total number of links in training dataset : 1536 \n",
      " Number of links predicted correctly: 384\n",
      " Accuracy of links predicted correctly: 0.25\n",
      " Number of Green predicted correctly: 384\n",
      " Accuracy of Green predicted correctly: 1.0\n",
      "Precision: 1.0\n",
      "false positive:0\n"
     ]
    },
    {
     "data": {
      "application/vnd.jupyter.widget-view+json": {
       "model_id": "f164e0eee2fe47729ada311575adcd7b",
       "version_major": 2,
       "version_minor": 0
      },
      "text/plain": [
       "A Jupyter Widget"
      ]
     },
     "metadata": {},
     "output_type": "display_data"
    },
    {
     "name": "stdout",
     "output_type": "stream",
     "text": [
      "\n",
      "- - - - - - - - - - - - - STATISTICS ON VALIDATION DATASET - - - - - - - - - - - - - - \n",
      "\n",
      "Total number of Green links in training dataset : 126 \n",
      "Total number of links in training dataset : 504 \n",
      " Number of links predicted correctly: 147\n",
      " Accuracy of links predicted correctly: 0.291666666667\n",
      " Number of Green predicted correctly: 114\n",
      " Accuracy of Green predicted correctly: 0.904761904762\n",
      "Precision: 0.904761904762\n",
      "false positive:12\n"
     ]
    },
    {
     "data": {
      "application/vnd.jupyter.widget-view+json": {
       "model_id": "9703c30ac63141b09f5ff92aab3336b3",
       "version_major": 2,
       "version_minor": 0
      },
      "text/plain": [
       "A Jupyter Widget"
      ]
     },
     "metadata": {},
     "output_type": "display_data"
    },
    {
     "name": "stdout",
     "output_type": "stream",
     "text": [
      "\n",
      "- - - - - - - - - - - - - STATISTICS ON TO_USE DATASET - - - - - - - - - - - - - - \n",
      "\n",
      "Total number of Green links in training dataset : 381 \n",
      "Total number of links in training dataset : 1524 \n",
      " Number of links predicted correctly: 452\n",
      " Accuracy of links predicted correctly: 0.296587926509\n",
      " Number of Green predicted correctly: 356\n",
      " Accuracy of Green predicted correctly: 0.9343832021\n",
      "Precision: 0.9343832021\n",
      "false positive:25\n",
      "-------\n",
      "\n",
      "Thresold value : 6.05617977528\n"
     ]
    },
    {
     "data": {
      "application/vnd.jupyter.widget-view+json": {
       "model_id": "2a6856d7805941dcbb8cb48edfc40068",
       "version_major": 2,
       "version_minor": 0
      },
      "text/plain": [
       "A Jupyter Widget"
      ]
     },
     "metadata": {},
     "output_type": "display_data"
    },
    {
     "name": "stdout",
     "output_type": "stream",
     "text": [
      "\n",
      "- - - - - - - - - - - - - STATISTICS ON TRAINING DATASET - - - - - - - - - - - - - - \n",
      "\n",
      "Total number of Green links in training dataset : 384 \n",
      "Total number of links in training dataset : 1536 \n",
      " Number of links predicted correctly: 384\n",
      " Accuracy of links predicted correctly: 0.25\n",
      " Number of Green predicted correctly: 384\n",
      " Accuracy of Green predicted correctly: 1.0\n",
      "Precision: 1.0\n",
      "false positive:0\n"
     ]
    },
    {
     "data": {
      "application/vnd.jupyter.widget-view+json": {
       "model_id": "274f3cd640ae4c6a8a7131ceb13e5528",
       "version_major": 2,
       "version_minor": 0
      },
      "text/plain": [
       "A Jupyter Widget"
      ]
     },
     "metadata": {},
     "output_type": "display_data"
    },
    {
     "name": "stdout",
     "output_type": "stream",
     "text": [
      "\n",
      "- - - - - - - - - - - - - STATISTICS ON VALIDATION DATASET - - - - - - - - - - - - - - \n",
      "\n",
      "Total number of Green links in training dataset : 126 \n",
      "Total number of links in training dataset : 504 \n",
      " Number of links predicted correctly: 147\n",
      " Accuracy of links predicted correctly: 0.291666666667\n",
      " Number of Green predicted correctly: 116\n",
      " Accuracy of Green predicted correctly: 0.920634920635\n",
      "Precision: 0.920634920635\n",
      "false positive:10\n"
     ]
    },
    {
     "data": {
      "application/vnd.jupyter.widget-view+json": {
       "model_id": "3402a17875634538bd1ac8a16b94371d",
       "version_major": 2,
       "version_minor": 0
      },
      "text/plain": [
       "A Jupyter Widget"
      ]
     },
     "metadata": {},
     "output_type": "display_data"
    },
    {
     "name": "stdout",
     "output_type": "stream",
     "text": [
      "\n",
      "- - - - - - - - - - - - - STATISTICS ON TO_USE DATASET - - - - - - - - - - - - - - \n",
      "\n",
      "Total number of Green links in training dataset : 381 \n",
      "Total number of links in training dataset : 1524 \n",
      " Number of links predicted correctly: 451\n",
      " Accuracy of links predicted correctly: 0.29593175853\n",
      " Number of Green predicted correctly: 358\n",
      " Accuracy of Green predicted correctly: 0.939632545932\n",
      "Precision: 0.939632545932\n",
      "false positive:23\n",
      "-------\n",
      "\n",
      "Thresold value : 6.13483146067\n"
     ]
    },
    {
     "data": {
      "application/vnd.jupyter.widget-view+json": {
       "model_id": "fd562c3bdfbe46f68c9cc0d615b41e60",
       "version_major": 2,
       "version_minor": 0
      },
      "text/plain": [
       "A Jupyter Widget"
      ]
     },
     "metadata": {},
     "output_type": "display_data"
    },
    {
     "name": "stdout",
     "output_type": "stream",
     "text": [
      "\n",
      "- - - - - - - - - - - - - STATISTICS ON TRAINING DATASET - - - - - - - - - - - - - - \n",
      "\n",
      "Total number of Green links in training dataset : 384 \n",
      "Total number of links in training dataset : 1536 \n",
      " Number of links predicted correctly: 384\n",
      " Accuracy of links predicted correctly: 0.25\n",
      " Number of Green predicted correctly: 384\n",
      " Accuracy of Green predicted correctly: 1.0\n",
      "Precision: 1.0\n",
      "false positive:0\n"
     ]
    },
    {
     "data": {
      "application/vnd.jupyter.widget-view+json": {
       "model_id": "52b52bf75f2c4382b9b008e55adc9887",
       "version_major": 2,
       "version_minor": 0
      },
      "text/plain": [
       "A Jupyter Widget"
      ]
     },
     "metadata": {},
     "output_type": "display_data"
    },
    {
     "name": "stdout",
     "output_type": "stream",
     "text": [
      "\n",
      "- - - - - - - - - - - - - STATISTICS ON VALIDATION DATASET - - - - - - - - - - - - - - \n",
      "\n",
      "Total number of Green links in training dataset : 126 \n",
      "Total number of links in training dataset : 504 \n",
      " Number of links predicted correctly: 144\n",
      " Accuracy of links predicted correctly: 0.285714285714\n",
      " Number of Green predicted correctly: 117\n",
      " Accuracy of Green predicted correctly: 0.928571428571\n",
      "Precision: 0.928571428571\n",
      "false positive:9\n"
     ]
    },
    {
     "data": {
      "application/vnd.jupyter.widget-view+json": {
       "model_id": "56c245ef8104422f8c216be529878be7",
       "version_major": 2,
       "version_minor": 0
      },
      "text/plain": [
       "A Jupyter Widget"
      ]
     },
     "metadata": {},
     "output_type": "display_data"
    },
    {
     "name": "stdout",
     "output_type": "stream",
     "text": [
      "\n",
      "- - - - - - - - - - - - - STATISTICS ON TO_USE DATASET - - - - - - - - - - - - - - \n",
      "\n",
      "Total number of Green links in training dataset : 381 \n",
      "Total number of links in training dataset : 1524 \n",
      " Number of links predicted correctly: 453\n",
      " Accuracy of links predicted correctly: 0.297244094488\n",
      " Number of Green predicted correctly: 360\n",
      " Accuracy of Green predicted correctly: 0.944881889764\n",
      "Precision: 0.944881889764\n",
      "false positive:21\n",
      "-------\n",
      "\n",
      "Thresold value : 6.21348314607\n"
     ]
    },
    {
     "data": {
      "application/vnd.jupyter.widget-view+json": {
       "model_id": "c08e08b478c8473aae188230303a0fcb",
       "version_major": 2,
       "version_minor": 0
      },
      "text/plain": [
       "A Jupyter Widget"
      ]
     },
     "metadata": {},
     "output_type": "display_data"
    },
    {
     "name": "stdout",
     "output_type": "stream",
     "text": [
      "\n",
      "- - - - - - - - - - - - - STATISTICS ON TRAINING DATASET - - - - - - - - - - - - - - \n",
      "\n",
      "Total number of Green links in training dataset : 384 \n",
      "Total number of links in training dataset : 1536 \n",
      " Number of links predicted correctly: 384\n",
      " Accuracy of links predicted correctly: 0.25\n",
      " Number of Green predicted correctly: 384\n",
      " Accuracy of Green predicted correctly: 1.0\n",
      "Precision: 1.0\n",
      "false positive:0\n"
     ]
    },
    {
     "data": {
      "application/vnd.jupyter.widget-view+json": {
       "model_id": "11017a1b19bb40e38ba0f4aadc81ecc3",
       "version_major": 2,
       "version_minor": 0
      },
      "text/plain": [
       "A Jupyter Widget"
      ]
     },
     "metadata": {},
     "output_type": "display_data"
    },
    {
     "name": "stdout",
     "output_type": "stream",
     "text": [
      "\n",
      "- - - - - - - - - - - - - STATISTICS ON VALIDATION DATASET - - - - - - - - - - - - - - \n",
      "\n",
      "Total number of Green links in training dataset : 126 \n",
      "Total number of links in training dataset : 504 \n",
      " Number of links predicted correctly: 143\n",
      " Accuracy of links predicted correctly: 0.28373015873\n",
      " Number of Green predicted correctly: 118\n",
      " Accuracy of Green predicted correctly: 0.936507936508\n",
      "Precision: 0.936507936508\n",
      "false positive:8\n"
     ]
    },
    {
     "data": {
      "application/vnd.jupyter.widget-view+json": {
       "model_id": "1e212b57d56b4da9baf2bcef6959f4e8",
       "version_major": 2,
       "version_minor": 0
      },
      "text/plain": [
       "A Jupyter Widget"
      ]
     },
     "metadata": {},
     "output_type": "display_data"
    },
    {
     "name": "stdout",
     "output_type": "stream",
     "text": [
      "\n",
      "- - - - - - - - - - - - - STATISTICS ON TO_USE DATASET - - - - - - - - - - - - - - \n",
      "\n",
      "Total number of Green links in training dataset : 381 \n",
      "Total number of links in training dataset : 1524 \n",
      " Number of links predicted correctly: 446\n",
      " Accuracy of links predicted correctly: 0.292650918635\n",
      " Number of Green predicted correctly: 361\n",
      " Accuracy of Green predicted correctly: 0.94750656168\n",
      "Precision: 0.94750656168\n",
      "false positive:20\n",
      "-------\n",
      "\n",
      "Thresold value : 6.29213483146\n"
     ]
    },
    {
     "data": {
      "application/vnd.jupyter.widget-view+json": {
       "model_id": "b4a8161da1b5478a854396d64d0ad49a",
       "version_major": 2,
       "version_minor": 0
      },
      "text/plain": [
       "A Jupyter Widget"
      ]
     },
     "metadata": {},
     "output_type": "display_data"
    },
    {
     "name": "stdout",
     "output_type": "stream",
     "text": [
      "\n",
      "- - - - - - - - - - - - - STATISTICS ON TRAINING DATASET - - - - - - - - - - - - - - \n",
      "\n",
      "Total number of Green links in training dataset : 384 \n",
      "Total number of links in training dataset : 1536 \n",
      " Number of links predicted correctly: 384\n",
      " Accuracy of links predicted correctly: 0.25\n",
      " Number of Green predicted correctly: 384\n",
      " Accuracy of Green predicted correctly: 1.0\n",
      "Precision: 1.0\n",
      "false positive:0\n"
     ]
    },
    {
     "data": {
      "application/vnd.jupyter.widget-view+json": {
       "model_id": "6e0dd14418634a6c8109d030ef38168f",
       "version_major": 2,
       "version_minor": 0
      },
      "text/plain": [
       "A Jupyter Widget"
      ]
     },
     "metadata": {},
     "output_type": "display_data"
    },
    {
     "name": "stdout",
     "output_type": "stream",
     "text": [
      "\n",
      "- - - - - - - - - - - - - STATISTICS ON VALIDATION DATASET - - - - - - - - - - - - - - \n",
      "\n",
      "Total number of Green links in training dataset : 126 \n",
      "Total number of links in training dataset : 504 \n",
      " Number of links predicted correctly: 141\n",
      " Accuracy of links predicted correctly: 0.279761904762\n",
      " Number of Green predicted correctly: 118\n",
      " Accuracy of Green predicted correctly: 0.936507936508\n",
      "Precision: 0.936507936508\n",
      "false positive:8\n"
     ]
    },
    {
     "data": {
      "application/vnd.jupyter.widget-view+json": {
       "model_id": "6fb2e4e68c4e4ab698970f384ea8157c",
       "version_major": 2,
       "version_minor": 0
      },
      "text/plain": [
       "A Jupyter Widget"
      ]
     },
     "metadata": {},
     "output_type": "display_data"
    },
    {
     "name": "stdout",
     "output_type": "stream",
     "text": [
      "\n",
      "- - - - - - - - - - - - - STATISTICS ON TO_USE DATASET - - - - - - - - - - - - - - \n",
      "\n",
      "Total number of Green links in training dataset : 381 \n",
      "Total number of links in training dataset : 1524 \n",
      " Number of links predicted correctly: 441\n",
      " Accuracy of links predicted correctly: 0.28937007874\n",
      " Number of Green predicted correctly: 361\n",
      " Accuracy of Green predicted correctly: 0.94750656168\n",
      "Precision: 0.94750656168\n",
      "false positive:20\n",
      "-------\n",
      "\n",
      "Thresold value : 6.37078651685\n"
     ]
    },
    {
     "data": {
      "application/vnd.jupyter.widget-view+json": {
       "model_id": "e3fe15d4ba404cf9a0da6ff7112740ee",
       "version_major": 2,
       "version_minor": 0
      },
      "text/plain": [
       "A Jupyter Widget"
      ]
     },
     "metadata": {},
     "output_type": "display_data"
    },
    {
     "name": "stdout",
     "output_type": "stream",
     "text": [
      "\n",
      "- - - - - - - - - - - - - STATISTICS ON TRAINING DATASET - - - - - - - - - - - - - - \n",
      "\n",
      "Total number of Green links in training dataset : 384 \n",
      "Total number of links in training dataset : 1536 \n",
      " Number of links predicted correctly: 384\n",
      " Accuracy of links predicted correctly: 0.25\n",
      " Number of Green predicted correctly: 384\n",
      " Accuracy of Green predicted correctly: 1.0\n",
      "Precision: 1.0\n",
      "false positive:0\n"
     ]
    },
    {
     "data": {
      "application/vnd.jupyter.widget-view+json": {
       "model_id": "7b76ab03eff543a49c3f3e6d96239bb5",
       "version_major": 2,
       "version_minor": 0
      },
      "text/plain": [
       "A Jupyter Widget"
      ]
     },
     "metadata": {},
     "output_type": "display_data"
    },
    {
     "name": "stdout",
     "output_type": "stream",
     "text": [
      "\n",
      "- - - - - - - - - - - - - STATISTICS ON VALIDATION DATASET - - - - - - - - - - - - - - \n",
      "\n",
      "Total number of Green links in training dataset : 126 \n",
      "Total number of links in training dataset : 504 \n",
      " Number of links predicted correctly: 140\n",
      " Accuracy of links predicted correctly: 0.277777777778\n",
      " Number of Green predicted correctly: 118\n",
      " Accuracy of Green predicted correctly: 0.936507936508\n",
      "Precision: 0.936507936508\n",
      "false positive:8\n"
     ]
    },
    {
     "data": {
      "application/vnd.jupyter.widget-view+json": {
       "model_id": "68176b1f33aa4190a27c83aff742622d",
       "version_major": 2,
       "version_minor": 0
      },
      "text/plain": [
       "A Jupyter Widget"
      ]
     },
     "metadata": {},
     "output_type": "display_data"
    },
    {
     "name": "stdout",
     "output_type": "stream",
     "text": [
      "\n",
      "- - - - - - - - - - - - - STATISTICS ON TO_USE DATASET - - - - - - - - - - - - - - \n",
      "\n",
      "Total number of Green links in training dataset : 381 \n",
      "Total number of links in training dataset : 1524 \n",
      " Number of links predicted correctly: 439\n",
      " Accuracy of links predicted correctly: 0.288057742782\n",
      " Number of Green predicted correctly: 362\n",
      " Accuracy of Green predicted correctly: 0.950131233596\n",
      "Precision: 0.950131233596\n",
      "false positive:19\n",
      "-------\n",
      "\n",
      "Thresold value : 6.44943820225\n"
     ]
    },
    {
     "data": {
      "application/vnd.jupyter.widget-view+json": {
       "model_id": "88e53b49584549019fd6b984a6d6cfa9",
       "version_major": 2,
       "version_minor": 0
      },
      "text/plain": [
       "A Jupyter Widget"
      ]
     },
     "metadata": {},
     "output_type": "display_data"
    },
    {
     "name": "stdout",
     "output_type": "stream",
     "text": [
      "\n",
      "- - - - - - - - - - - - - STATISTICS ON TRAINING DATASET - - - - - - - - - - - - - - \n",
      "\n",
      "Total number of Green links in training dataset : 384 \n",
      "Total number of links in training dataset : 1536 \n",
      " Number of links predicted correctly: 384\n",
      " Accuracy of links predicted correctly: 0.25\n",
      " Number of Green predicted correctly: 384\n",
      " Accuracy of Green predicted correctly: 1.0\n",
      "Precision: 1.0\n",
      "false positive:0\n"
     ]
    },
    {
     "data": {
      "application/vnd.jupyter.widget-view+json": {
       "model_id": "40000fbe4bb7422fbb75897dc568315c",
       "version_major": 2,
       "version_minor": 0
      },
      "text/plain": [
       "A Jupyter Widget"
      ]
     },
     "metadata": {},
     "output_type": "display_data"
    },
    {
     "name": "stdout",
     "output_type": "stream",
     "text": [
      "\n",
      "- - - - - - - - - - - - - STATISTICS ON VALIDATION DATASET - - - - - - - - - - - - - - \n",
      "\n",
      "Total number of Green links in training dataset : 126 \n",
      "Total number of links in training dataset : 504 \n",
      " Number of links predicted correctly: 141\n",
      " Accuracy of links predicted correctly: 0.279761904762\n",
      " Number of Green predicted correctly: 119\n",
      " Accuracy of Green predicted correctly: 0.944444444444\n",
      "Precision: 0.944444444444\n",
      "false positive:7\n"
     ]
    },
    {
     "data": {
      "application/vnd.jupyter.widget-view+json": {
       "model_id": "38d7e3b642e64c4a8e1703c4ad50ece8",
       "version_major": 2,
       "version_minor": 0
      },
      "text/plain": [
       "A Jupyter Widget"
      ]
     },
     "metadata": {},
     "output_type": "display_data"
    },
    {
     "name": "stdout",
     "output_type": "stream",
     "text": [
      "\n",
      "- - - - - - - - - - - - - STATISTICS ON TO_USE DATASET - - - - - - - - - - - - - - \n",
      "\n",
      "Total number of Green links in training dataset : 381 \n",
      "Total number of links in training dataset : 1524 \n",
      " Number of links predicted correctly: 438\n",
      " Accuracy of links predicted correctly: 0.287401574803\n",
      " Number of Green predicted correctly: 366\n",
      " Accuracy of Green predicted correctly: 0.96062992126\n",
      "Precision: 0.96062992126\n",
      "false positive:15\n",
      "-------\n",
      "\n",
      "Thresold value : 6.52808988764\n"
     ]
    },
    {
     "data": {
      "application/vnd.jupyter.widget-view+json": {
       "model_id": "9c84a5c841ac41eab3684ee028d5e36f",
       "version_major": 2,
       "version_minor": 0
      },
      "text/plain": [
       "A Jupyter Widget"
      ]
     },
     "metadata": {},
     "output_type": "display_data"
    },
    {
     "name": "stdout",
     "output_type": "stream",
     "text": [
      "\n",
      "- - - - - - - - - - - - - STATISTICS ON TRAINING DATASET - - - - - - - - - - - - - - \n",
      "\n",
      "Total number of Green links in training dataset : 384 \n",
      "Total number of links in training dataset : 1536 \n",
      " Number of links predicted correctly: 384\n",
      " Accuracy of links predicted correctly: 0.25\n",
      " Number of Green predicted correctly: 384\n",
      " Accuracy of Green predicted correctly: 1.0\n",
      "Precision: 1.0\n",
      "false positive:0\n"
     ]
    },
    {
     "data": {
      "application/vnd.jupyter.widget-view+json": {
       "model_id": "d59ac234c96a4b1b98f9b09be3bba9a8",
       "version_major": 2,
       "version_minor": 0
      },
      "text/plain": [
       "A Jupyter Widget"
      ]
     },
     "metadata": {},
     "output_type": "display_data"
    },
    {
     "name": "stdout",
     "output_type": "stream",
     "text": [
      "\n",
      "- - - - - - - - - - - - - STATISTICS ON VALIDATION DATASET - - - - - - - - - - - - - - \n",
      "\n",
      "Total number of Green links in training dataset : 126 \n",
      "Total number of links in training dataset : 504 \n",
      " Number of links predicted correctly: 139\n",
      " Accuracy of links predicted correctly: 0.275793650794\n",
      " Number of Green predicted correctly: 120\n",
      " Accuracy of Green predicted correctly: 0.952380952381\n",
      "Precision: 0.952380952381\n",
      "false positive:6\n"
     ]
    },
    {
     "data": {
      "application/vnd.jupyter.widget-view+json": {
       "model_id": "e9423871091b4a508e628ea542cdf49e",
       "version_major": 2,
       "version_minor": 0
      },
      "text/plain": [
       "A Jupyter Widget"
      ]
     },
     "metadata": {},
     "output_type": "display_data"
    },
    {
     "name": "stdout",
     "output_type": "stream",
     "text": [
      "\n",
      "- - - - - - - - - - - - - STATISTICS ON TO_USE DATASET - - - - - - - - - - - - - - \n",
      "\n",
      "Total number of Green links in training dataset : 381 \n",
      "Total number of links in training dataset : 1524 \n",
      " Number of links predicted correctly: 433\n",
      " Accuracy of links predicted correctly: 0.284120734908\n",
      " Number of Green predicted correctly: 368\n",
      " Accuracy of Green predicted correctly: 0.965879265092\n",
      "Precision: 0.965879265092\n",
      "false positive:13\n",
      "-------\n",
      "\n",
      "Thresold value : 6.60674157303\n"
     ]
    },
    {
     "data": {
      "application/vnd.jupyter.widget-view+json": {
       "model_id": "513a0369b11e44c696fcf9ef3d1b6bbb",
       "version_major": 2,
       "version_minor": 0
      },
      "text/plain": [
       "A Jupyter Widget"
      ]
     },
     "metadata": {},
     "output_type": "display_data"
    },
    {
     "name": "stdout",
     "output_type": "stream",
     "text": [
      "\n",
      "- - - - - - - - - - - - - STATISTICS ON TRAINING DATASET - - - - - - - - - - - - - - \n",
      "\n",
      "Total number of Green links in training dataset : 384 \n",
      "Total number of links in training dataset : 1536 \n",
      " Number of links predicted correctly: 384\n",
      " Accuracy of links predicted correctly: 0.25\n",
      " Number of Green predicted correctly: 384\n",
      " Accuracy of Green predicted correctly: 1.0\n",
      "Precision: 1.0\n",
      "false positive:0\n"
     ]
    },
    {
     "data": {
      "application/vnd.jupyter.widget-view+json": {
       "model_id": "149a5db576ad4950bbfc4fbeafc8ea5f",
       "version_major": 2,
       "version_minor": 0
      },
      "text/plain": [
       "A Jupyter Widget"
      ]
     },
     "metadata": {},
     "output_type": "display_data"
    },
    {
     "name": "stdout",
     "output_type": "stream",
     "text": [
      "\n",
      "- - - - - - - - - - - - - STATISTICS ON VALIDATION DATASET - - - - - - - - - - - - - - \n",
      "\n",
      "Total number of Green links in training dataset : 126 \n",
      "Total number of links in training dataset : 504 \n",
      " Number of links predicted correctly: 140\n",
      " Accuracy of links predicted correctly: 0.277777777778\n",
      " Number of Green predicted correctly: 121\n",
      " Accuracy of Green predicted correctly: 0.960317460317\n",
      "Precision: 0.960317460317\n",
      "false positive:5\n"
     ]
    },
    {
     "data": {
      "application/vnd.jupyter.widget-view+json": {
       "model_id": "20a343a6b45e491ca72788aedce7676f",
       "version_major": 2,
       "version_minor": 0
      },
      "text/plain": [
       "A Jupyter Widget"
      ]
     },
     "metadata": {},
     "output_type": "display_data"
    },
    {
     "name": "stdout",
     "output_type": "stream",
     "text": [
      "\n",
      "- - - - - - - - - - - - - STATISTICS ON TO_USE DATASET - - - - - - - - - - - - - - \n",
      "\n",
      "Total number of Green links in training dataset : 381 \n",
      "Total number of links in training dataset : 1524 \n",
      " Number of links predicted correctly: 427\n",
      " Accuracy of links predicted correctly: 0.280183727034\n",
      " Number of Green predicted correctly: 368\n",
      " Accuracy of Green predicted correctly: 0.965879265092\n",
      "Precision: 0.965879265092\n",
      "false positive:13\n",
      "-------\n",
      "\n",
      "Thresold value : 6.68539325843\n"
     ]
    },
    {
     "data": {
      "application/vnd.jupyter.widget-view+json": {
       "model_id": "44b23abc92794eb294505cca20e0680d",
       "version_major": 2,
       "version_minor": 0
      },
      "text/plain": [
       "A Jupyter Widget"
      ]
     },
     "metadata": {},
     "output_type": "display_data"
    },
    {
     "name": "stdout",
     "output_type": "stream",
     "text": [
      "\n",
      "- - - - - - - - - - - - - STATISTICS ON TRAINING DATASET - - - - - - - - - - - - - - \n",
      "\n",
      "Total number of Green links in training dataset : 384 \n",
      "Total number of links in training dataset : 1536 \n",
      " Number of links predicted correctly: 384\n",
      " Accuracy of links predicted correctly: 0.25\n",
      " Number of Green predicted correctly: 384\n",
      " Accuracy of Green predicted correctly: 1.0\n",
      "Precision: 1.0\n",
      "false positive:0\n"
     ]
    },
    {
     "data": {
      "application/vnd.jupyter.widget-view+json": {
       "model_id": "f3b1915a98034efd8ff226fb30d51e32",
       "version_major": 2,
       "version_minor": 0
      },
      "text/plain": [
       "A Jupyter Widget"
      ]
     },
     "metadata": {},
     "output_type": "display_data"
    },
    {
     "name": "stdout",
     "output_type": "stream",
     "text": [
      "\n",
      "- - - - - - - - - - - - - STATISTICS ON VALIDATION DATASET - - - - - - - - - - - - - - \n",
      "\n",
      "Total number of Green links in training dataset : 126 \n",
      "Total number of links in training dataset : 504 \n",
      " Number of links predicted correctly: 140\n",
      " Accuracy of links predicted correctly: 0.277777777778\n",
      " Number of Green predicted correctly: 121\n",
      " Accuracy of Green predicted correctly: 0.960317460317\n",
      "Precision: 0.960317460317\n",
      "false positive:5\n"
     ]
    },
    {
     "data": {
      "application/vnd.jupyter.widget-view+json": {
       "model_id": "928d29ce2a3143cbb861dc0c9edaf2a5",
       "version_major": 2,
       "version_minor": 0
      },
      "text/plain": [
       "A Jupyter Widget"
      ]
     },
     "metadata": {},
     "output_type": "display_data"
    },
    {
     "name": "stdout",
     "output_type": "stream",
     "text": [
      "\n",
      "- - - - - - - - - - - - - STATISTICS ON TO_USE DATASET - - - - - - - - - - - - - - \n",
      "\n",
      "Total number of Green links in training dataset : 381 \n",
      "Total number of links in training dataset : 1524 \n",
      " Number of links predicted correctly: 427\n",
      " Accuracy of links predicted correctly: 0.280183727034\n",
      " Number of Green predicted correctly: 369\n",
      " Accuracy of Green predicted correctly: 0.968503937008\n",
      "Precision: 0.968503937008\n",
      "false positive:12\n",
      "-------\n",
      "\n",
      "Thresold value : 6.76404494382\n"
     ]
    },
    {
     "data": {
      "application/vnd.jupyter.widget-view+json": {
       "model_id": "cf6c0f090b574035aa44cb6b40ae60d1",
       "version_major": 2,
       "version_minor": 0
      },
      "text/plain": [
       "A Jupyter Widget"
      ]
     },
     "metadata": {},
     "output_type": "display_data"
    },
    {
     "name": "stdout",
     "output_type": "stream",
     "text": [
      "\n",
      "- - - - - - - - - - - - - STATISTICS ON TRAINING DATASET - - - - - - - - - - - - - - \n",
      "\n",
      "Total number of Green links in training dataset : 384 \n",
      "Total number of links in training dataset : 1536 \n",
      " Number of links predicted correctly: 384\n",
      " Accuracy of links predicted correctly: 0.25\n",
      " Number of Green predicted correctly: 384\n",
      " Accuracy of Green predicted correctly: 1.0\n",
      "Precision: 1.0\n",
      "false positive:0\n"
     ]
    },
    {
     "data": {
      "application/vnd.jupyter.widget-view+json": {
       "model_id": "608f6d4c12b04ac680a196d920286fd5",
       "version_major": 2,
       "version_minor": 0
      },
      "text/plain": [
       "A Jupyter Widget"
      ]
     },
     "metadata": {},
     "output_type": "display_data"
    },
    {
     "name": "stdout",
     "output_type": "stream",
     "text": [
      "\n",
      "- - - - - - - - - - - - - STATISTICS ON VALIDATION DATASET - - - - - - - - - - - - - - \n",
      "\n",
      "Total number of Green links in training dataset : 126 \n",
      "Total number of links in training dataset : 504 \n",
      " Number of links predicted correctly: 140\n",
      " Accuracy of links predicted correctly: 0.277777777778\n",
      " Number of Green predicted correctly: 121\n",
      " Accuracy of Green predicted correctly: 0.960317460317\n",
      "Precision: 0.960317460317\n",
      "false positive:5\n"
     ]
    },
    {
     "data": {
      "application/vnd.jupyter.widget-view+json": {
       "model_id": "7b98a2a6e66a4d629f5755bd4f9bf4e2",
       "version_major": 2,
       "version_minor": 0
      },
      "text/plain": [
       "A Jupyter Widget"
      ]
     },
     "metadata": {},
     "output_type": "display_data"
    },
    {
     "name": "stdout",
     "output_type": "stream",
     "text": [
      "\n",
      "- - - - - - - - - - - - - STATISTICS ON TO_USE DATASET - - - - - - - - - - - - - - \n",
      "\n",
      "Total number of Green links in training dataset : 381 \n",
      "Total number of links in training dataset : 1524 \n",
      " Number of links predicted correctly: 418\n",
      " Accuracy of links predicted correctly: 0.274278215223\n",
      " Number of Green predicted correctly: 370\n",
      " Accuracy of Green predicted correctly: 0.971128608924\n",
      "Precision: 0.971128608924\n",
      "false positive:11\n",
      "-------\n",
      "\n",
      "Thresold value : 6.84269662921\n"
     ]
    },
    {
     "data": {
      "application/vnd.jupyter.widget-view+json": {
       "model_id": "e62fa80ae7ef4c2b9c0f775599838b06",
       "version_major": 2,
       "version_minor": 0
      },
      "text/plain": [
       "A Jupyter Widget"
      ]
     },
     "metadata": {},
     "output_type": "display_data"
    },
    {
     "name": "stdout",
     "output_type": "stream",
     "text": [
      "\n",
      "- - - - - - - - - - - - - STATISTICS ON TRAINING DATASET - - - - - - - - - - - - - - \n",
      "\n",
      "Total number of Green links in training dataset : 384 \n",
      "Total number of links in training dataset : 1536 \n",
      " Number of links predicted correctly: 384\n",
      " Accuracy of links predicted correctly: 0.25\n",
      " Number of Green predicted correctly: 384\n",
      " Accuracy of Green predicted correctly: 1.0\n",
      "Precision: 1.0\n",
      "false positive:0\n"
     ]
    },
    {
     "data": {
      "application/vnd.jupyter.widget-view+json": {
       "model_id": "547ceedcb4eb48c18fa4b6ed2ce4911a",
       "version_major": 2,
       "version_minor": 0
      },
      "text/plain": [
       "A Jupyter Widget"
      ]
     },
     "metadata": {},
     "output_type": "display_data"
    },
    {
     "name": "stdout",
     "output_type": "stream",
     "text": [
      "\n",
      "- - - - - - - - - - - - - STATISTICS ON VALIDATION DATASET - - - - - - - - - - - - - - \n",
      "\n",
      "Total number of Green links in training dataset : 126 \n",
      "Total number of links in training dataset : 504 \n",
      " Number of links predicted correctly: 141\n",
      " Accuracy of links predicted correctly: 0.279761904762\n",
      " Number of Green predicted correctly: 122\n",
      " Accuracy of Green predicted correctly: 0.968253968254\n",
      "Precision: 0.968253968254\n",
      "false positive:4\n"
     ]
    },
    {
     "data": {
      "application/vnd.jupyter.widget-view+json": {
       "model_id": "c679e2d30d384ac9a5f04bb1c998d227",
       "version_major": 2,
       "version_minor": 0
      },
      "text/plain": [
       "A Jupyter Widget"
      ]
     },
     "metadata": {},
     "output_type": "display_data"
    },
    {
     "name": "stdout",
     "output_type": "stream",
     "text": [
      "\n",
      "- - - - - - - - - - - - - STATISTICS ON TO_USE DATASET - - - - - - - - - - - - - - \n",
      "\n",
      "Total number of Green links in training dataset : 381 \n",
      "Total number of links in training dataset : 1524 \n",
      " Number of links predicted correctly: 417\n",
      " Accuracy of links predicted correctly: 0.273622047244\n",
      " Number of Green predicted correctly: 370\n",
      " Accuracy of Green predicted correctly: 0.971128608924\n",
      "Precision: 0.971128608924\n",
      "false positive:11\n",
      "-------\n",
      "\n",
      "Thresold value : 6.92134831461\n"
     ]
    },
    {
     "data": {
      "application/vnd.jupyter.widget-view+json": {
       "model_id": "04a4f2a7d6ad474796e32a5f14f7c198",
       "version_major": 2,
       "version_minor": 0
      },
      "text/plain": [
       "A Jupyter Widget"
      ]
     },
     "metadata": {},
     "output_type": "display_data"
    },
    {
     "name": "stdout",
     "output_type": "stream",
     "text": [
      "\n",
      "- - - - - - - - - - - - - STATISTICS ON TRAINING DATASET - - - - - - - - - - - - - - \n",
      "\n",
      "Total number of Green links in training dataset : 384 \n",
      "Total number of links in training dataset : 1536 \n",
      " Number of links predicted correctly: 384\n",
      " Accuracy of links predicted correctly: 0.25\n",
      " Number of Green predicted correctly: 384\n",
      " Accuracy of Green predicted correctly: 1.0\n",
      "Precision: 1.0\n",
      "false positive:0\n"
     ]
    },
    {
     "data": {
      "application/vnd.jupyter.widget-view+json": {
       "model_id": "6d6d1b8fe0884fa08cdc2c0ffc80a161",
       "version_major": 2,
       "version_minor": 0
      },
      "text/plain": [
       "A Jupyter Widget"
      ]
     },
     "metadata": {},
     "output_type": "display_data"
    },
    {
     "name": "stdout",
     "output_type": "stream",
     "text": [
      "\n",
      "- - - - - - - - - - - - - STATISTICS ON VALIDATION DATASET - - - - - - - - - - - - - - \n",
      "\n",
      "Total number of Green links in training dataset : 126 \n",
      "Total number of links in training dataset : 504 \n",
      " Number of links predicted correctly: 140\n",
      " Accuracy of links predicted correctly: 0.277777777778\n",
      " Number of Green predicted correctly: 123\n",
      " Accuracy of Green predicted correctly: 0.97619047619\n",
      "Precision: 0.97619047619\n",
      "false positive:3\n"
     ]
    },
    {
     "data": {
      "application/vnd.jupyter.widget-view+json": {
       "model_id": "212a8230ba6e4c6192ffb064c0d50f67",
       "version_major": 2,
       "version_minor": 0
      },
      "text/plain": [
       "A Jupyter Widget"
      ]
     },
     "metadata": {},
     "output_type": "display_data"
    },
    {
     "name": "stdout",
     "output_type": "stream",
     "text": [
      "\n",
      "- - - - - - - - - - - - - STATISTICS ON TO_USE DATASET - - - - - - - - - - - - - - \n",
      "\n",
      "Total number of Green links in training dataset : 381 \n",
      "Total number of links in training dataset : 1524 \n",
      " Number of links predicted correctly: 413\n",
      " Accuracy of links predicted correctly: 0.270997375328\n",
      " Number of Green predicted correctly: 371\n",
      " Accuracy of Green predicted correctly: 0.97375328084\n",
      "Precision: 0.97375328084\n",
      "false positive:10\n",
      "-------\n",
      "\n",
      "Thresold value : 7.0\n"
     ]
    },
    {
     "data": {
      "application/vnd.jupyter.widget-view+json": {
       "model_id": "ba49b8cef8084bec9df2fc2cc46003c5",
       "version_major": 2,
       "version_minor": 0
      },
      "text/plain": [
       "A Jupyter Widget"
      ]
     },
     "metadata": {},
     "output_type": "display_data"
    },
    {
     "name": "stdout",
     "output_type": "stream",
     "text": [
      "\n",
      "- - - - - - - - - - - - - STATISTICS ON TRAINING DATASET - - - - - - - - - - - - - - \n",
      "\n",
      "Total number of Green links in training dataset : 384 \n",
      "Total number of links in training dataset : 1536 \n",
      " Number of links predicted correctly: 384\n",
      " Accuracy of links predicted correctly: 0.25\n",
      " Number of Green predicted correctly: 384\n",
      " Accuracy of Green predicted correctly: 1.0\n",
      "Precision: 1.0\n",
      "false positive:0\n"
     ]
    },
    {
     "data": {
      "application/vnd.jupyter.widget-view+json": {
       "model_id": "51873a60827b47b7a38b0d8f6c008e44",
       "version_major": 2,
       "version_minor": 0
      },
      "text/plain": [
       "A Jupyter Widget"
      ]
     },
     "metadata": {},
     "output_type": "display_data"
    },
    {
     "name": "stdout",
     "output_type": "stream",
     "text": [
      "\n",
      "- - - - - - - - - - - - - STATISTICS ON VALIDATION DATASET - - - - - - - - - - - - - - \n",
      "\n",
      "Total number of Green links in training dataset : 126 \n",
      "Total number of links in training dataset : 504 \n",
      " Number of links predicted correctly: 139\n",
      " Accuracy of links predicted correctly: 0.275793650794\n",
      " Number of Green predicted correctly: 123\n",
      " Accuracy of Green predicted correctly: 0.97619047619\n",
      "Precision: 0.97619047619\n",
      "false positive:3\n"
     ]
    },
    {
     "data": {
      "application/vnd.jupyter.widget-view+json": {
       "model_id": "6b641ba191a04a6daaf9cc0aa63a6de0",
       "version_major": 2,
       "version_minor": 0
      },
      "text/plain": [
       "A Jupyter Widget"
      ]
     },
     "metadata": {},
     "output_type": "display_data"
    },
    {
     "name": "stdout",
     "output_type": "stream",
     "text": [
      "\n",
      "- - - - - - - - - - - - - STATISTICS ON TO_USE DATASET - - - - - - - - - - - - - - \n",
      "\n",
      "Total number of Green links in training dataset : 381 \n",
      "Total number of links in training dataset : 1524 \n",
      " Number of links predicted correctly: 410\n",
      " Accuracy of links predicted correctly: 0.269028871391\n",
      " Number of Green predicted correctly: 372\n",
      " Accuracy of Green predicted correctly: 0.976377952756\n",
      "Precision: 0.976377952756\n",
      "false positive:9\n"
     ]
    }
   ],
   "source": [
    "results =[]\n",
    "for thres in np.linspace(0,7,90):\n",
    "    print(\"-------\\n\")\n",
    "    print(\"Thresold value : {}\").format(thres)\n",
    "    ## Training Data Stats\n",
    "\n",
    "    train_data =  pd.read_csv('./Data/train.csv', delimiter=',')\n",
    "    train_data.dropna(inplace=True)\n",
    "    #train_data['hole_prediction'] = ''\n",
    "    # Calculating train data stats\n",
    "    acc_count =0\n",
    "    inacc_count=0\n",
    "    green_acc_count = 0\n",
    "    for idx,dat in  tqdm.tqdm_notebook(enumerate(train_data.iterrows())):\n",
    "        acc_count,green_acc_count,inacc_count,_ = transe_prediction2(hole,dat[1],thres,acc_count,green_acc_count,inacc_count)\n",
    "\n",
    "    #acc_count = (train_data['hole_prediction'] == train_data['relation']).sum()\n",
    "    green_acc = float(green_acc_count)/train_data.shape[0]\n",
    "    acc = float(acc_count)/(train_data.shape[0]*4)\n",
    "    pre_sc = float(green_acc_count)/(green_acc_count + inacc_count)\n",
    "\n",
    "    # Printing results\n",
    "    print(\"\\n- - - - - - - - - - - - - STATISTICS ON TRAINING DATASET - - - - - - - - - - - - - - \\n\")\n",
    "    print(\"Total number of Green links in training dataset : {} \".format(train_data.shape[0]))\n",
    "    print(\"Total number of links in training dataset : {} \".format(train_data.shape[0]*4))\n",
    "    print(\" Number of links predicted correctly: {}\".format(acc_count))\n",
    "    print(\" Accuracy of links predicted correctly: {}\".format(acc))\n",
    "    print(\" Number of Green predicted correctly: {}\".format(green_acc_count))\n",
    "    print(\" Accuracy of Green predicted correctly: {}\".format(green_acc))\n",
    "    print(\"Precision: {}\".format(pre_sc))\n",
    "    print (\"false positive:{}\".format(inacc_count))\n",
    "    \n",
    "\n",
    "    ## Validation Data Stats\n",
    "\n",
    "    valid_data =  pd.read_csv('./Data/valid.csv', delimiter=',')\n",
    "    valid_data.dropna(inplace=True)\n",
    "    #valid_data['hole_prediction'] = ''\n",
    "    # Calculating train data stats\n",
    "    acc_count =0\n",
    "    inacc_count =0\n",
    "    green_acc_count = 0\n",
    "    for idx,dat in  tqdm.tqdm_notebook(enumerate(valid_data.iterrows())):\n",
    "        acc_count,green_acc_count,inacc_count,_ = transe_prediction2(hole,dat[1],thres,acc_count,green_acc_count,inacc_count)\n",
    "\n",
    "    #acc_count = (valid_data['hole_prediction'] == valid_data['relation']).sum()\n",
    "    green_acc = float(green_acc_count)/valid_data.shape[0]\n",
    "    acc = float(acc_count)/(valid_data.shape[0]*4)\n",
    "    pre_sc = float(green_acc_count)/(green_acc_count + inacc_count)\n",
    "\n",
    "    # Printing results\n",
    "    print(\"\\n- - - - - - - - - - - - - STATISTICS ON VALIDATION DATASET - - - - - - - - - - - - - - \\n\")\n",
    "    print(\"Total number of Green links in training dataset : {} \".format(valid_data.shape[0]))\n",
    "    print(\"Total number of links in training dataset : {} \".format(valid_data.shape[0]*4))\n",
    "    print(\" Number of links predicted correctly: {}\".format(acc_count))\n",
    "    print(\" Accuracy of links predicted correctly: {}\".format(acc))\n",
    "    print(\" Number of Green predicted correctly: {}\".format(green_acc_count))\n",
    "    print(\" Accuracy of Green predicted correctly: {}\".format(green_acc))\n",
    "    print(\"Precision: {}\".format(pre_sc))\n",
    "    print (\"false positive:{}\".format(inacc_count))\n",
    "\n",
    "    ## To_use Data Stats\n",
    "\n",
    "    test_data =  pd.read_csv('./Data/to_use.csv', delimiter=',')\n",
    "    test_data.dropna(inplace=True)\n",
    "    #test_data['hole_prediction'] = ''\n",
    "    # Calculating train data stats\n",
    "    acc_count =0\n",
    "    inacc_count =0\n",
    "    green_acc_count = 0\n",
    "    for idx,dat in  tqdm.tqdm_notebook(enumerate(test_data.iterrows())):\n",
    "        acc_count,green_acc_count,inacc_count,_ = transe_prediction2(hole,dat[1],thres,acc_count,green_acc_count,inacc_count)\n",
    "\n",
    "    #acc_count = (test_data['hole_prediction'] == test_data['relation']).sum()\n",
    "    green_acc = float(green_acc_count)/test_data.shape[0]\n",
    "    acc = float(acc_count)/(test_data.shape[0]*4)\n",
    "    pre_sc = float(green_acc_count)/(green_acc_count + inacc_count)\n",
    "\n",
    "    \n",
    "    # Printing results\n",
    "    print(\"\\n- - - - - - - - - - - - - STATISTICS ON TO_USE DATASET - - - - - - - - - - - - - - \\n\")\n",
    "    print(\"Total number of Green links in training dataset : {} \".format(test_data.shape[0]))\n",
    "    print(\"Total number of links in training dataset : {} \".format(test_data.shape[0]*4))\n",
    "    print(\" Number of links predicted correctly: {}\".format(acc_count))\n",
    "    print(\" Accuracy of links predicted correctly: {}\".format(acc))\n",
    "    print(\" Number of Green predicted correctly: {}\".format(green_acc_count))\n",
    "    print(\" Accuracy of Green predicted correctly: {}\".format(green_acc))\n",
    "    print(\"Precision: {}\".format(pre_sc))\n",
    "    print (\"false positive:{}\".format(inacc_count))\n",
    "    results.append([thres,pre_sc])"
   ]
  },
  {
   "cell_type": "code",
   "execution_count": 16,
   "metadata": {
    "collapsed": true
   },
   "outputs": [],
   "source": [
    "result_df = pd.DataFrame(results,columns=['threshold','total_link_accuracy','green_link_accuracy'])"
   ]
  },
  {
   "cell_type": "code",
   "execution_count": 19,
   "metadata": {
    "collapsed": true
   },
   "outputs": [],
   "source": [
    "result_df.to_csv('./Data/threshold_results.csv',index=False)"
   ]
  },
  {
   "cell_type": "markdown",
   "metadata": {
    "collapsed": true
   },
   "source": [
    "-----------"
   ]
  },
  {
   "cell_type": "markdown",
   "metadata": {},
   "source": [
    "## Create Dataset for ML Models"
   ]
  },
  {
   "cell_type": "code",
   "execution_count": 100,
   "metadata": {
    "collapsed": true
   },
   "outputs": [],
   "source": [
    "# Create negative samples : 890\n",
    "\n",
    "total_negative_samples2 = negative([4,62,1],num_neg_triplets=2)"
   ]
  },
  {
   "cell_type": "code",
   "execution_count": 113,
   "metadata": {
    "collapsed": true
   },
   "outputs": [],
   "source": [
    "q,w,e =total_negative_samples2[0][0,:].tolist()"
   ]
  },
  {
   "cell_type": "code",
   "execution_count": 114,
   "metadata": {},
   "outputs": [
    {
     "data": {
      "text/plain": [
       "4"
      ]
     },
     "execution_count": 114,
     "metadata": {},
     "output_type": "execute_result"
    }
   ],
   "source": [
    "q"
   ]
  },
  {
   "cell_type": "code",
   "execution_count": 110,
   "metadata": {},
   "outputs": [
    {
     "data": {
      "text/plain": [
       "array([[[  4, 176,   1],\n",
       "        [100,  62,   1]]])"
      ]
     },
     "execution_count": 110,
     "metadata": {},
     "output_type": "execute_result"
    }
   ],
   "source": [
    "total_negative_samples2"
   ]
  },
  {
   "cell_type": "code",
   "execution_count": 83,
   "metadata": {
    "collapsed": true
   },
   "outputs": [],
   "source": [
    "train_data['features'] = ''\n",
    "valid_data['features'] = ''\n",
    "test_data['features'] = ''"
   ]
  },
  {
   "cell_type": "code",
   "execution_count": 84,
   "metadata": {},
   "outputs": [
    {
     "data": {
      "application/vnd.jupyter.widget-view+json": {
       "model_id": "a553c43a71b94136a278b3651cc80e7a",
       "version_major": 2,
       "version_minor": 0
      },
      "text/plain": [
       "A Jupyter Widget"
      ]
     },
     "metadata": {},
     "output_type": "display_data"
    },
    {
     "name": "stdout",
     "output_type": "stream",
     "text": [
      "\n"
     ]
    }
   ],
   "source": [
    "train_neg_sample = []\n",
    "for idx,fact in tqdm.tqdm_notebook(enumerate(train_data.iterrows())):\n",
    "    i = fact[1]['entity_a']\n",
    "    j = fact[1]['entity_b']\n",
    "    r= fact[1]['relation']\n",
    "    neg_sample = negative([i,j,r],num_neg_triplets=100)\n",
    "    ent_h = hole.ent_embeddings(torch.LongTensor([i]))\n",
    "    ent_t = hole.ent_embeddings(torch.LongTensor([j]))\n",
    "    ent_r = hole.rel_embeddings(torch.LongTensor([r]))\n",
    "    #fea = hole._calc(ent_h.view(-1,emb_dim),ent_t.view(-1,emb_dim),ent_r.view(-1,emb_dim))\n",
    "    fea = np.concatenate((ent_h.data.numpy(),ent_t.data.numpy(),ent_r.data.numpy()),axis=1)\n",
    "    train_data['features'].iloc[idx] = fea[0].tolist()\n",
    "    train_data['true_pred'] = 1\n",
    "    for m in range(100):\n",
    "        i,j,r = neg_sample[0][m,:].tolist()\n",
    "        #neg_sample = negative([i,j,r],num_neg_triplets=10)\n",
    "        ent_h = hole.ent_embeddings(torch.LongTensor([i]))\n",
    "        ent_t = hole.ent_embeddings(torch.LongTensor([j]))\n",
    "        ent_r = hole.rel_embeddings(torch.LongTensor([r]))\n",
    "        #fea = hole._calc(ent_h.view(-1,emb_dim),ent_t.view(-1,emb_dim),ent_r.view(-1,emb_dim))\n",
    "        fea = np.concatenate((ent_h.data.numpy(),ent_t.data.numpy(),ent_r.data.numpy()),axis=1)\n",
    "        train_neg_sample.append([i,j,r,fea[0].tolist(),0])\n",
    "        #train_data['features'].iloc[idx] = fea[0].tolist()\n",
    "        #train_data['true_pred'] = 0     "
   ]
  },
  {
   "cell_type": "code",
   "execution_count": 85,
   "metadata": {},
   "outputs": [
    {
     "data": {
      "application/vnd.jupyter.widget-view+json": {
       "model_id": "1924cdf76044450d811a8853a041ddb8",
       "version_major": 2,
       "version_minor": 0
      },
      "text/plain": [
       "A Jupyter Widget"
      ]
     },
     "metadata": {},
     "output_type": "display_data"
    },
    {
     "name": "stdout",
     "output_type": "stream",
     "text": [
      "\n"
     ]
    }
   ],
   "source": [
    "valid_neg_sample = []\n",
    "for idx,fact in tqdm.tqdm_notebook(enumerate(valid_data.iterrows())):\n",
    "    i = fact[1]['entity_a']\n",
    "    j = fact[1]['entity_b']\n",
    "    r= fact[1]['relation']\n",
    "    neg_sample = negative([i,j,r],num_neg_triplets=2)\n",
    "    ent_h = hole.ent_embeddings(torch.LongTensor([i]))\n",
    "    ent_t = hole.ent_embeddings(torch.LongTensor([j]))\n",
    "    ent_r = hole.rel_embeddings(torch.LongTensor([r]))\n",
    "    #fea = hole._calc(ent_h.view(-1,emb_dim),ent_t.view(-1,emb_dim),ent_r.view(-1,emb_dim))\n",
    "    fea = np.concatenate((ent_h.data.numpy(),ent_t.data.numpy(),ent_r.data.numpy()),axis=1)\n",
    "    valid_data['features'].iloc[idx] = fea[0].tolist()\n",
    "    valid_data['true_pred'] = 1\n",
    "    for m in range(2):\n",
    "        i,j,r = neg_sample[0][m,:].tolist()\n",
    "        #neg_sample = negative([i,j,r],num_neg_triplets=2)\n",
    "        ent_h = hole.ent_embeddings(torch.LongTensor([i]))\n",
    "        ent_t = hole.ent_embeddings(torch.LongTensor([j]))\n",
    "        ent_r = hole.rel_embeddings(torch.LongTensor([r]))\n",
    "        #fea = hole._calc(ent_h.view(-1,emb_dim),ent_t.view(-1,emb_dim),ent_r.view(-1,emb_dim))\n",
    "        fea = np.concatenate((ent_h.data.numpy(),ent_t.data.numpy(),ent_r.data.numpy()),axis=1)\n",
    "        valid_neg_sample.append([i,j,r,fea[0].tolist(),0])"
   ]
  },
  {
   "cell_type": "code",
   "execution_count": 86,
   "metadata": {},
   "outputs": [
    {
     "data": {
      "application/vnd.jupyter.widget-view+json": {
       "model_id": "b8e1a864c9ff4c94a40e74877af627d1",
       "version_major": 2,
       "version_minor": 0
      },
      "text/plain": [
       "A Jupyter Widget"
      ]
     },
     "metadata": {},
     "output_type": "display_data"
    },
    {
     "name": "stdout",
     "output_type": "stream",
     "text": [
      "\n"
     ]
    }
   ],
   "source": [
    "test_neg_sample = []\n",
    "for idx,fact in tqdm.tqdm_notebook(enumerate(test_data.iterrows())):\n",
    "    i = fact[1]['entity_a']\n",
    "    j = fact[1]['entity_b']\n",
    "    r= fact[1]['relation']\n",
    "    neg_sample = negative([i,j,r],num_neg_triplets=2)\n",
    "    ent_h = hole.ent_embeddings(torch.LongTensor([i]))\n",
    "    ent_t = hole.ent_embeddings(torch.LongTensor([j]))\n",
    "    ent_r = hole.rel_embeddings(torch.LongTensor([r]))\n",
    "    #fea = hole._calc(ent_h.view(-1,emb_dim),ent_t.view(-1,emb_dim),ent_r.view(-1,emb_dim))\n",
    "    fea = np.concatenate((ent_h.data.numpy(),ent_t.data.numpy(),ent_r.data.numpy()),axis=1)\n",
    "    test_data['features'].iloc[idx] = fea[0].tolist()\n",
    "    test_data['true_pred'] = 1\n",
    "    for m in range(2):\n",
    "        i,j,r = neg_sample[0][m,:].tolist()\n",
    "        #neg_sample = negative([i,j,r],num_neg_triplets=2)\n",
    "        ent_h = hole.ent_embeddings(torch.LongTensor([i]))\n",
    "        ent_t = hole.ent_embeddings(torch.LongTensor([j]))\n",
    "        ent_r = hole.rel_embeddings(torch.LongTensor([r]))\n",
    "        #fea = hole._calc(ent_h.view(-1,emb_dim),ent_t.view(-1,emb_dim),ent_r.view(-1,emb_dim))\n",
    "        fea = np.concatenate((ent_h.data.numpy(),ent_t.data.numpy(),ent_r.data.numpy()),axis=1)\n",
    "        test_neg_sample.append([i,j,r,fea[0].tolist(),0])"
   ]
  },
  {
   "cell_type": "code",
   "execution_count": 87,
   "metadata": {},
   "outputs": [
    {
     "data": {
      "text/plain": [
       "38400"
      ]
     },
     "execution_count": 87,
     "metadata": {},
     "output_type": "execute_result"
    }
   ],
   "source": [
    "len(train_neg_sample)"
   ]
  },
  {
   "cell_type": "code",
   "execution_count": 88,
   "metadata": {},
   "outputs": [
    {
     "name": "stdout",
     "output_type": "stream",
     "text": [
      "(384, 5)\n"
     ]
    },
    {
     "data": {
      "text/html": [
       "<div>\n",
       "<style>\n",
       "    .dataframe thead tr:only-child th {\n",
       "        text-align: right;\n",
       "    }\n",
       "\n",
       "    .dataframe thead th {\n",
       "        text-align: left;\n",
       "    }\n",
       "\n",
       "    .dataframe tbody tr th {\n",
       "        vertical-align: top;\n",
       "    }\n",
       "</style>\n",
       "<table border=\"1\" class=\"dataframe\">\n",
       "  <thead>\n",
       "    <tr style=\"text-align: right;\">\n",
       "      <th></th>\n",
       "      <th>entity_a</th>\n",
       "      <th>entity_b</th>\n",
       "      <th>relation</th>\n",
       "      <th>features</th>\n",
       "      <th>true_pred</th>\n",
       "    </tr>\n",
       "  </thead>\n",
       "  <tbody>\n",
       "    <tr>\n",
       "      <th>0</th>\n",
       "      <td>94</td>\n",
       "      <td>394</td>\n",
       "      <td>3</td>\n",
       "      <td>[-0.0260255075991, 0.133726477623, 0.020658060...</td>\n",
       "      <td>1</td>\n",
       "    </tr>\n",
       "    <tr>\n",
       "      <th>1</th>\n",
       "      <td>375</td>\n",
       "      <td>300</td>\n",
       "      <td>0</td>\n",
       "      <td>[-0.0450582802296, 0.00317829241976, 0.0124878...</td>\n",
       "      <td>1</td>\n",
       "    </tr>\n",
       "    <tr>\n",
       "      <th>2</th>\n",
       "      <td>339</td>\n",
       "      <td>300</td>\n",
       "      <td>0</td>\n",
       "      <td>[0.0394001528621, 0.0264355055988, -0.01990195...</td>\n",
       "      <td>1</td>\n",
       "    </tr>\n",
       "    <tr>\n",
       "      <th>3</th>\n",
       "      <td>204</td>\n",
       "      <td>200</td>\n",
       "      <td>0</td>\n",
       "      <td>[-0.038533963263, 0.0253632776439, -0.00632476...</td>\n",
       "      <td>1</td>\n",
       "    </tr>\n",
       "    <tr>\n",
       "      <th>4</th>\n",
       "      <td>35</td>\n",
       "      <td>0</td>\n",
       "      <td>0</td>\n",
       "      <td>[-0.110900588334, 0.0345771238208, 0.100515030...</td>\n",
       "      <td>1</td>\n",
       "    </tr>\n",
       "  </tbody>\n",
       "</table>\n",
       "</div>"
      ],
      "text/plain": [
       "   entity_a  entity_b  relation  \\\n",
       "0        94       394         3   \n",
       "1       375       300         0   \n",
       "2       339       300         0   \n",
       "3       204       200         0   \n",
       "4        35         0         0   \n",
       "\n",
       "                                            features  true_pred  \n",
       "0  [-0.0260255075991, 0.133726477623, 0.020658060...          1  \n",
       "1  [-0.0450582802296, 0.00317829241976, 0.0124878...          1  \n",
       "2  [0.0394001528621, 0.0264355055988, -0.01990195...          1  \n",
       "3  [-0.038533963263, 0.0253632776439, -0.00632476...          1  \n",
       "4  [-0.110900588334, 0.0345771238208, 0.100515030...          1  "
      ]
     },
     "execution_count": 88,
     "metadata": {},
     "output_type": "execute_result"
    }
   ],
   "source": [
    "print train_data.shape\n",
    "train_data.head()"
   ]
  },
  {
   "cell_type": "code",
   "execution_count": 89,
   "metadata": {
    "collapsed": true
   },
   "outputs": [],
   "source": [
    "neg_train_df = pd.DataFrame(train_neg_sample,columns=['entity_a','entity_b','relation','features','true_pred'])\n",
    "neg_valid_df = pd.DataFrame(valid_neg_sample,columns=['entity_a','entity_b','relation','features','true_pred'])\n",
    "neg_test_df = pd.DataFrame(test_neg_sample,columns=['entity_a','entity_b','relation','features','true_pred'])"
   ]
  },
  {
   "cell_type": "code",
   "execution_count": 90,
   "metadata": {
    "collapsed": true
   },
   "outputs": [],
   "source": [
    "neg_train_df.drop_duplicates(subset=['entity_a','entity_b','relation'],inplace=True)\n",
    "neg_valid_df.drop_duplicates(subset=['entity_a','entity_b','relation'],inplace=True)\n",
    "neg_test_df.drop_duplicates(subset=['entity_a','entity_b','relation'],inplace=True)"
   ]
  },
  {
   "cell_type": "code",
   "execution_count": 91,
   "metadata": {},
   "outputs": [
    {
     "name": "stdout",
     "output_type": "stream",
     "text": [
      "0\n",
      "0\n",
      "0\n"
     ]
    }
   ],
   "source": [
    "print neg_train_df[neg_train_df[['entity_a','entity_b','relation']].isin(neg_valid_df[['entity_a','entity_b','relation']]).sum(axis=1)==3].shape[0]\n",
    "print neg_test_df[neg_test_df[['entity_a','entity_b','relation']].isin(neg_valid_df[['entity_a','entity_b','relation']]).sum(axis=1)==3].shape[0]\n",
    "print neg_test_df[neg_test_df[['entity_a','entity_b','relation']].isin(neg_train_df[['entity_a','entity_b','relation']]).sum(axis=1)==3].shape[0]"
   ]
  },
  {
   "cell_type": "code",
   "execution_count": 92,
   "metadata": {
    "collapsed": true
   },
   "outputs": [],
   "source": [
    "train_data = train_data.append(neg_train_df,ignore_index=True)\n",
    "valid_data = valid_data.append(neg_valid_df,ignore_index=True)\n",
    "test_data = test_data.append(neg_test_df,ignore_index=True)"
   ]
  },
  {
   "cell_type": "code",
   "execution_count": 93,
   "metadata": {
    "collapsed": true
   },
   "outputs": [],
   "source": [
    "from sklearn.linear_model import LogisticRegression\n",
    "from sklearn.ensemble import RandomForestClassifier\n",
    "from sklearn.ensemble import GradientBoostingClassifier"
   ]
  },
  {
   "cell_type": "code",
   "execution_count": 94,
   "metadata": {
    "collapsed": true
   },
   "outputs": [],
   "source": [
    "from sklearn.externals import joblib"
   ]
  },
  {
   "cell_type": "code",
   "execution_count": 95,
   "metadata": {
    "collapsed": true
   },
   "outputs": [],
   "source": [
    "train_data = train_data.sample(frac=1).reset_index(drop=True)\n",
    "valid_data = valid_data.sample(frac=1).reset_index(drop=True)\n",
    "test_data = test_data.sample(frac=1).reset_index(drop=True)"
   ]
  },
  {
   "cell_type": "markdown",
   "metadata": {},
   "source": [
    "#### Logistic Regression"
   ]
  },
  {
   "cell_type": "code",
   "execution_count": 96,
   "metadata": {
    "collapsed": true
   },
   "outputs": [],
   "source": [
    "from sklearn.naive_bayes import GaussianNB, ComplementNB"
   ]
  },
  {
   "cell_type": "code",
   "execution_count": 97,
   "metadata": {
    "collapsed": true
   },
   "outputs": [],
   "source": [
    "#clf = GaussianNB()\n",
    "#clf = ComplementNB()\n",
    "clf = LogisticRegression(max_iter=500,random_state=40,solver='lbfgs',class_weight='balanced')\n",
    "clf = clf.fit(np.array([train_data['features']]).reshape(train_data.shape[0],-1),train_data['true_pred'].values)"
   ]
  },
  {
   "cell_type": "code",
   "execution_count": 98,
   "metadata": {
    "collapsed": true
   },
   "outputs": [],
   "source": [
    "#joblib.dump(clf, './Data/logistic_regression_clf.pkl') "
   ]
  },
  {
   "cell_type": "code",
   "execution_count": 99,
   "metadata": {},
   "outputs": [
    {
     "name": "stdout",
     "output_type": "stream",
     "text": [
      "\n",
      "- - - - - - - - - - - - - STATISTICS ON TRAINING DATASET - - - - - - - - - - - - - - \n",
      "\n",
      "Total number of links in training dataset : 30802 \n",
      " Number of links predicted correctly: 21881\n",
      " Accuracy of links predicted correctly: 0.710375949614\n",
      "Total number of Green links in training dataset : 384 \n",
      " Number of Green links predicted correctly: 286\n",
      " Accuracy of Green links predicted correctly: 0.744791666667\n",
      "\n",
      "- - - - - - - - - - - - - STATISTICS ON VALIDATION DATASET - - - - - - - - - - - - - - \n",
      "\n",
      "Total number of links in training dataset : 375 \n",
      " Number of links predicted correctly: 234\n",
      " Accuracy of linkspredicted correctly: 0.624\n",
      "Total number of Green links in training dataset : 126 \n",
      " Number of Green links predicted correctly: 78\n",
      " Accuracy of Green links predicted correctly: 0.619047619048\n",
      "\n",
      "- - - - - - - - - - - - - STATISTICS ON TO_USE DATASET - - - - - - - - - - - - - - \n",
      "\n",
      "Total number of links links in training dataset : 1126 \n",
      " Number of links predicted correctly: 707\n",
      " Accuracy of links predicted correctly: 0.627886323268\n",
      "Total number of Green links in training dataset : 381 \n",
      " Number of Green links predicted correctly: 215\n",
      " Accuracy of Green links predicted correctly: 0.564304461942\n"
     ]
    }
   ],
   "source": [
    "val_prediction = clf.predict(np.array([valid_data['features']]).reshape(valid_data.shape[0],-1))\n",
    "val_prob = clf.predict_proba(np.array([valid_data['features']]).reshape(valid_data.shape[0],-1))\n",
    "train_prediction = clf.predict(np.array([train_data['features']]).reshape(train_data.shape[0],-1))\n",
    "train_prob = clf.predict_proba(np.array([train_data['features']]).reshape(train_data.shape[0],-1))\n",
    "test_prediction = clf.predict(np.array([test_data['features']]).reshape(test_data.shape[0],-1))\n",
    "test_prob = clf.predict_proba(np.array([test_data['features']]).reshape(test_data.shape[0],-1))\n",
    "valid_data['logistic_regression_prediction'] = val_prediction\n",
    "train_data['logistic_regression_prediction'] = train_prediction\n",
    "test_data['logistic_regression_prediction'] = test_prediction\n",
    "train_data['logistic_regression_prob'] = train_prob.tolist()\n",
    "valid_data['logistic_regression_prob'] = val_prob.tolist()\n",
    "test_data['logistic_regression_prob'] = test_prob.tolist()\n",
    "\n",
    "val_acc_count = (valid_data['logistic_regression_prediction'] == valid_data['true_pred']).sum()\n",
    "val_acc = float(val_acc_count)/valid_data.shape[0]\n",
    "train_acc_count = (train_data['logistic_regression_prediction'] == train_data['true_pred']).sum()\n",
    "train_acc = float(train_acc_count)/train_data.shape[0]\n",
    "test_acc_count = (test_data['logistic_regression_prediction'] == test_data['true_pred']).sum()\n",
    "test_acc = float(test_acc_count)/test_data.shape[0]\n",
    "\n",
    "green_val_acc_count = (valid_data[valid_data.true_pred==1]['logistic_regression_prediction'] == valid_data[valid_data.true_pred==1]['true_pred']).sum()\n",
    "green_val_acc = float(green_val_acc_count)/valid_data[valid_data.true_pred==1].shape[0]\n",
    "green_train_acc_count = (train_data[train_data.true_pred==1]['logistic_regression_prediction'] == train_data[train_data.true_pred==1]['true_pred']).sum()\n",
    "green_train_acc = float(green_train_acc_count)/train_data[train_data.true_pred==1].shape[0]\n",
    "green_test_acc_count = (test_data[test_data.true_pred==1]['logistic_regression_prediction'] == test_data[test_data.true_pred==1]['true_pred']).sum()\n",
    "green_test_acc = float(green_test_acc_count)/test_data[test_data.true_pred==1].shape[0]\n",
    "\n",
    "print(\"\\n- - - - - - - - - - - - - STATISTICS ON TRAINING DATASET - - - - - - - - - - - - - - \\n\")\n",
    "print(\"Total number of links in training dataset : {} \".format(train_data.shape[0]))\n",
    "print(\" Number of links predicted correctly: {}\".format(train_acc_count))\n",
    "print(\" Accuracy of links predicted correctly: {}\".format(train_acc))\n",
    "print(\"Total number of Green links in training dataset : {} \".format(train_data[train_data.true_pred==1].shape[0]))\n",
    "print(\" Number of Green links predicted correctly: {}\".format(green_train_acc_count))\n",
    "print(\" Accuracy of Green links predicted correctly: {}\".format(green_train_acc))\n",
    "\n",
    "# Printing results\n",
    "print(\"\\n- - - - - - - - - - - - - STATISTICS ON VALIDATION DATASET - - - - - - - - - - - - - - \\n\")\n",
    "print(\"Total number of links in training dataset : {} \".format(valid_data.shape[0]))\n",
    "print(\" Number of links predicted correctly: {}\".format(val_acc_count))\n",
    "print(\" Accuracy of linkspredicted correctly: {}\".format(val_acc))\n",
    "print(\"Total number of Green links in training dataset : {} \".format(valid_data[valid_data.true_pred==1].shape[0]))\n",
    "print(\" Number of Green links predicted correctly: {}\".format(green_val_acc_count))\n",
    "print(\" Accuracy of Green links predicted correctly: {}\".format(green_val_acc))\n",
    "\n",
    "\n",
    "print(\"\\n- - - - - - - - - - - - - STATISTICS ON TO_USE DATASET - - - - - - - - - - - - - - \\n\")\n",
    "print(\"Total number of links links in training dataset : {} \".format(test_data.shape[0]))\n",
    "print(\" Number of links predicted correctly: {}\".format(test_acc_count))\n",
    "print(\" Accuracy of links predicted correctly: {}\".format(test_acc))\n",
    "print(\"Total number of Green links in training dataset : {} \".format(test_data[test_data.true_pred==1].shape[0]))\n",
    "print(\" Number of Green links predicted correctly: {}\".format(green_test_acc_count))\n",
    "print(\" Accuracy of Green links predicted correctly: {}\".format(green_test_acc))"
   ]
  },
  {
   "cell_type": "markdown",
   "metadata": {},
   "source": [
    "##### Random Forest"
   ]
  },
  {
   "cell_type": "code",
   "execution_count": 100,
   "metadata": {
    "collapsed": true
   },
   "outputs": [],
   "source": [
    "from sklearn.svm import SVC"
   ]
  },
  {
   "cell_type": "code",
   "execution_count": 101,
   "metadata": {
    "collapsed": true
   },
   "outputs": [],
   "source": [
    "clf = SVC(kernel='rbf',probability=True,class_weight='balanced')\n",
    "#clf = RandomForestClassifier(n_estimators=10,random_state=40)\n",
    "clf = clf.fit(np.array([train_data['features']]).reshape(train_data.shape[0],-1),train_data['true_pred'].values)"
   ]
  },
  {
   "cell_type": "code",
   "execution_count": 81,
   "metadata": {},
   "outputs": [
    {
     "name": "stdout",
     "output_type": "stream",
     "text": [
      "\n",
      "- - - - - - - - - - - - - STATISTICS ON TRAINING DATASET - - - - - - - - - - - - - - \n",
      "\n",
      "Total number of links in training dataset : 16676 \n",
      " Number of links predicted correctly: 10712\n",
      " Accuracy of links predicted correctly: 0.642360278244\n",
      "Total number of Green links in training dataset : 384 \n",
      " Number of Green links predicted correctly: 322\n",
      " Accuracy of Green links predicted correctly: 0.838541666667\n",
      "\n",
      "- - - - - - - - - - - - - STATISTICS ON VALIDATION DATASET - - - - - - - - - - - - - - \n",
      "\n",
      "Total number of links in training dataset : 376 \n",
      " Number of links predicted correctly: 250\n",
      " Accuracy of linkspredicted correctly: 0.664893617021\n",
      "Total number of Green links in training dataset : 126 \n",
      " Number of Green links predicted correctly: 78\n",
      " Accuracy of Green links predicted correctly: 0.619047619048\n",
      "\n",
      "- - - - - - - - - - - - - STATISTICS ON TO_USE DATASET - - - - - - - - - - - - - - \n",
      "\n",
      "Total number of links links in training dataset : 1130 \n",
      " Number of links predicted correctly: 727\n",
      " Accuracy of links predicted correctly: 0.643362831858\n",
      "Total number of Green links in training dataset : 381 \n",
      " Number of Green links predicted correctly: 225\n",
      " Accuracy of Green links predicted correctly: 0.590551181102\n"
     ]
    }
   ],
   "source": [
    "val_prediction = clf.predict(np.array([valid_data['features']]).reshape(valid_data.shape[0],-1))\n",
    "train_prediction = clf.predict(np.array([train_data['features']]).reshape(train_data.shape[0],-1))\n",
    "test_prediction = clf.predict(np.array([test_data['features']]).reshape(test_data.shape[0],-1))\n",
    "val_prob = clf.predict_proba(np.array([valid_data['features']]).reshape(valid_data.shape[0],-1))\n",
    "train_prob = clf.predict_proba(np.array([train_data['features']]).reshape(train_data.shape[0],-1))\n",
    "test_prob = clf.predict_proba(np.array([test_data['features']]).reshape(test_data.shape[0],-1))\n",
    "valid_data['random_forest_prediction'] = val_prediction\n",
    "train_data['random_forest_prediction'] = train_prediction\n",
    "test_data['random_forest_prediction'] = test_prediction\n",
    "train_data['random_forest_rel0_prob,rel1_prob,rel2_prob,rel3_prob'] = train_prob.tolist()\n",
    "valid_data['random_forest_rel0_prob,rel1_prob,rel2_prob,rel3_prob'] = val_prob.tolist()\n",
    "test_data['random_forest_rel0_prob,rel1_prob,rel2_prob,rel3_prob'] = test_prob.tolist()\n",
    "val_acc_count = (valid_data['random_forest_prediction'] == valid_data['true_pred']).sum()\n",
    "val_acc = float(val_acc_count)/valid_data.shape[0]\n",
    "train_acc_count = (train_data['random_forest_prediction'] == train_data['true_pred']).sum()\n",
    "train_acc = float(train_acc_count)/train_data.shape[0]\n",
    "test_acc_count = (test_data['random_forest_prediction'] == test_data['true_pred']).sum()\n",
    "test_acc = float(test_acc_count)/test_data.shape[0]\n",
    "\n",
    "green_val_acc_count = (valid_data[valid_data.true_pred==1]['random_forest_prediction'] == valid_data[valid_data.true_pred==1]['true_pred']).sum()\n",
    "green_val_acc = float(green_val_acc_count)/valid_data[valid_data.true_pred==1].shape[0]\n",
    "green_train_acc_count = (train_data[train_data.true_pred==1]['random_forest_prediction'] == train_data[train_data.true_pred==1]['true_pred']).sum()\n",
    "green_train_acc = float(green_train_acc_count)/train_data[train_data.true_pred==1].shape[0]\n",
    "green_test_acc_count = (test_data[test_data.true_pred==1]['random_forest_prediction'] == test_data[test_data.true_pred==1]['true_pred']).sum()\n",
    "green_test_acc = float(green_test_acc_count)/test_data[test_data.true_pred==1].shape[0]\n",
    "\n",
    "print(\"\\n- - - - - - - - - - - - - STATISTICS ON TRAINING DATASET - - - - - - - - - - - - - - \\n\")\n",
    "print(\"Total number of links in training dataset : {} \".format(train_data.shape[0]))\n",
    "print(\" Number of links predicted correctly: {}\".format(train_acc_count))\n",
    "print(\" Accuracy of links predicted correctly: {}\".format(train_acc))\n",
    "print(\"Total number of Green links in training dataset : {} \".format(train_data[train_data.true_pred==1].shape[0]))\n",
    "print(\" Number of Green links predicted correctly: {}\".format(green_train_acc_count))\n",
    "print(\" Accuracy of Green links predicted correctly: {}\".format(green_train_acc))\n",
    "\n",
    "# Printing results\n",
    "print(\"\\n- - - - - - - - - - - - - STATISTICS ON VALIDATION DATASET - - - - - - - - - - - - - - \\n\")\n",
    "print(\"Total number of links in training dataset : {} \".format(valid_data.shape[0]))\n",
    "print(\" Number of links predicted correctly: {}\".format(val_acc_count))\n",
    "print(\" Accuracy of linkspredicted correctly: {}\".format(val_acc))\n",
    "print(\"Total number of Green links in training dataset : {} \".format(valid_data[valid_data.true_pred==1].shape[0]))\n",
    "print(\" Number of Green links predicted correctly: {}\".format(green_val_acc_count))\n",
    "print(\" Accuracy of Green links predicted correctly: {}\".format(green_val_acc))\n",
    "\n",
    "\n",
    "print(\"\\n- - - - - - - - - - - - - STATISTICS ON TO_USE DATASET - - - - - - - - - - - - - - \\n\")\n",
    "print(\"Total number of links links in training dataset : {} \".format(test_data.shape[0]))\n",
    "print(\" Number of links predicted correctly: {}\".format(test_acc_count))\n",
    "print(\" Accuracy of links predicted correctly: {}\".format(test_acc))\n",
    "print(\"Total number of Green links in training dataset : {} \".format(test_data[test_data.true_pred==1].shape[0]))\n",
    "print(\" Number of Green links predicted correctly: {}\".format(green_test_acc_count))\n",
    "print(\" Accuracy of Green links predicted correctly: {}\".format(green_test_acc))"
   ]
  },
  {
   "cell_type": "markdown",
   "metadata": {},
   "source": [
    "##### Gradient Boosting"
   ]
  },
  {
   "cell_type": "code",
   "execution_count": 56,
   "metadata": {
    "collapsed": true
   },
   "outputs": [],
   "source": [
    "clf = GradientBoostingClassifier(n_estimators=5000,learning_rate=0.001,random_state=40)\n",
    "clf = clf.fit(np.array([train_data['features']]).reshape(train_data.shape[0],-1),train_data['true_pred'].values)"
   ]
  },
  {
   "cell_type": "code",
   "execution_count": 57,
   "metadata": {},
   "outputs": [
    {
     "name": "stdout",
     "output_type": "stream",
     "text": [
      "\n",
      "- - - - - - - - - - - - - STATISTICS ON TRAINING DATASET - - - - - - - - - - - - - - \n",
      "\n",
      "Total number of links in training dataset : 7433 \n",
      " Number of links predicted correctly: 7051\n",
      " Accuracy of links predicted correctly: 0.948607560877\n",
      "Total number of Green links in training dataset : 384 \n",
      " Number of Green links predicted correctly: 2\n",
      " Accuracy of Green links predicted correctly: 0.00520833333333\n",
      "\n",
      "- - - - - - - - - - - - - STATISTICS ON VALIDATION DATASET - - - - - - - - - - - - - - \n",
      "\n",
      "Total number of links in training dataset : 376 \n",
      " Number of links predicted correctly: 250\n",
      " Accuracy of linkspredicted correctly: 0.664893617021\n",
      "Total number of Green links in training dataset : 126 \n",
      " Number of Green links predicted correctly: 0\n",
      " Accuracy of Green links predicted correctly: 0.0\n",
      "\n",
      "- - - - - - - - - - - - - STATISTICS ON TO_USE DATASET - - - - - - - - - - - - - - \n",
      "\n",
      "Total number of links links in training dataset : 1128 \n",
      " Number of links predicted correctly: 751\n",
      " Accuracy of links predicted correctly: 0.665780141844\n",
      "Total number of Green links in training dataset : 381 \n",
      " Number of Green links predicted correctly: 4\n",
      " Accuracy of Green links predicted correctly: 0.010498687664\n"
     ]
    }
   ],
   "source": [
    "val_prediction = clf.predict(np.array([valid_data['features']]).reshape(valid_data.shape[0],-1))\n",
    "train_prediction = clf.predict(np.array([train_data['features']]).reshape(train_data.shape[0],-1))\n",
    "test_prediction = clf.predict(np.array([test_data['features']]).reshape(test_data.shape[0],-1))\n",
    "val_prob = clf.predict_proba(np.array([valid_data['features']]).reshape(valid_data.shape[0],-1))\n",
    "train_prob = clf.predict_proba(np.array([train_data['features']]).reshape(train_data.shape[0],-1))\n",
    "test_prob = clf.predict_proba(np.array([test_data['features']]).reshape(test_data.shape[0],-1))\n",
    "valid_data['gradient_boosting_prediction'] = val_prediction\n",
    "train_data['gradient_boosting_prediction'] = train_prediction\n",
    "test_data['gradient_boosting_prediction'] = test_prediction\n",
    "train_data['gradient_boosting_rel0_prob,rel1_prob,rel2_prob,rel3_prob'] = train_prob.tolist()\n",
    "valid_data['gradient_boosting_rel0_prob,rel1_prob,rel2_prob,rel3_prob'] = val_prob.tolist()\n",
    "test_data['gradient_boosting_rel0_prob,rel1_prob,rel2_prob,rel3_prob'] = test_prob.tolist()\n",
    "val_acc_count = (valid_data['gradient_boosting_prediction'] == valid_data['true_pred']).sum()\n",
    "val_acc = float(val_acc_count)/valid_data.shape[0]\n",
    "train_acc_count = (train_data['gradient_boosting_prediction'] == train_data['true_pred']).sum()\n",
    "train_acc = float(train_acc_count)/train_data.shape[0]\n",
    "test_acc_count = (test_data['gradient_boosting_prediction'] == test_data['true_pred']).sum()\n",
    "test_acc = float(test_acc_count)/test_data.shape[0]\n",
    "\n",
    "green_val_acc_count = (valid_data[valid_data.true_pred==1]['gradient_boosting_prediction'] == valid_data[valid_data.true_pred==1]['true_pred']).sum()\n",
    "green_val_acc = float(green_val_acc_count)/valid_data[valid_data.true_pred==1].shape[0]\n",
    "green_train_acc_count = (train_data[train_data.true_pred==1]['gradient_boosting_prediction'] == train_data[train_data.true_pred==1]['true_pred']).sum()\n",
    "green_train_acc = float(green_train_acc_count)/train_data[train_data.true_pred==1].shape[0]\n",
    "green_test_acc_count = (test_data[test_data.true_pred==1]['gradient_boosting_prediction'] == test_data[test_data.true_pred==1]['true_pred']).sum()\n",
    "green_test_acc = float(green_test_acc_count)/test_data[test_data.true_pred==1].shape[0]\n",
    "\n",
    "print(\"\\n- - - - - - - - - - - - - STATISTICS ON TRAINING DATASET - - - - - - - - - - - - - - \\n\")\n",
    "print(\"Total number of links in training dataset : {} \".format(train_data.shape[0]))\n",
    "print(\" Number of links predicted correctly: {}\".format(train_acc_count))\n",
    "print(\" Accuracy of links predicted correctly: {}\".format(train_acc))\n",
    "print(\"Total number of Green links in training dataset : {} \".format(train_data[train_data.true_pred==1].shape[0]))\n",
    "print(\" Number of Green links predicted correctly: {}\".format(green_train_acc_count))\n",
    "print(\" Accuracy of Green links predicted correctly: {}\".format(green_train_acc))\n",
    "\n",
    "# Printing results\n",
    "print(\"\\n- - - - - - - - - - - - - STATISTICS ON VALIDATION DATASET - - - - - - - - - - - - - - \\n\")\n",
    "print(\"Total number of links in training dataset : {} \".format(valid_data.shape[0]))\n",
    "print(\" Number of links predicted correctly: {}\".format(val_acc_count))\n",
    "print(\" Accuracy of linkspredicted correctly: {}\".format(val_acc))\n",
    "print(\"Total number of Green links in training dataset : {} \".format(valid_data[valid_data.true_pred==1].shape[0]))\n",
    "print(\" Number of Green links predicted correctly: {}\".format(green_val_acc_count))\n",
    "print(\" Accuracy of Green links predicted correctly: {}\".format(green_val_acc))\n",
    "\n",
    "\n",
    "print(\"\\n- - - - - - - - - - - - - STATISTICS ON TO_USE DATASET - - - - - - - - - - - - - - \\n\")\n",
    "print(\"Total number of links links in training dataset : {} \".format(test_data.shape[0]))\n",
    "print(\" Number of links predicted correctly: {}\".format(test_acc_count))\n",
    "print(\" Accuracy of links predicted correctly: {}\".format(test_acc))\n",
    "print(\"Total number of Green links in training dataset : {} \".format(test_data[test_data.true_pred==1].shape[0]))\n",
    "print(\" Number of Green links predicted correctly: {}\".format(green_test_acc_count))\n",
    "print(\" Accuracy of Green links predicted correctly: {}\".format(green_test_acc))"
   ]
  },
  {
   "cell_type": "markdown",
   "metadata": {},
   "source": [
    "#### XGboost"
   ]
  },
  {
   "cell_type": "code",
   "execution_count": 58,
   "metadata": {
    "collapsed": true
   },
   "outputs": [],
   "source": [
    "import xgboost as xgb"
   ]
  },
  {
   "cell_type": "code",
   "execution_count": 59,
   "metadata": {
    "collapsed": true
   },
   "outputs": [],
   "source": [
    "clf = xgb.XGBClassifier(n_estimators=1000, max_depth=8, learning_rate=0.01, subsample=0.5,random_state=40)\n",
    "clf = clf.fit(np.array([train_data['features']]).reshape(train_data.shape[0],-1),train_data['true_pred'].values)"
   ]
  },
  {
   "cell_type": "code",
   "execution_count": 60,
   "metadata": {},
   "outputs": [
    {
     "name": "stdout",
     "output_type": "stream",
     "text": [
      "\n",
      "- - - - - - - - - - - - - STATISTICS ON TRAINING DATASET - - - - - - - - - - - - - - \n",
      "\n",
      "Total number of links in training dataset : 7433 \n",
      " Number of links predicted correctly: 7297\n",
      " Accuracy of links predicted correctly: 0.981703215391\n",
      "Total number of Green links in training dataset : 384 \n",
      " Number of Green links predicted correctly: 248\n",
      " Accuracy of Green links predicted correctly: 0.645833333333\n",
      "\n",
      "- - - - - - - - - - - - - STATISTICS ON VALIDATION DATASET - - - - - - - - - - - - - - \n",
      "\n",
      "Total number of links in training dataset : 376 \n",
      " Number of links predicted correctly: 256\n",
      " Accuracy of linkspredicted correctly: 0.68085106383\n",
      "Total number of Green links in training dataset : 126 \n",
      " Number of Green links predicted correctly: 6\n",
      " Accuracy of Green links predicted correctly: 0.047619047619\n",
      "\n",
      "- - - - - - - - - - - - - STATISTICS ON TO_USE DATASET - - - - - - - - - - - - - - \n",
      "\n",
      "Total number of links links in training dataset : 1128 \n",
      " Number of links predicted correctly: 759\n",
      " Accuracy of links predicted correctly: 0.672872340426\n",
      "Total number of Green links in training dataset : 381 \n",
      " Number of Green links predicted correctly: 13\n",
      " Accuracy of Green links predicted correctly: 0.0341207349081\n"
     ]
    }
   ],
   "source": [
    "val_prediction = clf.predict(np.array([valid_data['features']]).reshape(valid_data.shape[0],-1))\n",
    "train_prediction = clf.predict(np.array([train_data['features']]).reshape(train_data.shape[0],-1))\n",
    "test_prediction = clf.predict(np.array([test_data['features']]).reshape(test_data.shape[0],-1))\n",
    "val_prob = clf.predict_proba(np.array([valid_data['features']]).reshape(valid_data.shape[0],-1))\n",
    "train_prob = clf.predict_proba(np.array([train_data['features']]).reshape(train_data.shape[0],-1))\n",
    "test_prob = clf.predict_proba(np.array([test_data['features']]).reshape(test_data.shape[0],-1))\n",
    "valid_data['xgboost_prediction'] = val_prediction\n",
    "train_data['xgboost_prediction'] = train_prediction\n",
    "test_data['xgboost_prediction'] = test_prediction\n",
    "train_data['xgboost_rel0_prob,rel1_prob,rel2_prob,rel3_prob'] = train_prob.tolist()\n",
    "valid_data['xgboost_rel0_prob,rel1_prob,rel2_prob,rel3_prob'] = val_prob.tolist()\n",
    "test_data['xgboost_rel0_prob,rel1_prob,rel2_prob,rel3_prob'] = test_prob.tolist()\n",
    "val_acc_count = (valid_data['xgboost_prediction'] == valid_data['true_pred']).sum()\n",
    "val_acc = float(val_acc_count)/valid_data.shape[0]\n",
    "train_acc_count = (train_data['xgboost_prediction'] == train_data['true_pred']).sum()\n",
    "train_acc = float(train_acc_count)/train_data.shape[0]\n",
    "test_acc_count = (test_data['xgboost_prediction'] == test_data['true_pred']).sum()\n",
    "test_acc = float(test_acc_count)/test_data.shape[0]\n",
    "\n",
    "green_val_acc_count = (valid_data[valid_data.true_pred==1]['xgboost_prediction'] == valid_data[valid_data.true_pred==1]['true_pred']).sum()\n",
    "green_val_acc = float(green_val_acc_count)/valid_data[valid_data.true_pred==1].shape[0]\n",
    "green_train_acc_count = (train_data[train_data.true_pred==1]['xgboost_prediction'] == train_data[train_data.true_pred==1]['true_pred']).sum()\n",
    "green_train_acc = float(green_train_acc_count)/train_data[train_data.true_pred==1].shape[0]\n",
    "green_test_acc_count = (test_data[test_data.true_pred==1]['xgboost_prediction'] == test_data[test_data.true_pred==1]['true_pred']).sum()\n",
    "green_test_acc = float(green_test_acc_count)/test_data[test_data.true_pred==1].shape[0]\n",
    "\n",
    "print(\"\\n- - - - - - - - - - - - - STATISTICS ON TRAINING DATASET - - - - - - - - - - - - - - \\n\")\n",
    "print(\"Total number of links in training dataset : {} \".format(train_data.shape[0]))\n",
    "print(\" Number of links predicted correctly: {}\".format(train_acc_count))\n",
    "print(\" Accuracy of links predicted correctly: {}\".format(train_acc))\n",
    "print(\"Total number of Green links in training dataset : {} \".format(train_data[train_data.true_pred==1].shape[0]))\n",
    "print(\" Number of Green links predicted correctly: {}\".format(green_train_acc_count))\n",
    "print(\" Accuracy of Green links predicted correctly: {}\".format(green_train_acc))\n",
    "\n",
    "# Printing results\n",
    "print(\"\\n- - - - - - - - - - - - - STATISTICS ON VALIDATION DATASET - - - - - - - - - - - - - - \\n\")\n",
    "print(\"Total number of links in training dataset : {} \".format(valid_data.shape[0]))\n",
    "print(\" Number of links predicted correctly: {}\".format(val_acc_count))\n",
    "print(\" Accuracy of linkspredicted correctly: {}\".format(val_acc))\n",
    "print(\"Total number of Green links in training dataset : {} \".format(valid_data[valid_data.true_pred==1].shape[0]))\n",
    "print(\" Number of Green links predicted correctly: {}\".format(green_val_acc_count))\n",
    "print(\" Accuracy of Green links predicted correctly: {}\".format(green_val_acc))\n",
    "\n",
    "\n",
    "print(\"\\n- - - - - - - - - - - - - STATISTICS ON TO_USE DATASET - - - - - - - - - - - - - - \\n\")\n",
    "print(\"Total number of links links in training dataset : {} \".format(test_data.shape[0]))\n",
    "print(\" Number of links predicted correctly: {}\".format(test_acc_count))\n",
    "print(\" Accuracy of links predicted correctly: {}\".format(test_acc))\n",
    "print(\"Total number of Green links in training dataset : {} \".format(test_data[test_data.true_pred==1].shape[0]))\n",
    "print(\" Number of Green links predicted correctly: {}\".format(green_test_acc_count))\n",
    "print(\" Accuracy of Green links predicted correctly: {}\".format(green_test_acc))"
   ]
  },
  {
   "cell_type": "code",
   "execution_count": 71,
   "metadata": {},
   "outputs": [
    {
     "data": {
      "text/html": [
       "<div>\n",
       "<style>\n",
       "    .dataframe thead tr:only-child th {\n",
       "        text-align: right;\n",
       "    }\n",
       "\n",
       "    .dataframe thead th {\n",
       "        text-align: left;\n",
       "    }\n",
       "\n",
       "    .dataframe tbody tr th {\n",
       "        vertical-align: top;\n",
       "    }\n",
       "</style>\n",
       "<table border=\"1\" class=\"dataframe\">\n",
       "  <thead>\n",
       "    <tr style=\"text-align: right;\">\n",
       "      <th></th>\n",
       "      <th>entity_a</th>\n",
       "      <th>entity_b</th>\n",
       "      <th>relation</th>\n",
       "      <th>hole_prediction</th>\n",
       "      <th>features</th>\n",
       "      <th>logistic_regression_prediction</th>\n",
       "      <th>logistic_regression_rel0_prob,rel1_prob,rel2_prob,rel3_prob</th>\n",
       "      <th>random_forest_prediction</th>\n",
       "      <th>random_forest_rel0_prob,rel1_prob,rel2_prob,rel3_prob</th>\n",
       "      <th>gradient_boosting_prediction</th>\n",
       "      <th>gradient_boosting_rel0_prob,rel1_prob,rel2_prob,rel3_prob</th>\n",
       "      <th>xgboost_prediction</th>\n",
       "      <th>xgboost_rel0_prob,rel1_prob,rel2_prob,rel3_prob</th>\n",
       "    </tr>\n",
       "  </thead>\n",
       "  <tbody>\n",
       "    <tr>\n",
       "      <th>0</th>\n",
       "      <td>142</td>\n",
       "      <td>342</td>\n",
       "      <td>3</td>\n",
       "      <td>[[3]]</td>\n",
       "      <td>[0.0808272436261, 0.140096902847, -0.029771607...</td>\n",
       "      <td>3</td>\n",
       "      <td>[0.0826622219914, 0.106373236893, 0.2567910779...</td>\n",
       "      <td>3</td>\n",
       "      <td>[0.0, 0.135, 0.111, 0.754]</td>\n",
       "      <td>3</td>\n",
       "      <td>[0.00147625368136, 0.00808223376387, 0.0019219...</td>\n",
       "      <td>3</td>\n",
       "      <td>[0.0034292768687, 0.0103497430682, 0.011547046...</td>\n",
       "    </tr>\n",
       "    <tr>\n",
       "      <th>1</th>\n",
       "      <td>36</td>\n",
       "      <td>136</td>\n",
       "      <td>1</td>\n",
       "      <td>[[3]]</td>\n",
       "      <td>[0.128733068705, 0.119281686842, 0.09498699009...</td>\n",
       "      <td>3</td>\n",
       "      <td>[0.0353368704867, 0.0926658907308, 0.256189191...</td>\n",
       "      <td>3</td>\n",
       "      <td>[0.0, 0.112, 0.341, 0.547]</td>\n",
       "      <td>3</td>\n",
       "      <td>[0.000606369532546, 0.00770963093303, 0.076634...</td>\n",
       "      <td>3</td>\n",
       "      <td>[0.00227499869652, 0.00684571638703, 0.2065198...</td>\n",
       "    </tr>\n",
       "    <tr>\n",
       "      <th>2</th>\n",
       "      <td>97</td>\n",
       "      <td>0</td>\n",
       "      <td>0</td>\n",
       "      <td>[[0]]</td>\n",
       "      <td>[-0.0671337842941, 0.0346921049058, -0.0752931...</td>\n",
       "      <td>0</td>\n",
       "      <td>[0.875559516311, 0.0628238455124, 0.0232484239...</td>\n",
       "      <td>0</td>\n",
       "      <td>[1.0, 0.0, 0.0, 0.0]</td>\n",
       "      <td>0</td>\n",
       "      <td>[0.996962252515, 0.00202420818835, 0.000324925...</td>\n",
       "      <td>0</td>\n",
       "      <td>[0.995111525059, 0.00240511493757, 0.000891742...</td>\n",
       "    </tr>\n",
       "    <tr>\n",
       "      <th>3</th>\n",
       "      <td>36</td>\n",
       "      <td>0</td>\n",
       "      <td>0</td>\n",
       "      <td>[[0]]</td>\n",
       "      <td>[0.128733068705, 0.119281686842, 0.09498699009...</td>\n",
       "      <td>0</td>\n",
       "      <td>[0.849221457805, 0.0269798911963, 0.0312783488...</td>\n",
       "      <td>0</td>\n",
       "      <td>[0.985, 0.0, 0.013, 0.002]</td>\n",
       "      <td>0</td>\n",
       "      <td>[0.997432004603, 0.00157036245358, 0.000325078...</td>\n",
       "      <td>0</td>\n",
       "      <td>[0.992474853992, 0.00284376856871, 0.001619371...</td>\n",
       "    </tr>\n",
       "    <tr>\n",
       "      <th>4</th>\n",
       "      <td>243</td>\n",
       "      <td>343</td>\n",
       "      <td>3</td>\n",
       "      <td>[[3]]</td>\n",
       "      <td>[-0.222127199173, -0.0340560488403, 0.12181680...</td>\n",
       "      <td>3</td>\n",
       "      <td>[0.0578982265628, 0.104454906819, 0.1096242044...</td>\n",
       "      <td>3</td>\n",
       "      <td>[0.0, 0.307, 0.235, 0.458]</td>\n",
       "      <td>3</td>\n",
       "      <td>[0.00285193638226, 0.0404089679721, 0.03431638...</td>\n",
       "      <td>3</td>\n",
       "      <td>[0.00641744490713, 0.0232501532882, 0.09557001...</td>\n",
       "    </tr>\n",
       "  </tbody>\n",
       "</table>\n",
       "</div>"
      ],
      "text/plain": [
       "   entity_a  entity_b  relation hole_prediction  \\\n",
       "0       142       342         3           [[3]]   \n",
       "1        36       136         1           [[3]]   \n",
       "2        97         0         0           [[0]]   \n",
       "3        36         0         0           [[0]]   \n",
       "4       243       343         3           [[3]]   \n",
       "\n",
       "                                            features  \\\n",
       "0  [0.0808272436261, 0.140096902847, -0.029771607...   \n",
       "1  [0.128733068705, 0.119281686842, 0.09498699009...   \n",
       "2  [-0.0671337842941, 0.0346921049058, -0.0752931...   \n",
       "3  [0.128733068705, 0.119281686842, 0.09498699009...   \n",
       "4  [-0.222127199173, -0.0340560488403, 0.12181680...   \n",
       "\n",
       "   logistic_regression_prediction  \\\n",
       "0                               3   \n",
       "1                               3   \n",
       "2                               0   \n",
       "3                               0   \n",
       "4                               3   \n",
       "\n",
       "  logistic_regression_rel0_prob,rel1_prob,rel2_prob,rel3_prob  \\\n",
       "0  [0.0826622219914, 0.106373236893, 0.2567910779...            \n",
       "1  [0.0353368704867, 0.0926658907308, 0.256189191...            \n",
       "2  [0.875559516311, 0.0628238455124, 0.0232484239...            \n",
       "3  [0.849221457805, 0.0269798911963, 0.0312783488...            \n",
       "4  [0.0578982265628, 0.104454906819, 0.1096242044...            \n",
       "\n",
       "   random_forest_prediction  \\\n",
       "0                         3   \n",
       "1                         3   \n",
       "2                         0   \n",
       "3                         0   \n",
       "4                         3   \n",
       "\n",
       "  random_forest_rel0_prob,rel1_prob,rel2_prob,rel3_prob  \\\n",
       "0                         [0.0, 0.135, 0.111, 0.754]      \n",
       "1                         [0.0, 0.112, 0.341, 0.547]      \n",
       "2                               [1.0, 0.0, 0.0, 0.0]      \n",
       "3                         [0.985, 0.0, 0.013, 0.002]      \n",
       "4                         [0.0, 0.307, 0.235, 0.458]      \n",
       "\n",
       "   gradient_boosting_prediction  \\\n",
       "0                             3   \n",
       "1                             3   \n",
       "2                             0   \n",
       "3                             0   \n",
       "4                             3   \n",
       "\n",
       "  gradient_boosting_rel0_prob,rel1_prob,rel2_prob,rel3_prob  \\\n",
       "0  [0.00147625368136, 0.00808223376387, 0.0019219...          \n",
       "1  [0.000606369532546, 0.00770963093303, 0.076634...          \n",
       "2  [0.996962252515, 0.00202420818835, 0.000324925...          \n",
       "3  [0.997432004603, 0.00157036245358, 0.000325078...          \n",
       "4  [0.00285193638226, 0.0404089679721, 0.03431638...          \n",
       "\n",
       "   xgboost_prediction    xgboost_rel0_prob,rel1_prob,rel2_prob,rel3_prob  \n",
       "0                   3  [0.0034292768687, 0.0103497430682, 0.011547046...  \n",
       "1                   3  [0.00227499869652, 0.00684571638703, 0.2065198...  \n",
       "2                   0  [0.995111525059, 0.00240511493757, 0.000891742...  \n",
       "3                   0  [0.992474853992, 0.00284376856871, 0.001619371...  \n",
       "4                   3  [0.00641744490713, 0.0232501532882, 0.09557001...  "
      ]
     },
     "execution_count": 71,
     "metadata": {},
     "output_type": "execute_result"
    }
   ],
   "source": [
    "test_data.head()"
   ]
  },
  {
   "cell_type": "code",
   "execution_count": 72,
   "metadata": {
    "collapsed": true
   },
   "outputs": [],
   "source": [
    "test_data.to_csv('./to_use_results.csv',index=False)\n",
    "train_data.to_csv('./train_results.csv',index=False)\n",
    "valid_data.to_csv('./valid_results.csv',index=False)"
   ]
  },
  {
   "cell_type": "markdown",
   "metadata": {},
   "source": [
    "----------"
   ]
  },
  {
   "cell_type": "code",
   "execution_count": 165,
   "metadata": {
    "collapsed": true
   },
   "outputs": [],
   "source": [
    "entities = [i for i in range(400)]\n",
    "relations = [i for i in range(4)]"
   ]
  },
  {
   "cell_type": "code",
   "execution_count": 166,
   "metadata": {
    "collapsed": true
   },
   "outputs": [],
   "source": [
    "import itertools\n",
    "combinations = [entities,entities,relations]"
   ]
  },
  {
   "cell_type": "code",
   "execution_count": 167,
   "metadata": {
    "collapsed": true
   },
   "outputs": [],
   "source": [
    "comb = list(itertools.product(*combinations))"
   ]
  },
  {
   "cell_type": "code",
   "execution_count": 168,
   "metadata": {},
   "outputs": [
    {
     "data": {
      "text/plain": [
       "640000"
      ]
     },
     "execution_count": 168,
     "metadata": {},
     "output_type": "execute_result"
    }
   ],
   "source": [
    "len(comb)"
   ]
  },
  {
   "cell_type": "code",
   "execution_count": 184,
   "metadata": {
    "collapsed": true
   },
   "outputs": [],
   "source": [
    "k = true_data.values"
   ]
  },
  {
   "cell_type": "code",
   "execution_count": 185,
   "metadata": {},
   "outputs": [
    {
     "data": {
      "text/plain": [
       "array([[  1,   0,   0],\n",
       "       [  1, 101,   1],\n",
       "       [  1, 301,   3],\n",
       "       ...,\n",
       "       [397, 300,   0],\n",
       "       [398, 300,   0],\n",
       "       [399, 300,   0]])"
      ]
     },
     "execution_count": 185,
     "metadata": {},
     "output_type": "execute_result"
    }
   ],
   "source": [
    "k"
   ]
  },
  {
   "cell_type": "code",
   "execution_count": 189,
   "metadata": {},
   "outputs": [
    {
     "data": {
      "text/plain": [
       "False"
      ]
     },
     "execution_count": 189,
     "metadata": {},
     "output_type": "execute_result"
    }
   ],
   "source": [
    "[1,1,0] in k.tolist()"
   ]
  },
  {
   "cell_type": "code",
   "execution_count": 178,
   "metadata": {},
   "outputs": [
    {
     "data": {
      "application/vnd.jupyter.widget-view+json": {
       "model_id": "0f50d58b633f433ca6f0a525166a46f1",
       "version_major": 2,
       "version_minor": 0
      },
      "text/plain": [
       "A Jupyter Widget"
      ]
     },
     "metadata": {},
     "output_type": "display_data"
    },
    {
     "ename": "KeyboardInterrupt",
     "evalue": "",
     "output_type": "error",
     "traceback": [
      "\u001b[0;31m---------------------------------------------------------------------------\u001b[0m",
      "\u001b[0;31mKeyboardInterrupt\u001b[0m                         Traceback (most recent call last)",
      "\u001b[0;32m<ipython-input-178-7c795552608c>\u001b[0m in \u001b[0;36m<module>\u001b[0;34m()\u001b[0m\n\u001b[1;32m      3\u001b[0m    \u001b[0;32mif\u001b[0m \u001b[0mi\u001b[0m\u001b[0;34m[\u001b[0m\u001b[0;36m0\u001b[0m\u001b[0;34m]\u001b[0m\u001b[0;34m!=\u001b[0m\u001b[0mi\u001b[0m\u001b[0;34m[\u001b[0m\u001b[0;36m1\u001b[0m\u001b[0;34m]\u001b[0m\u001b[0;34m:\u001b[0m\u001b[0;34m\u001b[0m\u001b[0m\n\u001b[1;32m      4\u001b[0m        \u001b[0;31m#rule = {'entity_a':[i[0]],'entity_b':[i[1]],'relation':[i[2]]}\u001b[0m\u001b[0;34m\u001b[0m\u001b[0;34m\u001b[0m\u001b[0m\n\u001b[0;32m----> 5\u001b[0;31m        \u001b[0;32mif\u001b[0m \u001b[0mnp\u001b[0m\u001b[0;34m.\u001b[0m\u001b[0marray\u001b[0m\u001b[0;34m(\u001b[0m\u001b[0;34m[\u001b[0m\u001b[0;34m[\u001b[0m\u001b[0mi\u001b[0m\u001b[0;34m[\u001b[0m\u001b[0;36m0\u001b[0m\u001b[0;34m]\u001b[0m\u001b[0;34m,\u001b[0m\u001b[0mi\u001b[0m\u001b[0;34m[\u001b[0m\u001b[0;36m1\u001b[0m\u001b[0;34m]\u001b[0m\u001b[0;34m,\u001b[0m\u001b[0mi\u001b[0m\u001b[0;34m[\u001b[0m\u001b[0;36m2\u001b[0m\u001b[0;34m]\u001b[0m\u001b[0;34m,\u001b[0m\u001b[0;34m''\u001b[0m\u001b[0;34m]\u001b[0m\u001b[0;34m]\u001b[0m\u001b[0;34m)\u001b[0m \u001b[0;32min\u001b[0m \u001b[0mk\u001b[0m \u001b[0;34m:\u001b[0m\u001b[0;34m\u001b[0m\u001b[0m\n\u001b[0m\u001b[1;32m      6\u001b[0m            \u001b[0mcombinations\u001b[0m\u001b[0;34m.\u001b[0m\u001b[0mappend\u001b[0m\u001b[0;34m(\u001b[0m\u001b[0;34m[\u001b[0m\u001b[0mi\u001b[0m\u001b[0;34m[\u001b[0m\u001b[0;36m0\u001b[0m\u001b[0;34m]\u001b[0m\u001b[0;34m,\u001b[0m\u001b[0mi\u001b[0m\u001b[0;34m[\u001b[0m\u001b[0;36m1\u001b[0m\u001b[0;34m]\u001b[0m\u001b[0;34m,\u001b[0m\u001b[0mi\u001b[0m\u001b[0;34m[\u001b[0m\u001b[0;36m2\u001b[0m\u001b[0;34m]\u001b[0m\u001b[0;34m,\u001b[0m\u001b[0;36m1\u001b[0m\u001b[0;34m]\u001b[0m\u001b[0;34m)\u001b[0m\u001b[0;34m\u001b[0m\u001b[0m\n\u001b[1;32m      7\u001b[0m        \u001b[0;32melse\u001b[0m\u001b[0;34m:\u001b[0m\u001b[0;34m\u001b[0m\u001b[0m\n",
      "\u001b[0;31mKeyboardInterrupt\u001b[0m: "
     ]
    }
   ],
   "source": [
    "combinations= []\n",
    "for i in tqdm.tqdm_notebook(comb):\n",
    "   if i[0]!=i[1]:\n",
    "       #rule = {'entity_a':[i[0]],'entity_b':[i[1]],'relation':[i[2]]}\n",
    "       if np.array([[i[0],i[1],i[2],'']]) in k :\n",
    "           combinations.append([i[0],i[1],i[2],1])\n",
    "       else:\n",
    "           print \"yp\"\n",
    "           combinations.append([i[0],i[1],i[2],0])"
   ]
  },
  {
   "cell_type": "code",
   "execution_count": 112,
   "metadata": {},
   "outputs": [
    {
     "data": {
      "text/plain": [
       "638400"
      ]
     },
     "execution_count": 112,
     "metadata": {},
     "output_type": "execute_result"
    }
   ],
   "source": [
    "len(combinations)"
   ]
  },
  {
   "cell_type": "code",
   "execution_count": 115,
   "metadata": {},
   "outputs": [
    {
     "data": {
      "text/plain": [
       "array([[  1,   0,   0],\n",
       "       [  1, 101,   1],\n",
       "       [  1, 301,   3],\n",
       "       ...,\n",
       "       [397, 300,   0],\n",
       "       [398, 300,   0],\n",
       "       [399, 300,   0]])"
      ]
     },
     "execution_count": 115,
     "metadata": {},
     "output_type": "execute_result"
    }
   ],
   "source": [
    "true_data.values"
   ]
  },
  {
   "cell_type": "code",
   "execution_count": 207,
   "metadata": {
    "collapsed": true
   },
   "outputs": [],
   "source": [
    "if [1,1,0] in true_data.values.tolist():\n",
    "    print \"yo\""
   ]
  },
  {
   "cell_type": "code",
   "execution_count": 191,
   "metadata": {
    "collapsed": true
   },
   "outputs": [],
   "source": [
    "def transe_results(model,fact,thres):\n",
    "    model.eval()\n",
    "    i = fact['entity_a'].values\n",
    "    j = fact['entity_b'].values\n",
    "    r = fact['relation'].values\n",
    "\n",
    "    #i = np.array([[i]])\n",
    "    #j = np.array([[j]])\n",
    "    #k = np.array([[r]])\n",
    "    pred_score = model.predict(i,j,r)\n",
    "    return pred_score.data.numpy()"
   ]
  },
  {
   "cell_type": "code",
   "execution_count": 208,
   "metadata": {
    "collapsed": true
   },
   "outputs": [],
   "source": [
    "all_data = pd.read_csv('../../transe-linkprediction/Data/all_combination_data.csv')"
   ]
  },
  {
   "cell_type": "code",
   "execution_count": 212,
   "metadata": {},
   "outputs": [
    {
     "data": {
      "text/html": [
       "<div>\n",
       "<style>\n",
       "    .dataframe thead tr:only-child th {\n",
       "        text-align: right;\n",
       "    }\n",
       "\n",
       "    .dataframe thead th {\n",
       "        text-align: left;\n",
       "    }\n",
       "\n",
       "    .dataframe tbody tr th {\n",
       "        vertical-align: top;\n",
       "    }\n",
       "</style>\n",
       "<table border=\"1\" class=\"dataframe\">\n",
       "  <thead>\n",
       "    <tr style=\"text-align: right;\">\n",
       "      <th></th>\n",
       "      <th>entity_a</th>\n",
       "      <th>entity_b</th>\n",
       "      <th>relation</th>\n",
       "      <th>true_pred</th>\n",
       "    </tr>\n",
       "  </thead>\n",
       "  <tbody>\n",
       "    <tr>\n",
       "      <th>1596</th>\n",
       "      <td>1</td>\n",
       "      <td>0</td>\n",
       "      <td>0</td>\n",
       "      <td>1</td>\n",
       "    </tr>\n",
       "    <tr>\n",
       "      <th>1997</th>\n",
       "      <td>1</td>\n",
       "      <td>101</td>\n",
       "      <td>1</td>\n",
       "      <td>1</td>\n",
       "    </tr>\n",
       "    <tr>\n",
       "      <th>2799</th>\n",
       "      <td>1</td>\n",
       "      <td>301</td>\n",
       "      <td>3</td>\n",
       "      <td>1</td>\n",
       "    </tr>\n",
       "    <tr>\n",
       "      <th>3192</th>\n",
       "      <td>2</td>\n",
       "      <td>0</td>\n",
       "      <td>0</td>\n",
       "      <td>1</td>\n",
       "    </tr>\n",
       "    <tr>\n",
       "      <th>3597</th>\n",
       "      <td>2</td>\n",
       "      <td>102</td>\n",
       "      <td>1</td>\n",
       "      <td>1</td>\n",
       "    </tr>\n",
       "    <tr>\n",
       "      <th>4399</th>\n",
       "      <td>2</td>\n",
       "      <td>302</td>\n",
       "      <td>3</td>\n",
       "      <td>1</td>\n",
       "    </tr>\n",
       "    <tr>\n",
       "      <th>4788</th>\n",
       "      <td>3</td>\n",
       "      <td>0</td>\n",
       "      <td>0</td>\n",
       "      <td>1</td>\n",
       "    </tr>\n",
       "    <tr>\n",
       "      <th>5197</th>\n",
       "      <td>3</td>\n",
       "      <td>103</td>\n",
       "      <td>1</td>\n",
       "      <td>1</td>\n",
       "    </tr>\n",
       "    <tr>\n",
       "      <th>5999</th>\n",
       "      <td>3</td>\n",
       "      <td>303</td>\n",
       "      <td>3</td>\n",
       "      <td>1</td>\n",
       "    </tr>\n",
       "    <tr>\n",
       "      <th>6384</th>\n",
       "      <td>4</td>\n",
       "      <td>0</td>\n",
       "      <td>0</td>\n",
       "      <td>1</td>\n",
       "    </tr>\n",
       "    <tr>\n",
       "      <th>6797</th>\n",
       "      <td>4</td>\n",
       "      <td>104</td>\n",
       "      <td>1</td>\n",
       "      <td>1</td>\n",
       "    </tr>\n",
       "    <tr>\n",
       "      <th>7599</th>\n",
       "      <td>4</td>\n",
       "      <td>304</td>\n",
       "      <td>3</td>\n",
       "      <td>1</td>\n",
       "    </tr>\n",
       "    <tr>\n",
       "      <th>7980</th>\n",
       "      <td>5</td>\n",
       "      <td>0</td>\n",
       "      <td>0</td>\n",
       "      <td>1</td>\n",
       "    </tr>\n",
       "    <tr>\n",
       "      <th>8397</th>\n",
       "      <td>5</td>\n",
       "      <td>105</td>\n",
       "      <td>1</td>\n",
       "      <td>1</td>\n",
       "    </tr>\n",
       "    <tr>\n",
       "      <th>9199</th>\n",
       "      <td>5</td>\n",
       "      <td>305</td>\n",
       "      <td>3</td>\n",
       "      <td>1</td>\n",
       "    </tr>\n",
       "    <tr>\n",
       "      <th>9576</th>\n",
       "      <td>6</td>\n",
       "      <td>0</td>\n",
       "      <td>0</td>\n",
       "      <td>1</td>\n",
       "    </tr>\n",
       "    <tr>\n",
       "      <th>9997</th>\n",
       "      <td>6</td>\n",
       "      <td>106</td>\n",
       "      <td>1</td>\n",
       "      <td>1</td>\n",
       "    </tr>\n",
       "    <tr>\n",
       "      <th>10799</th>\n",
       "      <td>6</td>\n",
       "      <td>306</td>\n",
       "      <td>3</td>\n",
       "      <td>1</td>\n",
       "    </tr>\n",
       "    <tr>\n",
       "      <th>11172</th>\n",
       "      <td>7</td>\n",
       "      <td>0</td>\n",
       "      <td>0</td>\n",
       "      <td>1</td>\n",
       "    </tr>\n",
       "    <tr>\n",
       "      <th>11597</th>\n",
       "      <td>7</td>\n",
       "      <td>107</td>\n",
       "      <td>1</td>\n",
       "      <td>1</td>\n",
       "    </tr>\n",
       "    <tr>\n",
       "      <th>12399</th>\n",
       "      <td>7</td>\n",
       "      <td>307</td>\n",
       "      <td>3</td>\n",
       "      <td>1</td>\n",
       "    </tr>\n",
       "    <tr>\n",
       "      <th>12768</th>\n",
       "      <td>8</td>\n",
       "      <td>0</td>\n",
       "      <td>0</td>\n",
       "      <td>1</td>\n",
       "    </tr>\n",
       "    <tr>\n",
       "      <th>13197</th>\n",
       "      <td>8</td>\n",
       "      <td>108</td>\n",
       "      <td>1</td>\n",
       "      <td>1</td>\n",
       "    </tr>\n",
       "    <tr>\n",
       "      <th>13999</th>\n",
       "      <td>8</td>\n",
       "      <td>308</td>\n",
       "      <td>3</td>\n",
       "      <td>1</td>\n",
       "    </tr>\n",
       "    <tr>\n",
       "      <th>14364</th>\n",
       "      <td>9</td>\n",
       "      <td>0</td>\n",
       "      <td>0</td>\n",
       "      <td>1</td>\n",
       "    </tr>\n",
       "    <tr>\n",
       "      <th>14797</th>\n",
       "      <td>9</td>\n",
       "      <td>109</td>\n",
       "      <td>1</td>\n",
       "      <td>1</td>\n",
       "    </tr>\n",
       "    <tr>\n",
       "      <th>15599</th>\n",
       "      <td>9</td>\n",
       "      <td>309</td>\n",
       "      <td>3</td>\n",
       "      <td>1</td>\n",
       "    </tr>\n",
       "    <tr>\n",
       "      <th>15960</th>\n",
       "      <td>10</td>\n",
       "      <td>0</td>\n",
       "      <td>0</td>\n",
       "      <td>1</td>\n",
       "    </tr>\n",
       "    <tr>\n",
       "      <th>16397</th>\n",
       "      <td>10</td>\n",
       "      <td>110</td>\n",
       "      <td>1</td>\n",
       "      <td>1</td>\n",
       "    </tr>\n",
       "    <tr>\n",
       "      <th>17199</th>\n",
       "      <td>10</td>\n",
       "      <td>310</td>\n",
       "      <td>3</td>\n",
       "      <td>1</td>\n",
       "    </tr>\n",
       "    <tr>\n",
       "      <th>...</th>\n",
       "      <td>...</td>\n",
       "      <td>...</td>\n",
       "      <td>...</td>\n",
       "      <td>...</td>\n",
       "    </tr>\n",
       "    <tr>\n",
       "      <th>591720</th>\n",
       "      <td>370</td>\n",
       "      <td>300</td>\n",
       "      <td>0</td>\n",
       "      <td>1</td>\n",
       "    </tr>\n",
       "    <tr>\n",
       "      <th>593316</th>\n",
       "      <td>371</td>\n",
       "      <td>300</td>\n",
       "      <td>0</td>\n",
       "      <td>1</td>\n",
       "    </tr>\n",
       "    <tr>\n",
       "      <th>594912</th>\n",
       "      <td>372</td>\n",
       "      <td>300</td>\n",
       "      <td>0</td>\n",
       "      <td>1</td>\n",
       "    </tr>\n",
       "    <tr>\n",
       "      <th>596508</th>\n",
       "      <td>373</td>\n",
       "      <td>300</td>\n",
       "      <td>0</td>\n",
       "      <td>1</td>\n",
       "    </tr>\n",
       "    <tr>\n",
       "      <th>598104</th>\n",
       "      <td>374</td>\n",
       "      <td>300</td>\n",
       "      <td>0</td>\n",
       "      <td>1</td>\n",
       "    </tr>\n",
       "    <tr>\n",
       "      <th>599700</th>\n",
       "      <td>375</td>\n",
       "      <td>300</td>\n",
       "      <td>0</td>\n",
       "      <td>1</td>\n",
       "    </tr>\n",
       "    <tr>\n",
       "      <th>601296</th>\n",
       "      <td>376</td>\n",
       "      <td>300</td>\n",
       "      <td>0</td>\n",
       "      <td>1</td>\n",
       "    </tr>\n",
       "    <tr>\n",
       "      <th>602892</th>\n",
       "      <td>377</td>\n",
       "      <td>300</td>\n",
       "      <td>0</td>\n",
       "      <td>1</td>\n",
       "    </tr>\n",
       "    <tr>\n",
       "      <th>604488</th>\n",
       "      <td>378</td>\n",
       "      <td>300</td>\n",
       "      <td>0</td>\n",
       "      <td>1</td>\n",
       "    </tr>\n",
       "    <tr>\n",
       "      <th>606084</th>\n",
       "      <td>379</td>\n",
       "      <td>300</td>\n",
       "      <td>0</td>\n",
       "      <td>1</td>\n",
       "    </tr>\n",
       "    <tr>\n",
       "      <th>607680</th>\n",
       "      <td>380</td>\n",
       "      <td>300</td>\n",
       "      <td>0</td>\n",
       "      <td>1</td>\n",
       "    </tr>\n",
       "    <tr>\n",
       "      <th>609276</th>\n",
       "      <td>381</td>\n",
       "      <td>300</td>\n",
       "      <td>0</td>\n",
       "      <td>1</td>\n",
       "    </tr>\n",
       "    <tr>\n",
       "      <th>610872</th>\n",
       "      <td>382</td>\n",
       "      <td>300</td>\n",
       "      <td>0</td>\n",
       "      <td>1</td>\n",
       "    </tr>\n",
       "    <tr>\n",
       "      <th>612468</th>\n",
       "      <td>383</td>\n",
       "      <td>300</td>\n",
       "      <td>0</td>\n",
       "      <td>1</td>\n",
       "    </tr>\n",
       "    <tr>\n",
       "      <th>614064</th>\n",
       "      <td>384</td>\n",
       "      <td>300</td>\n",
       "      <td>0</td>\n",
       "      <td>1</td>\n",
       "    </tr>\n",
       "    <tr>\n",
       "      <th>615660</th>\n",
       "      <td>385</td>\n",
       "      <td>300</td>\n",
       "      <td>0</td>\n",
       "      <td>1</td>\n",
       "    </tr>\n",
       "    <tr>\n",
       "      <th>617256</th>\n",
       "      <td>386</td>\n",
       "      <td>300</td>\n",
       "      <td>0</td>\n",
       "      <td>1</td>\n",
       "    </tr>\n",
       "    <tr>\n",
       "      <th>618852</th>\n",
       "      <td>387</td>\n",
       "      <td>300</td>\n",
       "      <td>0</td>\n",
       "      <td>1</td>\n",
       "    </tr>\n",
       "    <tr>\n",
       "      <th>620448</th>\n",
       "      <td>388</td>\n",
       "      <td>300</td>\n",
       "      <td>0</td>\n",
       "      <td>1</td>\n",
       "    </tr>\n",
       "    <tr>\n",
       "      <th>622044</th>\n",
       "      <td>389</td>\n",
       "      <td>300</td>\n",
       "      <td>0</td>\n",
       "      <td>1</td>\n",
       "    </tr>\n",
       "    <tr>\n",
       "      <th>623640</th>\n",
       "      <td>390</td>\n",
       "      <td>300</td>\n",
       "      <td>0</td>\n",
       "      <td>1</td>\n",
       "    </tr>\n",
       "    <tr>\n",
       "      <th>625236</th>\n",
       "      <td>391</td>\n",
       "      <td>300</td>\n",
       "      <td>0</td>\n",
       "      <td>1</td>\n",
       "    </tr>\n",
       "    <tr>\n",
       "      <th>626832</th>\n",
       "      <td>392</td>\n",
       "      <td>300</td>\n",
       "      <td>0</td>\n",
       "      <td>1</td>\n",
       "    </tr>\n",
       "    <tr>\n",
       "      <th>628428</th>\n",
       "      <td>393</td>\n",
       "      <td>300</td>\n",
       "      <td>0</td>\n",
       "      <td>1</td>\n",
       "    </tr>\n",
       "    <tr>\n",
       "      <th>630024</th>\n",
       "      <td>394</td>\n",
       "      <td>300</td>\n",
       "      <td>0</td>\n",
       "      <td>1</td>\n",
       "    </tr>\n",
       "    <tr>\n",
       "      <th>631620</th>\n",
       "      <td>395</td>\n",
       "      <td>300</td>\n",
       "      <td>0</td>\n",
       "      <td>1</td>\n",
       "    </tr>\n",
       "    <tr>\n",
       "      <th>633216</th>\n",
       "      <td>396</td>\n",
       "      <td>300</td>\n",
       "      <td>0</td>\n",
       "      <td>1</td>\n",
       "    </tr>\n",
       "    <tr>\n",
       "      <th>634812</th>\n",
       "      <td>397</td>\n",
       "      <td>300</td>\n",
       "      <td>0</td>\n",
       "      <td>1</td>\n",
       "    </tr>\n",
       "    <tr>\n",
       "      <th>636408</th>\n",
       "      <td>398</td>\n",
       "      <td>300</td>\n",
       "      <td>0</td>\n",
       "      <td>1</td>\n",
       "    </tr>\n",
       "    <tr>\n",
       "      <th>638004</th>\n",
       "      <td>399</td>\n",
       "      <td>300</td>\n",
       "      <td>0</td>\n",
       "      <td>1</td>\n",
       "    </tr>\n",
       "  </tbody>\n",
       "</table>\n",
       "<p>891 rows × 4 columns</p>\n",
       "</div>"
      ],
      "text/plain": [
       "        entity_a  entity_b  relation  true_pred\n",
       "1596           1         0         0          1\n",
       "1997           1       101         1          1\n",
       "2799           1       301         3          1\n",
       "3192           2         0         0          1\n",
       "3597           2       102         1          1\n",
       "4399           2       302         3          1\n",
       "4788           3         0         0          1\n",
       "5197           3       103         1          1\n",
       "5999           3       303         3          1\n",
       "6384           4         0         0          1\n",
       "6797           4       104         1          1\n",
       "7599           4       304         3          1\n",
       "7980           5         0         0          1\n",
       "8397           5       105         1          1\n",
       "9199           5       305         3          1\n",
       "9576           6         0         0          1\n",
       "9997           6       106         1          1\n",
       "10799          6       306         3          1\n",
       "11172          7         0         0          1\n",
       "11597          7       107         1          1\n",
       "12399          7       307         3          1\n",
       "12768          8         0         0          1\n",
       "13197          8       108         1          1\n",
       "13999          8       308         3          1\n",
       "14364          9         0         0          1\n",
       "14797          9       109         1          1\n",
       "15599          9       309         3          1\n",
       "15960         10         0         0          1\n",
       "16397         10       110         1          1\n",
       "17199         10       310         3          1\n",
       "...          ...       ...       ...        ...\n",
       "591720       370       300         0          1\n",
       "593316       371       300         0          1\n",
       "594912       372       300         0          1\n",
       "596508       373       300         0          1\n",
       "598104       374       300         0          1\n",
       "599700       375       300         0          1\n",
       "601296       376       300         0          1\n",
       "602892       377       300         0          1\n",
       "604488       378       300         0          1\n",
       "606084       379       300         0          1\n",
       "607680       380       300         0          1\n",
       "609276       381       300         0          1\n",
       "610872       382       300         0          1\n",
       "612468       383       300         0          1\n",
       "614064       384       300         0          1\n",
       "615660       385       300         0          1\n",
       "617256       386       300         0          1\n",
       "618852       387       300         0          1\n",
       "620448       388       300         0          1\n",
       "622044       389       300         0          1\n",
       "623640       390       300         0          1\n",
       "625236       391       300         0          1\n",
       "626832       392       300         0          1\n",
       "628428       393       300         0          1\n",
       "630024       394       300         0          1\n",
       "631620       395       300         0          1\n",
       "633216       396       300         0          1\n",
       "634812       397       300         0          1\n",
       "636408       398       300         0          1\n",
       "638004       399       300         0          1\n",
       "\n",
       "[891 rows x 4 columns]"
      ]
     },
     "execution_count": 212,
     "metadata": {},
     "output_type": "execute_result"
    }
   ],
   "source": [
    "all_data[all_data.true_pred==1]"
   ]
  },
  {
   "cell_type": "code",
   "execution_count": 196,
   "metadata": {
    "collapsed": true
   },
   "outputs": [],
   "source": [
    "t = transe_results(hole,all_data,2.988)"
   ]
  },
  {
   "cell_type": "code",
   "execution_count": 203,
   "metadata": {
    "collapsed": true
   },
   "outputs": [],
   "source": [
    "all_data['score'] = t.tolist()\n",
    "all_data['prediction'] = 1*(t < 1.988).tolist()"
   ]
  },
  {
   "cell_type": "code",
   "execution_count": 204,
   "metadata": {},
   "outputs": [
    {
     "name": "stdout",
     "output_type": "stream",
     "text": [
      "\n",
      "- - - - - - - - - - - - - STATISTICS  - - - - - - - - - - - - - - \n",
      "\n",
      "Total number of possible links : 638400 \n",
      "Total number of valid links : 891 \n",
      "Confidence Score : 1.988 \n",
      "Total number of links predicted correct : 609097 \n",
      "Total number of green links predicted correct : 554 \n",
      "% of links predicted correct : 0.954099310777 \n",
      "% of green links predicted correct : 0.62177328844 \n"
     ]
    }
   ],
   "source": [
    "acc_count = (all_data['prediction'] == all_data['true_pred']).sum()\n",
    "acc = float(acc_count)/all_data.shape[0]\n",
    "green_acc_count = (all_data[all_data.true_pred==1]['prediction'] == all_data[all_data.true_pred==1]['true_pred']).sum()\n",
    "green_acc = float(green_acc_count)/all_data[all_data.true_pred==1].shape[0]\n",
    "\n",
    "print(\"\\n- - - - - - - - - - - - - STATISTICS  - - - - - - - - - - - - - - \\n\")\n",
    "print(\"Total number of possible links : {} \".format(all_data.shape[0]))\n",
    "print(\"Total number of valid links : {} \".format(all_data[all_data.true_pred==1].shape[0]))\n",
    "print(\"Confidence Score : {} \".format(1.988))\n",
    "print(\"Total number of links predicted correct : {} \".format(acc_count))\n",
    "print(\"Total number of green links predicted correct : {} \".format(green_acc_count))\n",
    "print(\"% of links predicted correct : {} \".format(acc))\n",
    "print(\"% of green links predicted correct : {} \".format(green_acc))\n"
   ]
  },
  {
   "cell_type": "code",
   "execution_count": 155,
   "metadata": {
    "collapsed": true
   },
   "outputs": [],
   "source": [
    "true_data['pred'] = ''"
   ]
  },
  {
   "cell_type": "code",
   "execution_count": 161,
   "metadata": {
    "collapsed": true
   },
   "outputs": [],
   "source": [
    "k = true_data[:10] "
   ]
  },
  {
   "cell_type": "code",
   "execution_count": 163,
   "metadata": {},
   "outputs": [
    {
     "name": "stderr",
     "output_type": "stream",
     "text": [
      "/home/shaurya/anaconda2/lib/python2.7/site-packages/ipykernel_launcher.py:1: SettingWithCopyWarning: \n",
      "A value is trying to be set on a copy of a slice from a DataFrame.\n",
      "Try using .loc[row_indexer,col_indexer] = value instead\n",
      "\n",
      "See the caveats in the documentation: http://pandas.pydata.org/pandas-docs/stable/indexing.html#indexing-view-versus-copy\n",
      "  \"\"\"Entry point for launching an IPython kernel.\n"
     ]
    }
   ],
   "source": [
    "k['pred'] = t.tolist()"
   ]
  },
  {
   "cell_type": "code",
   "execution_count": 164,
   "metadata": {},
   "outputs": [
    {
     "data": {
      "text/html": [
       "<div>\n",
       "<style>\n",
       "    .dataframe thead tr:only-child th {\n",
       "        text-align: right;\n",
       "    }\n",
       "\n",
       "    .dataframe thead th {\n",
       "        text-align: left;\n",
       "    }\n",
       "\n",
       "    .dataframe tbody tr th {\n",
       "        vertical-align: top;\n",
       "    }\n",
       "</style>\n",
       "<table border=\"1\" class=\"dataframe\">\n",
       "  <thead>\n",
       "    <tr style=\"text-align: right;\">\n",
       "      <th></th>\n",
       "      <th>entity_a</th>\n",
       "      <th>entity_b</th>\n",
       "      <th>relation</th>\n",
       "      <th>pred</th>\n",
       "    </tr>\n",
       "  </thead>\n",
       "  <tbody>\n",
       "    <tr>\n",
       "      <th>0</th>\n",
       "      <td>1</td>\n",
       "      <td>0</td>\n",
       "      <td>0</td>\n",
       "      <td>1.664369</td>\n",
       "    </tr>\n",
       "    <tr>\n",
       "      <th>1</th>\n",
       "      <td>1</td>\n",
       "      <td>101</td>\n",
       "      <td>1</td>\n",
       "      <td>3.150274</td>\n",
       "    </tr>\n",
       "    <tr>\n",
       "      <th>2</th>\n",
       "      <td>1</td>\n",
       "      <td>301</td>\n",
       "      <td>3</td>\n",
       "      <td>1.737806</td>\n",
       "    </tr>\n",
       "    <tr>\n",
       "      <th>3</th>\n",
       "      <td>2</td>\n",
       "      <td>0</td>\n",
       "      <td>0</td>\n",
       "      <td>1.358831</td>\n",
       "    </tr>\n",
       "    <tr>\n",
       "      <th>4</th>\n",
       "      <td>2</td>\n",
       "      <td>102</td>\n",
       "      <td>1</td>\n",
       "      <td>1.462211</td>\n",
       "    </tr>\n",
       "    <tr>\n",
       "      <th>5</th>\n",
       "      <td>2</td>\n",
       "      <td>302</td>\n",
       "      <td>3</td>\n",
       "      <td>1.566965</td>\n",
       "    </tr>\n",
       "    <tr>\n",
       "      <th>6</th>\n",
       "      <td>3</td>\n",
       "      <td>0</td>\n",
       "      <td>0</td>\n",
       "      <td>6.420131</td>\n",
       "    </tr>\n",
       "    <tr>\n",
       "      <th>7</th>\n",
       "      <td>3</td>\n",
       "      <td>103</td>\n",
       "      <td>1</td>\n",
       "      <td>7.734888</td>\n",
       "    </tr>\n",
       "    <tr>\n",
       "      <th>8</th>\n",
       "      <td>3</td>\n",
       "      <td>303</td>\n",
       "      <td>3</td>\n",
       "      <td>7.054151</td>\n",
       "    </tr>\n",
       "    <tr>\n",
       "      <th>9</th>\n",
       "      <td>4</td>\n",
       "      <td>0</td>\n",
       "      <td>0</td>\n",
       "      <td>1.176161</td>\n",
       "    </tr>\n",
       "  </tbody>\n",
       "</table>\n",
       "</div>"
      ],
      "text/plain": [
       "   entity_a  entity_b  relation      pred\n",
       "0         1         0         0  1.664369\n",
       "1         1       101         1  3.150274\n",
       "2         1       301         3  1.737806\n",
       "3         2         0         0  1.358831\n",
       "4         2       102         1  1.462211\n",
       "5         2       302         3  1.566965\n",
       "6         3         0         0  6.420131\n",
       "7         3       103         1  7.734888\n",
       "8         3       303         3  7.054151\n",
       "9         4         0         0  1.176161"
      ]
     },
     "execution_count": 164,
     "metadata": {},
     "output_type": "execute_result"
    }
   ],
   "source": [
    "k"
   ]
  },
  {
   "cell_type": "code",
   "execution_count": 283,
   "metadata": {},
   "outputs": [
    {
     "name": "stdout",
     "output_type": "stream",
     "text": [
      "100\n",
      "200\n",
      "300\n",
      "400\n",
      "500\n",
      "600\n",
      "700\n",
      "800\n",
      "900\n",
      "1000\n",
      "1100\n",
      "1200\n",
      "1300\n",
      "1400\n",
      "1500\n",
      "1600\n",
      "1700\n",
      "1800\n",
      "1900\n",
      "2000\n",
      "2100\n",
      "2200\n",
      "2300\n",
      "2400\n",
      "2500\n",
      "2600\n",
      "2700\n",
      "2800\n",
      "2900\n",
      "3000\n",
      "3100\n",
      "3200\n",
      "3300\n",
      "3400\n",
      "3500\n",
      "3600\n",
      "3700\n",
      "3800\n",
      "3900\n",
      "4000\n",
      "4100\n",
      "4200\n",
      "4300\n",
      "4400\n",
      "4500\n",
      "4600\n",
      "4700\n",
      "4800\n",
      "4900\n",
      "5000\n",
      "5100\n",
      "5200\n",
      "5300\n",
      "5400\n",
      "5500\n",
      "5600\n",
      "5700\n",
      "5800\n",
      "5900\n",
      "6000\n",
      "6100\n",
      "6200\n",
      "6300\n",
      "6400\n",
      "6500\n",
      "6600\n",
      "6700\n",
      "6800\n",
      "6900\n",
      "7000\n",
      "7100\n",
      "7200\n",
      "7300\n",
      "7400\n",
      "7500\n",
      "7600\n",
      "7700\n",
      "7800\n",
      "7900\n",
      "8000\n",
      "8100\n",
      "8200\n",
      "8300\n",
      "8400\n",
      "8500\n",
      "8600\n",
      "8700\n",
      "8800\n",
      "8900\n",
      "9000\n",
      "9100\n",
      "9200\n",
      "9300\n",
      "9400\n",
      "9500\n",
      "9600\n",
      "9700\n",
      "9800\n",
      "9900\n",
      "10000\n",
      "10100\n",
      "10200\n",
      "10300\n",
      "10400\n",
      "10500\n",
      "10600\n",
      "10700\n",
      "10800\n",
      "10900\n",
      "11000\n",
      "11100\n",
      "11200\n",
      "11300\n",
      "11400\n",
      "11500\n",
      "11600\n",
      "11700\n",
      "11800\n",
      "11900\n",
      "12000\n",
      "12100\n",
      "12200\n",
      "12300\n",
      "12400\n",
      "12500\n",
      "12600\n",
      "12700\n",
      "12800\n",
      "12900\n",
      "13000\n",
      "13100\n",
      "13200\n",
      "13300\n",
      "13400\n",
      "13500\n",
      "13600\n",
      "13700\n",
      "13800\n",
      "13900\n",
      "14000\n",
      "14100\n",
      "14200\n",
      "14300\n",
      "14400\n",
      "14500\n",
      "14600\n",
      "14700\n",
      "14800\n",
      "14900\n",
      "15000\n",
      "15100\n",
      "15200\n",
      "15300\n",
      "15400\n",
      "15500\n",
      "15600\n",
      "15700\n",
      "15800\n",
      "15900\n",
      "16000\n",
      "16100\n",
      "16200\n",
      "16300\n",
      "16400\n",
      "16500\n",
      "16600\n",
      "16700\n",
      "16800\n",
      "16900\n",
      "17000\n",
      "17100\n",
      "17200\n",
      "17300\n",
      "17400\n",
      "17500\n",
      "17600\n",
      "17700\n",
      "17800\n",
      "17900\n",
      "18000\n",
      "18100\n",
      "18200\n",
      "18300\n",
      "18400\n",
      "18500\n",
      "18600\n",
      "18700\n",
      "18800\n",
      "18900\n",
      "19000\n",
      "19100\n",
      "19200\n",
      "19300\n",
      "19400\n",
      "19500\n",
      "19600\n",
      "19700\n",
      "19800\n",
      "19900\n",
      "20000\n",
      "20100\n",
      "20200\n",
      "20300\n",
      "20400\n",
      "20500\n",
      "20600\n",
      "20700\n",
      "20800\n",
      "20900\n",
      "21000\n",
      "21100\n",
      "21200\n",
      "21300\n",
      "21400\n",
      "21500\n",
      "21600\n",
      "21700\n",
      "21800\n",
      "21900\n",
      "22000\n",
      "22100\n",
      "22200\n",
      "22300\n",
      "22400\n",
      "22500\n",
      "22600\n",
      "22700\n",
      "22800\n",
      "22900\n",
      "23000\n",
      "23100\n",
      "23200\n",
      "23300\n",
      "23400\n",
      "23500\n",
      "23600\n",
      "23700\n",
      "23800\n",
      "23900\n",
      "24000\n",
      "24100\n",
      "24200\n",
      "24300\n",
      "24400\n",
      "24500\n",
      "24600\n",
      "24700\n",
      "24800\n",
      "24900\n",
      "25000\n",
      "25100\n",
      "25200\n",
      "25300\n",
      "25400\n",
      "25500\n",
      "25600\n",
      "25700\n",
      "25800\n",
      "25900\n",
      "26000\n",
      "26100\n",
      "26200\n",
      "26300\n",
      "26400\n",
      "26500\n",
      "26600\n",
      "26700\n",
      "26800\n",
      "26900\n",
      "27000\n",
      "27100\n",
      "27200\n",
      "27300\n",
      "27400\n",
      "27500\n",
      "27600\n",
      "27700\n",
      "27800\n",
      "27900\n",
      "28000\n",
      "28100\n",
      "28200\n",
      "28300\n",
      "28400\n",
      "28500\n",
      "28600\n",
      "28700\n",
      "28800\n",
      "28900\n",
      "29000\n",
      "29100\n",
      "29200\n",
      "29300\n",
      "29400\n",
      "29500\n",
      "29600\n",
      "29700\n",
      "29800\n",
      "29900\n",
      "30000\n",
      "30100\n",
      "30200\n",
      "30300\n",
      "30400\n",
      "30500\n",
      "30600\n",
      "30700\n",
      "30800\n",
      "30900\n",
      "31000\n",
      "31100\n",
      "31200\n",
      "31300\n",
      "31400\n",
      "31500\n",
      "31600\n",
      "31700\n",
      "31800\n",
      "31900\n",
      "32000\n",
      "32100\n",
      "32200\n",
      "32300\n",
      "32400\n",
      "32500\n",
      "32600\n",
      "32700\n",
      "32800\n",
      "32900\n",
      "33000\n",
      "33100\n",
      "33200\n",
      "33300\n",
      "33400\n",
      "33500\n",
      "33600\n",
      "33700\n",
      "33800\n",
      "33900\n",
      "34000\n",
      "34100\n",
      "34200\n",
      "34300\n",
      "34400\n",
      "34500\n",
      "34600\n",
      "34700\n",
      "34800\n",
      "34900\n",
      "35000\n",
      "35100\n",
      "35200\n",
      "35300\n",
      "35400\n",
      "35500\n",
      "35600\n",
      "35700\n",
      "35800\n",
      "35900\n",
      "36000\n",
      "36100\n",
      "36200\n",
      "36300\n",
      "36400\n",
      "36500\n",
      "36600\n",
      "36700\n",
      "36800\n",
      "36900\n",
      "37000\n",
      "37100\n",
      "37200\n",
      "37300\n",
      "37400\n",
      "37500\n",
      "37600\n",
      "37700\n",
      "37800\n",
      "37900\n",
      "38000\n",
      "38100\n",
      "38200\n",
      "38300\n",
      "38400\n",
      "38500\n",
      "38600\n",
      "38700\n",
      "38800\n",
      "38900\n",
      "39000\n",
      "39100\n",
      "39200\n",
      "39300\n",
      "39400\n",
      "39500\n",
      "39600\n",
      "39700\n",
      "39800\n",
      "39900\n",
      "40000\n",
      "40100\n",
      "40200\n",
      "40300\n",
      "40400\n",
      "40500\n",
      "40600\n",
      "40700\n",
      "40800\n",
      "40900\n",
      "41000\n",
      "41100\n",
      "41200\n",
      "41300\n",
      "41400\n",
      "41500\n",
      "41600\n",
      "41700\n",
      "41800\n",
      "41900\n",
      "42000\n",
      "42100\n",
      "42200\n",
      "42300\n",
      "42400\n",
      "42500\n",
      "42600\n",
      "42700\n",
      "42800\n",
      "42900\n",
      "43000\n",
      "43100\n",
      "43200\n",
      "43300\n",
      "43400\n",
      "43500\n",
      "43600\n",
      "43700\n",
      "43800\n",
      "43900\n",
      "44000\n",
      "44100\n",
      "44200\n",
      "44300\n",
      "44400\n",
      "44500\n",
      "44600\n",
      "44700\n",
      "44800\n",
      "44900\n",
      "45000\n",
      "45100\n",
      "45200\n",
      "45300\n",
      "45400\n",
      "45500\n",
      "45600\n",
      "45700\n",
      "45800\n",
      "45900\n",
      "46000\n",
      "46100\n",
      "46200\n",
      "46300\n",
      "46400\n",
      "46500\n",
      "46600\n",
      "46700\n",
      "46800\n",
      "46900\n",
      "47000\n",
      "47100\n",
      "47200\n",
      "47300\n",
      "47400\n",
      "47500\n",
      "47600\n",
      "47700\n",
      "47800\n",
      "47900\n",
      "48000\n",
      "48100\n",
      "48200\n",
      "48300\n",
      "48400\n",
      "48500\n",
      "48600\n",
      "48700\n",
      "48800\n",
      "48900\n",
      "49000\n",
      "49100\n",
      "49200\n",
      "49300\n",
      "49400\n",
      "49500\n",
      "49600\n",
      "49700\n",
      "49800\n",
      "49900\n",
      "50000\n",
      "50100\n",
      "50200\n",
      "50300\n",
      "50400\n",
      "50500\n",
      "50600\n",
      "50700\n",
      "50800\n",
      "50900\n",
      "51000\n",
      "51100\n",
      "51200\n",
      "51300\n",
      "51400\n",
      "51500\n",
      "51600\n",
      "51700\n",
      "51800\n",
      "51900\n",
      "52000\n",
      "52100\n",
      "52200\n",
      "52300\n",
      "52400\n",
      "52500\n",
      "52600\n",
      "52700\n",
      "52800\n",
      "52900\n",
      "53000\n",
      "53100\n",
      "53200\n",
      "53300\n",
      "53400\n",
      "53500\n",
      "53600\n",
      "53700\n",
      "53800\n",
      "53900\n",
      "54000\n",
      "54100\n",
      "54200\n",
      "54300\n",
      "54400\n",
      "54500\n",
      "54600\n",
      "54700\n",
      "54800\n",
      "54900\n",
      "55000\n",
      "55100\n",
      "55200\n",
      "55300\n",
      "55400\n",
      "55500\n",
      "55600\n",
      "55700\n",
      "55800\n",
      "55900\n",
      "56000\n",
      "56100\n",
      "56200\n",
      "56300\n",
      "56400\n",
      "56500\n",
      "56600\n",
      "56700\n",
      "56800\n",
      "56900\n",
      "57000\n",
      "57100\n",
      "57200\n",
      "57300\n",
      "57400\n",
      "57500\n",
      "57600\n",
      "57700\n",
      "57800\n",
      "57900\n",
      "58000\n",
      "58100\n",
      "58200\n",
      "58300\n",
      "58400\n",
      "58500\n",
      "58600\n",
      "58700\n",
      "58800\n",
      "58900\n",
      "59000\n",
      "59100\n",
      "59200\n",
      "59300\n",
      "59400\n",
      "59500\n",
      "59600\n",
      "59700\n",
      "59800\n",
      "59900\n",
      "60000\n",
      "60100\n",
      "60200\n",
      "60300\n",
      "60400\n",
      "60500\n",
      "60600\n",
      "60700\n",
      "60800\n",
      "60900\n",
      "61000\n",
      "61100\n",
      "61200\n",
      "61300\n",
      "61400\n",
      "61500\n",
      "61600\n",
      "61700\n",
      "61800\n",
      "61900\n",
      "62000\n",
      "62100\n",
      "62200\n",
      "62300\n",
      "62400\n",
      "62500\n",
      "62600\n",
      "62700\n",
      "62800\n",
      "62900\n",
      "63000\n",
      "63100\n",
      "63200\n",
      "63300\n",
      "63400\n",
      "63500\n",
      "63600\n",
      "63700\n",
      "63800\n",
      "63900\n",
      "64000\n",
      "64100\n",
      "64200\n",
      "64300\n",
      "64400\n",
      "64500\n",
      "64600\n",
      "64700\n",
      "64800\n",
      "64900\n",
      "65000\n",
      "65100\n",
      "65200\n",
      "65300\n",
      "65400\n",
      "65500\n",
      "65600\n",
      "65700\n",
      "65800\n",
      "65900\n",
      "66000\n",
      "66100\n",
      "66200\n",
      "66300\n",
      "66400\n",
      "66500\n",
      "66600\n",
      "66700\n",
      "66800\n",
      "66900\n",
      "67000\n",
      "67100\n",
      "67200\n",
      "67300\n",
      "67400\n",
      "67500\n",
      "67600\n",
      "67700\n",
      "67800\n",
      "67900\n",
      "68000\n",
      "68100\n",
      "68200\n",
      "68300\n",
      "68400\n",
      "68500\n",
      "68600\n",
      "68700\n",
      "68800\n",
      "68900\n",
      "69000\n",
      "69100\n",
      "69200\n",
      "69300\n",
      "69400\n",
      "69500\n",
      "69600\n",
      "69700\n",
      "69800\n",
      "69900\n",
      "70000\n",
      "70100\n",
      "70200\n",
      "70300\n",
      "70400\n",
      "70500\n",
      "70600\n",
      "70700\n",
      "70800\n",
      "70900\n",
      "71000\n",
      "71100\n",
      "71200\n",
      "71300\n",
      "71400\n",
      "71500\n",
      "71600\n",
      "71700\n",
      "71800\n",
      "71900\n",
      "72000\n",
      "72100\n",
      "72200\n",
      "72300\n",
      "72400\n",
      "72500\n",
      "72600\n",
      "72700\n",
      "72800\n",
      "72900\n",
      "73000\n",
      "73100\n",
      "73200\n",
      "73300\n",
      "73400\n",
      "73500\n",
      "73600\n",
      "73700\n",
      "73800\n",
      "73900\n",
      "74000\n",
      "74100\n",
      "74200\n",
      "74300\n",
      "74400\n",
      "74500\n",
      "74600\n",
      "74700\n",
      "74800\n",
      "74900\n",
      "75000\n",
      "75100\n",
      "75200\n",
      "75300\n",
      "75400\n",
      "75500\n",
      "75600\n",
      "75700\n",
      "75800\n",
      "75900\n",
      "76000\n",
      "76100\n",
      "76200\n",
      "76300\n",
      "76400\n",
      "76500\n",
      "76600\n",
      "76700\n",
      "76800\n",
      "76900\n",
      "77000\n",
      "77100\n",
      "77200\n",
      "77300\n",
      "77400\n",
      "77500\n",
      "77600\n",
      "77700\n",
      "77800\n",
      "77900\n",
      "78000\n",
      "78100\n",
      "78200\n",
      "78300\n",
      "78400\n",
      "78500\n",
      "78600\n",
      "78700\n",
      "78800\n",
      "78900\n",
      "79000\n",
      "79100\n",
      "79200\n",
      "79300\n",
      "79400\n",
      "79500\n",
      "79600\n",
      "79700\n",
      "79800\n",
      "79900\n",
      "80000\n",
      "80100\n",
      "80200\n",
      "80300\n",
      "80400\n",
      "80500\n",
      "80600\n",
      "80700\n",
      "80800\n",
      "80900\n",
      "81000\n",
      "81100\n",
      "81200\n",
      "81300\n",
      "81400\n",
      "81500\n",
      "81600\n",
      "81700\n",
      "81800\n",
      "81900\n",
      "82000\n",
      "82100\n",
      "82200\n",
      "82300\n",
      "82400\n",
      "82500\n",
      "82600\n",
      "82700\n",
      "82800\n",
      "82900\n",
      "83000\n",
      "83100\n",
      "83200\n",
      "83300\n",
      "83400\n",
      "83500\n",
      "83600\n",
      "83700\n",
      "83800\n",
      "83900\n",
      "84000\n",
      "84100\n",
      "84200\n",
      "84300\n",
      "84400\n",
      "84500\n",
      "84600\n",
      "84700\n",
      "84800\n",
      "84900\n",
      "85000\n",
      "85100\n",
      "85200\n",
      "85300\n",
      "85400\n",
      "85500\n",
      "85600\n",
      "85700\n",
      "85800\n",
      "85900\n",
      "86000\n",
      "86100\n",
      "86200\n",
      "86300\n",
      "86400\n",
      "86500\n",
      "86600\n",
      "86700\n",
      "86800\n",
      "86900\n",
      "87000\n",
      "87100\n",
      "87200\n",
      "87300\n",
      "87400\n",
      "87500\n",
      "87600\n",
      "87700\n",
      "87800\n",
      "87900\n",
      "88000\n",
      "88100\n",
      "88200\n",
      "88300\n",
      "88400\n",
      "88500\n",
      "88600\n",
      "88700\n",
      "88800\n",
      "88900\n",
      "89000\n",
      "89100\n",
      "89200\n",
      "89300\n",
      "89400\n",
      "89500\n",
      "89600\n",
      "89700\n",
      "89800\n",
      "89900\n",
      "90000\n",
      "90100\n",
      "90200\n",
      "90300\n",
      "90400\n",
      "90500\n",
      "90600\n",
      "90700\n",
      "90800\n",
      "90900\n",
      "91000\n",
      "91100\n",
      "91200\n",
      "91300\n",
      "91400\n",
      "91500\n",
      "91600\n",
      "91700\n",
      "91800\n",
      "91900\n",
      "92000\n",
      "92100\n",
      "92200\n",
      "92300\n",
      "92400\n",
      "92500\n",
      "92600\n",
      "92700\n",
      "92800\n",
      "92900\n",
      "93000\n",
      "93100\n",
      "93200\n",
      "93300\n",
      "93400\n",
      "93500\n",
      "93600\n",
      "93700\n",
      "93800\n",
      "93900\n",
      "94000\n",
      "94100\n",
      "94200\n",
      "94300\n",
      "94400\n",
      "94500\n",
      "94600\n",
      "94700\n",
      "94800\n",
      "94900\n",
      "95000\n",
      "95100\n",
      "95200\n",
      "95300\n",
      "95400\n",
      "95500\n",
      "95600\n",
      "95700\n",
      "95800\n",
      "95900\n",
      "96000\n",
      "96100\n",
      "96200\n",
      "96300\n",
      "96400\n",
      "96500\n",
      "96600\n",
      "96700\n",
      "96800\n",
      "96900\n",
      "97000\n",
      "97100\n",
      "97200\n",
      "97300\n",
      "97400\n",
      "97500\n",
      "97600\n",
      "97700\n",
      "97800\n",
      "97900\n",
      "98000\n",
      "98100\n",
      "98200\n",
      "98300\n",
      "98400\n",
      "98500\n",
      "98600\n",
      "98700\n",
      "98800\n",
      "98900\n",
      "99000\n",
      "99100\n",
      "99200\n",
      "99300\n",
      "99400\n",
      "99500\n",
      "99600\n",
      "99700\n",
      "99800\n",
      "99900\n",
      "100000\n",
      "100100\n",
      "100200\n",
      "100300\n",
      "100400\n",
      "100500\n",
      "100600\n",
      "100700\n",
      "100800\n",
      "100900\n",
      "101000\n",
      "101100\n",
      "101200\n",
      "101300\n",
      "101400\n",
      "101500\n",
      "101600\n",
      "101700\n",
      "101800\n",
      "101900\n",
      "102000\n",
      "102100\n",
      "102200\n",
      "102300\n",
      "102400\n",
      "102500\n",
      "102600\n",
      "102700\n",
      "102800\n",
      "102900\n",
      "103000\n",
      "103100\n",
      "103200\n",
      "103300\n",
      "103400\n",
      "103500\n",
      "103600\n",
      "103700\n",
      "103800\n",
      "103900\n",
      "104000\n",
      "104100\n",
      "104200\n",
      "104300\n",
      "104400\n",
      "104500\n",
      "104600\n",
      "104700\n",
      "104800\n",
      "104900\n",
      "105000\n",
      "105100\n",
      "105200\n",
      "105300\n",
      "105400\n",
      "105500\n",
      "105600\n",
      "105700\n",
      "105800\n",
      "105900\n",
      "106000\n",
      "106100\n",
      "106200\n",
      "106300\n",
      "106400\n",
      "106500\n",
      "106600\n",
      "106700\n",
      "106800\n",
      "106900\n",
      "107000\n",
      "107100\n",
      "107200\n",
      "107300\n",
      "107400\n",
      "107500\n",
      "107600\n",
      "107700\n",
      "107800\n",
      "107900\n",
      "108000\n",
      "108100\n",
      "108200\n",
      "108300\n",
      "108400\n",
      "108500\n",
      "108600\n",
      "108700\n",
      "108800\n",
      "108900\n",
      "109000\n",
      "109100\n",
      "109200\n",
      "109300\n",
      "109400\n",
      "109500\n",
      "109600\n",
      "109700\n",
      "109800\n",
      "109900\n",
      "110000\n",
      "110100\n",
      "110200\n",
      "110300\n",
      "110400\n",
      "110500\n",
      "110600\n",
      "110700\n",
      "110800\n",
      "110900\n",
      "111000\n",
      "111100\n",
      "111200\n",
      "111300\n",
      "111400\n",
      "111500\n",
      "111600\n",
      "111700\n",
      "111800\n",
      "111900\n",
      "112000\n",
      "112100\n",
      "112200\n",
      "112300\n",
      "112400\n",
      "112500\n",
      "112600\n",
      "112700\n",
      "112800\n",
      "112900\n",
      "113000\n",
      "113100\n",
      "113200\n",
      "113300\n",
      "113400\n",
      "113500\n",
      "113600\n",
      "113700\n",
      "113800\n",
      "113900\n",
      "114000\n",
      "114100\n",
      "114200\n",
      "114300\n",
      "114400\n",
      "114500\n",
      "114600\n",
      "114700\n",
      "114800\n",
      "114900\n",
      "115000\n",
      "115100\n",
      "115200\n",
      "115300\n",
      "115400\n",
      "115500\n",
      "115600\n",
      "115700\n",
      "115800\n",
      "115900\n",
      "116000\n",
      "116100\n",
      "116200\n",
      "116300\n",
      "116400\n",
      "116500\n",
      "116600\n",
      "116700\n",
      "116800\n",
      "116900\n",
      "117000\n",
      "117100\n",
      "117200\n",
      "117300\n",
      "117400\n",
      "117500\n",
      "117600\n",
      "117700\n",
      "117800\n",
      "117900\n",
      "118000\n",
      "118100\n",
      "118200\n",
      "118300\n",
      "118400\n",
      "118500\n",
      "118600\n",
      "118700\n",
      "118800\n",
      "118900\n",
      "119000\n",
      "119100\n",
      "119200\n",
      "119300\n",
      "119400\n",
      "119500\n",
      "119600\n",
      "119700\n",
      "119800\n",
      "119900\n",
      "120000\n",
      "120100\n",
      "120200\n",
      "120300\n",
      "120400\n",
      "120500\n",
      "120600\n",
      "120700\n",
      "120800\n",
      "120900\n",
      "121000\n",
      "121100\n",
      "121200\n",
      "121300\n",
      "121400\n",
      "121500\n",
      "121600\n",
      "121700\n",
      "121800\n",
      "121900\n",
      "122000\n",
      "122100\n",
      "122200\n",
      "122300\n",
      "122400\n",
      "122500\n",
      "122600\n",
      "122700\n",
      "122800\n",
      "122900\n",
      "123000\n",
      "123100\n",
      "123200\n",
      "123300\n",
      "123400\n",
      "123500\n",
      "123600\n",
      "123700\n",
      "123800\n",
      "123900\n",
      "124000\n",
      "124100\n",
      "124200\n",
      "124300\n",
      "124400\n",
      "124500\n",
      "124600\n",
      "124700\n",
      "124800\n",
      "124900\n",
      "125000\n",
      "125100\n",
      "125200\n",
      "125300\n",
      "125400\n",
      "125500\n",
      "125600\n",
      "125700\n",
      "125800\n",
      "125900\n",
      "126000\n",
      "126100\n",
      "126200\n",
      "126300\n",
      "126400\n",
      "126500\n",
      "126600\n",
      "126700\n",
      "126800\n",
      "126900\n",
      "127000\n",
      "127100\n",
      "127200\n",
      "127300\n",
      "127400\n",
      "127500\n",
      "127600\n",
      "127700\n",
      "127800\n",
      "127900\n",
      "128000\n",
      "128100\n",
      "128200\n",
      "128300\n",
      "128400\n",
      "128500\n",
      "128600\n",
      "128700\n",
      "128800\n",
      "128900\n",
      "129000\n",
      "129100\n",
      "129200\n",
      "129300\n",
      "129400\n",
      "129500\n",
      "129600\n",
      "129700\n",
      "129800\n",
      "129900\n",
      "130000\n",
      "130100\n",
      "130200\n",
      "130300\n",
      "130400\n",
      "130500\n",
      "130600\n",
      "130700\n",
      "130800\n",
      "130900\n",
      "131000\n",
      "131100\n",
      "131200\n",
      "131300\n",
      "131400\n",
      "131500\n",
      "131600\n",
      "131700\n",
      "131800\n",
      "131900\n",
      "132000\n",
      "132100\n",
      "132200\n",
      "132300\n",
      "132400\n",
      "132500\n",
      "132600\n",
      "132700\n",
      "132800\n",
      "132900\n",
      "133000\n",
      "133100\n",
      "133200\n",
      "133300\n",
      "133400\n",
      "133500\n",
      "133600\n",
      "133700\n",
      "133800\n",
      "133900\n",
      "134000\n",
      "134100\n",
      "134200\n",
      "134300\n",
      "134400\n",
      "134500\n",
      "134600\n",
      "134700\n",
      "134800\n",
      "134900\n",
      "135000\n",
      "135100\n",
      "135200\n",
      "135300\n",
      "135400\n",
      "135500\n",
      "135600\n",
      "135700\n",
      "135800\n",
      "135900\n",
      "136000\n",
      "136100\n",
      "136200\n",
      "136300\n",
      "136400\n",
      "136500\n",
      "136600\n",
      "136700\n",
      "136800\n",
      "136900\n",
      "137000\n",
      "137100\n",
      "137200\n",
      "137300\n",
      "137400\n",
      "137500\n",
      "137600\n",
      "137700\n",
      "137800\n",
      "137900\n",
      "138000\n",
      "138100\n",
      "138200\n",
      "138300\n",
      "138400\n",
      "138500\n",
      "138600\n",
      "138700\n",
      "138800\n",
      "138900\n",
      "139000\n",
      "139100\n",
      "139200\n",
      "139300\n",
      "139400\n",
      "139500\n",
      "139600\n",
      "139700\n",
      "139800\n",
      "139900\n",
      "140000\n",
      "140100\n",
      "140200\n",
      "140300\n",
      "140400\n",
      "140500\n",
      "140600\n",
      "140700\n",
      "140800\n",
      "140900\n",
      "141000\n",
      "141100\n",
      "141200\n",
      "141300\n",
      "141400\n",
      "141500\n",
      "141600\n",
      "141700\n",
      "141800\n",
      "141900\n",
      "142000\n",
      "142100\n",
      "142200\n",
      "142300\n",
      "142400\n",
      "142500\n",
      "142600\n",
      "142700\n",
      "142800\n",
      "142900\n",
      "143000\n",
      "143100\n",
      "143200\n",
      "143300\n",
      "143400\n",
      "143500\n",
      "143600\n",
      "143700\n",
      "143800\n",
      "143900\n",
      "144000\n",
      "144100\n",
      "144200\n",
      "144300\n",
      "144400\n",
      "144500\n",
      "144600\n",
      "144700\n",
      "144800\n",
      "144900\n",
      "145000\n",
      "145100\n",
      "145200\n",
      "145300\n",
      "145400\n",
      "145500\n",
      "145600\n",
      "145700\n",
      "145800\n",
      "145900\n",
      "146000\n",
      "146100\n",
      "146200\n",
      "146300\n",
      "146400\n",
      "146500\n",
      "146600\n",
      "146700\n",
      "146800\n",
      "146900\n",
      "147000\n",
      "147100\n",
      "147200\n",
      "147300\n",
      "147400\n",
      "147500\n",
      "147600\n",
      "147700\n",
      "147800\n",
      "147900\n",
      "148000\n",
      "148100\n",
      "148200\n",
      "148300\n",
      "148400\n",
      "148500\n",
      "148600\n",
      "148700\n",
      "148800\n",
      "148900\n",
      "149000\n",
      "149100\n",
      "149200\n",
      "149300\n",
      "149400\n",
      "149500\n",
      "149600\n",
      "149700\n",
      "149800\n",
      "149900\n",
      "150000\n",
      "150100\n",
      "150200\n",
      "150300\n",
      "150400\n",
      "150500\n",
      "150600\n",
      "150700\n",
      "150800\n",
      "150900\n",
      "151000\n",
      "151100\n",
      "151200\n",
      "151300\n",
      "151400\n",
      "151500\n",
      "151600\n",
      "151700\n",
      "151800\n",
      "151900\n",
      "152000\n",
      "152100\n",
      "152200\n",
      "152300\n",
      "152400\n",
      "152500\n",
      "152600\n",
      "152700\n",
      "152800\n",
      "152900\n",
      "153000\n",
      "153100\n",
      "153200\n",
      "153300\n",
      "153400\n",
      "153500\n",
      "153600\n",
      "153700\n",
      "153800\n",
      "153900\n",
      "154000\n",
      "154100\n",
      "154200\n",
      "154300\n",
      "154400\n",
      "154500\n",
      "154600\n",
      "154700\n",
      "154800\n",
      "154900\n",
      "155000\n",
      "155100\n",
      "155200\n",
      "155300\n",
      "155400\n",
      "155500\n",
      "155600\n",
      "155700\n",
      "155800\n",
      "155900\n",
      "156000\n",
      "156100\n",
      "156200\n",
      "156300\n",
      "156400\n",
      "156500\n",
      "156600\n",
      "156700\n",
      "156800\n",
      "156900\n",
      "157000\n",
      "157100\n",
      "157200\n",
      "157300\n",
      "157400\n",
      "157500\n",
      "157600\n",
      "157700\n",
      "157800\n",
      "157900\n",
      "158000\n",
      "158100\n",
      "158200\n",
      "158300\n",
      "158400\n",
      "158500\n",
      "158600\n",
      "158700\n",
      "158800\n",
      "158900\n",
      "159000\n",
      "159100\n",
      "159200\n",
      "159300\n",
      "159400\n",
      "159500\n",
      "159600\n",
      "159700\n",
      "159800\n",
      "159900\n",
      "160000\n",
      "160100\n",
      "160200\n",
      "160300\n",
      "160400\n",
      "160500\n",
      "160600\n",
      "160700\n",
      "160800\n",
      "160900\n",
      "161000\n",
      "161100\n",
      "161200\n",
      "161300\n",
      "161400\n",
      "161500\n",
      "161600\n",
      "161700\n",
      "161800\n",
      "161900\n",
      "162000\n",
      "162100\n",
      "162200\n",
      "162300\n",
      "162400\n",
      "162500\n",
      "162600\n",
      "162700\n",
      "162800\n",
      "162900\n",
      "163000\n",
      "163100\n",
      "163200\n",
      "163300\n",
      "163400\n",
      "163500\n",
      "163600\n",
      "163700\n",
      "163800\n",
      "163900\n",
      "164000\n",
      "164100\n",
      "164200\n",
      "164300\n",
      "164400\n",
      "164500\n",
      "164600\n",
      "164700\n",
      "164800\n",
      "164900\n",
      "165000\n",
      "165100\n",
      "165200\n",
      "165300\n",
      "165400\n",
      "165500\n",
      "165600\n",
      "165700\n",
      "165800\n",
      "165900\n",
      "166000\n",
      "166100\n",
      "166200\n",
      "166300\n",
      "166400\n",
      "166500\n",
      "166600\n",
      "166700\n",
      "166800\n",
      "166900\n",
      "167000\n",
      "167100\n",
      "167200\n",
      "167300\n",
      "167400\n",
      "167500\n",
      "167600\n",
      "167700\n",
      "167800\n",
      "167900\n",
      "168000\n",
      "168100\n",
      "168200\n",
      "168300\n",
      "168400\n",
      "168500\n",
      "168600\n",
      "168700\n",
      "168800\n",
      "168900\n",
      "169000\n",
      "169100\n",
      "169200\n",
      "169300\n",
      "169400\n",
      "169500\n",
      "169600\n",
      "169700\n",
      "169800\n",
      "169900\n",
      "170000\n",
      "170100\n",
      "170200\n",
      "170300\n",
      "170400\n",
      "170500\n",
      "170600\n",
      "170700\n",
      "170800\n",
      "170900\n",
      "171000\n",
      "171100\n",
      "171200\n",
      "171300\n",
      "171400\n",
      "171500\n",
      "171600\n",
      "171700\n",
      "171800\n",
      "171900\n",
      "172000\n",
      "172100\n",
      "172200\n",
      "172300\n",
      "172400\n",
      "172500\n",
      "172600\n",
      "172700\n",
      "172800\n",
      "172900\n",
      "173000\n",
      "173100\n",
      "173200\n",
      "173300\n",
      "173400\n",
      "173500\n",
      "173600\n",
      "173700\n",
      "173800\n",
      "173900\n",
      "174000\n",
      "174100\n",
      "174200\n",
      "174300\n",
      "174400\n",
      "174500\n",
      "174600\n",
      "174700\n",
      "174800\n",
      "174900\n",
      "175000\n",
      "175100\n",
      "175200\n",
      "175300\n",
      "175400\n",
      "175500\n",
      "175600\n",
      "175700\n",
      "175800\n",
      "175900\n",
      "176000\n",
      "176100\n",
      "176200\n",
      "176300\n",
      "176400\n",
      "176500\n",
      "176600\n",
      "176700\n",
      "176800\n",
      "176900\n",
      "177000\n",
      "177100\n",
      "177200\n",
      "177300\n",
      "177400\n",
      "177500\n",
      "177600\n",
      "177700\n",
      "177800\n",
      "177900\n",
      "178000\n",
      "178100\n",
      "178200\n",
      "178300\n",
      "178400\n",
      "178500\n",
      "178600\n",
      "178700\n",
      "178800\n",
      "178900\n",
      "179000\n",
      "179100\n",
      "179200\n",
      "179300\n",
      "179400\n",
      "179500\n",
      "179600\n",
      "179700\n",
      "179800\n",
      "179900\n",
      "180000\n",
      "180100\n",
      "180200\n",
      "180300\n",
      "180400\n",
      "180500\n",
      "180600\n",
      "180700\n",
      "180800\n",
      "180900\n",
      "181000\n",
      "181100\n",
      "181200\n",
      "181300\n",
      "181400\n",
      "181500\n",
      "181600\n",
      "181700\n",
      "181800\n",
      "181900\n",
      "182000\n",
      "182100\n",
      "182200\n",
      "182300\n",
      "182400\n",
      "182500\n",
      "182600\n",
      "182700\n",
      "182800\n",
      "182900\n",
      "183000\n",
      "183100\n",
      "183200\n",
      "183300\n",
      "183400\n",
      "183500\n",
      "183600\n",
      "183700\n",
      "183800\n",
      "183900\n",
      "184000\n",
      "184100\n",
      "184200\n",
      "184300\n",
      "184400\n",
      "184500\n",
      "184600\n",
      "184700\n",
      "184800\n",
      "184900\n",
      "185000\n",
      "185100\n",
      "185200\n",
      "185300\n",
      "185400\n",
      "185500\n",
      "185600\n",
      "185700\n",
      "185800\n",
      "185900\n",
      "186000\n",
      "186100\n",
      "186200\n",
      "186300\n",
      "186400\n",
      "186500\n",
      "186600\n",
      "186700\n",
      "186800\n",
      "186900\n",
      "187000\n",
      "187100\n",
      "187200\n",
      "187300\n",
      "187400\n",
      "187500\n",
      "187600\n",
      "187700\n",
      "187800\n",
      "187900\n",
      "188000\n",
      "188100\n",
      "188200\n",
      "188300\n",
      "188400\n",
      "188500\n",
      "188600\n",
      "188700\n"
     ]
    },
    {
     "name": "stdout",
     "output_type": "stream",
     "text": [
      "188800\n",
      "188900\n",
      "189000\n",
      "189100\n",
      "189200\n",
      "189300\n",
      "189400\n",
      "189500\n",
      "189600\n",
      "189700\n",
      "189800\n",
      "189900\n",
      "190000\n",
      "190100\n",
      "190200\n",
      "190300\n",
      "190400\n",
      "190500\n",
      "190600\n",
      "190700\n",
      "190800\n",
      "190900\n",
      "191000\n",
      "191100\n",
      "191200\n",
      "191300\n",
      "191400\n",
      "191500\n",
      "191600\n",
      "191700\n",
      "191800\n",
      "191900\n",
      "192000\n",
      "192100\n",
      "192200\n",
      "192300\n",
      "192400\n",
      "192500\n",
      "192600\n",
      "192700\n",
      "192800\n",
      "192900\n",
      "193000\n",
      "193100\n",
      "193200\n",
      "193300\n",
      "193400\n",
      "193500\n",
      "193600\n",
      "193700\n",
      "193800\n",
      "193900\n",
      "194000\n",
      "194100\n",
      "194200\n",
      "194300\n",
      "194400\n",
      "194500\n",
      "194600\n",
      "194700\n",
      "194800\n",
      "194900\n",
      "195000\n",
      "195100\n",
      "195200\n",
      "195300\n",
      "195400\n",
      "195500\n",
      "195600\n",
      "195700\n",
      "195800\n",
      "195900\n",
      "196000\n",
      "196100\n",
      "196200\n",
      "196300\n",
      "196400\n",
      "196500\n",
      "196600\n",
      "196700\n",
      "196800\n",
      "196900\n",
      "197000\n",
      "197100\n",
      "197200\n",
      "197300\n",
      "197400\n",
      "197500\n",
      "197600\n",
      "197700\n",
      "197800\n",
      "197900\n",
      "198000\n",
      "198100\n",
      "198200\n",
      "198300\n",
      "198400\n",
      "198500\n",
      "198600\n",
      "198700\n",
      "198800\n",
      "198900\n",
      "199000\n",
      "199100\n",
      "199200\n",
      "199300\n",
      "199400\n",
      "199500\n",
      "199600\n",
      "199700\n",
      "199800\n",
      "199900\n",
      "200000\n",
      "200100\n",
      "200200\n",
      "200300\n",
      "200400\n",
      "200500\n",
      "200600\n",
      "200700\n",
      "200800\n",
      "200900\n",
      "201000\n",
      "201100\n",
      "201200\n",
      "201300\n",
      "201400\n",
      "201500\n",
      "201600\n",
      "201700\n",
      "201800\n",
      "201900\n",
      "202000\n",
      "202100\n",
      "202200\n",
      "202300\n",
      "202400\n",
      "202500\n",
      "202600\n",
      "202700\n",
      "202800\n",
      "202900\n",
      "203000\n",
      "203100\n",
      "203200\n",
      "203300\n",
      "203400\n",
      "203500\n",
      "203600\n",
      "203700\n",
      "203800\n",
      "203900\n",
      "204000\n",
      "204100\n",
      "204200\n",
      "204300\n",
      "204400\n",
      "204500\n",
      "204600\n",
      "204700\n",
      "204800\n",
      "204900\n",
      "205000\n",
      "205100\n",
      "205200\n",
      "205300\n",
      "205400\n",
      "205500\n",
      "205600\n",
      "205700\n",
      "205800\n",
      "205900\n",
      "206000\n",
      "206100\n",
      "206200\n",
      "206300\n",
      "206400\n",
      "206500\n",
      "206600\n",
      "206700\n",
      "206800\n",
      "206900\n",
      "207000\n",
      "207100\n",
      "207200\n",
      "207300\n",
      "207400\n",
      "207500\n",
      "207600\n",
      "207700\n",
      "207800\n",
      "207900\n",
      "208000\n",
      "208100\n",
      "208200\n",
      "208300\n",
      "208400\n",
      "208500\n",
      "208600\n",
      "208700\n",
      "208800\n",
      "208900\n",
      "209000\n",
      "209100\n",
      "209200\n",
      "209300\n",
      "209400\n",
      "209500\n",
      "209600\n",
      "209700\n",
      "209800\n",
      "209900\n",
      "210000\n",
      "210100\n",
      "210200\n",
      "210300\n",
      "210400\n",
      "210500\n",
      "210600\n",
      "210700\n",
      "210800\n",
      "210900\n",
      "211000\n",
      "211100\n",
      "211200\n",
      "211300\n",
      "211400\n",
      "211500\n",
      "211600\n",
      "211700\n",
      "211800\n",
      "211900\n",
      "212000\n",
      "212100\n",
      "212200\n",
      "212300\n",
      "212400\n",
      "212500\n",
      "212600\n",
      "212700\n",
      "212800\n",
      "212900\n",
      "213000\n",
      "213100\n",
      "213200\n",
      "213300\n",
      "213400\n",
      "213500\n",
      "213600\n",
      "213700\n",
      "213800\n",
      "213900\n",
      "214000\n",
      "214100\n",
      "214200\n",
      "214300\n",
      "214400\n",
      "214500\n",
      "214600\n",
      "214700\n",
      "214800\n",
      "214900\n",
      "215000\n",
      "215100\n",
      "215200\n",
      "215300\n",
      "215400\n",
      "215500\n",
      "215600\n",
      "215700\n",
      "215800\n",
      "215900\n",
      "216000\n",
      "216100\n",
      "216200\n",
      "216300\n",
      "216400\n",
      "216500\n",
      "216600\n",
      "216700\n",
      "216800\n",
      "216900\n",
      "217000\n",
      "217100\n",
      "217200\n",
      "217300\n",
      "217400\n",
      "217500\n",
      "217600\n",
      "217700\n",
      "217800\n",
      "217900\n",
      "218000\n",
      "218100\n",
      "218200\n",
      "218300\n",
      "218400\n",
      "218500\n",
      "218600\n",
      "218700\n",
      "218800\n",
      "218900\n",
      "219000\n",
      "219100\n",
      "219200\n",
      "219300\n",
      "219400\n",
      "219500\n",
      "219600\n",
      "219700\n",
      "219800\n",
      "219900\n",
      "220000\n",
      "220100\n",
      "220200\n",
      "220300\n",
      "220400\n",
      "220500\n",
      "220600\n",
      "220700\n",
      "220800\n",
      "220900\n",
      "221000\n",
      "221100\n",
      "221200\n",
      "221300\n",
      "221400\n",
      "221500\n",
      "221600\n",
      "221700\n",
      "221800\n",
      "221900\n",
      "222000\n",
      "222100\n",
      "222200\n",
      "222300\n",
      "222400\n",
      "222500\n",
      "222600\n",
      "222700\n",
      "222800\n",
      "222900\n",
      "223000\n",
      "223100\n",
      "223200\n",
      "223300\n",
      "223400\n",
      "223500\n",
      "223600\n",
      "223700\n",
      "223800\n",
      "223900\n",
      "224000\n",
      "224100\n",
      "224200\n",
      "224300\n",
      "224400\n",
      "224500\n",
      "224600\n",
      "224700\n",
      "224800\n",
      "224900\n",
      "225000\n",
      "225100\n",
      "225200\n",
      "225300\n",
      "225400\n",
      "225500\n",
      "225600\n",
      "225700\n",
      "225800\n",
      "225900\n",
      "226000\n",
      "226100\n",
      "226200\n",
      "226300\n",
      "226400\n",
      "226500\n",
      "226600\n",
      "226700\n",
      "226800\n",
      "226900\n",
      "227000\n",
      "227100\n",
      "227200\n",
      "227300\n",
      "227400\n",
      "227500\n",
      "227600\n",
      "227700\n",
      "227800\n",
      "227900\n",
      "228000\n",
      "228100\n",
      "228200\n",
      "228300\n",
      "228400\n",
      "228500\n",
      "228600\n",
      "228700\n",
      "228800\n",
      "228900\n",
      "229000\n",
      "229100\n",
      "229200\n",
      "229300\n",
      "229400\n",
      "229500\n",
      "229600\n",
      "229700\n",
      "229800\n",
      "229900\n",
      "230000\n",
      "230100\n",
      "230200\n",
      "230300\n",
      "230400\n",
      "230500\n",
      "230600\n",
      "230700\n",
      "230800\n",
      "230900\n",
      "231000\n",
      "231100\n",
      "231200\n",
      "231300\n",
      "231400\n",
      "231500\n",
      "231600\n",
      "231700\n",
      "231800\n",
      "231900\n",
      "232000\n",
      "232100\n",
      "232200\n",
      "232300\n",
      "232400\n",
      "232500\n",
      "232600\n",
      "232700\n",
      "232800\n",
      "232900\n",
      "233000\n",
      "233100\n",
      "233200\n",
      "233300\n",
      "233400\n",
      "233500\n",
      "233600\n",
      "233700\n",
      "233800\n",
      "233900\n",
      "234000\n",
      "234100\n",
      "234200\n",
      "234300\n",
      "234400\n",
      "234500\n",
      "234600\n",
      "234700\n",
      "234800\n",
      "234900\n",
      "235000\n",
      "235100\n",
      "235200\n",
      "235300\n",
      "235400\n",
      "235500\n",
      "235600\n",
      "235700\n",
      "235800\n",
      "235900\n",
      "236000\n",
      "236100\n",
      "236200\n",
      "236300\n",
      "236400\n",
      "236500\n",
      "236600\n",
      "236700\n",
      "236800\n",
      "236900\n",
      "237000\n",
      "237100\n",
      "237200\n",
      "237300\n",
      "237400\n",
      "237500\n",
      "237600\n",
      "237700\n",
      "237800\n",
      "237900\n",
      "238000\n",
      "238100\n",
      "238200\n",
      "238300\n",
      "238400\n",
      "238500\n",
      "238600\n",
      "238700\n",
      "238800\n",
      "238900\n",
      "239000\n",
      "239100\n",
      "239200\n",
      "239300\n",
      "239400\n",
      "239500\n",
      "239600\n",
      "239700\n",
      "239800\n",
      "239900\n",
      "240000\n",
      "240100\n",
      "240200\n",
      "240300\n",
      "240400\n",
      "240500\n",
      "240600\n",
      "240700\n",
      "240800\n",
      "240900\n",
      "241000\n",
      "241100\n",
      "241200\n",
      "241300\n",
      "241400\n",
      "241500\n",
      "241600\n",
      "241700\n",
      "241800\n",
      "241900\n",
      "242000\n",
      "242100\n",
      "242200\n",
      "242300\n",
      "242400\n",
      "242500\n",
      "242600\n",
      "242700\n",
      "242800\n",
      "242900\n",
      "243000\n",
      "243100\n",
      "243200\n",
      "243300\n",
      "243400\n",
      "243500\n",
      "243600\n",
      "243700\n",
      "243800\n",
      "243900\n",
      "244000\n",
      "244100\n",
      "244200\n",
      "244300\n",
      "244400\n",
      "244500\n",
      "244600\n",
      "244700\n",
      "244800\n",
      "244900\n",
      "245000\n",
      "245100\n",
      "245200\n",
      "245300\n",
      "245400\n",
      "245500\n",
      "245600\n",
      "245700\n",
      "245800\n",
      "245900\n",
      "246000\n",
      "246100\n",
      "246200\n",
      "246300\n",
      "246400\n",
      "246500\n",
      "246600\n",
      "246700\n",
      "246800\n",
      "246900\n",
      "247000\n",
      "247100\n",
      "247200\n",
      "247300\n",
      "247400\n",
      "247500\n",
      "247600\n",
      "247700\n",
      "247800\n",
      "247900\n",
      "248000\n",
      "248100\n",
      "248200\n",
      "248300\n",
      "248400\n",
      "248500\n",
      "248600\n",
      "248700\n",
      "248800\n",
      "248900\n",
      "249000\n",
      "249100\n",
      "249200\n",
      "249300\n",
      "249400\n",
      "249500\n",
      "249600\n",
      "249700\n",
      "249800\n",
      "249900\n",
      "250000\n",
      "250100\n",
      "250200\n",
      "250300\n",
      "250400\n",
      "250500\n",
      "250600\n",
      "250700\n",
      "250800\n",
      "250900\n",
      "251000\n",
      "251100\n",
      "251200\n",
      "251300\n",
      "251400\n",
      "251500\n",
      "251600\n",
      "251700\n",
      "251800\n",
      "251900\n",
      "252000\n",
      "252100\n",
      "252200\n",
      "252300\n",
      "252400\n",
      "252500\n",
      "252600\n",
      "252700\n",
      "252800\n",
      "252900\n",
      "253000\n",
      "253100\n",
      "253200\n",
      "253300\n",
      "253400\n",
      "253500\n",
      "253600\n",
      "253700\n",
      "253800\n",
      "253900\n",
      "254000\n",
      "254100\n",
      "254200\n",
      "254300\n",
      "254400\n",
      "254500\n",
      "254600\n",
      "254700\n",
      "254800\n",
      "254900\n",
      "255000\n",
      "255100\n",
      "255200\n",
      "255300\n",
      "255400\n",
      "255500\n",
      "255600\n",
      "255700\n",
      "255800\n",
      "255900\n",
      "256000\n",
      "256100\n",
      "256200\n",
      "256300\n",
      "256400\n",
      "256500\n",
      "256600\n",
      "256700\n",
      "256800\n",
      "256900\n",
      "257000\n",
      "257100\n",
      "257200\n",
      "257300\n",
      "257400\n",
      "257500\n",
      "257600\n",
      "257700\n",
      "257800\n",
      "257900\n",
      "258000\n",
      "258100\n",
      "258200\n",
      "258300\n",
      "258400\n",
      "258500\n",
      "258600\n",
      "258700\n",
      "258800\n",
      "258900\n",
      "259000\n",
      "259100\n",
      "259200\n",
      "259300\n",
      "259400\n",
      "259500\n",
      "259600\n",
      "259700\n",
      "259800\n",
      "259900\n",
      "260000\n",
      "260100\n",
      "260200\n",
      "260300\n",
      "260400\n",
      "260500\n",
      "260600\n",
      "260700\n",
      "260800\n",
      "260900\n",
      "261000\n",
      "261100\n",
      "261200\n",
      "261300\n",
      "261400\n",
      "261500\n",
      "261600\n",
      "261700\n",
      "261800\n",
      "261900\n",
      "262000\n",
      "262100\n",
      "262200\n",
      "262300\n",
      "262400\n",
      "262500\n",
      "262600\n",
      "262700\n",
      "262800\n",
      "262900\n",
      "263000\n",
      "263100\n",
      "263200\n",
      "263300\n",
      "263400\n",
      "263500\n",
      "263600\n",
      "263700\n",
      "263800\n",
      "263900\n",
      "264000\n",
      "264100\n",
      "264200\n",
      "264300\n",
      "264400\n",
      "264500\n",
      "264600\n",
      "264700\n",
      "264800\n",
      "264900\n",
      "265000\n",
      "265100\n",
      "265200\n",
      "265300\n",
      "265400\n",
      "265500\n",
      "265600\n",
      "265700\n",
      "265800\n",
      "265900\n",
      "266000\n",
      "266100\n",
      "266200\n",
      "266300\n",
      "266400\n",
      "266500\n",
      "266600\n",
      "266700\n",
      "266800\n",
      "266900\n",
      "267000\n",
      "267100\n",
      "267200\n",
      "267300\n",
      "267400\n",
      "267500\n",
      "267600\n",
      "267700\n",
      "267800\n",
      "267900\n",
      "268000\n",
      "268100\n",
      "268200\n",
      "268300\n",
      "268400\n",
      "268500\n",
      "268600\n",
      "268700\n",
      "268800\n",
      "268900\n",
      "269000\n",
      "269100\n",
      "269200\n",
      "269300\n",
      "269400\n",
      "269500\n",
      "269600\n",
      "269700\n",
      "269800\n",
      "269900\n",
      "270000\n",
      "270100\n",
      "270200\n",
      "270300\n",
      "270400\n",
      "270500\n",
      "270600\n",
      "270700\n",
      "270800\n",
      "270900\n",
      "271000\n",
      "271100\n",
      "271200\n",
      "271300\n",
      "271400\n",
      "271500\n",
      "271600\n",
      "271700\n",
      "271800\n",
      "271900\n",
      "272000\n",
      "272100\n",
      "272200\n",
      "272300\n",
      "272400\n",
      "272500\n",
      "272600\n",
      "272700\n",
      "272800\n",
      "272900\n",
      "273000\n",
      "273100\n",
      "273200\n",
      "273300\n",
      "273400\n",
      "273500\n",
      "273600\n",
      "273700\n",
      "273800\n",
      "273900\n",
      "274000\n",
      "274100\n",
      "274200\n",
      "274300\n",
      "274400\n",
      "274500\n",
      "274600\n",
      "274700\n",
      "274800\n",
      "274900\n",
      "275000\n",
      "275100\n",
      "275200\n",
      "275300\n",
      "275400\n",
      "275500\n",
      "275600\n",
      "275700\n",
      "275800\n",
      "275900\n",
      "276000\n",
      "276100\n",
      "276200\n",
      "276300\n",
      "276400\n",
      "276500\n",
      "276600\n",
      "276700\n",
      "276800\n",
      "276900\n",
      "277000\n",
      "277100\n",
      "277200\n",
      "277300\n",
      "277400\n",
      "277500\n",
      "277600\n",
      "277700\n",
      "277800\n",
      "277900\n",
      "278000\n",
      "278100\n",
      "278200\n",
      "278300\n",
      "278400\n",
      "278500\n",
      "278600\n",
      "278700\n",
      "278800\n",
      "278900\n",
      "279000\n",
      "279100\n",
      "279200\n",
      "279300\n",
      "279400\n",
      "279500\n",
      "279600\n",
      "279700\n",
      "279800\n",
      "279900\n",
      "280000\n",
      "280100\n",
      "280200\n",
      "280300\n",
      "280400\n",
      "280500\n",
      "280600\n",
      "280700\n",
      "280800\n",
      "280900\n",
      "281000\n",
      "281100\n",
      "281200\n",
      "281300\n",
      "281400\n",
      "281500\n",
      "281600\n",
      "281700\n",
      "281800\n",
      "281900\n",
      "282000\n",
      "282100\n",
      "282200\n",
      "282300\n",
      "282400\n",
      "282500\n",
      "282600\n",
      "282700\n",
      "282800\n",
      "282900\n",
      "283000\n",
      "283100\n",
      "283200\n",
      "283300\n",
      "283400\n",
      "283500\n",
      "283600\n",
      "283700\n",
      "283800\n",
      "283900\n",
      "284000\n",
      "284100\n",
      "284200\n",
      "284300\n",
      "284400\n",
      "284500\n",
      "284600\n",
      "284700\n",
      "284800\n",
      "284900\n",
      "285000\n",
      "285100\n",
      "285200\n",
      "285300\n",
      "285400\n",
      "285500\n",
      "285600\n",
      "285700\n",
      "285800\n",
      "285900\n",
      "286000\n",
      "286100\n",
      "286200\n",
      "286300\n",
      "286400\n",
      "286500\n",
      "286600\n",
      "286700\n",
      "286800\n",
      "286900\n",
      "287000\n",
      "287100\n",
      "287200\n",
      "287300\n",
      "287400\n",
      "287500\n",
      "287600\n",
      "287700\n",
      "287800\n",
      "287900\n",
      "288000\n",
      "288100\n",
      "288200\n",
      "288300\n",
      "288400\n",
      "288500\n",
      "288600\n",
      "288700\n",
      "288800\n",
      "288900\n",
      "289000\n",
      "289100\n",
      "289200\n",
      "289300\n",
      "289400\n",
      "289500\n",
      "289600\n",
      "289700\n",
      "289800\n",
      "289900\n",
      "290000\n",
      "290100\n",
      "290200\n",
      "290300\n",
      "290400\n",
      "290500\n",
      "290600\n",
      "290700\n",
      "290800\n",
      "290900\n",
      "291000\n",
      "291100\n",
      "291200\n",
      "291300\n",
      "291400\n",
      "291500\n",
      "291600\n",
      "291700\n",
      "291800\n",
      "291900\n",
      "292000\n",
      "292100\n",
      "292200\n",
      "292300\n",
      "292400\n",
      "292500\n",
      "292600\n",
      "292700\n",
      "292800\n",
      "292900\n",
      "293000\n",
      "293100\n",
      "293200\n",
      "293300\n",
      "293400\n",
      "293500\n",
      "293600\n",
      "293700\n",
      "293800\n",
      "293900\n",
      "294000\n",
      "294100\n",
      "294200\n",
      "294300\n",
      "294400\n",
      "294500\n",
      "294600\n",
      "294700\n",
      "294800\n",
      "294900\n",
      "295000\n",
      "295100\n",
      "295200\n",
      "295300\n",
      "295400\n",
      "295500\n",
      "295600\n",
      "295700\n",
      "295800\n",
      "295900\n",
      "296000\n",
      "296100\n",
      "296200\n",
      "296300\n",
      "296400\n",
      "296500\n",
      "296600\n",
      "296700\n",
      "296800\n",
      "296900\n",
      "297000\n",
      "297100\n",
      "297200\n",
      "297300\n",
      "297400\n",
      "297500\n",
      "297600\n",
      "297700\n",
      "297800\n",
      "297900\n",
      "298000\n",
      "298100\n",
      "298200\n",
      "298300\n",
      "298400\n",
      "298500\n",
      "298600\n",
      "298700\n",
      "298800\n",
      "298900\n",
      "299000\n",
      "299100\n",
      "299200\n",
      "299300\n",
      "299400\n",
      "299500\n",
      "299600\n",
      "299700\n",
      "299800\n",
      "299900\n",
      "300000\n",
      "300100\n",
      "300200\n",
      "300300\n",
      "300400\n",
      "300500\n",
      "300600\n",
      "300700\n",
      "300800\n",
      "300900\n",
      "301000\n",
      "301100\n",
      "301200\n",
      "301300\n",
      "301400\n",
      "301500\n",
      "301600\n",
      "301700\n",
      "301800\n",
      "301900\n",
      "302000\n",
      "302100\n",
      "302200\n",
      "302300\n",
      "302400\n",
      "302500\n",
      "302600\n",
      "302700\n",
      "302800\n",
      "302900\n",
      "303000\n",
      "303100\n",
      "303200\n",
      "303300\n",
      "303400\n",
      "303500\n",
      "303600\n",
      "303700\n",
      "303800\n",
      "303900\n",
      "304000\n",
      "304100\n",
      "304200\n",
      "304300\n",
      "304400\n",
      "304500\n",
      "304600\n",
      "304700\n",
      "304800\n",
      "304900\n",
      "305000\n",
      "305100\n",
      "305200\n",
      "305300\n",
      "305400\n",
      "305500\n",
      "305600\n",
      "305700\n",
      "305800\n",
      "305900\n",
      "306000\n",
      "306100\n",
      "306200\n",
      "306300\n",
      "306400\n",
      "306500\n",
      "306600\n",
      "306700\n",
      "306800\n",
      "306900\n",
      "307000\n",
      "307100\n",
      "307200\n",
      "307300\n",
      "307400\n",
      "307500\n",
      "307600\n",
      "307700\n",
      "307800\n",
      "307900\n",
      "308000\n",
      "308100\n",
      "308200\n",
      "308300\n",
      "308400\n",
      "308500\n",
      "308600\n",
      "308700\n",
      "308800\n",
      "308900\n",
      "309000\n",
      "309100\n",
      "309200\n",
      "309300\n",
      "309400\n",
      "309500\n",
      "309600\n",
      "309700\n",
      "309800\n",
      "309900\n",
      "310000\n",
      "310100\n",
      "310200\n",
      "310300\n",
      "310400\n",
      "310500\n",
      "310600\n",
      "310700\n",
      "310800\n",
      "310900\n",
      "311000\n",
      "311100\n",
      "311200\n",
      "311300\n",
      "311400\n",
      "311500\n",
      "311600\n",
      "311700\n",
      "311800\n",
      "311900\n",
      "312000\n",
      "312100\n",
      "312200\n",
      "312300\n",
      "312400\n",
      "312500\n",
      "312600\n",
      "312700\n",
      "312800\n",
      "312900\n",
      "313000\n",
      "313100\n",
      "313200\n",
      "313300\n",
      "313400\n",
      "313500\n",
      "313600\n",
      "313700\n",
      "313800\n",
      "313900\n",
      "314000\n",
      "314100\n",
      "314200\n",
      "314300\n",
      "314400\n",
      "314500\n",
      "314600\n",
      "314700\n",
      "314800\n",
      "314900\n",
      "315000\n",
      "315100\n",
      "315200\n",
      "315300\n",
      "315400\n",
      "315500\n",
      "315600\n",
      "315700\n",
      "315800\n",
      "315900\n",
      "316000\n",
      "316100\n",
      "316200\n",
      "316300\n",
      "316400\n",
      "316500\n",
      "316600\n",
      "316700\n",
      "316800\n",
      "316900\n",
      "317000\n",
      "317100\n",
      "317200\n",
      "317300\n",
      "317400\n",
      "317500\n",
      "317600\n",
      "317700\n",
      "317800\n",
      "317900\n",
      "318000\n",
      "318100\n",
      "318200\n",
      "318300\n",
      "318400\n",
      "318500\n",
      "318600\n",
      "318700\n",
      "318800\n",
      "318900\n",
      "319000\n",
      "319100\n",
      "319200\n",
      "319300\n",
      "319400\n",
      "319500\n",
      "319600\n",
      "319700\n",
      "319800\n",
      "319900\n",
      "320000\n",
      "320100\n",
      "320200\n",
      "320300\n",
      "320400\n",
      "320500\n",
      "320600\n",
      "320700\n",
      "320800\n",
      "320900\n",
      "321000\n",
      "321100\n",
      "321200\n",
      "321300\n",
      "321400\n",
      "321500\n",
      "321600\n",
      "321700\n",
      "321800\n",
      "321900\n",
      "322000\n",
      "322100\n",
      "322200\n",
      "322300\n",
      "322400\n",
      "322500\n",
      "322600\n",
      "322700\n",
      "322800\n",
      "322900\n",
      "323000\n",
      "323100\n",
      "323200\n",
      "323300\n",
      "323400\n",
      "323500\n",
      "323600\n",
      "323700\n",
      "323800\n",
      "323900\n",
      "324000\n",
      "324100\n",
      "324200\n",
      "324300\n",
      "324400\n",
      "324500\n",
      "324600\n",
      "324700\n",
      "324800\n",
      "324900\n",
      "325000\n",
      "325100\n",
      "325200\n",
      "325300\n",
      "325400\n",
      "325500\n",
      "325600\n",
      "325700\n",
      "325800\n",
      "325900\n",
      "326000\n",
      "326100\n",
      "326200\n",
      "326300\n",
      "326400\n",
      "326500\n",
      "326600\n",
      "326700\n",
      "326800\n",
      "326900\n",
      "327000\n",
      "327100\n",
      "327200\n",
      "327300\n",
      "327400\n",
      "327500\n",
      "327600\n",
      "327700\n",
      "327800\n",
      "327900\n",
      "328000\n",
      "328100\n",
      "328200\n",
      "328300\n",
      "328400\n",
      "328500\n",
      "328600\n",
      "328700\n",
      "328800\n",
      "328900\n",
      "329000\n",
      "329100\n",
      "329200\n",
      "329300\n",
      "329400\n",
      "329500\n",
      "329600\n",
      "329700\n",
      "329800\n",
      "329900\n",
      "330000\n",
      "330100\n",
      "330200\n",
      "330300\n",
      "330400\n",
      "330500\n",
      "330600\n",
      "330700\n",
      "330800\n",
      "330900\n",
      "331000\n",
      "331100\n",
      "331200\n",
      "331300\n",
      "331400\n",
      "331500\n",
      "331600\n",
      "331700\n",
      "331800\n",
      "331900\n",
      "332000\n",
      "332100\n",
      "332200\n",
      "332300\n",
      "332400\n",
      "332500\n",
      "332600\n",
      "332700\n",
      "332800\n",
      "332900\n",
      "333000\n",
      "333100\n",
      "333200\n",
      "333300\n",
      "333400\n",
      "333500\n",
      "333600\n",
      "333700\n",
      "333800\n",
      "333900\n",
      "334000\n",
      "334100\n",
      "334200\n",
      "334300\n",
      "334400\n",
      "334500\n",
      "334600\n",
      "334700\n",
      "334800\n",
      "334900\n",
      "335000\n",
      "335100\n",
      "335200\n",
      "335300\n",
      "335400\n",
      "335500\n",
      "335600\n",
      "335700\n",
      "335800\n",
      "335900\n",
      "336000\n",
      "336100\n",
      "336200\n",
      "336300\n",
      "336400\n",
      "336500\n",
      "336600\n",
      "336700\n",
      "336800\n",
      "336900\n",
      "337000\n",
      "337100\n",
      "337200\n",
      "337300\n",
      "337400\n",
      "337500\n",
      "337600\n",
      "337700\n",
      "337800\n",
      "337900\n",
      "338000\n",
      "338100\n",
      "338200\n",
      "338300\n",
      "338400\n",
      "338500\n",
      "338600\n",
      "338700\n",
      "338800\n",
      "338900\n",
      "339000\n",
      "339100\n",
      "339200\n",
      "339300\n",
      "339400\n",
      "339500\n",
      "339600\n",
      "339700\n",
      "339800\n",
      "339900\n",
      "340000\n",
      "340100\n",
      "340200\n",
      "340300\n",
      "340400\n",
      "340500\n",
      "340600\n",
      "340700\n",
      "340800\n",
      "340900\n",
      "341000\n",
      "341100\n",
      "341200\n",
      "341300\n",
      "341400\n",
      "341500\n",
      "341600\n",
      "341700\n",
      "341800\n",
      "341900\n",
      "342000\n",
      "342100\n",
      "342200\n",
      "342300\n",
      "342400\n",
      "342500\n",
      "342600\n",
      "342700\n",
      "342800\n",
      "342900\n",
      "343000\n",
      "343100\n",
      "343200\n",
      "343300\n",
      "343400\n",
      "343500\n",
      "343600\n",
      "343700\n",
      "343800\n",
      "343900\n",
      "344000\n",
      "344100\n",
      "344200\n",
      "344300\n",
      "344400\n",
      "344500\n",
      "344600\n",
      "344700\n",
      "344800\n",
      "344900\n",
      "345000\n",
      "345100\n",
      "345200\n",
      "345300\n",
      "345400\n",
      "345500\n",
      "345600\n",
      "345700\n",
      "345800\n",
      "345900\n",
      "346000\n",
      "346100\n",
      "346200\n",
      "346300\n",
      "346400\n",
      "346500\n",
      "346600\n",
      "346700\n",
      "346800\n",
      "346900\n",
      "347000\n",
      "347100\n",
      "347200\n",
      "347300\n",
      "347400\n",
      "347500\n",
      "347600\n",
      "347700\n",
      "347800\n",
      "347900\n",
      "348000\n",
      "348100\n",
      "348200\n",
      "348300\n",
      "348400\n",
      "348500\n",
      "348600\n",
      "348700\n",
      "348800\n",
      "348900\n",
      "349000\n",
      "349100\n",
      "349200\n",
      "349300\n",
      "349400\n",
      "349500\n",
      "349600\n",
      "349700\n",
      "349800\n",
      "349900\n",
      "350000\n",
      "350100\n",
      "350200\n",
      "350300\n",
      "350400\n",
      "350500\n",
      "350600\n",
      "350700\n",
      "350800\n",
      "350900\n",
      "351000\n",
      "351100\n",
      "351200\n",
      "351300\n",
      "351400\n",
      "351500\n",
      "351600\n",
      "351700\n",
      "351800\n",
      "351900\n",
      "352000\n",
      "352100\n",
      "352200\n",
      "352300\n",
      "352400\n",
      "352500\n",
      "352600\n",
      "352700\n",
      "352800\n",
      "352900\n",
      "353000\n",
      "353100\n",
      "353200\n",
      "353300\n",
      "353400\n",
      "353500\n",
      "353600\n",
      "353700\n",
      "353800\n",
      "353900\n",
      "354000\n",
      "354100\n",
      "354200\n",
      "354300\n",
      "354400\n",
      "354500\n",
      "354600\n",
      "354700\n",
      "354800\n",
      "354900\n",
      "355000\n",
      "355100\n",
      "355200\n",
      "355300\n",
      "355400\n",
      "355500\n",
      "355600\n",
      "355700\n",
      "355800\n",
      "355900\n",
      "356000\n",
      "356100\n",
      "356200\n",
      "356300\n",
      "356400\n",
      "356500\n",
      "356600\n",
      "356700\n",
      "356800\n",
      "356900\n",
      "357000\n",
      "357100\n",
      "357200\n",
      "357300\n",
      "357400\n",
      "357500\n",
      "357600\n",
      "357700\n",
      "357800\n",
      "357900\n",
      "358000\n",
      "358100\n",
      "358200\n",
      "358300\n",
      "358400\n",
      "358500\n",
      "358600\n",
      "358700\n",
      "358800\n",
      "358900\n",
      "359000\n",
      "359100\n",
      "359200\n",
      "359300\n",
      "359400\n",
      "359500\n",
      "359600\n",
      "359700\n",
      "359800\n",
      "359900\n",
      "360000\n",
      "360100\n",
      "360200\n",
      "360300\n",
      "360400\n",
      "360500\n",
      "360600\n",
      "360700\n",
      "360800\n",
      "360900\n",
      "361000\n",
      "361100\n",
      "361200\n",
      "361300\n",
      "361400\n",
      "361500\n",
      "361600\n",
      "361700\n",
      "361800\n",
      "361900\n",
      "362000\n",
      "362100\n",
      "362200\n",
      "362300\n",
      "362400\n",
      "362500\n",
      "362600\n",
      "362700\n",
      "362800\n",
      "362900\n",
      "363000\n",
      "363100\n",
      "363200\n",
      "363300\n",
      "363400\n",
      "363500\n",
      "363600\n",
      "363700\n",
      "363800\n",
      "363900\n",
      "364000\n",
      "364100\n",
      "364200\n",
      "364300\n",
      "364400\n",
      "364500\n",
      "364600\n",
      "364700\n",
      "364800\n",
      "364900\n",
      "365000\n",
      "365100\n",
      "365200\n",
      "365300\n",
      "365400\n",
      "365500\n",
      "365600\n",
      "365700\n",
      "365800\n",
      "365900\n",
      "366000\n",
      "366100\n",
      "366200\n",
      "366300\n",
      "366400\n",
      "366500\n",
      "366600\n",
      "366700\n",
      "366800\n",
      "366900\n",
      "367000\n",
      "367100\n",
      "367200\n",
      "367300\n",
      "367400\n",
      "367500\n",
      "367600\n",
      "367700\n",
      "367800\n",
      "367900\n",
      "368000\n",
      "368100\n",
      "368200\n",
      "368300\n",
      "368400\n",
      "368500\n",
      "368600\n",
      "368700\n",
      "368800\n",
      "368900\n",
      "369000\n",
      "369100\n",
      "369200\n",
      "369300\n",
      "369400\n",
      "369500\n",
      "369600\n",
      "369700\n",
      "369800\n",
      "369900\n",
      "370000\n",
      "370100\n",
      "370200\n",
      "370300\n",
      "370400\n",
      "370500\n",
      "370600\n",
      "370700\n",
      "370800\n",
      "370900\n",
      "371000\n",
      "371100\n",
      "371200\n",
      "371300\n",
      "371400\n",
      "371500\n",
      "371600\n",
      "371700\n",
      "371800\n",
      "371900\n",
      "372000\n",
      "372100\n",
      "372200\n",
      "372300\n",
      "372400\n",
      "372500\n",
      "372600\n",
      "372700\n",
      "372800\n",
      "372900\n",
      "373000\n",
      "373100\n",
      "373200\n",
      "373300\n",
      "373400\n",
      "373500\n",
      "373600\n",
      "373700\n",
      "373800\n",
      "373900\n",
      "374000\n",
      "374100\n",
      "374200\n",
      "374300\n",
      "374400\n",
      "374500\n",
      "374600\n",
      "374700\n",
      "374800\n",
      "374900\n",
      "375000\n",
      "375100\n",
      "375200\n",
      "375300\n",
      "375400\n",
      "375500\n",
      "375600\n",
      "375700\n",
      "375800\n",
      "375900\n",
      "376000\n",
      "376100\n",
      "376200\n",
      "376300\n",
      "376400\n",
      "376500\n",
      "376600\n",
      "376700\n",
      "376800\n",
      "376900\n",
      "377000\n",
      "377100\n",
      "377200\n",
      "377300\n",
      "377400\n",
      "377500\n",
      "377600\n",
      "377700\n",
      "377800\n",
      "377900\n",
      "378000\n",
      "378100\n",
      "378200\n",
      "378300\n",
      "378400\n",
      "378500\n",
      "378600\n",
      "378700\n",
      "378800\n",
      "378900\n",
      "379000\n",
      "379100\n",
      "379200\n",
      "379300\n",
      "379400\n",
      "379500\n",
      "379600\n",
      "379700\n",
      "379800\n",
      "379900\n",
      "380000\n",
      "380100\n",
      "380200\n",
      "380300\n",
      "380400\n",
      "380500\n",
      "380600\n",
      "380700\n",
      "380800\n",
      "380900\n",
      "381000\n",
      "381100\n",
      "381200\n",
      "381300\n",
      "381400\n",
      "381500\n",
      "381600\n",
      "381700\n",
      "381800\n",
      "381900\n",
      "382000\n",
      "382100\n",
      "382200\n",
      "382300\n",
      "382400\n",
      "382500\n",
      "382600\n",
      "382700\n",
      "382800\n",
      "382900\n",
      "383000\n",
      "383100\n",
      "383200\n",
      "383300\n",
      "383400\n",
      "383500\n",
      "383600\n",
      "383700\n",
      "383800\n",
      "383900\n",
      "384000\n",
      "384100\n",
      "384200\n",
      "384300\n",
      "384400\n",
      "384500\n",
      "384600\n",
      "384700\n",
      "384800\n",
      "384900\n",
      "385000\n",
      "385100\n",
      "385200\n",
      "385300\n",
      "385400\n",
      "385500\n",
      "385600\n",
      "385700\n",
      "385800\n",
      "385900\n",
      "386000\n",
      "386100\n",
      "386200\n",
      "386300\n",
      "386400\n",
      "386500\n",
      "386600\n",
      "386700\n",
      "386800\n",
      "386900\n",
      "387000\n",
      "387100\n",
      "387200\n",
      "387300\n",
      "387400\n",
      "387500\n",
      "387600\n",
      "387700\n",
      "387800\n",
      "387900\n",
      "388000\n",
      "388100\n",
      "388200\n",
      "388300\n",
      "388400\n",
      "388500\n",
      "388600\n",
      "388700\n",
      "388800\n",
      "388900\n",
      "389000\n",
      "389100\n",
      "389200\n",
      "389300\n",
      "389400\n",
      "389500\n",
      "389600\n",
      "389700\n",
      "389800\n",
      "389900\n",
      "390000\n",
      "390100\n",
      "390200\n",
      "390300\n",
      "390400\n",
      "390500\n",
      "390600\n",
      "390700\n",
      "390800\n",
      "390900\n",
      "391000\n",
      "391100\n",
      "391200\n",
      "391300\n",
      "391400\n",
      "391500\n",
      "391600\n",
      "391700\n",
      "391800\n",
      "391900\n",
      "392000\n",
      "392100\n",
      "392200\n",
      "392300\n",
      "392400\n",
      "392500\n",
      "392600\n",
      "392700\n",
      "392800\n",
      "392900\n",
      "393000\n",
      "393100\n",
      "393200\n",
      "393300\n",
      "393400\n",
      "393500\n",
      "393600\n",
      "393700\n",
      "393800\n",
      "393900\n",
      "394000\n",
      "394100\n",
      "394200\n",
      "394300\n",
      "394400\n",
      "394500\n",
      "394600\n",
      "394700\n",
      "394800\n",
      "394900\n",
      "395000\n",
      "395100\n",
      "395200\n",
      "395300\n",
      "395400\n",
      "395500\n",
      "395600\n",
      "395700\n",
      "395800\n",
      "395900\n",
      "396000\n",
      "396100\n",
      "396200\n",
      "396300\n",
      "396400\n",
      "396500\n",
      "396600\n",
      "396700\n",
      "396800\n",
      "396900\n",
      "397000\n",
      "397100\n",
      "397200\n",
      "397300\n",
      "397400\n",
      "397500\n",
      "397600\n",
      "397700\n",
      "397800\n",
      "397900\n",
      "398000\n",
      "398100\n",
      "398200\n",
      "398300\n",
      "398400\n",
      "398500\n",
      "398600\n",
      "398700\n",
      "398800\n",
      "398900\n",
      "399000\n",
      "399100\n",
      "399200\n",
      "399300\n",
      "399400\n",
      "399500\n",
      "399600\n",
      "399700\n",
      "399800\n",
      "399900\n",
      "400000\n",
      "400100\n",
      "400200\n",
      "400300\n",
      "400400\n",
      "400500\n",
      "400600\n",
      "400700\n",
      "400800\n",
      "400900\n",
      "401000\n",
      "401100\n",
      "401200\n",
      "401300\n",
      "401400\n",
      "401500\n",
      "401600\n",
      "401700\n",
      "401800\n",
      "401900\n",
      "402000\n",
      "402100\n",
      "402200\n",
      "402300\n",
      "402400\n",
      "402500\n",
      "402600\n",
      "402700\n",
      "402800\n",
      "402900\n",
      "403000\n",
      "403100\n",
      "403200\n",
      "403300\n",
      "403400\n",
      "403500\n",
      "403600\n",
      "403700\n",
      "403800\n",
      "403900\n",
      "404000\n",
      "404100\n",
      "404200\n",
      "404300\n",
      "404400\n",
      "404500\n",
      "404600\n",
      "404700\n",
      "404800\n",
      "404900\n",
      "405000\n",
      "405100\n",
      "405200\n",
      "405300\n",
      "405400\n",
      "405500\n",
      "405600\n",
      "405700\n",
      "405800\n",
      "405900\n",
      "406000\n",
      "406100\n",
      "406200\n",
      "406300\n",
      "406400\n",
      "406500\n",
      "406600\n",
      "406700\n",
      "406800\n",
      "406900\n",
      "407000\n",
      "407100\n",
      "407200\n",
      "407300\n",
      "407400\n",
      "407500\n",
      "407600\n",
      "407700\n",
      "407800\n",
      "407900\n",
      "408000\n",
      "408100\n",
      "408200\n",
      "408300\n",
      "408400\n",
      "408500\n",
      "408600\n",
      "408700\n",
      "408800\n",
      "408900\n",
      "409000\n",
      "409100\n",
      "409200\n",
      "409300\n",
      "409400\n",
      "409500\n",
      "409600\n",
      "409700\n",
      "409800\n",
      "409900\n",
      "410000\n",
      "410100\n",
      "410200\n",
      "410300\n",
      "410400\n",
      "410500\n",
      "410600\n",
      "410700\n",
      "410800\n",
      "410900\n",
      "411000\n",
      "411100\n",
      "411200\n",
      "411300\n",
      "411400\n",
      "411500\n",
      "411600\n",
      "411700\n",
      "411800\n",
      "411900\n",
      "412000\n",
      "412100\n",
      "412200\n",
      "412300\n",
      "412400\n",
      "412500\n",
      "412600\n",
      "412700\n",
      "412800\n",
      "412900\n",
      "413000\n",
      "413100\n",
      "413200\n",
      "413300\n",
      "413400\n",
      "413500\n",
      "413600\n",
      "413700\n",
      "413800\n",
      "413900\n",
      "414000\n",
      "414100\n",
      "414200\n",
      "414300\n",
      "414400\n",
      "414500\n",
      "414600\n",
      "414700\n",
      "414800\n",
      "414900\n",
      "415000\n",
      "415100\n",
      "415200\n",
      "415300\n",
      "415400\n",
      "415500\n",
      "415600\n",
      "415700\n",
      "415800\n",
      "415900\n",
      "416000\n",
      "416100\n",
      "416200\n",
      "416300\n",
      "416400\n",
      "416500\n",
      "416600\n",
      "416700\n",
      "416800\n",
      "416900\n",
      "417000\n",
      "417100\n",
      "417200\n",
      "417300\n",
      "417400\n",
      "417500\n",
      "417600\n",
      "417700\n",
      "417800\n",
      "417900\n",
      "418000\n",
      "418100\n",
      "418200\n",
      "418300\n",
      "418400\n",
      "418500\n",
      "418600\n",
      "418700\n",
      "418800\n",
      "418900\n",
      "419000\n",
      "419100\n",
      "419200\n",
      "419300\n",
      "419400\n",
      "419500\n",
      "419600\n",
      "419700\n",
      "419800\n",
      "419900\n",
      "420000\n",
      "420100\n",
      "420200\n",
      "420300\n",
      "420400\n",
      "420500\n",
      "420600\n",
      "420700\n",
      "420800\n",
      "420900\n",
      "421000\n",
      "421100\n",
      "421200\n",
      "421300\n",
      "421400\n",
      "421500\n",
      "421600\n",
      "421700\n",
      "421800\n",
      "421900\n",
      "422000\n",
      "422100\n",
      "422200\n",
      "422300\n",
      "422400\n",
      "422500\n",
      "422600\n",
      "422700\n",
      "422800\n",
      "422900\n",
      "423000\n",
      "423100\n",
      "423200\n",
      "423300\n",
      "423400\n",
      "423500\n",
      "423600\n",
      "423700\n",
      "423800\n",
      "423900\n",
      "424000\n",
      "424100\n",
      "424200\n",
      "424300\n",
      "424400\n",
      "424500\n",
      "424600\n",
      "424700\n",
      "424800\n",
      "424900\n",
      "425000\n",
      "425100\n",
      "425200\n",
      "425300\n",
      "425400\n",
      "425500\n",
      "425600\n",
      "425700\n",
      "425800\n",
      "425900\n",
      "426000\n",
      "426100\n",
      "426200\n",
      "426300\n",
      "426400\n",
      "426500\n",
      "426600\n",
      "426700\n",
      "426800\n",
      "426900\n",
      "427000\n",
      "427100\n",
      "427200\n",
      "427300\n",
      "427400\n",
      "427500\n",
      "427600\n",
      "427700\n",
      "427800\n",
      "427900\n",
      "428000\n",
      "428100\n",
      "428200\n",
      "428300\n",
      "428400\n",
      "428500\n",
      "428600\n",
      "428700\n",
      "428800\n",
      "428900\n",
      "429000\n",
      "429100\n",
      "429200\n",
      "429300\n",
      "429400\n",
      "429500\n",
      "429600\n",
      "429700\n",
      "429800\n",
      "429900\n",
      "430000\n",
      "430100\n",
      "430200\n",
      "430300\n",
      "430400\n",
      "430500\n",
      "430600\n",
      "430700\n",
      "430800\n",
      "430900\n",
      "431000\n",
      "431100\n",
      "431200\n",
      "431300\n",
      "431400\n",
      "431500\n",
      "431600\n",
      "431700\n",
      "431800\n",
      "431900\n",
      "432000\n",
      "432100\n",
      "432200\n",
      "432300\n",
      "432400\n",
      "432500\n",
      "432600\n",
      "432700\n",
      "432800\n",
      "432900\n",
      "433000\n",
      "433100\n",
      "433200\n",
      "433300\n",
      "433400\n",
      "433500\n",
      "433600\n",
      "433700\n",
      "433800\n",
      "433900\n",
      "434000\n",
      "434100\n",
      "434200\n",
      "434300\n",
      "434400\n",
      "434500\n",
      "434600\n",
      "434700\n",
      "434800\n",
      "434900\n",
      "435000\n",
      "435100\n",
      "435200\n",
      "435300\n",
      "435400\n",
      "435500\n",
      "435600\n",
      "435700\n",
      "435800\n",
      "435900\n",
      "436000\n",
      "436100\n",
      "436200\n",
      "436300\n",
      "436400\n",
      "436500\n",
      "436600\n",
      "436700\n",
      "436800\n",
      "436900\n",
      "437000\n",
      "437100\n",
      "437200\n",
      "437300\n",
      "437400\n",
      "437500\n",
      "437600\n",
      "437700\n",
      "437800\n",
      "437900\n",
      "438000\n",
      "438100\n",
      "438200\n",
      "438300\n",
      "438400\n",
      "438500\n",
      "438600\n",
      "438700\n",
      "438800\n",
      "438900\n",
      "439000\n",
      "439100\n",
      "439200\n",
      "439300\n",
      "439400\n",
      "439500\n",
      "439600\n",
      "439700\n",
      "439800\n",
      "439900\n",
      "440000\n",
      "440100\n",
      "440200\n",
      "440300\n",
      "440400\n",
      "440500\n",
      "440600\n",
      "440700\n",
      "440800\n",
      "440900\n",
      "441000\n",
      "441100\n",
      "441200\n",
      "441300\n",
      "441400\n",
      "441500\n",
      "441600\n",
      "441700\n",
      "441800\n",
      "441900\n",
      "442000\n",
      "442100\n",
      "442200\n",
      "442300\n",
      "442400\n",
      "442500\n",
      "442600\n",
      "442700\n",
      "442800\n",
      "442900\n",
      "443000\n",
      "443100\n",
      "443200\n",
      "443300\n",
      "443400\n",
      "443500\n",
      "443600\n",
      "443700\n",
      "443800\n",
      "443900\n",
      "444000\n",
      "444100\n",
      "444200\n",
      "444300\n",
      "444400\n",
      "444500\n",
      "444600\n",
      "444700\n",
      "444800\n",
      "444900\n",
      "445000\n",
      "445100\n",
      "445200\n",
      "445300\n",
      "445400\n",
      "445500\n",
      "445600\n",
      "445700\n",
      "445800\n",
      "445900\n",
      "446000\n",
      "446100\n",
      "446200\n",
      "446300\n",
      "446400\n",
      "446500\n",
      "446600\n",
      "446700\n",
      "446800\n",
      "446900\n",
      "447000\n",
      "447100\n",
      "447200\n",
      "447300\n",
      "447400\n",
      "447500\n",
      "447600\n",
      "447700\n",
      "447800\n",
      "447900\n",
      "448000\n",
      "448100\n",
      "448200\n",
      "448300\n",
      "448400\n",
      "448500\n",
      "448600\n",
      "448700\n",
      "448800\n",
      "448900\n",
      "449000\n",
      "449100\n",
      "449200\n",
      "449300\n",
      "449400\n",
      "449500\n",
      "449600\n",
      "449700\n",
      "449800\n",
      "449900\n",
      "450000\n",
      "450100\n",
      "450200\n",
      "450300\n",
      "450400\n",
      "450500\n",
      "450600\n",
      "450700\n",
      "450800\n",
      "450900\n",
      "451000\n",
      "451100\n",
      "451200\n",
      "451300\n",
      "451400\n",
      "451500\n",
      "451600\n",
      "451700\n",
      "451800\n",
      "451900\n",
      "452000\n",
      "452100\n",
      "452200\n",
      "452300\n",
      "452400\n",
      "452500\n",
      "452600\n",
      "452700\n",
      "452800\n",
      "452900\n",
      "453000\n",
      "453100\n",
      "453200\n",
      "453300\n",
      "453400\n",
      "453500\n",
      "453600\n",
      "453700\n",
      "453800\n",
      "453900\n",
      "454000\n",
      "454100\n",
      "454200\n",
      "454300\n",
      "454400\n",
      "454500\n",
      "454600\n",
      "454700\n",
      "454800\n",
      "454900\n",
      "455000\n",
      "455100\n",
      "455200\n",
      "455300\n",
      "455400\n",
      "455500\n",
      "455600\n",
      "455700\n",
      "455800\n",
      "455900\n",
      "456000\n",
      "456100\n",
      "456200\n",
      "456300\n",
      "456400\n",
      "456500\n",
      "456600\n",
      "456700\n",
      "456800\n",
      "456900\n",
      "457000\n",
      "457100\n",
      "457200\n",
      "457300\n",
      "457400\n",
      "457500\n",
      "457600\n",
      "457700\n",
      "457800\n",
      "457900\n",
      "458000\n",
      "458100\n",
      "458200\n",
      "458300\n",
      "458400\n",
      "458500\n",
      "458600\n",
      "458700\n",
      "458800\n",
      "458900\n",
      "459000\n",
      "459100\n",
      "459200\n",
      "459300\n",
      "459400\n",
      "459500\n",
      "459600\n",
      "459700\n",
      "459800\n",
      "459900\n",
      "460000\n",
      "460100\n",
      "460200\n",
      "460300\n",
      "460400\n",
      "460500\n",
      "460600\n",
      "460700\n",
      "460800\n",
      "460900\n",
      "461000\n",
      "461100\n",
      "461200\n",
      "461300\n",
      "461400\n",
      "461500\n",
      "461600\n",
      "461700\n",
      "461800\n",
      "461900\n",
      "462000\n",
      "462100\n",
      "462200\n",
      "462300\n",
      "462400\n",
      "462500\n",
      "462600\n",
      "462700\n",
      "462800\n",
      "462900\n",
      "463000\n",
      "463100\n",
      "463200\n",
      "463300\n",
      "463400\n",
      "463500\n",
      "463600\n",
      "463700\n",
      "463800\n",
      "463900\n",
      "464000\n",
      "464100\n",
      "464200\n",
      "464300\n",
      "464400\n",
      "464500\n",
      "464600\n",
      "464700\n",
      "464800\n",
      "464900\n",
      "465000\n",
      "465100\n",
      "465200\n",
      "465300\n",
      "465400\n",
      "465500\n",
      "465600\n",
      "465700\n",
      "465800\n",
      "465900\n",
      "466000\n",
      "466100\n",
      "466200\n",
      "466300\n",
      "466400\n",
      "466500\n",
      "466600\n",
      "466700\n",
      "466800\n",
      "466900\n",
      "467000\n",
      "467100\n",
      "467200\n",
      "467300\n",
      "467400\n",
      "467500\n",
      "467600\n",
      "467700\n",
      "467800\n",
      "467900\n",
      "468000\n",
      "468100\n",
      "468200\n",
      "468300\n",
      "468400\n",
      "468500\n",
      "468600\n",
      "468700\n",
      "468800\n",
      "468900\n",
      "469000\n",
      "469100\n",
      "469200\n",
      "469300\n",
      "469400\n",
      "469500\n",
      "469600\n",
      "469700\n",
      "469800\n",
      "469900\n",
      "470000\n",
      "470100\n",
      "470200\n",
      "470300\n",
      "470400\n",
      "470500\n",
      "470600\n",
      "470700\n",
      "470800\n",
      "470900\n",
      "471000\n",
      "471100\n",
      "471200\n",
      "471300\n",
      "471400\n",
      "471500\n",
      "471600\n",
      "471700\n",
      "471800\n",
      "471900\n",
      "472000\n",
      "472100\n",
      "472200\n",
      "472300\n",
      "472400\n",
      "472500\n",
      "472600\n",
      "472700\n",
      "472800\n",
      "472900\n",
      "473000\n",
      "473100\n",
      "473200\n",
      "473300\n",
      "473400\n",
      "473500\n",
      "473600\n",
      "473700\n",
      "473800\n",
      "473900\n",
      "474000\n",
      "474100\n",
      "474200\n",
      "474300\n",
      "474400\n",
      "474500\n",
      "474600\n",
      "474700\n",
      "474800\n",
      "474900\n",
      "475000\n",
      "475100\n",
      "475200\n",
      "475300\n",
      "475400\n",
      "475500\n",
      "475600\n",
      "475700\n",
      "475800\n",
      "475900\n",
      "476000\n",
      "476100\n",
      "476200\n",
      "476300\n",
      "476400\n",
      "476500\n",
      "476600\n",
      "476700\n",
      "476800\n",
      "476900\n",
      "477000\n",
      "477100\n",
      "477200\n",
      "477300\n",
      "477400\n",
      "477500\n",
      "477600\n",
      "477700\n",
      "477800\n",
      "477900\n",
      "478000\n",
      "478100\n",
      "478200\n",
      "478300\n"
     ]
    },
    {
     "name": "stdout",
     "output_type": "stream",
     "text": [
      "478400\n",
      "478500\n",
      "478600\n",
      "478700\n",
      "478800\n",
      "478900\n",
      "479000\n",
      "479100\n",
      "479200\n",
      "479300\n",
      "479400\n",
      "479500\n",
      "479600\n",
      "479700\n",
      "479800\n",
      "479900\n",
      "480000\n",
      "480100\n",
      "480200\n",
      "480300\n",
      "480400\n",
      "480500\n",
      "480600\n",
      "480700\n",
      "480800\n",
      "480900\n",
      "481000\n",
      "481100\n",
      "481200\n",
      "481300\n",
      "481400\n",
      "481500\n",
      "481600\n",
      "481700\n",
      "481800\n",
      "481900\n",
      "482000\n",
      "482100\n",
      "482200\n",
      "482300\n",
      "482400\n",
      "482500\n",
      "482600\n",
      "482700\n",
      "482800\n",
      "482900\n",
      "483000\n",
      "483100\n",
      "483200\n",
      "483300\n",
      "483400\n",
      "483500\n",
      "483600\n",
      "483700\n",
      "483800\n",
      "483900\n",
      "484000\n",
      "484100\n",
      "484200\n",
      "484300\n",
      "484400\n",
      "484500\n",
      "484600\n",
      "484700\n",
      "484800\n",
      "484900\n",
      "485000\n",
      "485100\n",
      "485200\n",
      "485300\n",
      "485400\n",
      "485500\n",
      "485600\n",
      "485700\n",
      "485800\n",
      "485900\n",
      "486000\n",
      "486100\n",
      "486200\n",
      "486300\n",
      "486400\n",
      "486500\n",
      "486600\n",
      "486700\n",
      "486800\n",
      "486900\n",
      "487000\n",
      "487100\n",
      "487200\n",
      "487300\n",
      "487400\n",
      "487500\n",
      "487600\n",
      "487700\n",
      "487800\n",
      "487900\n",
      "488000\n",
      "488100\n",
      "488200\n",
      "488300\n",
      "488400\n",
      "488500\n",
      "488600\n",
      "488700\n",
      "488800\n",
      "488900\n",
      "489000\n",
      "489100\n",
      "489200\n",
      "489300\n",
      "489400\n",
      "489500\n",
      "489600\n",
      "489700\n",
      "489800\n",
      "489900\n",
      "490000\n",
      "490100\n",
      "490200\n",
      "490300\n",
      "490400\n",
      "490500\n",
      "490600\n",
      "490700\n",
      "490800\n",
      "490900\n",
      "491000\n",
      "491100\n",
      "491200\n",
      "491300\n",
      "491400\n",
      "491500\n",
      "491600\n",
      "491700\n",
      "491800\n",
      "491900\n",
      "492000\n",
      "492100\n",
      "492200\n",
      "492300\n",
      "492400\n",
      "492500\n",
      "492600\n",
      "492700\n",
      "492800\n",
      "492900\n",
      "493000\n",
      "493100\n",
      "493200\n",
      "493300\n",
      "493400\n",
      "493500\n",
      "493600\n",
      "493700\n",
      "493800\n",
      "493900\n",
      "494000\n",
      "494100\n",
      "494200\n",
      "494300\n",
      "494400\n",
      "494500\n",
      "494600\n",
      "494700\n",
      "494800\n",
      "494900\n",
      "495000\n",
      "495100\n",
      "495200\n",
      "495300\n",
      "495400\n",
      "495500\n",
      "495600\n",
      "495700\n",
      "495800\n",
      "495900\n",
      "496000\n",
      "496100\n",
      "496200\n",
      "496300\n",
      "496400\n",
      "496500\n",
      "496600\n",
      "496700\n",
      "496800\n",
      "496900\n",
      "497000\n",
      "497100\n",
      "497200\n",
      "497300\n",
      "497400\n",
      "497500\n",
      "497600\n",
      "497700\n",
      "497800\n",
      "497900\n",
      "498000\n",
      "498100\n",
      "498200\n",
      "498300\n",
      "498400\n",
      "498500\n",
      "498600\n",
      "498700\n",
      "498800\n",
      "498900\n",
      "499000\n",
      "499100\n",
      "499200\n",
      "499300\n",
      "499400\n",
      "499500\n",
      "499600\n",
      "499700\n",
      "499800\n",
      "499900\n",
      "500000\n",
      "500100\n",
      "500200\n",
      "500300\n",
      "500400\n",
      "500500\n",
      "500600\n",
      "500700\n",
      "500800\n",
      "500900\n",
      "501000\n",
      "501100\n",
      "501200\n",
      "501300\n",
      "501400\n",
      "501500\n",
      "501600\n",
      "501700\n",
      "501800\n",
      "501900\n",
      "502000\n",
      "502100\n",
      "502200\n",
      "502300\n",
      "502400\n",
      "502500\n",
      "502600\n",
      "502700\n",
      "502800\n",
      "502900\n",
      "503000\n",
      "503100\n",
      "503200\n",
      "503300\n",
      "503400\n",
      "503500\n",
      "503600\n",
      "503700\n",
      "503800\n",
      "503900\n",
      "504000\n",
      "504100\n",
      "504200\n",
      "504300\n",
      "504400\n",
      "504500\n",
      "504600\n",
      "504700\n",
      "504800\n",
      "504900\n",
      "505000\n",
      "505100\n",
      "505200\n",
      "505300\n",
      "505400\n",
      "505500\n",
      "505600\n",
      "505700\n",
      "505800\n",
      "505900\n",
      "506000\n",
      "506100\n",
      "506200\n",
      "506300\n",
      "506400\n",
      "506500\n",
      "506600\n",
      "506700\n",
      "506800\n",
      "506900\n",
      "507000\n",
      "507100\n",
      "507200\n",
      "507300\n",
      "507400\n",
      "507500\n",
      "507600\n",
      "507700\n",
      "507800\n",
      "507900\n",
      "508000\n",
      "508100\n",
      "508200\n",
      "508300\n",
      "508400\n",
      "508500\n",
      "508600\n",
      "508700\n",
      "508800\n",
      "508900\n",
      "509000\n",
      "509100\n",
      "509200\n",
      "509300\n",
      "509400\n",
      "509500\n",
      "509600\n",
      "509700\n",
      "509800\n",
      "509900\n",
      "510000\n",
      "510100\n",
      "510200\n",
      "510300\n",
      "510400\n",
      "510500\n",
      "510600\n",
      "510700\n",
      "510800\n",
      "510900\n",
      "511000\n",
      "511100\n",
      "511200\n",
      "511300\n",
      "511400\n",
      "511500\n",
      "511600\n",
      "511700\n",
      "511800\n",
      "511900\n",
      "512000\n",
      "512100\n",
      "512200\n",
      "512300\n",
      "512400\n",
      "512500\n",
      "512600\n",
      "512700\n",
      "512800\n",
      "512900\n",
      "513000\n",
      "513100\n",
      "513200\n",
      "513300\n",
      "513400\n",
      "513500\n",
      "513600\n",
      "513700\n",
      "513800\n",
      "513900\n",
      "514000\n",
      "514100\n",
      "514200\n",
      "514300\n",
      "514400\n",
      "514500\n",
      "514600\n",
      "514700\n",
      "514800\n",
      "514900\n",
      "515000\n",
      "515100\n",
      "515200\n",
      "515300\n",
      "515400\n",
      "515500\n",
      "515600\n",
      "515700\n",
      "515800\n",
      "515900\n",
      "516000\n",
      "516100\n",
      "516200\n",
      "516300\n",
      "516400\n",
      "516500\n",
      "516600\n",
      "516700\n",
      "516800\n",
      "516900\n",
      "517000\n",
      "517100\n",
      "517200\n",
      "517300\n",
      "517400\n",
      "517500\n",
      "517600\n",
      "517700\n",
      "517800\n",
      "517900\n",
      "518000\n",
      "518100\n",
      "518200\n",
      "518300\n",
      "518400\n",
      "518500\n",
      "518600\n",
      "518700\n",
      "518800\n",
      "518900\n",
      "519000\n",
      "519100\n",
      "519200\n",
      "519300\n",
      "519400\n",
      "519500\n",
      "519600\n",
      "519700\n",
      "519800\n",
      "519900\n",
      "520000\n",
      "520100\n",
      "520200\n",
      "520300\n",
      "520400\n",
      "520500\n",
      "520600\n",
      "520700\n",
      "520800\n",
      "520900\n",
      "521000\n",
      "521100\n",
      "521200\n",
      "521300\n",
      "521400\n",
      "521500\n",
      "521600\n",
      "521700\n",
      "521800\n",
      "521900\n",
      "522000\n",
      "522100\n",
      "522200\n",
      "522300\n",
      "522400\n",
      "522500\n",
      "522600\n",
      "522700\n",
      "522800\n",
      "522900\n",
      "523000\n",
      "523100\n",
      "523200\n",
      "523300\n",
      "523400\n",
      "523500\n",
      "523600\n",
      "523700\n",
      "523800\n",
      "523900\n",
      "524000\n",
      "524100\n",
      "524200\n",
      "524300\n",
      "524400\n",
      "524500\n",
      "524600\n",
      "524700\n",
      "524800\n",
      "524900\n",
      "525000\n",
      "525100\n",
      "525200\n",
      "525300\n",
      "525400\n",
      "525500\n",
      "525600\n",
      "525700\n",
      "525800\n",
      "525900\n",
      "526000\n",
      "526100\n",
      "526200\n",
      "526300\n",
      "526400\n",
      "526500\n",
      "526600\n",
      "526700\n",
      "526800\n",
      "526900\n",
      "527000\n",
      "527100\n",
      "527200\n",
      "527300\n",
      "527400\n",
      "527500\n",
      "527600\n",
      "527700\n",
      "527800\n",
      "527900\n",
      "528000\n",
      "528100\n",
      "528200\n",
      "528300\n",
      "528400\n",
      "528500\n",
      "528600\n",
      "528700\n",
      "528800\n",
      "528900\n",
      "529000\n",
      "529100\n",
      "529200\n",
      "529300\n",
      "529400\n",
      "529500\n",
      "529600\n",
      "529700\n",
      "529800\n",
      "529900\n",
      "530000\n",
      "530100\n",
      "530200\n",
      "530300\n",
      "530400\n",
      "530500\n",
      "530600\n",
      "530700\n",
      "530800\n",
      "530900\n",
      "531000\n",
      "531100\n",
      "531200\n",
      "531300\n",
      "531400\n",
      "531500\n",
      "531600\n",
      "531700\n",
      "531800\n",
      "531900\n",
      "532000\n",
      "532100\n",
      "532200\n",
      "532300\n",
      "532400\n",
      "532500\n",
      "532600\n",
      "532700\n",
      "532800\n",
      "532900\n",
      "533000\n",
      "533100\n",
      "533200\n",
      "533300\n",
      "533400\n",
      "533500\n",
      "533600\n",
      "533700\n",
      "533800\n",
      "533900\n",
      "534000\n",
      "534100\n",
      "534200\n",
      "534300\n",
      "534400\n",
      "534500\n",
      "534600\n",
      "534700\n",
      "534800\n",
      "534900\n",
      "535000\n",
      "535100\n",
      "535200\n",
      "535300\n",
      "535400\n",
      "535500\n",
      "535600\n",
      "535700\n",
      "535800\n",
      "535900\n",
      "536000\n",
      "536100\n",
      "536200\n",
      "536300\n",
      "536400\n",
      "536500\n",
      "536600\n",
      "536700\n",
      "536800\n",
      "536900\n",
      "537000\n",
      "537100\n",
      "537200\n",
      "537300\n",
      "537400\n",
      "537500\n",
      "537600\n",
      "537700\n",
      "537800\n",
      "537900\n",
      "538000\n",
      "538100\n",
      "538200\n",
      "538300\n",
      "538400\n",
      "538500\n",
      "538600\n",
      "538700\n",
      "538800\n",
      "538900\n",
      "539000\n",
      "539100\n",
      "539200\n",
      "539300\n",
      "539400\n",
      "539500\n",
      "539600\n",
      "539700\n",
      "539800\n",
      "539900\n",
      "540000\n",
      "540100\n",
      "540200\n",
      "540300\n",
      "540400\n",
      "540500\n",
      "540600\n",
      "540700\n",
      "540800\n",
      "540900\n",
      "541000\n",
      "541100\n",
      "541200\n",
      "541300\n",
      "541400\n",
      "541500\n",
      "541600\n",
      "541700\n",
      "541800\n",
      "541900\n",
      "542000\n",
      "542100\n",
      "542200\n",
      "542300\n",
      "542400\n",
      "542500\n",
      "542600\n",
      "542700\n",
      "542800\n",
      "542900\n",
      "543000\n",
      "543100\n",
      "543200\n",
      "543300\n",
      "543400\n",
      "543500\n",
      "543600\n",
      "543700\n",
      "543800\n",
      "543900\n",
      "544000\n",
      "544100\n",
      "544200\n",
      "544300\n",
      "544400\n",
      "544500\n",
      "544600\n",
      "544700\n",
      "544800\n",
      "544900\n",
      "545000\n",
      "545100\n",
      "545200\n",
      "545300\n",
      "545400\n",
      "545500\n",
      "545600\n",
      "545700\n",
      "545800\n",
      "545900\n",
      "546000\n",
      "546100\n",
      "546200\n",
      "546300\n",
      "546400\n",
      "546500\n",
      "546600\n",
      "546700\n",
      "546800\n",
      "546900\n",
      "547000\n",
      "547100\n",
      "547200\n",
      "547300\n",
      "547400\n",
      "547500\n",
      "547600\n",
      "547700\n",
      "547800\n",
      "547900\n",
      "548000\n",
      "548100\n",
      "548200\n",
      "548300\n",
      "548400\n",
      "548500\n",
      "548600\n",
      "548700\n",
      "548800\n",
      "548900\n",
      "549000\n",
      "549100\n",
      "549200\n",
      "549300\n",
      "549400\n",
      "549500\n",
      "549600\n",
      "549700\n",
      "549800\n",
      "549900\n",
      "550000\n",
      "550100\n",
      "550200\n",
      "550300\n",
      "550400\n",
      "550500\n",
      "550600\n",
      "550700\n",
      "550800\n",
      "550900\n",
      "551000\n",
      "551100\n",
      "551200\n",
      "551300\n",
      "551400\n",
      "551500\n",
      "551600\n",
      "551700\n",
      "551800\n",
      "551900\n",
      "552000\n",
      "552100\n",
      "552200\n",
      "552300\n",
      "552400\n",
      "552500\n",
      "552600\n",
      "552700\n",
      "552800\n",
      "552900\n",
      "553000\n",
      "553100\n",
      "553200\n",
      "553300\n",
      "553400\n",
      "553500\n",
      "553600\n",
      "553700\n",
      "553800\n",
      "553900\n",
      "554000\n",
      "554100\n",
      "554200\n",
      "554300\n",
      "554400\n",
      "554500\n",
      "554600\n",
      "554700\n",
      "554800\n",
      "554900\n",
      "555000\n",
      "555100\n",
      "555200\n",
      "555300\n",
      "555400\n",
      "555500\n",
      "555600\n",
      "555700\n",
      "555800\n",
      "555900\n",
      "556000\n",
      "556100\n",
      "556200\n",
      "556300\n",
      "556400\n",
      "556500\n",
      "556600\n",
      "556700\n",
      "556800\n",
      "556900\n",
      "557000\n",
      "557100\n",
      "557200\n",
      "557300\n",
      "557400\n",
      "557500\n",
      "557600\n",
      "557700\n",
      "557800\n",
      "557900\n",
      "558000\n",
      "558100\n",
      "558200\n",
      "558300\n",
      "558400\n",
      "558500\n",
      "558600\n",
      "558700\n",
      "558800\n",
      "558900\n",
      "559000\n",
      "559100\n",
      "559200\n",
      "559300\n",
      "559400\n",
      "559500\n",
      "559600\n",
      "559700\n",
      "559800\n",
      "559900\n",
      "560000\n",
      "560100\n",
      "560200\n",
      "560300\n",
      "560400\n",
      "560500\n",
      "560600\n",
      "560700\n",
      "560800\n",
      "560900\n",
      "561000\n",
      "561100\n",
      "561200\n",
      "561300\n",
      "561400\n",
      "561500\n",
      "561600\n",
      "561700\n",
      "561800\n",
      "561900\n",
      "562000\n",
      "562100\n",
      "562200\n",
      "562300\n",
      "562400\n",
      "562500\n",
      "562600\n",
      "562700\n",
      "562800\n",
      "562900\n",
      "563000\n",
      "563100\n",
      "563200\n",
      "563300\n",
      "563400\n",
      "563500\n",
      "563600\n",
      "563700\n",
      "563800\n",
      "563900\n",
      "564000\n",
      "564100\n",
      "564200\n",
      "564300\n",
      "564400\n",
      "564500\n",
      "564600\n",
      "564700\n",
      "564800\n",
      "564900\n",
      "565000\n",
      "565100\n",
      "565200\n",
      "565300\n",
      "565400\n",
      "565500\n",
      "565600\n",
      "565700\n",
      "565800\n",
      "565900\n",
      "566000\n",
      "566100\n",
      "566200\n",
      "566300\n",
      "566400\n",
      "566500\n",
      "566600\n",
      "566700\n",
      "566800\n",
      "566900\n",
      "567000\n",
      "567100\n",
      "567200\n",
      "567300\n",
      "567400\n",
      "567500\n",
      "567600\n",
      "567700\n",
      "567800\n",
      "567900\n",
      "568000\n",
      "568100\n",
      "568200\n",
      "568300\n",
      "568400\n",
      "568500\n",
      "568600\n",
      "568700\n",
      "568800\n",
      "568900\n",
      "569000\n",
      "569100\n",
      "569200\n",
      "569300\n",
      "569400\n",
      "569500\n",
      "569600\n",
      "569700\n",
      "569800\n",
      "569900\n",
      "570000\n",
      "570100\n",
      "570200\n",
      "570300\n",
      "570400\n",
      "570500\n",
      "570600\n",
      "570700\n",
      "570800\n",
      "570900\n",
      "571000\n",
      "571100\n",
      "571200\n",
      "571300\n",
      "571400\n",
      "571500\n",
      "571600\n",
      "571700\n",
      "571800\n",
      "571900\n",
      "572000\n",
      "572100\n",
      "572200\n",
      "572300\n",
      "572400\n",
      "572500\n",
      "572600\n",
      "572700\n",
      "572800\n",
      "572900\n",
      "573000\n",
      "573100\n",
      "573200\n",
      "573300\n",
      "573400\n",
      "573500\n",
      "573600\n",
      "573700\n",
      "573800\n",
      "573900\n",
      "574000\n",
      "574100\n",
      "574200\n",
      "574300\n",
      "574400\n",
      "574500\n",
      "574600\n",
      "574700\n",
      "574800\n",
      "574900\n",
      "575000\n",
      "575100\n",
      "575200\n",
      "575300\n",
      "575400\n",
      "575500\n",
      "575600\n",
      "575700\n",
      "575800\n",
      "575900\n",
      "576000\n",
      "576100\n",
      "576200\n",
      "576300\n",
      "576400\n",
      "576500\n",
      "576600\n",
      "576700\n",
      "576800\n",
      "576900\n",
      "577000\n",
      "577100\n",
      "577200\n",
      "577300\n",
      "577400\n",
      "577500\n",
      "577600\n",
      "577700\n",
      "577800\n",
      "577900\n",
      "578000\n",
      "578100\n",
      "578200\n",
      "578300\n",
      "578400\n",
      "578500\n",
      "578600\n",
      "578700\n",
      "578800\n",
      "578900\n",
      "579000\n",
      "579100\n",
      "579200\n",
      "579300\n",
      "579400\n",
      "579500\n",
      "579600\n",
      "579700\n",
      "579800\n",
      "579900\n",
      "580000\n",
      "580100\n",
      "580200\n",
      "580300\n",
      "580400\n",
      "580500\n",
      "580600\n",
      "580700\n",
      "580800\n",
      "580900\n",
      "581000\n",
      "581100\n",
      "581200\n",
      "581300\n",
      "581400\n",
      "581500\n",
      "581600\n",
      "581700\n",
      "581800\n",
      "581900\n",
      "582000\n",
      "582100\n",
      "582200\n",
      "582300\n",
      "582400\n",
      "582500\n",
      "582600\n",
      "582700\n",
      "582800\n",
      "582900\n",
      "583000\n",
      "583100\n",
      "583200\n",
      "583300\n",
      "583400\n",
      "583500\n",
      "583600\n",
      "583700\n",
      "583800\n",
      "583900\n",
      "584000\n",
      "584100\n",
      "584200\n",
      "584300\n",
      "584400\n",
      "584500\n",
      "584600\n",
      "584700\n",
      "584800\n",
      "584900\n",
      "585000\n",
      "585100\n",
      "585200\n",
      "585300\n",
      "585400\n",
      "585500\n",
      "585600\n",
      "585700\n",
      "585800\n",
      "585900\n",
      "586000\n",
      "586100\n",
      "586200\n",
      "586300\n",
      "586400\n",
      "586500\n",
      "586600\n",
      "586700\n",
      "586800\n",
      "586900\n",
      "587000\n",
      "587100\n",
      "587200\n",
      "587300\n",
      "587400\n",
      "587500\n",
      "587600\n",
      "587700\n",
      "587800\n",
      "587900\n",
      "588000\n",
      "588100\n",
      "588200\n",
      "588300\n",
      "588400\n",
      "588500\n",
      "588600\n",
      "588700\n",
      "588800\n",
      "588900\n",
      "589000\n",
      "589100\n",
      "589200\n",
      "589300\n",
      "589400\n",
      "589500\n",
      "589600\n",
      "589700\n",
      "589800\n",
      "589900\n",
      "590000\n",
      "590100\n",
      "590200\n",
      "590300\n",
      "590400\n",
      "590500\n",
      "590600\n",
      "590700\n",
      "590800\n",
      "590900\n",
      "591000\n",
      "591100\n",
      "591200\n",
      "591300\n",
      "591400\n",
      "591500\n",
      "591600\n",
      "591700\n",
      "591800\n",
      "591900\n",
      "592000\n",
      "592100\n",
      "592200\n",
      "592300\n",
      "592400\n",
      "592500\n",
      "592600\n",
      "592700\n",
      "592800\n",
      "592900\n",
      "593000\n",
      "593100\n",
      "593200\n",
      "593300\n",
      "593400\n",
      "593500\n",
      "593600\n",
      "593700\n",
      "593800\n",
      "593900\n",
      "594000\n",
      "594100\n",
      "594200\n",
      "594300\n",
      "594400\n",
      "594500\n",
      "594600\n",
      "594700\n",
      "594800\n",
      "594900\n",
      "595000\n",
      "595100\n",
      "595200\n",
      "595300\n",
      "595400\n",
      "595500\n",
      "595600\n",
      "595700\n",
      "595800\n",
      "595900\n",
      "596000\n",
      "596100\n",
      "596200\n",
      "596300\n",
      "596400\n",
      "596500\n",
      "596600\n",
      "596700\n",
      "596800\n",
      "596900\n",
      "597000\n",
      "597100\n",
      "597200\n",
      "597300\n",
      "597400\n",
      "597500\n",
      "597600\n",
      "597700\n",
      "597800\n",
      "597900\n",
      "598000\n",
      "598100\n",
      "598200\n",
      "598300\n",
      "598400\n",
      "598500\n",
      "598600\n",
      "598700\n",
      "598800\n",
      "598900\n",
      "599000\n",
      "599100\n",
      "599200\n",
      "599300\n",
      "599400\n",
      "599500\n",
      "599600\n",
      "599700\n",
      "599800\n",
      "599900\n",
      "600000\n",
      "600100\n",
      "600200\n",
      "600300\n",
      "600400\n",
      "600500\n",
      "600600\n",
      "600700\n",
      "600800\n",
      "600900\n",
      "601000\n",
      "601100\n",
      "601200\n",
      "601300\n",
      "601400\n",
      "601500\n",
      "601600\n",
      "601700\n",
      "601800\n",
      "601900\n",
      "602000\n",
      "602100\n",
      "602200\n",
      "602300\n",
      "602400\n",
      "602500\n",
      "602600\n",
      "602700\n",
      "602800\n",
      "602900\n",
      "603000\n",
      "603100\n",
      "603200\n",
      "603300\n",
      "603400\n",
      "603500\n",
      "603600\n",
      "603700\n",
      "603800\n",
      "603900\n",
      "604000\n",
      "604100\n",
      "604200\n",
      "604300\n",
      "604400\n",
      "604500\n",
      "604600\n",
      "604700\n",
      "604800\n",
      "604900\n",
      "605000\n",
      "605100\n",
      "605200\n",
      "605300\n",
      "605400\n",
      "605500\n",
      "605600\n",
      "605700\n",
      "605800\n",
      "605900\n",
      "606000\n",
      "606100\n",
      "606200\n",
      "606300\n",
      "606400\n",
      "606500\n",
      "606600\n",
      "606700\n",
      "606800\n",
      "606900\n",
      "607000\n",
      "607100\n",
      "607200\n",
      "607300\n",
      "607400\n",
      "607500\n",
      "607600\n",
      "607700\n",
      "607800\n",
      "607900\n",
      "608000\n",
      "608100\n",
      "608200\n",
      "608300\n",
      "608400\n",
      "608500\n",
      "608600\n",
      "608700\n",
      "608800\n",
      "608900\n",
      "609000\n",
      "609100\n",
      "609200\n",
      "609300\n",
      "609400\n",
      "609500\n",
      "609600\n",
      "609700\n",
      "609800\n",
      "609900\n",
      "610000\n",
      "610100\n",
      "610200\n",
      "610300\n",
      "610400\n",
      "610500\n",
      "610600\n",
      "610700\n",
      "610800\n",
      "610900\n",
      "611000\n",
      "611100\n",
      "611200\n",
      "611300\n",
      "611400\n",
      "611500\n",
      "611600\n",
      "611700\n",
      "611800\n",
      "611900\n",
      "612000\n",
      "612100\n",
      "612200\n",
      "612300\n",
      "612400\n",
      "612500\n",
      "612600\n",
      "612700\n",
      "612800\n",
      "612900\n",
      "613000\n",
      "613100\n",
      "613200\n",
      "613300\n",
      "613400\n",
      "613500\n",
      "613600\n",
      "613700\n",
      "613800\n",
      "613900\n",
      "614000\n",
      "614100\n",
      "614200\n",
      "614300\n",
      "614400\n",
      "614500\n",
      "614600\n",
      "614700\n",
      "614800\n",
      "614900\n",
      "615000\n",
      "615100\n",
      "615200\n",
      "615300\n",
      "615400\n",
      "615500\n",
      "615600\n",
      "615700\n",
      "615800\n",
      "615900\n",
      "616000\n",
      "616100\n",
      "616200\n",
      "616300\n",
      "616400\n",
      "616500\n",
      "616600\n",
      "616700\n",
      "616800\n",
      "616900\n",
      "617000\n",
      "617100\n",
      "617200\n",
      "617300\n",
      "617400\n",
      "617500\n",
      "617600\n",
      "617700\n",
      "617800\n",
      "617900\n",
      "618000\n",
      "618100\n",
      "618200\n",
      "618300\n",
      "618400\n",
      "618500\n",
      "618600\n",
      "618700\n",
      "618800\n",
      "618900\n",
      "619000\n",
      "619100\n",
      "619200\n",
      "619300\n",
      "619400\n",
      "619500\n",
      "619600\n",
      "619700\n",
      "619800\n",
      "619900\n",
      "620000\n",
      "620100\n",
      "620200\n",
      "620300\n",
      "620400\n",
      "620500\n",
      "620600\n",
      "620700\n",
      "620800\n",
      "620900\n",
      "621000\n",
      "621100\n",
      "621200\n",
      "621300\n",
      "621400\n",
      "621500\n",
      "621600\n",
      "621700\n",
      "621800\n",
      "621900\n",
      "622000\n",
      "622100\n",
      "622200\n",
      "622300\n",
      "622400\n",
      "622500\n",
      "622600\n",
      "622700\n",
      "622800\n",
      "622900\n",
      "623000\n",
      "623100\n",
      "623200\n",
      "623300\n",
      "623400\n",
      "623500\n",
      "623600\n",
      "623700\n",
      "623800\n",
      "623900\n",
      "624000\n",
      "624100\n",
      "624200\n",
      "624300\n",
      "624400\n",
      "624500\n",
      "624600\n",
      "624700\n",
      "624800\n",
      "624900\n",
      "625000\n",
      "625100\n",
      "625200\n",
      "625300\n",
      "625400\n",
      "625500\n",
      "625600\n",
      "625700\n",
      "625800\n",
      "625900\n",
      "626000\n",
      "626100\n",
      "626200\n",
      "626300\n",
      "626400\n",
      "626500\n",
      "626600\n",
      "626700\n",
      "626800\n",
      "626900\n",
      "627000\n",
      "627100\n",
      "627200\n",
      "627300\n",
      "627400\n",
      "627500\n",
      "627600\n",
      "627700\n",
      "627800\n",
      "627900\n",
      "628000\n",
      "628100\n",
      "628200\n",
      "628300\n",
      "628400\n",
      "628500\n",
      "628600\n",
      "628700\n",
      "628800\n",
      "628900\n",
      "629000\n",
      "629100\n",
      "629200\n",
      "629300\n",
      "629400\n",
      "629500\n",
      "629600\n",
      "629700\n",
      "629800\n",
      "629900\n",
      "630000\n",
      "630100\n",
      "630200\n",
      "630300\n",
      "630400\n",
      "630500\n",
      "630600\n",
      "630700\n",
      "630800\n",
      "630900\n",
      "631000\n",
      "631100\n",
      "631200\n",
      "631300\n",
      "631400\n",
      "631500\n",
      "631600\n",
      "631700\n",
      "631800\n",
      "631900\n",
      "632000\n",
      "632100\n",
      "632200\n",
      "632300\n",
      "632400\n",
      "632500\n",
      "632600\n",
      "632700\n",
      "632800\n",
      "632900\n",
      "633000\n",
      "633100\n",
      "633200\n",
      "633300\n",
      "633400\n",
      "633500\n",
      "633600\n",
      "633700\n",
      "633800\n",
      "633900\n",
      "634000\n",
      "634100\n",
      "634200\n",
      "634300\n",
      "634400\n",
      "634500\n",
      "634600\n",
      "634700\n",
      "634800\n",
      "634900\n",
      "635000\n",
      "635100\n",
      "635200\n",
      "635300\n",
      "635400\n",
      "635500\n",
      "635600\n",
      "635700\n",
      "635800\n",
      "635900\n",
      "636000\n",
      "636100\n",
      "636200\n",
      "636300\n",
      "636400\n",
      "636500\n",
      "636600\n",
      "636700\n",
      "636800\n",
      "636900\n",
      "637000\n",
      "637100\n",
      "637200\n",
      "637300\n",
      "637400\n",
      "637500\n",
      "637600\n",
      "637700\n",
      "637800\n",
      "637900\n",
      "638000\n",
      "638100\n",
      "638200\n",
      "638300\n",
      "638400\n"
     ]
    }
   ],
   "source": [
    "for i in range(100,all_data.shape[0]+100,100):\n",
    "        print i \n",
    "        "
   ]
  },
  {
   "cell_type": "code",
   "execution_count": 298,
   "metadata": {
    "collapsed": true
   },
   "outputs": [],
   "source": [
    "from sklearn.decomposition import PCA\n",
    "from matplotlib import pyplot\n",
    "from sklearn.manifold import TSNE"
   ]
  },
  {
   "cell_type": "code",
   "execution_count": 299,
   "metadata": {},
   "outputs": [
    {
     "name": "stderr",
     "output_type": "stream",
     "text": [
      "/home/shaurya/anaconda2/lib/python2.7/site-packages/sklearn/externals/joblib/parallel.py:268: DeprecationWarning: check_pickle is deprecated in joblib 0.12 and will be removed in 0.13\n",
      "  ' removed in 0.13', DeprecationWarning)\n"
     ]
    }
   ],
   "source": [
    "#X = model[hole.ent_embeddings.weight.data.numpy()]\n",
    "pca = PCA(n_components=2)\n",
    "result = pca.fit_transform(hole.ent_embeddings.weight.data.numpy())\n",
    "tsne = TSNE(n_components=2)\n",
    "X_tsne = tsne.fit_transform(hole.ent_embeddings.weight.data.numpy())"
   ]
  },
  {
   "cell_type": "code",
   "execution_count": 295,
   "metadata": {},
   "outputs": [
    {
     "data": {
      "text/plain": [
       "<matplotlib.collections.PathCollection at 0x7f9f04e00e50>"
      ]
     },
     "execution_count": 295,
     "metadata": {},
     "output_type": "execute_result"
    },
    {
     "data": {
      "image/png": "[encoded data removed]",
      "text/plain": [
       "<matplotlib.figure.Figure at 0x7f9f04e9ce50>"
      ]
     },
     "metadata": {},
     "output_type": "display_data"
    }
   ],
   "source": [
    "pyplot.scatter(result[:, 0], result[:, 1])"
   ]
  },
  {
   "cell_type": "code",
   "execution_count": 297,
   "metadata": {},
   "outputs": [
    {
     "data": {
      "image/png": "[encoded data removed]",
      "text/plain": [
       "<matplotlib.figure.Figure at 0x7f9f04e31650>"
      ]
     },
     "metadata": {},
     "output_type": "display_data"
    }
   ],
   "source": [
    "for i in range(400):\n",
    "    pyplot.annotate(i, xy=(result[i, 0], result[i, 1]))\n",
    "pyplot.show()"
   ]
  },
  {
   "cell_type": "code",
   "execution_count": 301,
   "metadata": {
    "collapsed": true
   },
   "outputs": [],
   "source": [
    "df = pd.DataFrame(X_tsne, index=[i for i in range(400)], columns=['x', 'y'])"
   ]
  },
  {
   "cell_type": "code",
   "execution_count": 311,
   "metadata": {},
   "outputs": [
    {
     "data": {
      "text/plain": [
       "<matplotlib.collections.PathCollection at 0x7f9efe610090>"
      ]
     },
     "execution_count": 311,
     "metadata": {},
     "output_type": "execute_result"
    },
    {
     "data": {
      "image/png": "[encoded data removed]",
      "text/plain": [
       "<matplotlib.figure.Figure at 0x7f9efea03b10>"
      ]
     },
     "metadata": {},
     "output_type": "display_data"
    }
   ],
   "source": [
    "fig = plt.figure()\n",
    "ax = fig.add_subplot(1, 1, 1)\n",
    "\n",
    "ax.scatter(df['x'], df['y'])"
   ]
  },
  {
   "cell_type": "code",
   "execution_count": 312,
   "metadata": {},
   "outputs": [
    {
     "data": {
      "image/png": "[encoded data removed]",
      "text/plain": [
       "<matplotlib.figure.Figure at 0x7f9efe631c10>"
      ]
     },
     "metadata": {},
     "output_type": "display_data"
    }
   ],
   "source": [
    "for word, pos in df.iterrows():\n",
    "    plt.annotate(word, pos)"
   ]
  },
  {
   "cell_type": "code",
   "execution_count": 310,
   "metadata": {
    "collapsed": true
   },
   "outputs": [],
   "source": [
    "plt.show()"
   ]
  },
  {
   "cell_type": "markdown",
   "metadata": {},
   "source": [
    "---------------"
   ]
  },
  {
   "cell_type": "code",
   "execution_count": 313,
   "metadata": {
    "collapsed": true
   },
   "outputs": [],
   "source": [
    "all_data = pd.read_csv('../../transe-linkprediction/Data/all_combination_data.csv')"
   ]
  },
  {
   "cell_type": "code",
   "execution_count": 321,
   "metadata": {
    "collapsed": true
   },
   "outputs": [],
   "source": [
    "def transe_results(model,fact):\n",
    "    model.eval()\n",
    "    i = fact['entity_a'].values\n",
    "    j = fact['entity_b'].values\n",
    "    r = fact['relation'].values\n",
    "    #score = 100000\n",
    "        #xt = [i,j,k]\n",
    "    #i = np.array([[i]])\n",
    "    #j = np.array([[j]])\n",
    "    #k = np.array([[r]])\n",
    "    pred_score = model.predict(i,j,r)\n",
    "    return pred_score.data.numpy()"
   ]
  },
  {
   "cell_type": "code",
   "execution_count": 324,
   "metadata": {
    "collapsed": true
   },
   "outputs": [],
   "source": [
    "t = transe_results(hole,all_data)\n",
    "all_data['score'] = t.tolist()\n",
    "#all_data['prediction'] = 1*(t < args.THRESHOLD).tolist()"
   ]
  },
  {
   "cell_type": "code",
   "execution_count": 325,
   "metadata": {
    "collapsed": true
   },
   "outputs": [],
   "source": [
    "all_data = all_data.sample(frac=1).reset_index(drop=True)"
   ]
  },
  {
   "cell_type": "code",
   "execution_count": 334,
   "metadata": {
    "collapsed": true
   },
   "outputs": [],
   "source": [
    "all_data['features'] = ''"
   ]
  },
  {
   "cell_type": "code",
   "execution_count": 338,
   "metadata": {
    "collapsed": true
   },
   "outputs": [],
   "source": [
    "i = all_data['entity_a'].values\n",
    "j = all_data['entity_b'].values\n",
    "r = all_data['relation'].values\n",
    "ent_h = hole.ent_embeddings(torch.LongTensor([i])).view(-1,15)\n",
    "ent_t = hole.ent_embeddings(torch.LongTensor([j])).view(-1,15)\n",
    "ent_r = hole.rel_embeddings(torch.LongTensor([r])).view(-1,15)\n",
    "fea = np.concatenate((ent_h.data.numpy(),ent_t.data.numpy(),ent_r.data.numpy()),axis=1)"
   ]
  },
  {
   "cell_type": "code",
   "execution_count": 342,
   "metadata": {},
   "outputs": [
    {
     "data": {
      "text/plain": [
       "(638400, 45)"
      ]
     },
     "execution_count": 342,
     "metadata": {},
     "output_type": "execute_result"
    }
   ],
   "source": [
    "fea.shape"
   ]
  },
  {
   "cell_type": "code",
   "execution_count": 343,
   "metadata": {
    "collapsed": true
   },
   "outputs": [],
   "source": [
    "all_data['features'] = fea.tolist()"
   ]
  },
  {
   "cell_type": "code",
   "execution_count": 344,
   "metadata": {},
   "outputs": [
    {
     "data": {
      "text/html": [
       "<div>\n",
       "<style>\n",
       "    .dataframe thead tr:only-child th {\n",
       "        text-align: right;\n",
       "    }\n",
       "\n",
       "    .dataframe thead th {\n",
       "        text-align: left;\n",
       "    }\n",
       "\n",
       "    .dataframe tbody tr th {\n",
       "        vertical-align: top;\n",
       "    }\n",
       "</style>\n",
       "<table border=\"1\" class=\"dataframe\">\n",
       "  <thead>\n",
       "    <tr style=\"text-align: right;\">\n",
       "      <th></th>\n",
       "      <th>entity_a</th>\n",
       "      <th>entity_b</th>\n",
       "      <th>relation</th>\n",
       "      <th>true_pred</th>\n",
       "      <th>score</th>\n",
       "      <th>features</th>\n",
       "    </tr>\n",
       "  </thead>\n",
       "  <tbody>\n",
       "    <tr>\n",
       "      <th>0</th>\n",
       "      <td>379</td>\n",
       "      <td>96</td>\n",
       "      <td>0</td>\n",
       "      <td>0</td>\n",
       "      <td>3.922153</td>\n",
       "      <td>[0.119266174734, -0.149918422103, 0.1815470159...</td>\n",
       "    </tr>\n",
       "    <tr>\n",
       "      <th>1</th>\n",
       "      <td>320</td>\n",
       "      <td>120</td>\n",
       "      <td>0</td>\n",
       "      <td>0</td>\n",
       "      <td>3.688225</td>\n",
       "      <td>[0.0672423392534, -0.0162177849561, 0.21263808...</td>\n",
       "    </tr>\n",
       "    <tr>\n",
       "      <th>2</th>\n",
       "      <td>355</td>\n",
       "      <td>85</td>\n",
       "      <td>3</td>\n",
       "      <td>0</td>\n",
       "      <td>4.587709</td>\n",
       "      <td>[-0.0230575259775, -0.0991908609867, 0.0820712...</td>\n",
       "    </tr>\n",
       "    <tr>\n",
       "      <th>3</th>\n",
       "      <td>200</td>\n",
       "      <td>237</td>\n",
       "      <td>0</td>\n",
       "      <td>0</td>\n",
       "      <td>6.247899</td>\n",
       "      <td>[0.00707076583058, -0.195501089096, -0.1664875...</td>\n",
       "    </tr>\n",
       "    <tr>\n",
       "      <th>4</th>\n",
       "      <td>302</td>\n",
       "      <td>384</td>\n",
       "      <td>3</td>\n",
       "      <td>0</td>\n",
       "      <td>4.259001</td>\n",
       "      <td>[0.173287734389, -0.179076492786, 0.0494551956...</td>\n",
       "    </tr>\n",
       "  </tbody>\n",
       "</table>\n",
       "</div>"
      ],
      "text/plain": [
       "   entity_a  entity_b  relation  true_pred     score  \\\n",
       "0       379        96         0          0  3.922153   \n",
       "1       320       120         0          0  3.688225   \n",
       "2       355        85         3          0  4.587709   \n",
       "3       200       237         0          0  6.247899   \n",
       "4       302       384         3          0  4.259001   \n",
       "\n",
       "                                            features  \n",
       "0  [0.119266174734, -0.149918422103, 0.1815470159...  \n",
       "1  [0.0672423392534, -0.0162177849561, 0.21263808...  \n",
       "2  [-0.0230575259775, -0.0991908609867, 0.0820712...  \n",
       "3  [0.00707076583058, -0.195501089096, -0.1664875...  \n",
       "4  [0.173287734389, -0.179076492786, 0.0494551956...  "
      ]
     },
     "execution_count": 344,
     "metadata": {},
     "output_type": "execute_result"
    }
   ],
   "source": [
    "all_data.head()"
   ]
  },
  {
   "cell_type": "code",
   "execution_count": 373,
   "metadata": {
    "collapsed": true
   },
   "outputs": [],
   "source": [
    "all_data[\"score\"] = all_data[\"score\"].map(lambda x: [x])"
   ]
  },
  {
   "cell_type": "code",
   "execution_count": 374,
   "metadata": {
    "collapsed": true
   },
   "outputs": [],
   "source": [
    "all_data[\"fea_sc\"] = all_data.features + all_data.score"
   ]
  },
  {
   "cell_type": "code",
   "execution_count": 377,
   "metadata": {
    "collapsed": true
   },
   "outputs": [],
   "source": [
    "from sklearn.model_selection import train_test_split "
   ]
  },
  {
   "cell_type": "code",
   "execution_count": 378,
   "metadata": {
    "collapsed": true
   },
   "outputs": [],
   "source": [
    "all_train, all_valid_test = train_test_split(all_data,test_size =0.7, random_state =1,stratify = all_data['true_pred']) "
   ]
  },
  {
   "cell_type": "code",
   "execution_count": 379,
   "metadata": {},
   "outputs": [
    {
     "data": {
      "text/plain": [
       "(191520, 7)"
      ]
     },
     "execution_count": 379,
     "metadata": {},
     "output_type": "execute_result"
    }
   ],
   "source": [
    "all_train.shape"
   ]
  },
  {
   "cell_type": "code",
   "execution_count": 380,
   "metadata": {
    "collapsed": true
   },
   "outputs": [],
   "source": [
    "all_valid,all_test = train_test_split(all_valid_test,test_size =0.7, random_state =1,stratify = all_valid_test['true_pred']) "
   ]
  },
  {
   "cell_type": "code",
   "execution_count": 381,
   "metadata": {},
   "outputs": [
    {
     "data": {
      "text/plain": [
       "(134064, 7)"
      ]
     },
     "execution_count": 381,
     "metadata": {},
     "output_type": "execute_result"
    }
   ],
   "source": [
    "all_valid.shape"
   ]
  },
  {
   "cell_type": "code",
   "execution_count": 382,
   "metadata": {},
   "outputs": [
    {
     "data": {
      "text/plain": [
       "(312816, 7)"
      ]
     },
     "execution_count": 382,
     "metadata": {},
     "output_type": "execute_result"
    }
   ],
   "source": [
    "all_test.shape"
   ]
  },
  {
   "cell_type": "code",
   "execution_count": 385,
   "metadata": {
    "collapsed": true
   },
   "outputs": [],
   "source": [
    "clf = LogisticRegression(max_iter=500,random_state=40,solver='lbfgs',class_weight='balanced')\n",
    "clf = clf.fit(np.array([all_train['fea_sc']]).reshape(all_train.shape[0],-1),all_train['true_pred'].values)"
   ]
  },
  {
   "cell_type": "code",
   "execution_count": 388,
   "metadata": {
    "collapsed": true
   },
   "outputs": [],
   "source": [
    "test_pred = clf.predict(np.array([all_test['fea_sc']]).reshape(all_test.shape[0],-1))"
   ]
  },
  {
   "cell_type": "code",
   "execution_count": 389,
   "metadata": {
    "collapsed": true
   },
   "outputs": [],
   "source": [
    "valid_pred = clf.predict(np.array([all_valid['fea_sc']]).reshape(all_valid.shape[0],-1))"
   ]
  },
  {
   "cell_type": "code",
   "execution_count": 391,
   "metadata": {
    "collapsed": true
   },
   "outputs": [],
   "source": [
    "test_acc = test_pred == all_test['true_pred'].values"
   ]
  },
  {
   "cell_type": "code",
   "execution_count": 397,
   "metadata": {},
   "outputs": [
    {
     "data": {
      "text/plain": [
       "0.8696262339522275"
      ]
     },
     "execution_count": 397,
     "metadata": {},
     "output_type": "execute_result"
    }
   ],
   "source": [
    "(test_acc*1).sum()/float(all_test.shape[0])"
   ]
  },
  {
   "cell_type": "code",
   "execution_count": 398,
   "metadata": {
    "collapsed": true
   },
   "outputs": [],
   "source": [
    "valid_acc = valid_pred == all_valid['true_pred'].values"
   ]
  },
  {
   "cell_type": "code",
   "execution_count": 399,
   "metadata": {},
   "outputs": [
    {
     "data": {
      "text/plain": [
       "0.869562298603652"
      ]
     },
     "execution_count": 399,
     "metadata": {},
     "output_type": "execute_result"
    }
   ],
   "source": [
    "(valid_acc*1).sum()/float(all_valid.shape[0])"
   ]
  },
  {
   "cell_type": "code",
   "execution_count": 400,
   "metadata": {
    "collapsed": true
   },
   "outputs": [],
   "source": [
    "k = clf.predict(np.array([all_data['fea_sc']]).reshape(all_data.shape[0],-1))"
   ]
  },
  {
   "cell_type": "code",
   "execution_count": 402,
   "metadata": {
    "collapsed": true
   },
   "outputs": [],
   "source": [
    "all_data['predictions'] = k.tolist()"
   ]
  },
  {
   "cell_type": "code",
   "execution_count": 403,
   "metadata": {},
   "outputs": [
    {
     "data": {
      "text/html": [
       "<div>\n",
       "<style>\n",
       "    .dataframe thead tr:only-child th {\n",
       "        text-align: right;\n",
       "    }\n",
       "\n",
       "    .dataframe thead th {\n",
       "        text-align: left;\n",
       "    }\n",
       "\n",
       "    .dataframe tbody tr th {\n",
       "        vertical-align: top;\n",
       "    }\n",
       "</style>\n",
       "<table border=\"1\" class=\"dataframe\">\n",
       "  <thead>\n",
       "    <tr style=\"text-align: right;\">\n",
       "      <th></th>\n",
       "      <th>entity_a</th>\n",
       "      <th>entity_b</th>\n",
       "      <th>relation</th>\n",
       "      <th>true_pred</th>\n",
       "      <th>score</th>\n",
       "      <th>features</th>\n",
       "      <th>fea_sc</th>\n",
       "      <th>predictions</th>\n",
       "    </tr>\n",
       "  </thead>\n",
       "  <tbody>\n",
       "    <tr>\n",
       "      <th>0</th>\n",
       "      <td>379</td>\n",
       "      <td>96</td>\n",
       "      <td>0</td>\n",
       "      <td>0</td>\n",
       "      <td>[3.92215299606]</td>\n",
       "      <td>[0.119266174734, -0.149918422103, 0.1815470159...</td>\n",
       "      <td>[0.119266174734, -0.149918422103, 0.1815470159...</td>\n",
       "      <td>0</td>\n",
       "    </tr>\n",
       "    <tr>\n",
       "      <th>1</th>\n",
       "      <td>320</td>\n",
       "      <td>120</td>\n",
       "      <td>0</td>\n",
       "      <td>0</td>\n",
       "      <td>[3.68822479248]</td>\n",
       "      <td>[0.0672423392534, -0.0162177849561, 0.21263808...</td>\n",
       "      <td>[0.0672423392534, -0.0162177849561, 0.21263808...</td>\n",
       "      <td>0</td>\n",
       "    </tr>\n",
       "    <tr>\n",
       "      <th>2</th>\n",
       "      <td>355</td>\n",
       "      <td>85</td>\n",
       "      <td>3</td>\n",
       "      <td>0</td>\n",
       "      <td>[4.58770942688]</td>\n",
       "      <td>[-0.0230575259775, -0.0991908609867, 0.0820712...</td>\n",
       "      <td>[-0.0230575259775, -0.0991908609867, 0.0820712...</td>\n",
       "      <td>0</td>\n",
       "    </tr>\n",
       "    <tr>\n",
       "      <th>3</th>\n",
       "      <td>200</td>\n",
       "      <td>237</td>\n",
       "      <td>0</td>\n",
       "      <td>0</td>\n",
       "      <td>[6.24789857864]</td>\n",
       "      <td>[0.00707076583058, -0.195501089096, -0.1664875...</td>\n",
       "      <td>[0.00707076583058, -0.195501089096, -0.1664875...</td>\n",
       "      <td>0</td>\n",
       "    </tr>\n",
       "    <tr>\n",
       "      <th>4</th>\n",
       "      <td>302</td>\n",
       "      <td>384</td>\n",
       "      <td>3</td>\n",
       "      <td>0</td>\n",
       "      <td>[4.2590007782]</td>\n",
       "      <td>[0.173287734389, -0.179076492786, 0.0494551956...</td>\n",
       "      <td>[0.173287734389, -0.179076492786, 0.0494551956...</td>\n",
       "      <td>0</td>\n",
       "    </tr>\n",
       "  </tbody>\n",
       "</table>\n",
       "</div>"
      ],
      "text/plain": [
       "   entity_a  entity_b  relation  true_pred            score  \\\n",
       "0       379        96         0          0  [3.92215299606]   \n",
       "1       320       120         0          0  [3.68822479248]   \n",
       "2       355        85         3          0  [4.58770942688]   \n",
       "3       200       237         0          0  [6.24789857864]   \n",
       "4       302       384         3          0   [4.2590007782]   \n",
       "\n",
       "                                            features  \\\n",
       "0  [0.119266174734, -0.149918422103, 0.1815470159...   \n",
       "1  [0.0672423392534, -0.0162177849561, 0.21263808...   \n",
       "2  [-0.0230575259775, -0.0991908609867, 0.0820712...   \n",
       "3  [0.00707076583058, -0.195501089096, -0.1664875...   \n",
       "4  [0.173287734389, -0.179076492786, 0.0494551956...   \n",
       "\n",
       "                                              fea_sc  predictions  \n",
       "0  [0.119266174734, -0.149918422103, 0.1815470159...            0  \n",
       "1  [0.0672423392534, -0.0162177849561, 0.21263808...            0  \n",
       "2  [-0.0230575259775, -0.0991908609867, 0.0820712...            0  \n",
       "3  [0.00707076583058, -0.195501089096, -0.1664875...            0  \n",
       "4  [0.173287734389, -0.179076492786, 0.0494551956...            0  "
      ]
     },
     "execution_count": 403,
     "metadata": {},
     "output_type": "execute_result"
    }
   ],
   "source": [
    "all_data.head()"
   ]
  },
  {
   "cell_type": "code",
   "execution_count": 404,
   "metadata": {
    "collapsed": true
   },
   "outputs": [],
   "source": [
    "from sklearn.metrics import precision_score,recall_score,f1_score"
   ]
  },
  {
   "cell_type": "code",
   "execution_count": 405,
   "metadata": {},
   "outputs": [
    {
     "data": {
      "text/plain": [
       "0.00881015196915253"
      ]
     },
     "execution_count": 405,
     "metadata": {},
     "output_type": "execute_result"
    }
   ],
   "source": [
    "precision_score(all_data.true_pred,all_data.predictions)"
   ]
  },
  {
   "cell_type": "code",
   "execution_count": 406,
   "metadata": {},
   "outputs": [
    {
     "data": {
      "text/plain": [
       "0.8282828282828283"
      ]
     },
     "execution_count": 406,
     "metadata": {},
     "output_type": "execute_result"
    }
   ],
   "source": [
    "recall_score(all_data.true_pred,all_data.predictions)"
   ]
  },
  {
   "cell_type": "code",
   "execution_count": 407,
   "metadata": {},
   "outputs": [
    {
     "data": {
      "text/plain": [
       "0.017434855536393488"
      ]
     },
     "execution_count": 407,
     "metadata": {},
     "output_type": "execute_result"
    }
   ],
   "source": [
    "f1_score(all_data.true_pred,all_data.predictions)"
   ]
  },
  {
   "cell_type": "code",
   "execution_count": 410,
   "metadata": {},
   "outputs": [
    {
     "data": {
      "text/plain": [
       "0.869702380952381"
      ]
     },
     "execution_count": 410,
     "metadata": {},
     "output_type": "execute_result"
    }
   ],
   "source": [
    "(all_data.true_pred ==all_data.predictions).sum()/float(all_data.shape[0])"
   ]
  },
  {
   "cell_type": "code",
   "execution_count": null,
   "metadata": {
    "collapsed": true
   },
   "outputs": [],
   "source": []
  }
 ],
 "metadata": {
  "kernelspec": {
   "display_name": "Python 2",
   "language": "python",
   "name": "python2"
  },
  "language_info": {
   "codemirror_mode": {
    "name": "ipython",
    "version": 2
   },
   "file_extension": ".py",
   "mimetype": "text/x-python",
   "name": "python",
   "nbconvert_exporter": "python",
   "pygments_lexer": "ipython2",
   "version": "2.7.15"
  }
 },
 "nbformat": 4,
 "nbformat_minor": 2
}
