{
 "cells": [
  {
   "cell_type": "code",
   "execution_count": 1,
   "metadata": {},
   "outputs": [],
   "source": [
    "import numpy as np \n",
    "from numpy.fft import fft, ifft\n",
    "import tensorflow as tf\n",
    "tf.enable_eager_execution()"
   ]
  },
  {
   "cell_type": "code",
   "execution_count": 65,
   "metadata": {
    "collapsed": true
   },
   "outputs": [],
   "source": [
    "def _ccorr(a, b):\n",
    "\t\ta = tf.cast(a, tf.complex64)\n",
    "\t\tb = tf.cast(b, tf.complex64)\n",
    "\t\treturn tf.real(tf.ifft(tf.conj(tf.fft(a)) * tf.fft(b)))"
   ]
  },
  {
   "cell_type": "code",
   "execution_count": 380,
   "metadata": {},
   "outputs": [],
   "source": [
    "a = np.random.randn(2,3,5)\n",
    "b = np.random.randn(2,3,5)"
   ]
  },
  {
   "cell_type": "code",
   "execution_count": 381,
   "metadata": {},
   "outputs": [
    {
     "data": {
      "text/plain": [
       "array([[[-0.78872213, -0.9822149 ,  1.35201416,  0.64045541,\n",
       "         -0.39661772],\n",
       "        [-0.08210258,  0.90494513,  1.13410559, -0.64235496,\n",
       "          0.6396481 ],\n",
       "        [-0.34683778,  0.92699383,  0.3485012 , -1.2885408 ,\n",
       "          1.6141434 ]],\n",
       "\n",
       "       [[-0.58586308, -1.08653451, -0.77662076, -0.33855393,\n",
       "         -0.0627085 ],\n",
       "        [ 0.00852798, -0.88195194,  0.79285947, -0.68993355,\n",
       "         -0.11300813],\n",
       "        [ 0.66940726,  1.74844283, -0.59920539,  0.2440645 ,\n",
       "         -1.63955415]]])"
      ]
     },
     "execution_count": 381,
     "metadata": {},
     "output_type": "execute_result"
    }
   ],
   "source": [
    "a"
   ]
  },
  {
   "cell_type": "code",
   "execution_count": 382,
   "metadata": {},
   "outputs": [
    {
     "data": {
      "text/plain": [
       "array([[[-0.47685239,  0.82988977,  1.5830342 , -0.57162328,\n",
       "         -1.69599223],\n",
       "        [-0.17731808, -2.08036528, -0.61797361, -0.2370273 ,\n",
       "         -1.08961838],\n",
       "        [ 0.33180697, -1.09511083,  0.25508953,  1.44379657,\n",
       "          0.37644679]],\n",
       "\n",
       "       [[-0.86709002, -1.63445292, -1.82052006,  0.27402681,\n",
       "         -1.41779746],\n",
       "        [-0.27181144, -0.35085768, -0.50946111,  0.97512246,\n",
       "         -1.15101522],\n",
       "        [-0.80570602,  0.24625255, -0.85674162,  1.99657154,\n",
       "         -0.14367932]]])"
      ]
     },
     "execution_count": 382,
     "metadata": {},
     "output_type": "execute_result"
    }
   ],
   "source": [
    "b"
   ]
  },
  {
   "cell_type": "code",
   "execution_count": 383,
   "metadata": {},
   "outputs": [
    {
     "data": {
      "text/plain": [
       "<tf.Tensor: id=87, shape=(2, 3, 5), dtype=float32, numpy=\n",
       "array([[[ 2.0078197 , -3.879353  , -3.6146736 ,  1.3756168 ,\n",
       "          4.168638  ],\n",
       "        [-3.1136208 , -0.07074246, -2.6163015 , -0.22663462,\n",
       "         -2.1850116 ],\n",
       "        [-2.2940958 ,  1.169974  , -0.81410426,  1.7866806 ,\n",
       "          1.797171  ]],\n",
       "\n",
       "       [[ 3.6938736 ,  3.257183  ,  2.265978  ,  2.7208562 ,\n",
       "          3.6412685 ],\n",
       "        [-0.63950473,  2.0443032 , -1.5497669 ,  1.1075889 ,\n",
       "          0.19302547],\n",
       "        [ 1.1274395 , -1.2435449 ,  2.4030862 ,  3.0328622 ,\n",
       "         -5.1350527 ]]], dtype=float32)>"
      ]
     },
     "execution_count": 383,
     "metadata": {},
     "output_type": "execute_result"
    }
   ],
   "source": [
    "_ccorr(a,b)"
   ]
  },
  {
   "cell_type": "code",
   "execution_count": 384,
   "metadata": {
    "collapsed": true
   },
   "outputs": [],
   "source": [
    "def np_co(a,b):\n",
    "    return ifft(np.conj(fft(a)) * fft(b)).real"
   ]
  },
  {
   "cell_type": "code",
   "execution_count": 385,
   "metadata": {},
   "outputs": [
    {
     "data": {
      "text/plain": [
       "array([[[ 2.00781995, -3.87935425, -3.6146744 ,  1.37561755,\n",
       "          4.16863958],\n",
       "        [-3.11362215, -0.07074224, -2.61630231, -0.22663441,\n",
       "         -2.1850122 ],\n",
       "        [-2.29409686,  1.16997405, -0.81410475,  1.78668184,\n",
       "          1.79717103]],\n",
       "\n",
       "       [[ 3.6938743 ,  3.25718339,  2.26597767,  2.72085632,\n",
       "          3.64126888],\n",
       "        [-0.63950507,  2.0443041 , -1.54976754,  1.1075894 ,\n",
       "          0.1930255 ],\n",
       "        [ 1.12743952, -1.2435453 ,  2.40308692,  3.03286358,\n",
       "         -5.13505412]]])"
      ]
     },
     "execution_count": 385,
     "metadata": {},
     "output_type": "execute_result"
    }
   ],
   "source": [
    "np_co(a,b)"
   ]
  },
  {
   "cell_type": "code",
   "execution_count": 386,
   "metadata": {
    "collapsed": true
   },
   "outputs": [],
   "source": [
    "import torch\n",
    "def ccorr(a, b):\n",
    "        #print a\n",
    "        print a.size()\n",
    "        k = torch.rfft(a,1,onesided=False)\n",
    "        t = torch.rfft(b,1,onesided=False)\n",
    "        k = k *torch.DoubleTensor([1,-1])\n",
    "        real = (k[:,:,:,0] * t[:,:,:,0]) - (k[:,:,:,1] * t[:,:,:,1])\n",
    "        imag = (k[:,:,:,0] * t[:,:,:,1]) + (k[:,:,:,1] * t[:,:,:,0])\n",
    "        a=[]\n",
    "        print real\n",
    "        print imag\n",
    "        for i,j in zip(real,imag):\n",
    "            for m,n in zip(i,j):\n",
    "                a.append(m)\n",
    "                a.append(n)\n",
    "        a =torch.stack(a,dim=-1)\n",
    "        t = torch.split(a,2,dim=1)\n",
    "        t = torch.stack(t,dim=0)\n",
    "        print t.size()\n",
    "        v = torch.ifft(t,1)\n",
    "        #print v.size()\n",
    "        return v[:,:,0].view(2,-1,5)"
   ]
  },
  {
   "cell_type": "code",
   "execution_count": 390,
   "metadata": {
    "collapsed": true
   },
   "outputs": [],
   "source": [
    "import torch\n",
    "def ccorr(a, b):\n",
    "        #print a\n",
    "        print a.size()\n",
    "        k = torch.rfft(a,1,onesided=False)\n",
    "        t = torch.rfft(b,1,onesided=False)\n",
    "        k = k *torch.FloatTensor([1,-1])\n",
    "        real = (k[:,:,:,0] * t[:,:,:,0]) - (k[:,:,:,1] * t[:,:,:,1])\n",
    "        imag = (k[:,:,:,0] * t[:,:,:,1]) + (k[:,:,:,1] * t[:,:,:,0])\n",
    "        #a=[]\n",
    "        real = real.view(real.shape[0]*real.shape[1],-1)\n",
    "        imag = imag.view(imag.shape[0]*imag.shape[1],-1)\n",
    "        a = complex_matrix_multiplication(real,imag)\n",
    "        #print real\n",
    "        #print imag\n",
    "        #for i,j in zip(real,imag):\n",
    "        #    for m,n in zip(i,j):\n",
    "        #        a.append(m)\n",
    "        #        a.append(n)\n",
    "        #a =torch.stack(a,dim=-1)\n",
    "        t = torch.split(a,2,dim=1)\n",
    "        t = torch.stack(t,dim=0)\n",
    "        print t.size()\n",
    "        v = torch.ifft(t,1)\n",
    "        #print v.size()\n",
    "        return v[:,:,0].view(2,-1,5)"
   ]
  },
  {
   "cell_type": "code",
   "execution_count": 391,
   "metadata": {},
   "outputs": [
    {
     "name": "stdout",
     "output_type": "stream",
     "text": [
      "torch.Size([2, 3, 5])\n",
      "torch.Size([6, 5, 2])\n"
     ]
    },
    {
     "data": {
      "text/plain": [
       "tensor([[[ 2.0078, -3.8794, -3.6147,  1.3756,  4.1686],\n",
       "         [-3.1136, -0.0707, -2.6163, -0.2266, -2.1850],\n",
       "         [-2.2941,  1.1700, -0.8141,  1.7867,  1.7972]],\n",
       "\n",
       "        [[ 3.6939,  3.2572,  2.2660,  2.7209,  3.6413],\n",
       "         [-0.6395,  2.0443, -1.5498,  1.1076,  0.1930],\n",
       "         [ 1.1274, -1.2435,  2.4031,  3.0329, -5.1351]]])"
      ]
     },
     "execution_count": 391,
     "metadata": {},
     "output_type": "execute_result"
    }
   ],
   "source": [
    "ccorr(torch.Tensor(a),torch.Tensor(b))"
   ]
  },
  {
   "cell_type": "code",
   "execution_count": 387,
   "metadata": {},
   "outputs": [
    {
     "name": "stdout",
     "output_type": "stream",
     "text": [
      "torch.Size([2, 3, 5])\n",
      "tensor([[[ 0.0580,  3.9086,  1.0819,  1.0819,  3.9086],\n",
      "         [-8.2123, -1.5107, -2.1672, -2.1672, -1.5107],\n",
      "         [ 1.6456, -2.1640, -4.3940, -4.3940, -2.1640]],\n",
      "\n",
      "        [[15.5792,  1.7912, -0.3461, -0.3461,  1.7912],\n",
      "         [ 1.1556,  0.4096, -2.5862, -2.5862,  0.4096],\n",
      "         [ 0.1848, -5.2414,  7.9676,  7.9676, -5.2414]]], dtype=torch.float64)\n",
      "tensor([[[  0.0000,  10.5873,  -0.0156,   0.0156, -10.5873],\n",
      "         [  0.0000,  -0.6062,  -3.5154,   3.5154,   0.6062],\n",
      "         [  0.0000,   2.1252,  -2.1048,   2.1048,  -2.1252]],\n",
      "\n",
      "        [[  0.0000,   0.6327,  -0.2069,   0.2069,  -0.6327],\n",
      "         [  0.0000,  -0.1987,  -3.6155,   3.6155,   0.1987],\n",
      "         [  0.0000,  -3.3309,  -2.8863,   2.8863,   3.3309]]],\n",
      "       dtype=torch.float64)\n",
      "torch.Size([6, 5, 2])\n"
     ]
    },
    {
     "data": {
      "text/plain": [
       "tensor([[[ 2.0078, -3.8794, -3.6147,  1.3756,  4.1686],\n",
       "         [-3.1136, -0.0707, -2.6163, -0.2266, -2.1850],\n",
       "         [-2.2941,  1.1700, -0.8141,  1.7867,  1.7972]],\n",
       "\n",
       "        [[ 3.6939,  3.2572,  2.2660,  2.7209,  3.6413],\n",
       "         [-0.6395,  2.0443, -1.5498,  1.1076,  0.1930],\n",
       "         [ 1.1274, -1.2435,  2.4031,  3.0329, -5.1351]]], dtype=torch.float64)"
      ]
     },
     "execution_count": 387,
     "metadata": {},
     "output_type": "execute_result"
    }
   ],
   "source": [
    "ccorr(torch.from_numpy(a),torch.from_numpy(b))"
   ]
  },
  {
   "cell_type": "code",
   "execution_count": 223,
   "metadata": {},
   "outputs": [],
   "source": [
    "e= np.array([[[ -4.6603,   0.5360,   4.0518,   4.0518,   0.5360],\n",
    "         [ -0.0087,   7.4644,  -3.3959,  -3.3959,   7.4644],\n",
    "         [ -0.4402,  -3.1227, -10.2363, -10.2363,  -3.1227]],\n",
    "\n",
    "        [[  1.3025,   0.4524,  -4.8443,  -4.8443,   0.4524],\n",
    "         [  8.4571,   0.0527,  -1.5048,  -1.5048,   0.0527],\n",
    "         [-20.1367,   4.0761,   0.8539,   0.8539,   4.0761]]])"
   ]
  },
  {
   "cell_type": "code",
   "execution_count": 224,
   "metadata": {
    "collapsed": true
   },
   "outputs": [],
   "source": [
    "f= np.array([[[-0.0000, -1.7176,  3.7288, -3.7288,  1.7176],\n",
    "         [ 0.0000, -6.6555, -0.2230,  0.2230,  6.6555],\n",
    "         [ 0.0000,  4.4860, -2.3758,  2.3758, -4.4860]],\n",
    "\n",
    "        [[ 0.0000,  2.6392, -3.1743,  3.1743, -2.6392],\n",
    "         [ 0.0000, -0.2565,  0.2552, -0.2552,  0.2565],\n",
    "         [-0.0000,  1.5001,  1.9725, -1.9725, -1.5001]]])"
   ]
  },
  {
   "cell_type": "code",
   "execution_count": 180,
   "metadata": {},
   "outputs": [
    {
     "name": "stdout",
     "output_type": "stream",
     "text": [
      "[-4.6603  0.536   4.0518  4.0518  0.536 ]\n",
      "[-0.     -1.7176  3.7288 -3.7288  1.7176]\n",
      "[-0.0087  7.4644 -3.3959 -3.3959  7.4644]\n",
      "[ 0.     -6.6555 -0.223   0.223   6.6555]\n",
      "[ -0.4402  -3.1227 -10.2363 -10.2363  -3.1227]\n",
      "[ 0.      4.486  -2.3758  2.3758 -4.486 ]\n",
      "[ 1.3025  0.4524 -4.8443 -4.8443  0.4524]\n",
      "[ 0.      2.6392 -3.1743  3.1743 -2.6392]\n",
      "[ 8.4571  0.0527 -1.5048 -1.5048  0.0527]\n",
      "[ 0.     -0.2565  0.2552 -0.2552  0.2565]\n",
      "[-20.1367   4.0761   0.8539   0.8539   4.0761]\n",
      "[-0.      1.5001  1.9725 -1.9725 -1.5001]\n"
     ]
    }
   ],
   "source": [
    "a= []\n",
    "for i,j in zip(e,f):\n",
    "    for m,n in zip(i,j):\n",
    "        print m\n",
    "        print n\n",
    "        a.append(m)\n",
    "        a.append(n)"
   ]
  },
  {
   "cell_type": "code",
   "execution_count": 183,
   "metadata": {},
   "outputs": [],
   "source": [
    "t =np.stack(a,axis=-1)"
   ]
  },
  {
   "cell_type": "code",
   "execution_count": 184,
   "metadata": {},
   "outputs": [
    {
     "data": {
      "text/plain": [
       "array([[-4.66030e+00, -0.00000e+00, -8.70000e-03,  0.00000e+00,\n",
       "        -4.40200e-01,  0.00000e+00,  1.30250e+00,  0.00000e+00,\n",
       "         8.45710e+00,  0.00000e+00, -2.01367e+01, -0.00000e+00],\n",
       "       [ 5.36000e-01, -1.71760e+00,  7.46440e+00, -6.65550e+00,\n",
       "        -3.12270e+00,  4.48600e+00,  4.52400e-01,  2.63920e+00,\n",
       "         5.27000e-02, -2.56500e-01,  4.07610e+00,  1.50010e+00],\n",
       "       [ 4.05180e+00,  3.72880e+00, -3.39590e+00, -2.23000e-01,\n",
       "        -1.02363e+01, -2.37580e+00, -4.84430e+00, -3.17430e+00,\n",
       "        -1.50480e+00,  2.55200e-01,  8.53900e-01,  1.97250e+00],\n",
       "       [ 4.05180e+00, -3.72880e+00, -3.39590e+00,  2.23000e-01,\n",
       "        -1.02363e+01,  2.37580e+00, -4.84430e+00,  3.17430e+00,\n",
       "        -1.50480e+00, -2.55200e-01,  8.53900e-01, -1.97250e+00],\n",
       "       [ 5.36000e-01,  1.71760e+00,  7.46440e+00,  6.65550e+00,\n",
       "        -3.12270e+00, -4.48600e+00,  4.52400e-01, -2.63920e+00,\n",
       "         5.27000e-02,  2.56500e-01,  4.07610e+00, -1.50010e+00]])"
      ]
     },
     "execution_count": 184,
     "metadata": {},
     "output_type": "execute_result"
    }
   ],
   "source": [
    "t"
   ]
  },
  {
   "cell_type": "code",
   "execution_count": 187,
   "metadata": {},
   "outputs": [],
   "source": [
    "t = np.split(t,2,axis=1)"
   ]
  },
  {
   "cell_type": "code",
   "execution_count": 188,
   "metadata": {},
   "outputs": [
    {
     "data": {
      "text/plain": [
       "[array([[-4.66030e+00, -0.00000e+00, -8.70000e-03,  0.00000e+00,\n",
       "         -4.40200e-01,  0.00000e+00],\n",
       "        [ 5.36000e-01, -1.71760e+00,  7.46440e+00, -6.65550e+00,\n",
       "         -3.12270e+00,  4.48600e+00],\n",
       "        [ 4.05180e+00,  3.72880e+00, -3.39590e+00, -2.23000e-01,\n",
       "         -1.02363e+01, -2.37580e+00],\n",
       "        [ 4.05180e+00, -3.72880e+00, -3.39590e+00,  2.23000e-01,\n",
       "         -1.02363e+01,  2.37580e+00],\n",
       "        [ 5.36000e-01,  1.71760e+00,  7.46440e+00,  6.65550e+00,\n",
       "         -3.12270e+00, -4.48600e+00]]),\n",
       " array([[  1.3025,   0.    ,   8.4571,   0.    , -20.1367,  -0.    ],\n",
       "        [  0.4524,   2.6392,   0.0527,  -0.2565,   4.0761,   1.5001],\n",
       "        [ -4.8443,  -3.1743,  -1.5048,   0.2552,   0.8539,   1.9725],\n",
       "        [ -4.8443,   3.1743,  -1.5048,  -0.2552,   0.8539,  -1.9725],\n",
       "        [  0.4524,  -2.6392,   0.0527,   0.2565,   4.0761,  -1.5001]])]"
      ]
     },
     "execution_count": 188,
     "metadata": {},
     "output_type": "execute_result"
    }
   ],
   "source": [
    "t"
   ]
  },
  {
   "cell_type": "code",
   "execution_count": 189,
   "metadata": {
    "collapsed": true
   },
   "outputs": [],
   "source": [
    "t = np.stack(t,axis=0)"
   ]
  },
  {
   "cell_type": "code",
   "execution_count": 190,
   "metadata": {},
   "outputs": [
    {
     "data": {
      "text/plain": [
       "array([[[-4.66030e+00, -0.00000e+00, -8.70000e-03,  0.00000e+00,\n",
       "         -4.40200e-01,  0.00000e+00],\n",
       "        [ 5.36000e-01, -1.71760e+00,  7.46440e+00, -6.65550e+00,\n",
       "         -3.12270e+00,  4.48600e+00],\n",
       "        [ 4.05180e+00,  3.72880e+00, -3.39590e+00, -2.23000e-01,\n",
       "         -1.02363e+01, -2.37580e+00],\n",
       "        [ 4.05180e+00, -3.72880e+00, -3.39590e+00,  2.23000e-01,\n",
       "         -1.02363e+01,  2.37580e+00],\n",
       "        [ 5.36000e-01,  1.71760e+00,  7.46440e+00,  6.65550e+00,\n",
       "         -3.12270e+00, -4.48600e+00]],\n",
       "\n",
       "       [[ 1.30250e+00,  0.00000e+00,  8.45710e+00,  0.00000e+00,\n",
       "         -2.01367e+01, -0.00000e+00],\n",
       "        [ 4.52400e-01,  2.63920e+00,  5.27000e-02, -2.56500e-01,\n",
       "          4.07610e+00,  1.50010e+00],\n",
       "        [-4.84430e+00, -3.17430e+00, -1.50480e+00,  2.55200e-01,\n",
       "          8.53900e-01,  1.97250e+00],\n",
       "        [-4.84430e+00,  3.17430e+00, -1.50480e+00, -2.55200e-01,\n",
       "          8.53900e-01, -1.97250e+00],\n",
       "        [ 4.52400e-01, -2.63920e+00,  5.27000e-02,  2.56500e-01,\n",
       "          4.07610e+00, -1.50010e+00]]])"
      ]
     },
     "execution_count": 190,
     "metadata": {},
     "output_type": "execute_result"
    }
   ],
   "source": [
    "t"
   ]
  },
  {
   "cell_type": "code",
   "execution_count": 371,
   "metadata": {
    "collapsed": true
   },
   "outputs": [],
   "source": [
    "def complex_matrix_multiplication(a,b):\n",
    "    combined = torch.zeros((a.shape[0]*2,a.shape[1]))\n",
    "    a = a.float()\n",
    "    b = b.float()\n",
    "    combined[torch.LongTensor(range(0,a.shape[0]*2,2)),:] = a\n",
    "    combined[torch.LongTensor(range(1,a.shape[0]*2,2)),:] = b\n",
    "    return combined.transpose_(0,1)"
   ]
  },
  {
   "cell_type": "code",
   "execution_count": 372,
   "metadata": {
    "collapsed": true
   },
   "outputs": [],
   "source": [
    "def ccorr2( a, b):\n",
    "        #print a\n",
    "        #print a.size()\n",
    "        k = torch.rfft(a,1,onesided=False)\n",
    "        t = torch.rfft(b,1,onesided=False)\n",
    "        k = k *torch.FloatTensor([1,-1])\n",
    "        real = (k[:,:,0] * t[:,:,0]) - (k[:,:,1] * t[:,:,1])\n",
    "        imag = (k[:,:,0] * t[:,:,1]) + (k[:,:,1] * t[:,:,0])\n",
    "        #a=[]\n",
    "        a = complex_matrix_multiplication(real,imag)\n",
    "        #for i,j in zip(real,imag):\n",
    "        #    a.append(i)\n",
    "        #    a.append(j)\n",
    "        #print a.type()\n",
    "        #print a.transpose_(0,1)\n",
    "        #a =torch.stack(a,dim=-1)\n",
    "        t = torch.split(a,2,dim=1)\n",
    "        #print t\n",
    "        t = torch.stack(t,dim=0)\n",
    "        v = torch.ifft(t,1)\n",
    "        #print v.size()\n",
    "        return v[:,:,0]"
   ]
  },
  {
   "cell_type": "code",
   "execution_count": 363,
   "metadata": {
    "collapsed": true
   },
   "outputs": [],
   "source": [
    "def ccorr2( a, b):\n",
    "        #print a\n",
    "        #print a.size()\n",
    "        k = torch.rfft(a,1,onesided=False)\n",
    "        t = torch.rfft(b,1,onesided=False)\n",
    "        k = k *torch.FloatTensor([1,-1])\n",
    "        real = (k[:,:,0] * t[:,:,0]) - (k[:,:,1] * t[:,:,1])\n",
    "        imag = (k[:,:,0] * t[:,:,1]) + (k[:,:,1] * t[:,:,0])\n",
    "        a=[]\n",
    "        #a = complex_matrix_multiplication(real,imag)\n",
    "        for i,j in zip(real,imag):\n",
    "            a.append(i)\n",
    "            a.append(j)\n",
    "        #print a\n",
    "        a =torch.stack(a,dim=-1)\n",
    "        #print a.type()\n",
    "        #print a\n",
    "        t = torch.split(a,2,dim=1)\n",
    "        #print t\n",
    "        t = torch.stack(t,dim=0)\n",
    "        v = torch.ifft(t,1)\n",
    "        #print v.size()\n",
    "        return v[:,:,0]"
   ]
  },
  {
   "cell_type": "code",
   "execution_count": 364,
   "metadata": {
    "collapsed": true
   },
   "outputs": [],
   "source": [
    "c = np.random.randn(2,5)\n",
    "d = np.random.randn(2,5)"
   ]
  },
  {
   "cell_type": "code",
   "execution_count": 365,
   "metadata": {},
   "outputs": [
    {
     "data": {
      "text/plain": [
       "tensor([[-0.9853,  1.1762,  1.2287, -0.6807,  0.0397],\n",
       "        [ 0.0684,  0.3456, -0.3589, -0.0285, -0.3026]])"
      ]
     },
     "execution_count": 365,
     "metadata": {},
     "output_type": "execute_result"
    }
   ],
   "source": [
    "ccorr2(torch.Tensor(c),torch.Tensor(d))"
   ]
  },
  {
   "cell_type": "code",
   "execution_count": 373,
   "metadata": {},
   "outputs": [
    {
     "data": {
      "text/plain": [
       "tensor([[-0.9853,  1.1762,  1.2287, -0.6807,  0.0397],\n",
       "        [ 0.0684,  0.3456, -0.3589, -0.0285, -0.3026]])"
      ]
     },
     "execution_count": 373,
     "metadata": {},
     "output_type": "execute_result"
    }
   ],
   "source": [
    "ccorr2(torch.FloatTensor(c),torch.FloatTensor(d))"
   ]
  },
  {
   "cell_type": "code",
   "execution_count": null,
   "metadata": {
    "collapsed": true
   },
   "outputs": [],
   "source": []
  }
 ],
 "metadata": {
  "kernelspec": {
   "display_name": "Python 2",
   "language": "python",
   "name": "python2"
  },
  "language_info": {
   "codemirror_mode": {
    "name": "ipython",
    "version": 2
   },
   "file_extension": ".py",
   "mimetype": "text/x-python",
   "name": "python",
   "nbconvert_exporter": "python",
   "pygments_lexer": "ipython2",
   "version": "2.7.15"
  }
 },
 "nbformat": 4,
 "nbformat_minor": 2
}
